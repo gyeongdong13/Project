{
 "cells": [
  {
   "cell_type": "markdown",
   "id": "a539f5f1",
   "metadata": {},
   "source": [
    "# 경제 관련 부문 주요 분석(빅데이터분석및응용 Project)\n",
    "\n",
    "## 1. 주제 선정\n",
    "- 다양한 뉴스들에 대하여 데이터를 수집한 후 최근 어떠한 근황들이 주요 다루어지고 있는지 파악 \n",
    "\n",
    "### 1.1 관련 데이터 선정\n",
    "- 빅카인즈에서 데이터 수집(https://www.bigkinds.or.kr/v2/news/index.do)\n",
    "- 하나의 언론사에 대해 집중적으로 파악하고자 동아일보에서 다루고 있는 기사만을 선택\n",
    "- 다양한 시사들중 경제 뉴스만을 선택\n",
    "- 23.2.17 ~ 23.5.17 최근 3개월간의 기사들을 데이터로 선정"
   ]
  },
  {
   "cell_type": "code",
   "execution_count": 1,
   "id": "beafeb8a",
   "metadata": {},
   "outputs": [
    {
     "data": {
      "text/html": [
       "<div>\n",
       "<style scoped>\n",
       "    .dataframe tbody tr th:only-of-type {\n",
       "        vertical-align: middle;\n",
       "    }\n",
       "\n",
       "    .dataframe tbody tr th {\n",
       "        vertical-align: top;\n",
       "    }\n",
       "\n",
       "    .dataframe thead th {\n",
       "        text-align: right;\n",
       "    }\n",
       "</style>\n",
       "<table border=\"1\" class=\"dataframe\">\n",
       "  <thead>\n",
       "    <tr style=\"text-align: right;\">\n",
       "      <th></th>\n",
       "      <th>뉴스 식별자</th>\n",
       "      <th>일자</th>\n",
       "      <th>언론사</th>\n",
       "      <th>기고자</th>\n",
       "      <th>제목</th>\n",
       "      <th>통합 분류1</th>\n",
       "      <th>통합 분류2</th>\n",
       "      <th>통합 분류3</th>\n",
       "      <th>사건/사고 분류1</th>\n",
       "      <th>사건/사고 분류2</th>\n",
       "      <th>사건/사고 분류3</th>\n",
       "      <th>인물</th>\n",
       "      <th>위치</th>\n",
       "      <th>기관</th>\n",
       "      <th>키워드</th>\n",
       "      <th>특성추출(가중치순 상위 50개)</th>\n",
       "      <th>본문</th>\n",
       "      <th>URL</th>\n",
       "      <th>분석제외 여부</th>\n",
       "    </tr>\n",
       "  </thead>\n",
       "  <tbody>\n",
       "    <tr>\n",
       "      <th>0</th>\n",
       "      <td>1.100401e+06</td>\n",
       "      <td>20230517</td>\n",
       "      <td>동아일보</td>\n",
       "      <td>박재명</td>\n",
       "      <td>특전사 기관단총 바뀐다 40년 된 K1A 대신 신형 STC-16 공급</td>\n",
       "      <td>경제&gt;자동차</td>\n",
       "      <td>경제&gt;유통</td>\n",
       "      <td>NaN</td>\n",
       "      <td>NaN</td>\n",
       "      <td>NaN</td>\n",
       "      <td>NaN</td>\n",
       "      <td>NaN</td>\n",
       "      <td>NaN</td>\n",
       "      <td>SNT모티브,방위사업청,STC-16,국군,현대,육군,K1A</td>\n",
       "      <td>40년,특전사,기관,단총,K1A,신형,STC-,공급,부대,국군,특수전,40년,사용,...</td>\n",
       "      <td>기관단총,관계자,특전사,특수작전,모듈화,특수전,k1a,현대전,정확성,국가들,무기들,...</td>\n",
       "      <td>국군 특수전 부대가 40년 넘게 사용하고 있는 K1A 기관단총이 차츰 교체된다. \\...</td>\n",
       "      <td>https://www.donga.com/news/Politics/article/al...</td>\n",
       "      <td>NaN</td>\n",
       "    </tr>\n",
       "    <tr>\n",
       "      <th>1</th>\n",
       "      <td>1.100401e+06</td>\n",
       "      <td>20230517</td>\n",
       "      <td>동아일보</td>\n",
       "      <td>김상준</td>\n",
       "      <td>‘54년’ 고숙성 스카치위스키 나왔다 인터리커, 로크로몬드 한정판 출시</td>\n",
       "      <td>경제&gt;자동차</td>\n",
       "      <td>경제&gt;유통</td>\n",
       "      <td>경제&gt;서비스_쇼핑</td>\n",
       "      <td>NaN</td>\n",
       "      <td>NaN</td>\n",
       "      <td>NaN</td>\n",
       "      <td>NaN</td>\n",
       "      <td>숙성,스코틀랜드,혹스헤</td>\n",
       "      <td>유러피,디오픈 챔피언십,인터리커</td>\n",
       "      <td>54년,고숙성,스카치위스키,인터리커,출시,로크로몬드,한정판,한정출시,한정,출시,숙성...</td>\n",
       "      <td>로크로몬드,싱글몰트,인터리커,스카치위스키,증류소,몰트,고연산,혹스헤드,한정판,디오픈...</td>\n",
       "      <td>드링크 인터내셔널 자회사 인터리커는 17일 세계 4대 메이저 골프대회 ‘디오픈 챔피...</td>\n",
       "      <td>https://www.donga.com/news/Economy/article/all...</td>\n",
       "      <td>NaN</td>\n",
       "    </tr>\n",
       "    <tr>\n",
       "      <th>2</th>\n",
       "      <td>1.100401e+06</td>\n",
       "      <td>20230517</td>\n",
       "      <td>동아일보</td>\n",
       "      <td>조혜선</td>\n",
       "      <td>‘이 식품’ 자주 섭취하면 우울증 위험 증가한다</td>\n",
       "      <td>경제&gt;유통</td>\n",
       "      <td>경제&gt;서비스_쇼핑</td>\n",
       "      <td>사회&gt;여성</td>\n",
       "      <td>NaN</td>\n",
       "      <td>NaN</td>\n",
       "      <td>NaN</td>\n",
       "      <td>레인</td>\n",
       "      <td>멜버른,영국,중국,호주</td>\n",
       "      <td>푸드&amp;무드,디킨대,바이오뱅크</td>\n",
       "      <td>식품,섭취,증가,우울증,위험,호주,디킨대,결과,식품첨가물,다량,함유,가공처리,초가공...</td>\n",
       "      <td>우울증,중국,패스트푸드,40세,디킨대,호주,멜버른,심혈관,연관성,영국,바이오뱅크,영...</td>\n",
       "      <td>식품첨가물을 다량 함유하고 가공처리가 이뤄진 초가공식품(ultra-processed...</td>\n",
       "      <td>https://www.donga.com/news/Health/article/all/...</td>\n",
       "      <td>NaN</td>\n",
       "    </tr>\n",
       "    <tr>\n",
       "      <th>3</th>\n",
       "      <td>1.100401e+06</td>\n",
       "      <td>20230517</td>\n",
       "      <td>동아일보</td>\n",
       "      <td>이호</td>\n",
       "      <td>[이호 기자의 마켓ON]LG에너지솔루션, LG화학 분할 후 최대 1조 원 규모 회사...</td>\n",
       "      <td>경제&gt;자원</td>\n",
       "      <td>지역&gt;경기</td>\n",
       "      <td>지역&gt;전북</td>\n",
       "      <td>NaN</td>\n",
       "      <td>NaN</td>\n",
       "      <td>NaN</td>\n",
       "      <td>NaN</td>\n",
       "      <td>NaN</td>\n",
       "      <td>석유화학,한국투자증권,LG헬로비전,NH투자증권,LG생명과학,미래에셋증권,KB증권,신...</td>\n",
       "      <td>LG에너지솔루션,LG,화학,분할,도전,최대,규모,회사채,발행,LG에너지솔루션,LG화...</td>\n",
       "      <td>lg,회사채,lg에너지솔루션,수요예측,다음달,lg화학,이호,흡수합병,팜한농,5000...</td>\n",
       "      <td>LG에너지솔루션이 LG화학으로부터의 물적분할 후 최대 1조 원 규모의 회사채 발행에...</td>\n",
       "      <td>https://www.donga.com/news/Economy/article/all...</td>\n",
       "      <td>NaN</td>\n",
       "    </tr>\n",
       "    <tr>\n",
       "      <th>4</th>\n",
       "      <td>1.100401e+06</td>\n",
       "      <td>20230517</td>\n",
       "      <td>동아일보</td>\n",
       "      <td>김민범</td>\n",
       "      <td>[단독]기아 EV9, 브랜드 최초 5.1채널 사운드 적용 “영화관 담은 국산 대형 ...</td>\n",
       "      <td>IT_과학&gt;모바일</td>\n",
       "      <td>경제&gt;자동차</td>\n",
       "      <td>경제&gt;유통</td>\n",
       "      <td>NaN</td>\n",
       "      <td>NaN</td>\n",
       "      <td>NaN</td>\n",
       "      <td>NaN</td>\n",
       "      <td>독일,영국,저주</td>\n",
       "      <td>메리디안 호라이즌,기아,현대자동차,하이엔드,EV6,하만카돈,벤츠,삼성전자,BMW,메...</td>\n",
       "      <td>기아,EV9,브랜드,적용,채널,사운드,영화관,국산,SUV,등장,채널,음향,품평회,진...</td>\n",
       "      <td>메리디안,ev9,harman,서브우퍼,사운드시스템,영화관,호라이즌,오픈에어,ev6</td>\n",
       "      <td>기아 두 번째 전용 전기차 모델인 EV9에 브랜드 최초로 5.1채널 사운드시스템이 ...</td>\n",
       "      <td>https://www.donga.com/news/Economy/article/all...</td>\n",
       "      <td>NaN</td>\n",
       "    </tr>\n",
       "  </tbody>\n",
       "</table>\n",
       "</div>"
      ],
      "text/plain": [
       "         뉴스 식별자        일자   언론사  기고자  \\\n",
       "0  1.100401e+06  20230517  동아일보  박재명   \n",
       "1  1.100401e+06  20230517  동아일보  김상준   \n",
       "2  1.100401e+06  20230517  동아일보  조혜선   \n",
       "3  1.100401e+06  20230517  동아일보   이호   \n",
       "4  1.100401e+06  20230517  동아일보  김민범   \n",
       "\n",
       "                                                  제목     통합 분류1      통합 분류2  \\\n",
       "0             특전사 기관단총 바뀐다 40년 된 K1A 대신 신형 STC-16 공급     경제>자동차       경제>유통   \n",
       "1            ‘54년’ 고숙성 스카치위스키 나왔다 인터리커, 로크로몬드 한정판 출시     경제>자동차       경제>유통   \n",
       "2                         ‘이 식품’ 자주 섭취하면 우울증 위험 증가한다      경제>유통   경제>서비스_쇼핑   \n",
       "3  [이호 기자의 마켓ON]LG에너지솔루션, LG화학 분할 후 최대 1조 원 규모 회사...      경제>자원       지역>경기   \n",
       "4  [단독]기아 EV9, 브랜드 최초 5.1채널 사운드 적용 “영화관 담은 국산 대형 ...  IT_과학>모바일      경제>자동차   \n",
       "\n",
       "       통합 분류3 사건/사고 분류1 사건/사고 분류2 사건/사고 분류3   인물            위치  \\\n",
       "0         NaN       NaN       NaN       NaN  NaN           NaN   \n",
       "1   경제>서비스_쇼핑       NaN       NaN       NaN  NaN  숙성,스코틀랜드,혹스헤   \n",
       "2       사회>여성       NaN       NaN       NaN   레인  멜버른,영국,중국,호주   \n",
       "3       지역>전북       NaN       NaN       NaN  NaN           NaN   \n",
       "4       경제>유통       NaN       NaN       NaN  NaN      독일,영국,저주   \n",
       "\n",
       "                                                  기관  \\\n",
       "0                   SNT모티브,방위사업청,STC-16,국군,현대,육군,K1A   \n",
       "1                                  유러피,디오픈 챔피언십,인터리커   \n",
       "2                                    푸드&무드,디킨대,바이오뱅크   \n",
       "3  석유화학,한국투자증권,LG헬로비전,NH투자증권,LG생명과학,미래에셋증권,KB증권,신...   \n",
       "4  메리디안 호라이즌,기아,현대자동차,하이엔드,EV6,하만카돈,벤츠,삼성전자,BMW,메...   \n",
       "\n",
       "                                                 키워드  \\\n",
       "0  40년,특전사,기관,단총,K1A,신형,STC-,공급,부대,국군,특수전,40년,사용,...   \n",
       "1  54년,고숙성,스카치위스키,인터리커,출시,로크로몬드,한정판,한정출시,한정,출시,숙성...   \n",
       "2  식품,섭취,증가,우울증,위험,호주,디킨대,결과,식품첨가물,다량,함유,가공처리,초가공...   \n",
       "3  LG에너지솔루션,LG,화학,분할,도전,최대,규모,회사채,발행,LG에너지솔루션,LG화...   \n",
       "4  기아,EV9,브랜드,적용,채널,사운드,영화관,국산,SUV,등장,채널,음향,품평회,진...   \n",
       "\n",
       "                                   특성추출(가중치순 상위 50개)  \\\n",
       "0  기관단총,관계자,특전사,특수작전,모듈화,특수전,k1a,현대전,정확성,국가들,무기들,...   \n",
       "1  로크로몬드,싱글몰트,인터리커,스카치위스키,증류소,몰트,고연산,혹스헤드,한정판,디오픈...   \n",
       "2  우울증,중국,패스트푸드,40세,디킨대,호주,멜버른,심혈관,연관성,영국,바이오뱅크,영...   \n",
       "3  lg,회사채,lg에너지솔루션,수요예측,다음달,lg화학,이호,흡수합병,팜한농,5000...   \n",
       "4      메리디안,ev9,harman,서브우퍼,사운드시스템,영화관,호라이즌,오픈에어,ev6   \n",
       "\n",
       "                                                  본문  \\\n",
       "0  국군 특수전 부대가 40년 넘게 사용하고 있는 K1A 기관단총이 차츰 교체된다. \\...   \n",
       "1  드링크 인터내셔널 자회사 인터리커는 17일 세계 4대 메이저 골프대회 ‘디오픈 챔피...   \n",
       "2  식품첨가물을 다량 함유하고 가공처리가 이뤄진 초가공식품(ultra-processed...   \n",
       "3  LG에너지솔루션이 LG화학으로부터의 물적분할 후 최대 1조 원 규모의 회사채 발행에...   \n",
       "4  기아 두 번째 전용 전기차 모델인 EV9에 브랜드 최초로 5.1채널 사운드시스템이 ...   \n",
       "\n",
       "                                                 URL 분석제외 여부  \n",
       "0  https://www.donga.com/news/Politics/article/al...     NaN  \n",
       "1  https://www.donga.com/news/Economy/article/all...     NaN  \n",
       "2  https://www.donga.com/news/Health/article/all/...     NaN  \n",
       "3  https://www.donga.com/news/Economy/article/all...     NaN  \n",
       "4  https://www.donga.com/news/Economy/article/all...     NaN  "
      ]
     },
     "execution_count": 1,
     "metadata": {},
     "output_type": "execute_result"
    }
   ],
   "source": [
    "import pandas as pd\n",
    "df = pd.read_csv(\"./NewsResult_20230217-20230517.csv\")\n",
    "df.head(5)"
   ]
  },
  {
   "cell_type": "code",
   "execution_count": 2,
   "id": "334d36d6",
   "metadata": {},
   "outputs": [
    {
     "data": {
      "text/plain": [
       "(4592, 19)"
      ]
     },
     "execution_count": 2,
     "metadata": {},
     "output_type": "execute_result"
    }
   ],
   "source": [
    "df.shape"
   ]
  },
  {
   "cell_type": "markdown",
   "id": "300ad50a",
   "metadata": {},
   "source": [
    "## 2. 단어 빈도 분석\n",
    "### 2.1 단어들을 벡터로 변환\n",
    "- 한글 형태소 분석기 KoNLPy 라이브러리를 불러와 형태소 분석 실시\n",
    "- 형태소 단위로 분리, 명사만 반환, 형태소에 품사를 부착해서 반환 모두에 대하여 실시한 후 실행 결과 확인\n",
    "- 워드클라우드를 그리기 위해서는 명사만 사용하는 것이 가장 적합하다고 판단하여 명사만 반환\n",
    "- 추가로 한 글자 단어만 출력되는 것이 많음을 고려하여 두 글자 이상의 단어들로만 출력\n",
    "- 해당 데이터의 본문들에 나온 단어들에 대하여 TF-IDF 벡터를 사용하여 벡터로 변환"
   ]
  },
  {
   "cell_type": "code",
   "execution_count": 3,
   "id": "e409772a",
   "metadata": {},
   "outputs": [
    {
     "name": "stdout",
     "output_type": "stream",
     "text": [
      "['10' '100' '1000만' '1000억' '100만' '100억' '10년' '10년간' '10대' '10만' '10명'\n",
      " '10여' '10월' '10일' '11' '11월' '11일' '12' '12월' '12일' '13' '13일' '14' '14일'\n",
      " '15' '1500억' '15일' '16' '16일' '17' '17일' '18' '18일' '19' '19일' '1년' '1년간'\n",
      " '1등' '1만' '1분기' '1순위' '1억' '1월' '1위' '1위를' '1인' '1인당' '1일' '1일부터' '1조'\n",
      " '1층' '20' '2000억' '2008년' '2009년' '200억' '2011년' '2016년' '2017년' '2018년'\n",
      " '2019년' '2020년' '2021년' '2022' '2022년' '2023' '2023년' '2025년' '2025년까지'\n",
      " '2030' '20일' '21일' '22' '22일' '23일' '24' '24일' '25' '25일' '26' '26일' '27'\n",
      " '27일' '28일' '29' '29일' '2개' '2년' '2년물' '2만' '2배' '2분기' '2월' '2일' '2조'\n",
      " '2차' '2차전지' '2층' '30' '3000억']\n"
     ]
    }
   ],
   "source": [
    "from sklearn.feature_extraction.text import TfidfVectorizer\n",
    "\n",
    "tfidf = TfidfVectorizer(max_features=2000, min_df=5, max_df=0.5)\n",
    "X_train_tfidf = tfidf.fit_transform(df.본문) # 본문을 이용하여 TF-IDF를 학습하고, 변환\n",
    "\n",
    "print(tfidf.get_feature_names_out()[:100]) # tfidf에 사용된 feature 이름을 반환\n",
    "\n",
    "# -> 토큰화를 지정해줄 필요성 있음"
   ]
  },
  {
   "cell_type": "code",
   "execution_count": 4,
   "id": "325f10a6",
   "metadata": {},
   "outputs": [
    {
     "name": "stdout",
     "output_type": "stream",
     "text": [
      "#전체 형태소 결과: ['드', '링크', '인터내셔널', '자회사', '인터', '리', '커는', '17일', '세계', '4', '대', '메이저', '골프대회', '‘', '디오픈', '챔피언십', '’', '공식', '위스키', '인', '싱글', '몰트', '스카치', '위스키', '‘', '로크로몬드', '54년', '’', '을', '국내', '3', '병', '한정', '출시', '한다고', '밝혔다', '.', '해당', '위스키', '는', '전', '세계', '55', '병', '한정판', '이며', '54년', '동안', '숙성', '됐다', '.', '1967년', '로크로몬드', '의', '스트레이트', '넥', '증류', '기', '에서', '증류', '한', '원', '액', '을', '리필', '아메리칸', '오크', '혹스헤드', '서', '숙성하', '..']\n",
      "#명사만 추출: ['드', '링크', '인터내셔널', '자회사', '인터', '리', '세계', '메이저', '골프대회', '디오픈', '챔피언십', '공식', '위스키', '싱글', '몰트', '스카치', '위스키', '로크로몬드', '국내', '병', '한정', '출시', '해당', '위스키', '전', '세계', '병', '한정판', '동안', '숙성', '로크로몬드', '스트레이트', '넥', '증류', '기', '증류', '액', '리필', '아메리칸', '오크', '혹스헤드']\n",
      "#품사 태깅 결과 [('드', 'Noun'), ('링크', 'Noun'), ('인터내셔널', 'Noun'), ('자회사', 'Noun'), ('인터', 'Noun'), ('리', 'Noun'), ('커는', 'Verb'), ('17일', 'Number'), ('세계', 'Noun'), ('4', 'Number'), ('대', 'Verb'), ('메이저', 'Noun'), ('골프대회', 'Noun'), ('‘', 'Foreign'), ('디오픈', 'Noun'), ('챔피언십', 'Noun'), ('’', 'Punctuation'), ('공식', 'Noun'), ('위스키', 'Noun'), ('인', 'Josa'), ('싱글', 'Noun'), ('몰트', 'Noun'), ('스카치', 'Noun'), ('위스키', 'Noun'), ('‘', 'Foreign'), ('로크로몬드', 'Noun'), ('54년', 'Number'), ('’', 'Punctuation'), ('을', 'Josa'), ('국내', 'Noun'), ('3', 'Number'), ('병', 'Noun'), ('한정', 'Noun'), ('출시', 'Noun'), ('한다고', 'Verb'), ('밝혔다', 'Verb'), ('.', 'Punctuation'), ('해당', 'Noun'), ('위스키', 'Noun'), ('는', 'Josa'), ('전', 'Noun'), ('세계', 'Noun'), ('55', 'Number'), ('병', 'Noun'), ('한정판', 'Noun'), ('이며', 'Josa'), ('54년', 'Number'), ('동안', 'Noun'), ('숙성', 'Noun'), ('됐다', 'Verb'), ('.', 'Punctuation'), ('1967년', 'Number'), ('로크로몬드', 'Noun'), ('의', 'Josa'), ('스트레이트', 'Noun'), ('넥', 'Noun'), ('증류', 'Noun'), ('기', 'Noun'), ('에서', 'Josa'), ('증류', 'Noun'), ('한', 'Josa'), ('원', 'Modifier'), ('액', 'Noun'), ('을', 'Josa'), ('리필', 'Noun'), ('아메리칸', 'Noun'), ('오크', 'Noun'), ('혹스헤드', 'Noun'), ('서', 'Josa'), ('숙성하', 'Adjective'), ('..', 'Punctuation')]\n"
     ]
    }
   ],
   "source": [
    "from konlpy.tag import Okt #konlpy에서 Twitter 형태소 분석기를 import\n",
    "twitter_tag = Okt()\n",
    "\n",
    "print('#전체 형태소 결과:', twitter_tag.morphs(df.본문[1]))\n",
    "print('#명사만 추출:', twitter_tag.nouns(df.본문[1]))\n",
    "print('#품사 태깅 결과', twitter_tag.pos(df.본문[1]))"
   ]
  },
  {
   "cell_type": "code",
   "execution_count": 5,
   "id": "43b6001c",
   "metadata": {},
   "outputs": [
    {
     "name": "stdout",
     "output_type": "stream",
     "text": [
      "나만의 토크나이저 결과: ['숙성', '스카치위스키', '인터', '출시', '로크로몬드', '한정판', '한정', '출시', '한정', '출시', '숙성', '오크', '숙성', '추가', '링크', '인터내셔널', '자회사', '인터', '챔피언십', '세계', '메이저', '골프', '대회', '디오픈', '공식', '위스키', '싱글', '몰트', '스카치', '위스키', '로크로몬드', '한정', '출시', '위스키', '한정판', '세계', '숙성', '로크로몬드', '스트레이트', '증류', '스트레이트', '증류', '리필', '아메리칸', '오크', '혹스', '헤드', '숙성', '리필', '유러', '오크', '셰리', '혹스', '헤드', '추가', '숙성', '카라멜', '바닐라', '오렌지', '껍질', '건포도', '과일', '위스키', '로크로몬드', '럭셔리', '위스키', '제작', '케이스', '적용', '증류', '지도', '로몬드', '호수', '고급', '마무리', '전용', '케이스', '제공', '로크로몬드', '증류', '몰트', '레인', '블렌디드', '생산', '스코틀랜드', '유일', '증류', '인터', '관계자', '연산', '위스키', '세계', '제품', '출시', '동시', '완판', '정도', '인기', '로크로몬드', '연산', '위스키', '보유', '브랜드', '싱글', '몰트', '스카치위스키', '울트라', '프리미엄', '위스키', '연산', '위스키', '지속', '예정', '로크로몬드', '특별', '연산', '위스키', '싱글', '몰트', '애호가', '소장', '가치', '선택']\n"
     ]
    }
   ],
   "source": [
    "def my_tokenizer(doc):\n",
    "    return [token for token in twitter_tag.nouns(doc) if len(token) >=2]\n",
    "\n",
    "print(\"나만의 토크나이저 결과:\", my_tokenizer(df.키워드[1]))"
   ]
  },
  {
   "cell_type": "code",
   "execution_count": 6,
   "id": "5161677d",
   "metadata": {},
   "outputs": [
    {
     "name": "stdout",
     "output_type": "stream",
     "text": [
      "['가가' '가격' '가계' '가공' '가구' '가까이' '가능' '가능성' '가동' '가량' '가상' '가속' '가수' '가스'\n",
      " '가스요금' '가운데' '가입' '가입자' '가장' '가전' '가정' '가족' '가지' '가치' '가파른' '각각' '각국'\n",
      " '각종' '간담' '간편' '갈등' '갈수록' '감독' '감사' '감소' '감염증' '감원' '감축' '강국' '강남' '강남구'\n",
      " '강동구' '강서구' '강원' '강제' '강조' '강화' '개국' '개념' '개막' '개발' '개별' '개사' '개선' '개설'\n",
      " '개월' '개인' '개장' '개정' '개정안' '개최' '개편' '개혁' '갤럭시' '거나' '거듭' '거래' '거래소' '거론'\n",
      " '거리' '거점' '거주' '걱정' '건강' '건물' '건설' '건설업' '건수' '건의' '건축' '건축물' '검사' '검색'\n",
      " '검증' '검찰' '검토' '게임' '겨냥' '격려' '격차' '결과' '결정' '결제' '결합' '결혼' '경고' '경기'\n",
      " '경기도' '경남' '경력']\n"
     ]
    }
   ],
   "source": [
    "from sklearn.feature_extraction.text import CountVectorizer\n",
    "\n",
    "my_stopwords = [\"지난해\", \"올해\", \"위해\"]\n",
    "#위에서 설정한 토크나이저 지정\n",
    "df_title = TfidfVectorizer(max_features=2000, min_df=5, max_df=0.5, tokenizer=my_tokenizer, stop_words=my_stopwords)\n",
    "\n",
    "df_DTM = df_title.fit_transform(df.본문) #본문을 이용하여 TF-IDF를 학습하고, 변환\n",
    "print(df_title.get_feature_names_out()[:100]) # tfidf에 사용된 feature 이름을 반환"
   ]
  },
  {
   "cell_type": "code",
   "execution_count": 7,
   "id": "e034c125",
   "metadata": {},
   "outputs": [
    {
     "name": "stdout",
     "output_type": "stream",
     "text": [
      "<4592x2000 sparse matrix of type '<class 'numpy.float64'>'\n",
      "\twith 92165 stored elements in Compressed Sparse Row format>\n"
     ]
    }
   ],
   "source": [
    "print(repr(df_DTM)) # 희소행렬 형태"
   ]
  },
  {
   "cell_type": "markdown",
   "id": "ccb21118",
   "metadata": {},
   "source": [
    "### 2.2 워드클라우드\n",
    "- 상위 20개의 단어를 뽑아 수평 막대그래프 생성(\"지난해\", \"올해\", \"위해\"와 같은 말들이 상위단어에 포함되어 별도로 위에서 불용어 처리작업으로 제거)\n",
    "- 상위 단어의 결과들을 보면 확실히 경제 기사에서는 은행, 투자, 금융, 글로벌 등과 같은 단어들이 자주 나옴을 확인\n",
    "- 그 외에 한국, 미국의 나라들이 자주 나타나며, 자동차, 반도체, 사진 등과 같은 단어들도 최근 경제기사에서 많이 다뤄지고 있음을 확인\n",
    "- 단어들의 빈도가 잘 나와있는 것을 확인한 후 해당 단어들에 대하여 워드클라우드를 진행"
   ]
  },
  {
   "cell_type": "code",
   "execution_count": 8,
   "id": "738d832c",
   "metadata": {},
   "outputs": [
    {
     "name": "stdout",
     "output_type": "stream",
     "text": [
      "[('판매', 48.734199420404494), ('수출', 49.75158318264772), ('최근', 50.711773870108374), ('기술', 50.93680510468255), ('대표', 51.23438644883119), ('기사', 51.50142644863409), ('정부', 55.659586591833), ('산업', 57.886952349294255), ('사진', 61.66997594173857), ('사업', 61.72374390896362), ('반도체', 64.21152670842557), ('금융', 65.81091981966904), ('국내', 66.99847911756927), ('시장', 69.26180917549362), ('투자', 70.2896385855594), ('서울', 76.76139666983241), ('은행', 82.15731168363989), ('기업', 85.0127821099767), ('미국', 86.00571606493295), ('한국', 96.89821947730498)]\n"
     ]
    },
    {
     "data": {
      "image/png": "[encoded data removed]",
      "text/plain": [
       "<Figure size 640x480 with 1 Axes>"
      ]
     },
     "metadata": {},
     "output_type": "display_data"
    }
   ],
   "source": [
    "import matplotlib.pyplot as plt\n",
    "from collections import Counter\n",
    "import numpy as np\n",
    "%matplotlib inline\n",
    "\n",
    "from matplotlib import font_manager, rc\n",
    "import platform\n",
    "\n",
    "font_name = font_manager.FontProperties(fname=\"c:/Windows/Fonts/malgun.ttf\").get_name()\n",
    "rc('font', family=font_name)\n",
    "\n",
    "const_cnt = {}\n",
    "for word in df_title.get_feature_names_out():\n",
    "    const_cnt[word] = np.sum(df_DTM[:, df_title.vocabulary_[word]])\n",
    "\n",
    "def word_graph(cnt, max_words=10):\n",
    "    \n",
    "    sorted_w = sorted(cnt.items(), key=lambda kv: kv[1])\n",
    "    print(sorted_w[-max_words:])\n",
    "    n, w = zip(*sorted_w[-max_words:])\n",
    "\n",
    "    plt.barh(range(len(n)),w,tick_label=n)\n",
    "    plt.show()\n",
    "\n",
    "word_graph(const_cnt, max_words=20)"
   ]
  },
  {
   "cell_type": "code",
   "execution_count": 9,
   "id": "dc93b83b",
   "metadata": {},
   "outputs": [
    {
     "data": {
      "image/png": "[encoded data removed]",
      "text/plain": [
       "<Figure size 640x480 with 1 Axes>"
      ]
     },
     "metadata": {},
     "output_type": "display_data"
    }
   ],
   "source": [
    "from wordcloud import WordCloud\n",
    "font_path = 'c:/Windows/Fonts/malgun.ttf'\n",
    "\n",
    "wordcloud = WordCloud(\n",
    "    font_path = font_path,\n",
    "    max_font_size = 100,\n",
    "    width = 800, #이미지 너비 지정\n",
    "    height = 400, #이미지 높이 지정\n",
    "    background_color='white', #이미지 배경색 지정\n",
    "    max_words=50)\n",
    "\n",
    "wordcloud.generate_from_frequencies(const_cnt) #원문이 아닌 형태소 분석 결과로부터 워드클라우드를 생성\n",
    "\n",
    "plt.axis(\"off\")\n",
    "plt.imshow(wordcloud, interpolation='bilinear')\n",
    "plt.show()"
   ]
  },
  {
   "cell_type": "markdown",
   "id": "07f8984c",
   "metadata": {},
   "source": [
    "## 3. 문서의 분류\n",
    "- 본문 내용을 토대로 통합분류1에 대하여 예측을 진행\n",
    "- 동아일보의 언론사를 그대로 다뤘으며, 좀 더 다양한 시사들을 포함시키기 위해 경제, 정치, 문화, 사회에 대한 기사들 또한 포함\n",
    "- 23.2.28 ~ 23.5.28 최근 3개월간의 기사들을 데이터로 선정"
   ]
  },
  {
   "cell_type": "code",
   "execution_count": 10,
   "id": "6baadcb0",
   "metadata": {},
   "outputs": [
    {
     "data": {
      "text/html": [
       "<div>\n",
       "<style scoped>\n",
       "    .dataframe tbody tr th:only-of-type {\n",
       "        vertical-align: middle;\n",
       "    }\n",
       "\n",
       "    .dataframe tbody tr th {\n",
       "        vertical-align: top;\n",
       "    }\n",
       "\n",
       "    .dataframe thead th {\n",
       "        text-align: right;\n",
       "    }\n",
       "</style>\n",
       "<table border=\"1\" class=\"dataframe\">\n",
       "  <thead>\n",
       "    <tr style=\"text-align: right;\">\n",
       "      <th></th>\n",
       "      <th>뉴스 식별자</th>\n",
       "      <th>일자</th>\n",
       "      <th>언론사</th>\n",
       "      <th>기고자</th>\n",
       "      <th>제목</th>\n",
       "      <th>통합 분류1</th>\n",
       "      <th>통합 분류2</th>\n",
       "      <th>통합 분류3</th>\n",
       "      <th>사건/사고 분류1</th>\n",
       "      <th>사건/사고 분류2</th>\n",
       "      <th>사건/사고 분류3</th>\n",
       "      <th>인물</th>\n",
       "      <th>위치</th>\n",
       "      <th>기관</th>\n",
       "      <th>키워드</th>\n",
       "      <th>특성추출(가중치순 상위 50개)</th>\n",
       "      <th>본문</th>\n",
       "      <th>URL</th>\n",
       "      <th>분석제외 여부</th>\n",
       "    </tr>\n",
       "  </thead>\n",
       "  <tbody>\n",
       "    <tr>\n",
       "      <th>0</th>\n",
       "      <td>1.100401e+06</td>\n",
       "      <td>20230528</td>\n",
       "      <td>동아일보</td>\n",
       "      <td>김예슬</td>\n",
       "      <td>尹대통령 부부, 새롬이와 ‘동물농장’ 출연 “사지 마시고 입양하세요”</td>\n",
       "      <td>정치&gt;청와대</td>\n",
       "      <td>정치&gt;외교</td>\n",
       "      <td>NaN</td>\n",
       "      <td>NaN</td>\n",
       "      <td>NaN</td>\n",
       "      <td>NaN</td>\n",
       "      <td>김,마리,이유라,윤석열,김건희</td>\n",
       "      <td>尹,래브라도,한남동,대통령 관저</td>\n",
       "      <td>SBS,용인,새롬</td>\n",
       "      <td>대통령,부부,새롬이,동물농장,출연,입양,윤석열,대통령,김건희,여사,방송,출연,은퇴,...</td>\n",
       "      <td>새롬이,안내견,김한숙,유기견,동물농장,반려견,김건희,윤석열,토리,한남동,아이들,장애...</td>\n",
       "      <td>윤석열 대통령과 김건희 여사가 방송에 출연해 은퇴한 시각장애인 안내견 ‘새롬이’와 ...</td>\n",
       "      <td>https://www.donga.com/news/Politics/article/al...</td>\n",
       "      <td>NaN</td>\n",
       "    </tr>\n",
       "    <tr>\n",
       "      <th>1</th>\n",
       "      <td>1.100401e+06</td>\n",
       "      <td>20230528</td>\n",
       "      <td>동아일보</td>\n",
       "      <td>이소정</td>\n",
       "      <td>“물놀이 사고 예방해요” 성동구 생존 수영 체험</td>\n",
       "      <td>사회&gt;교육_시험</td>\n",
       "      <td>문화&gt;문화일반</td>\n",
       "      <td>NaN</td>\n",
       "      <td>NaN</td>\n",
       "      <td>NaN</td>\n",
       "      <td>NaN</td>\n",
       "      <td>정</td>\n",
       "      <td>서울,마장국민체육센터,성동생명안전배,성동구(구청장,성동구</td>\n",
       "      <td>NaN</td>\n",
       "      <td>예방,물놀이,사고,성동구,생존,수영,체험,서울,성동구,구청장,정원오,물놀,여름,휴가...</td>\n",
       "      <td>생존수영,성동구,구청장,물놀,안전사고,물놀이,유대감,8세,휴가철,안전배,성동,움터,...</td>\n",
       "      <td>서울 성동구(구청장 정원오)는 여름 휴가철 물놀이 안전사고를 예방하고자 6월부터 생...</td>\n",
       "      <td>https://www.donga.com/news/Society/article/all...</td>\n",
       "      <td>NaN</td>\n",
       "    </tr>\n",
       "    <tr>\n",
       "      <th>2</th>\n",
       "      <td>1.100401e+06</td>\n",
       "      <td>20230528</td>\n",
       "      <td>동아일보</td>\n",
       "      <td>김예슬</td>\n",
       "      <td>앱으로 처음 만난 20대 女살해 후 시신 유기한 여성 긴급체포</td>\n",
       "      <td>사회&gt;여성</td>\n",
       "      <td>사회&gt;사건_사고</td>\n",
       "      <td>국제&gt;아시아</td>\n",
       "      <td>범죄&gt;범죄일반&gt;살인</td>\n",
       "      <td>NaN</td>\n",
       "      <td>NaN</td>\n",
       "      <td>NaN</td>\n",
       "      <td>부산,금정구</td>\n",
       "      <td>경찰,금정경찰서</td>\n",
       "      <td>20대,살해,시신,유기,여성,긴급,체포,온라인,여성,살해,여행,가방,시신,유기,여성...</td>\n",
       "      <td>20대,부산,온라인,긴급체포,금정경찰서,말다툼,신분증,주거지,금정구,여성,경찰,시신...</td>\n",
       "      <td>온라인 앱을 통해 처음 만난 여성을 살해한 뒤 여행용 가방에 시신을 넣어 유기한 2...</td>\n",
       "      <td>https://www.donga.com/news/Society/article/all...</td>\n",
       "      <td>NaN</td>\n",
       "    </tr>\n",
       "    <tr>\n",
       "      <th>3</th>\n",
       "      <td>1.100401e+06</td>\n",
       "      <td>20230528</td>\n",
       "      <td>동아일보</td>\n",
       "      <td>윤상호 군사전문</td>\n",
       "      <td>[단독]美코브라볼 27 28일 연속 서해상 출격 우리軍 ‘피스아이’도 투입</td>\n",
       "      <td>정치&gt;북한</td>\n",
       "      <td>NaN</td>\n",
       "      <td>NaN</td>\n",
       "      <td>NaN</td>\n",
       "      <td>NaN</td>\n",
       "      <td>NaN</td>\n",
       "      <td>NaN</td>\n",
       "      <td>고강,서해,충북,미국,평북,일본,히로시마,서해상,북한,美,동창리,철산군,오키나와,충...</td>\n",
       "      <td>서해위성발사장,미국,우리,서해상,코브라볼,피스아이,북한,공군,38노스</td>\n",
       "      <td>코브라볼,27,피스,투입,미국,공군,코브라볼,RC-,135S,정찰기,27일,서해,확...</td>\n",
       "      <td>코브라볼,서해,서해상,발사대,동창리,정찰기,충북,발사장,히로시마,피스아이,38노스,...</td>\n",
       "      <td>미국 공군의 코브라볼(RC-135S 사진) 정찰기가 27일과 28일 서해상으로 잇달...</td>\n",
       "      <td>https://www.donga.com/news/Politics/article/al...</td>\n",
       "      <td>NaN</td>\n",
       "    </tr>\n",
       "    <tr>\n",
       "      <th>4</th>\n",
       "      <td>1.100401e+06</td>\n",
       "      <td>20230528</td>\n",
       "      <td>동아일보</td>\n",
       "      <td>김예슬</td>\n",
       "      <td>교실서 폭력 애니 틀고 감상문 쓰게 한 초등교사 벌금형 선고</td>\n",
       "      <td>사회&gt;교육_시험</td>\n",
       "      <td>사회&gt;사건_사고</td>\n",
       "      <td>사회&gt;여성</td>\n",
       "      <td>범죄&gt;범죄일반&gt;폭행</td>\n",
       "      <td>사회&gt;사회문제&gt;학대</td>\n",
       "      <td>NaN</td>\n",
       "      <td>이해도,A 씨,송종선</td>\n",
       "      <td>일본</td>\n",
       "      <td>춘천지법,재판부,형사1단독</td>\n",
       "      <td>교실,폭력,감상문,초등교사,벌금형,선고,초등학생들,선정적,폭력성,일본,애니메이션,감...</td>\n",
       "      <td>감상문,송종선,춘천지법,재판부,일본,종사들,학생들,압박감,화장실,200회,판시,아동...</td>\n",
       "      <td>초등학생들에게 선정적이고 폭력성이 강한 일본 애니메이션을 틀어준 뒤 감상문을 쓰게 ...</td>\n",
       "      <td>https://www.donga.com/news/Society/article/all...</td>\n",
       "      <td>NaN</td>\n",
       "    </tr>\n",
       "  </tbody>\n",
       "</table>\n",
       "</div>"
      ],
      "text/plain": [
       "         뉴스 식별자        일자   언론사       기고자  \\\n",
       "0  1.100401e+06  20230528  동아일보       김예슬   \n",
       "1  1.100401e+06  20230528  동아일보       이소정   \n",
       "2  1.100401e+06  20230528  동아일보       김예슬   \n",
       "3  1.100401e+06  20230528  동아일보  윤상호 군사전문   \n",
       "4  1.100401e+06  20230528  동아일보       김예슬   \n",
       "\n",
       "                                          제목    통합 분류1     통합 분류2   통합 분류3  \\\n",
       "0     尹대통령 부부, 새롬이와 ‘동물농장’ 출연 “사지 마시고 입양하세요”    정치>청와대      정치>외교      NaN   \n",
       "1                 “물놀이 사고 예방해요” 성동구 생존 수영 체험  사회>교육_시험    문화>문화일반      NaN   \n",
       "2         앱으로 처음 만난 20대 女살해 후 시신 유기한 여성 긴급체포     사회>여성   사회>사건_사고   국제>아시아   \n",
       "3  [단독]美코브라볼 27 28일 연속 서해상 출격 우리軍 ‘피스아이’도 투입     정치>북한        NaN      NaN   \n",
       "4          교실서 폭력 애니 틀고 감상문 쓰게 한 초등교사 벌금형 선고  사회>교육_시험   사회>사건_사고    사회>여성   \n",
       "\n",
       "    사건/사고 분류1    사건/사고 분류2 사건/사고 분류3                인물  \\\n",
       "0         NaN          NaN       NaN  김,마리,이유라,윤석열,김건희   \n",
       "1         NaN          NaN       NaN                 정   \n",
       "2  범죄>범죄일반>살인          NaN       NaN               NaN   \n",
       "3         NaN          NaN       NaN               NaN   \n",
       "4  범죄>범죄일반>폭행   사회>사회문제>학대       NaN       이해도,A 씨,송종선   \n",
       "\n",
       "                                                  위치  \\\n",
       "0                                  尹,래브라도,한남동,대통령 관저   \n",
       "1                    서울,마장국민체육센터,성동생명안전배,성동구(구청장,성동구   \n",
       "2                                             부산,금정구   \n",
       "3  고강,서해,충북,미국,평북,일본,히로시마,서해상,북한,美,동창리,철산군,오키나와,충...   \n",
       "4                                                 일본   \n",
       "\n",
       "                                       기관  \\\n",
       "0                               SBS,용인,새롬   \n",
       "1                                     NaN   \n",
       "2                                경찰,금정경찰서   \n",
       "3  서해위성발사장,미국,우리,서해상,코브라볼,피스아이,북한,공군,38노스   \n",
       "4                          춘천지법,재판부,형사1단독   \n",
       "\n",
       "                                                 키워드  \\\n",
       "0  대통령,부부,새롬이,동물농장,출연,입양,윤석열,대통령,김건희,여사,방송,출연,은퇴,...   \n",
       "1  예방,물놀이,사고,성동구,생존,수영,체험,서울,성동구,구청장,정원오,물놀,여름,휴가...   \n",
       "2  20대,살해,시신,유기,여성,긴급,체포,온라인,여성,살해,여행,가방,시신,유기,여성...   \n",
       "3  코브라볼,27,피스,투입,미국,공군,코브라볼,RC-,135S,정찰기,27일,서해,확...   \n",
       "4  교실,폭력,감상문,초등교사,벌금형,선고,초등학생들,선정적,폭력성,일본,애니메이션,감...   \n",
       "\n",
       "                                   특성추출(가중치순 상위 50개)  \\\n",
       "0  새롬이,안내견,김한숙,유기견,동물농장,반려견,김건희,윤석열,토리,한남동,아이들,장애...   \n",
       "1  생존수영,성동구,구청장,물놀,안전사고,물놀이,유대감,8세,휴가철,안전배,성동,움터,...   \n",
       "2  20대,부산,온라인,긴급체포,금정경찰서,말다툼,신분증,주거지,금정구,여성,경찰,시신...   \n",
       "3  코브라볼,서해,서해상,발사대,동창리,정찰기,충북,발사장,히로시마,피스아이,38노스,...   \n",
       "4  감상문,송종선,춘천지법,재판부,일본,종사들,학생들,압박감,화장실,200회,판시,아동...   \n",
       "\n",
       "                                                  본문  \\\n",
       "0  윤석열 대통령과 김건희 여사가 방송에 출연해 은퇴한 시각장애인 안내견 ‘새롬이’와 ...   \n",
       "1  서울 성동구(구청장 정원오)는 여름 휴가철 물놀이 안전사고를 예방하고자 6월부터 생...   \n",
       "2  온라인 앱을 통해 처음 만난 여성을 살해한 뒤 여행용 가방에 시신을 넣어 유기한 2...   \n",
       "3  미국 공군의 코브라볼(RC-135S 사진) 정찰기가 27일과 28일 서해상으로 잇달...   \n",
       "4  초등학생들에게 선정적이고 폭력성이 강한 일본 애니메이션을 틀어준 뒤 감상문을 쓰게 ...   \n",
       "\n",
       "                                                 URL 분석제외 여부  \n",
       "0  https://www.donga.com/news/Politics/article/al...     NaN  \n",
       "1  https://www.donga.com/news/Society/article/all...     NaN  \n",
       "2  https://www.donga.com/news/Society/article/all...     NaN  \n",
       "3  https://www.donga.com/news/Politics/article/al...     NaN  \n",
       "4  https://www.donga.com/news/Society/article/all...     NaN  "
      ]
     },
     "execution_count": 10,
     "metadata": {},
     "output_type": "execute_result"
    }
   ],
   "source": [
    "import pandas as pd\n",
    "df = pd.read_csv(\"./NewsResult_20230228-20230528.csv\")\n",
    "df.head(5)"
   ]
  },
  {
   "cell_type": "code",
   "execution_count": 11,
   "id": "60d2a605",
   "metadata": {},
   "outputs": [
    {
     "data": {
      "text/plain": [
       "통합 분류1\n",
       "사회>사건_사고         1297\n",
       "정치>국회_정당         1111\n",
       "경제>자동차            500\n",
       "정치>외교             487\n",
       "정치>청와대            429\n",
       "                 ... \n",
       "스포츠>스포츠일반           3\n",
       "스포츠>축구              3\n",
       "스포츠>야구>한국프로야구       1\n",
       "스포츠>축구>한국프로축구       1\n",
       "스포츠>야구              1\n",
       "Name: count, Length: 79, dtype: int64"
      ]
     },
     "execution_count": 11,
     "metadata": {},
     "output_type": "execute_result"
    }
   ],
   "source": [
    "df[\"통합 분류1\"].value_counts()"
   ]
  },
  {
   "cell_type": "code",
   "execution_count": 12,
   "id": "10c6e543",
   "metadata": {},
   "outputs": [
    {
     "data": {
      "text/plain": [
       "0          정치>청와대\n",
       "1        사회>교육_시험\n",
       "2           사회>여성\n",
       "3           정치>북한\n",
       "4        사회>교육_시험\n",
       "           ...   \n",
       "13616    정치>국회_정당\n",
       "13617       경제>자원\n",
       "13618    사회>교육_시험\n",
       "13619    정치>행정_자치\n",
       "13620       사회>환경\n",
       "Name: 통합 분류1, Length: 13621, dtype: object"
      ]
     },
     "execution_count": 12,
     "metadata": {},
     "output_type": "execute_result"
    }
   ],
   "source": [
    "df[\"통합 분류1\"]"
   ]
  },
  {
   "cell_type": "code",
   "execution_count": 13,
   "id": "4c6e3d7d",
   "metadata": {},
   "outputs": [
    {
     "name": "stdout",
     "output_type": "stream",
     "text": [
      "0        정치\n",
      "1        사회\n",
      "2        사회\n",
      "3        정치\n",
      "4        사회\n",
      "         ..\n",
      "13616    정치\n",
      "13617    경제\n",
      "13618    사회\n",
      "13619    정치\n",
      "13620    사회\n",
      "Name: 통합 분류1, Length: 13621, dtype: object\n"
     ]
    }
   ],
   "source": [
    "series_data = df['통합 분류1']  # '통합 분류1' 열에 해당하는 Series 객체\n",
    "result = series_data.str.split('>').str[0]  # \">\"를 기준으로 분리한 후 첫 번째 요소 선택\n",
    "print(result)"
   ]
  },
  {
   "cell_type": "code",
   "execution_count": 14,
   "id": "10350ffd",
   "metadata": {},
   "outputs": [
    {
     "data": {
      "text/plain": [
       "통합 분류1\n",
       "경제       3609\n",
       "사회       3351\n",
       "정치       2760\n",
       "문화       2054\n",
       "국제        797\n",
       "지역        549\n",
       "IT_과학     483\n",
       "스포츠        18\n",
       "Name: count, dtype: int64"
      ]
     },
     "execution_count": 14,
     "metadata": {},
     "output_type": "execute_result"
    }
   ],
   "source": [
    "result.value_counts()"
   ]
  },
  {
   "cell_type": "code",
   "execution_count": 15,
   "id": "daf84524",
   "metadata": {},
   "outputs": [
    {
     "name": "stdout",
     "output_type": "stream",
     "text": [
      "#Train set size: 10215\n",
      "#Test set size: 3406\n"
     ]
    }
   ],
   "source": [
    "from sklearn.model_selection import train_test_split\n",
    "\n",
    "X_train, X_test, y_train, y_test = train_test_split(df.본문, result, random_state=0)\n",
    "\n",
    "print('#Train set size:', len(X_train)) # 실제로 몇개의 특성이 사용되었는지 확인\n",
    "print('#Test set size:', len(X_test))"
   ]
  },
  {
   "cell_type": "code",
   "execution_count": 16,
   "id": "677284d0",
   "metadata": {},
   "outputs": [
    {
     "name": "stdout",
     "output_type": "stream",
     "text": [
      "['서울', '성동구', '(', '구', '청장', '정원', '오', ')', '는', '여름', '휴가', '철', '물놀이', '안전', '사고', '를', '예방', '하고자', '6월', '부터', '생존', '수영', '안전', '체험', '을', '연다', '고', '28일', '밝혔다', '.', '생존', '수영', '수업', '은', '8', '세', '이상', '초등학생', '과', '학부모', '가', '참여', '할', '수', '있다', '.', '다음', '달', '부터', '8월', '까지', '매주', '토요일', '마다', '총', '10회', '진행', '된다', '.', '구', '관계자', '는', '“', '어린이', '발달', '특성', '을', '고려', '해', '물', '에', '대한', '두려움', '을', '극복', '하고', '가족', '간', '유', '대감', '을', '증진', '할', '수', '있는', '..']\n",
      "['서울', '성동구', '청장', '정원', '오', '여름', '휴가', '철', '물놀이', '안전', '사고', '예방', '생존', '수영', '안전', '체험', '연다', '생존', '수영', '수업', '세', '이상', '초등학생', '학부모', '참여', '수', '다음', '달', '토요일', '총', '진행', '구', '관계자', '어린이', '발달', '특성', '고려', '물', '대한', '두려움', '극복', '가족', '유', '대감', '증진', '수']\n"
     ]
    }
   ],
   "source": [
    "from konlpy.tag import Okt #konlpy에서 Twitter 형태소 분석기를 import\n",
    "okt = Okt()\n",
    "\n",
    "print(okt.morphs(X_train[1])) #둘째 리뷰에 대해 형태소 단위로 tokenize\n",
    "print(okt.nouns(X_train[1])) #둘째 리뷰에서 명사만 추출"
   ]
  },
  {
   "cell_type": "code",
   "execution_count": 17,
   "id": "f8dafae1",
   "metadata": {},
   "outputs": [
    {
     "name": "stdout",
     "output_type": "stream",
     "text": [
      "#Train set score: 0.831\n",
      "#Test set score: 0.762\n"
     ]
    }
   ],
   "source": [
    "from sklearn.feature_extraction.text import TfidfVectorizer\n",
    "from sklearn.linear_model import LogisticRegression\n",
    "\n",
    "#Twitter 형태소분석기에서 명사만 추출하는 함수를 tokenizer로 이용\n",
    "tfidf = TfidfVectorizer(tokenizer=okt.nouns, max_features=2000, min_df=5, max_df=0.5) \n",
    "\n",
    "X_train_tfidf = tfidf.fit_transform(X_train) # train data 변환 -> tfidf vector\n",
    "X_test_tfidf = tfidf.transform(X_test) # test data 변환 -> tfidf vector\n",
    "\n",
    "# logistic regression 분류기 선언\n",
    "clf = LogisticRegression(max_iter=1000)\n",
    "clf.fit(X_train_tfidf, y_train)\n",
    "print('#Train set score: {:.3f}'.format(clf.score(X_train_tfidf, y_train))) # train data 예측정확도\n",
    "print('#Test set score: {:.3f}'.format(clf.score(X_test_tfidf, y_test))) # test data 예측정확도"
   ]
  },
  {
   "cell_type": "code",
   "execution_count": 18,
   "id": "4bed8f5e",
   "metadata": {},
   "outputs": [
    {
     "name": "stdout",
     "output_type": "stream",
     "text": [
      "실제기사분류, 예측한 기사분류, 본문\n",
      "('문화', '문화', '갈라진 시멘트 사이, 잿빛 하수구, 맨홀 덮개의 작은 틈까지 . 바람결에 날아와 앉은 곳에서 잎을 내고 꽃을 피우는 들풀들. ‘잡초’라고 불리는 주인공 들풀은 누군가에게 고백하듯 말한다. “작은 틈만 나면 나는 태어날 거야. 쑥쑥 자랄 거야. 멋진 곳이 아니어도 좋아. 어디라도 틈만 있다면 나는 활짝 피어날 수 있어.” \\n \\n 들풀은 세상의 주인공이 아..')\n",
      "('정치', '정치', '더불어민주당에 대한 유권자 호감도가 2년여 만에 다시 최저치로 떨어진 것으로 조사됐다. \\n \\n한국갤럽이 지난 23~25일 전국 만 18세 이상 성인 남녀 1000명을 대상으로 실시한 5월 4주 차 여론 조사를 실시한 결과 이같이 나타났다고 26일 밝혔다. \\n \\n한국갤럽은 2월 이후 정당 호감도 변화를 조사하며 국민의힘은 ‘3월 전당대회에서 새 지도부를 ..')\n",
      "('지역', '문화', '“세계에서 가장 먼저 영화를 개봉한다고 해서 보러 왔어요.” \\n \\n 17일 오후 전남 해남군 해남읍 해리에 자리한 해남시네마. 할리우드 액션 블록버스터 ‘분노의 질주: 라이드 오어 다이’가 세계 최초로 한국에서 개봉된 이날 해남시네마는 오랜만에 관객들로 북적였다. 영화관 대기실에 앉아 있던 관객들은 저마다 손에 영화표와 함께 고소한 내음의 팝콘을 들고 ..')\n"
     ]
    }
   ],
   "source": [
    "print('실제기사분류, 예측한 기사분류, 본문')\n",
    "for content in zip(y_test[:3], clf.predict(X_test_tfidf[:3]), X_test[:3]):\n",
    "    print(content)"
   ]
  },
  {
   "cell_type": "markdown",
   "id": "a9e3dde7",
   "metadata": {},
   "source": [
    "### 3.1.1 성능 개선\n",
    "- 로지스틱 회귀만을 이용하여도 Train score가 0.831, Test score가 0.762로 괜찮은 성능을 보이는 것을 확인\n",
    "- 성능을 보니 과적합 우려가 발생하지도 않음\n",
    "- 지금보다 좀 더 성능을 개선하기 위해 노력\n",
    "1. 위에서는 명사만을 토큰화 하였지만, 명사 대신 모든 형태소를 사용\n",
    "2. 모든 형태소 사용하는 대신 명사, 동사, 형용사만을 선별하여 추출\n",
    "3. 품사태깅을 사용\n",
    "4. 릿지/라쏘/나이브 베이지안 회귀 모델 사용"
   ]
  },
  {
   "cell_type": "code",
   "execution_count": 19,
   "id": "03561180",
   "metadata": {},
   "outputs": [
    {
     "name": "stdout",
     "output_type": "stream",
     "text": [
      "#Train set score: 0.824\n",
      "#Test set score: 0.760\n"
     ]
    }
   ],
   "source": [
    "tfidf = TfidfVectorizer(tokenizer=okt.morphs, max_features=2000, min_df=5, max_df=0.5) # 명사 대신 모든 형태소를 사용\n",
    "X_train_tfidf = tfidf.fit_transform(X_train)\n",
    "X_test_tfidf = tfidf.transform(X_test)\n",
    "\n",
    "clf = LogisticRegression(max_iter=1000)\n",
    "clf.fit(X_train_tfidf, y_train)\n",
    "print('#Train set score: {:.3f}'.format(clf.score(X_train_tfidf, y_train))) # train data 예측정확도\n",
    "print('#Test set score: {:.3f}'.format(clf.score(X_test_tfidf, y_test))) # test data 예측정확도"
   ]
  },
  {
   "cell_type": "code",
   "execution_count": 20,
   "id": "68a56636",
   "metadata": {},
   "outputs": [
    {
     "name": "stdout",
     "output_type": "stream",
     "text": [
      "#Train set score: 0.827\n",
      "#Test set score: 0.755\n"
     ]
    }
   ],
   "source": [
    "def twit_tokenizer(text): #전체를 다 사용하는 대신, 명사, 동사, 형용사를 사용\n",
    "    target_tags = ['Noun', 'Verb', 'Adjective']\n",
    "    result = []\n",
    "    for word, tag in okt.pos(text, norm=True, stem=True):\n",
    "        if tag in target_tags:\n",
    "            result.append(word)\n",
    "    return result\n",
    "\n",
    "tfidf = TfidfVectorizer(tokenizer=twit_tokenizer, max_features=2000, min_df=5, max_df=0.5) #명사, 동사, 형용사를 이용하여 tfidf 생성\n",
    "X_train_tfidf = tfidf.fit_transform(X_train)\n",
    "X_test_tfidf = tfidf.transform(X_test)\n",
    "\n",
    "clf = LogisticRegression(max_iter=1000)\n",
    "clf.fit(X_train_tfidf, y_train)\n",
    "print('#Train set score: {:.3f}'.format(clf.score(X_train_tfidf, y_train))) # train data 예측정확도\n",
    "print('#Test set score: {:.3f}'.format(clf.score(X_test_tfidf, y_test))) # test data 예측정확도"
   ]
  },
  {
   "cell_type": "code",
   "execution_count": 21,
   "id": "1935ec6d",
   "metadata": {},
   "outputs": [
    {
     "name": "stdout",
     "output_type": "stream",
     "text": [
      "['서울/Noun', '성동구/Noun', '(/Punctuation', '구/Modifier', '청장/Noun', '정원/Noun', '오/Noun', ')/Punctuation', '늘다/Verb', '여름/Noun', '휴가/Noun', '철/Noun', '물놀이/Noun', '안전/Noun', '사고/Noun', '를/Josa', '예방/Noun', '하다/Verb', '6월/Number', '부터/Foreign', '생존/Noun', '수영/Noun', '안전/Noun', '체험/Noun', '을/Josa', '연다/Noun', '고/Josa', '28일/Number', '밝히다/Verb', './Punctuation', '생존/Noun', '수영/Noun', '수업/Noun', '은/Josa', '8/Number', '세/Noun', '이상/Noun', '초등학생/Noun', '과/Josa', '학부모/Noun', '가/Josa', '참여/Noun', '하다/Verb', '수/Noun', '있다/Adjective', './Punctuation', '다음/Noun', '달/Noun', '부터/Josa', '8월/Number', '까지/Foreign', '매주/Adverb', '토요일/Noun', '마다/Josa', '총/Noun', '10회/Number', '진행/Noun', '되다/Verb', './Punctuation', '구/Noun', '관계자/Noun', '는/Josa', '“/Foreign', '어린이/Noun', '발달/Noun', '특성/Noun', '을/Josa', '고려/Noun', '하다/Verb', '물/Noun', '에/Josa', '대한/Noun', '두려움/Noun', '을/Josa', '극복/Noun', '하고/Josa', '가족/Noun', '간/Suffix', '유/Noun', '대감/Noun', '을/Josa', '증진/Noun', '하다/Verb', '수/Noun', '있다/Adjective', '../Punctuation']\n"
     ]
    }
   ],
   "source": [
    "# 모든 형태소를 다 사용하고 품사를 알 수 있도록 하면?\n",
    "def twit_tokenizer2(text):\n",
    "    result = []\n",
    "    for word, tag in okt.pos(text, norm=True, stem=True):\n",
    "        result.append('/'.join([word, tag])) #단어의 품사를 구분할 수 있도록 함\n",
    "    return result\n",
    "\n",
    "print(twit_tokenizer2(X_train[1]))"
   ]
  },
  {
   "cell_type": "code",
   "execution_count": 22,
   "id": "4f53d5b5",
   "metadata": {},
   "outputs": [
    {
     "name": "stdout",
     "output_type": "stream",
     "text": [
      "#Train set score: 0.825\n",
      "#Test set score: 0.750\n"
     ]
    }
   ],
   "source": [
    "tfidf = TfidfVectorizer(tokenizer=twit_tokenizer2, max_features=2000, min_df=5, max_df=0.5)\n",
    "X_train_tfidf = tfidf.fit_transform(X_train)\n",
    "X_test_tfidf = tfidf.transform(X_test)\n",
    "\n",
    "clf = LogisticRegression(max_iter=1000)\n",
    "clf.fit(X_train_tfidf, y_train)\n",
    "print('#Train set score: {:.3f}'.format(clf.score(X_train_tfidf, y_train))) # train data 예측정확도\n",
    "print('#Test set score: {:.3f}'.format(clf.score(X_test_tfidf, y_test))) # test data 예측정확도"
   ]
  },
  {
   "cell_type": "markdown",
   "id": "1f033275",
   "metadata": {},
   "source": [
    "### 3.1.2 결과 해석\n",
    "- 모든 형태소를 사용하여 분석을 진행하였을 때, test 데이터에 대한 예측정확도는 0.760 -> 명사만 사용했을때에 비해 못미침\n",
    "- 명사, 동사, 형용사만을 사용하여 분석을 진행하였을 때, test 데이터에 대한 예측정확도는 0.755 -> 명사만 사용했을때에 비해 못미침\n",
    "- 품사태깅을 사용하여 분석을 진행하였을 때, test 데이터에 대한 예측정확도는 0.750 -> 명사만 사용했을때에 비해 못미침\n",
    "- 따라서 해당 데이터에 대해서는 명사로만 형태소를 분리하는 것이 가장 좋은 성능을 보임"
   ]
  },
  {
   "cell_type": "code",
   "execution_count": 23,
   "id": "8813d93e",
   "metadata": {},
   "outputs": [
    {
     "name": "stdout",
     "output_type": "stream",
     "text": [
      "#Train set score: 0.831\n",
      "#Test set score: 0.762\n"
     ]
    }
   ],
   "source": [
    "from sklearn.feature_extraction.text import TfidfVectorizer\n",
    "from sklearn.linear_model import LogisticRegression\n",
    "\n",
    "#Twitter 형태소분석기에서 명사만 추출하는 함수를 tokenizer로 이용\n",
    "tfidf = TfidfVectorizer(tokenizer=okt.nouns, max_features=2000, min_df=5, max_df=0.5) \n",
    "\n",
    "X_train_tfidf = tfidf.fit_transform(X_train) # train data 변환 -> tfidf vector\n",
    "X_test_tfidf = tfidf.transform(X_test) # test data 변환 -> tfidf vector\n",
    "\n",
    "# logistic regression 분류기 선언\n",
    "clf = LogisticRegression(max_iter=1000)\n",
    "clf.fit(X_train_tfidf, y_train)\n",
    "print('#Train set score: {:.3f}'.format(clf.score(X_train_tfidf, y_train))) # train data 예측정확도\n",
    "print('#Test set score: {:.3f}'.format(clf.score(X_test_tfidf, y_test))) # test data 예측정확도"
   ]
  },
  {
   "cell_type": "code",
   "execution_count": 24,
   "id": "da4d29bf",
   "metadata": {},
   "outputs": [
    {
     "name": "stdout",
     "output_type": "stream",
     "text": [
      "#Max alpha 4.200 at max validation score 0.770\n"
     ]
    }
   ],
   "source": [
    "# 릿지 회귀 모델을 사용하기 위해 alpha값 최적화 작업\n",
    "\n",
    "import numpy as np\n",
    "from sklearn.model_selection import train_test_split\n",
    "from sklearn.linear_model import RidgeClassifier\n",
    "\n",
    "X_train_ridge, X_val_ridge, y_train_ridge, y_val_ridge = train_test_split(\n",
    "    X_train_tfidf, y_train, test_size=0.2, random_state=42)\n",
    "\n",
    "max_score = 0\n",
    "max_alpha = 0\n",
    "for alpha in np.arange(0.1, 10, 0.1): # alpha를 0.1부터 10까지 0.1씩 증가\n",
    "    ridge_clf = RidgeClassifier(alpha=alpha) #릿지 분류기 선언\n",
    "    ridge_clf.fit(X_train_ridge, y_train_ridge)\n",
    "    score = ridge_clf.score(X_val_ridge, y_val_ridge) #검정 데이터셋에 대해 정확도를 측정\n",
    "    if score > max_score: #정확도가 이전의 정확도 최대값보다 크면 최대값을 변경\n",
    "        max_score = score\n",
    "        max_alpha = alpha\n",
    "print('#Max alpha {:.3f} at max validation score {:.3f}'.format(max_alpha, max_score))"
   ]
  },
  {
   "cell_type": "code",
   "execution_count": 25,
   "id": "0dade60b",
   "metadata": {},
   "outputs": [
    {
     "name": "stdout",
     "output_type": "stream",
     "text": [
      "#Ridge Train set score: 0.814\n",
      "#Ridge Test set score: 0.759\n",
      "#Lasso Train set score: 0.770\n",
      "#Lasso Test set score: 0.735\n",
      "#Used features count: 967 out of 2000\n"
     ]
    }
   ],
   "source": [
    "from sklearn.linear_model import RidgeClassifier\n",
    "\n",
    "ridge_clf = RidgeClassifier(alpha=4.2)\n",
    "ridge_clf.fit(X_train_tfidf, y_train)\n",
    "print('#Ridge Train set score: {:.3f}'.format(ridge_clf.score(X_train_tfidf, y_train)))\n",
    "print('#Ridge Test set score: {:.3f}'.format(ridge_clf.score(X_test_tfidf, y_test)))\n",
    "\n",
    "from sklearn.linear_model import LogisticRegression\n",
    "import numpy as np\n",
    "lasso_clf = LogisticRegression(penalty='l1', solver='liblinear', C=0.5)\n",
    "lasso_clf.fit(X_train_tfidf, y_train)\n",
    "print('#Lasso Train set score: {:.3f}'.format(lasso_clf.score(X_train_tfidf, y_train)))\n",
    "print('#Lasso Test set score: {:.3f}'.format(lasso_clf.score(X_test_tfidf, y_test)))\n",
    "print('#Used features count: {}'.format(np.sum(lasso_clf.coef_ != 0)), 'out of', X_train_tfidf.shape[1])"
   ]
  },
  {
   "cell_type": "code",
   "execution_count": 26,
   "id": "5074da8d",
   "metadata": {},
   "outputs": [
    {
     "name": "stdout",
     "output_type": "stream",
     "text": [
      "#Max alpha 0.200 at max validation score 0.746\n"
     ]
    }
   ],
   "source": [
    "from sklearn.naive_bayes import MultinomialNB\n",
    "\n",
    "X_train_ridge, X_val_ridge, y_train_ridge, y_val_ridge = train_test_split(\n",
    "    X_train_tfidf, y_train, test_size=0.2, random_state=42)\n",
    "\n",
    "max_score = 0\n",
    "max_alpha = 0\n",
    "for alpha in np.arange(0.1, 10, 0.1): # alpha를 0.1부터 10까지 0.1씩 증가\n",
    "    nb_clf = MultinomialNB(alpha=alpha) #나이브 베이지안 분류기 선언\n",
    "    nb_clf.fit(X_train_ridge, y_train_ridge)\n",
    "    score = nb_clf.score(X_val_ridge, y_val_ridge) #검정 데이터셋에 대해 정확도를 측정\n",
    "    if score > max_score: #정확도가 이전의 정확도 최대값보다 크면 최대값을 변경\n",
    "        max_score = score\n",
    "        max_alpha = alpha\n",
    "print('#Max alpha {:.3f} at max validation score {:.3f}'.format(max_alpha, max_score))"
   ]
  },
  {
   "cell_type": "code",
   "execution_count": 27,
   "id": "d0a54e7d",
   "metadata": {},
   "outputs": [
    {
     "name": "stdout",
     "output_type": "stream",
     "text": [
      "Train set score: 0.777\n",
      "Test set score: 0.743\n"
     ]
    }
   ],
   "source": [
    "NB_clf = MultinomialNB(alpha=0.2)\n",
    "NB_clf.fit(X_train_tfidf, y_train)\n",
    "print('Train set score: {:.3f}'.format(NB_clf.score(X_train_tfidf, y_train)))\n",
    "print('Test set score: {:.3f}'.format(NB_clf.score(X_test_tfidf, y_test)))"
   ]
  },
  {
   "cell_type": "markdown",
   "id": "1294cd8a",
   "metadata": {},
   "source": [
    "### 3.1.3 결과 해석\n",
    "- 릿지를 사용하기 위해 알파값을 최적화한 후 분류기를 실행한 결과 Test 데이터에 대한 예측정확도가 0.759 -> 로지스틱 회귀에 비해 못미침\n",
    "- 라쏘를 사용한 결과 Test 데이터에 대한 예측정확도가 0.735(단, 2000개중 967개의 feature만을 사용) -> 로지스틱 회귀에 비해 못미침\n",
    "- 나이브 베이지안을 사용하기 위해 알파값을 최적화한 후 분류기를 실행한 결과 Test 데이터에 대한 예측정확도가 0.743 -> 로지스틱 회귀에 비해 못미침\n",
    "- 따라서 해당 데이터셋에 대해서는 명사만을 형태소로 분리하고 로지스틱 회귀를 시행했을 때 Test 데이터에 대한 정확도가 0.762로 가장 높은 것을 확인할 수 있음"
   ]
  },
  {
   "cell_type": "markdown",
   "id": "fe76e6d0",
   "metadata": {},
   "source": [
    "### 3.2 차원 축소를 통한 분류 성능 개선(PCA)\n",
    "\n",
    "- 앞선 결과에 의하면 명사만을 형태소로 분류한 후 로지스틱 회귀를 시행했을 때 가장 높은 정확도가 출력 -> 더 높은 성능을 위해 차원축소를 사용하여 분류 성능을 확인해보고자 함\n",
    "- 가장 먼저 PCA를 통해 차원축소 시행"
   ]
  },
  {
   "cell_type": "code",
   "execution_count": 28,
   "id": "008726f0",
   "metadata": {},
   "outputs": [],
   "source": [
    "#Twitter 형태소분석기에서 명사만 추출하는 함수를 tokenizer로 이용\n",
    "tfidf = TfidfVectorizer(tokenizer=okt.nouns) \n",
    "\n",
    "X_train_tfidf = tfidf.fit_transform(X_train) # train data 변환 -> tfidf vector\n",
    "X_test_tfidf = tfidf.transform(X_test) # test data 변환 -> tfidf vector"
   ]
  },
  {
   "cell_type": "code",
   "execution_count": 29,
   "id": "200c682b",
   "metadata": {},
   "outputs": [
    {
     "data": {
      "text/plain": [
       "(10215, 24849)"
      ]
     },
     "execution_count": 29,
     "metadata": {},
     "output_type": "execute_result"
    }
   ],
   "source": [
    "X_train_tfidf.shape"
   ]
  },
  {
   "cell_type": "code",
   "execution_count": 30,
   "id": "0d533e3f",
   "metadata": {},
   "outputs": [
    {
     "name": "stdout",
     "output_type": "stream",
     "text": [
      "#Train set score: 0.869\n",
      "#Test set score: 0.771\n"
     ]
    },
    {
     "name": "stderr",
     "output_type": "stream",
     "text": [
      "C:\\ProgramData\\Anaconda3\\lib\\site-packages\\sklearn\\linear_model\\_logistic.py:814: ConvergenceWarning: lbfgs failed to converge (status=1):\n",
      "STOP: TOTAL NO. of ITERATIONS REACHED LIMIT.\n",
      "\n",
      "Increase the number of iterations (max_iter) or scale the data as shown in:\n",
      "    https://scikit-learn.org/stable/modules/preprocessing.html\n",
      "Please also refer to the documentation for alternative solver options:\n",
      "    https://scikit-learn.org/stable/modules/linear_model.html#logistic-regression\n",
      "  n_iter_i = _check_optimize_result(\n"
     ]
    }
   ],
   "source": [
    "from sklearn.linear_model import LogisticRegression \n",
    "\n",
    "# 위에서 로지스틱 회귀가 가장 좋은 결과를 나타냈으므로\n",
    "LR_clf = LogisticRegression()\n",
    "LR_clf.fit(X_train_tfidf, y_train)\n",
    "print('#Train set score: {:.3f}'.format(LR_clf.score(X_train_tfidf, y_train)))\n",
    "print('#Test set score: {:.3f}'.format(LR_clf.score(X_test_tfidf, y_test))) "
   ]
  },
  {
   "cell_type": "code",
   "execution_count": 31,
   "id": "dad105d0",
   "metadata": {},
   "outputs": [
    {
     "name": "stdout",
     "output_type": "stream",
     "text": [
      "Original tfidf matrix shape: (10215, 24849)\n",
      "PCA Converted matrix shape: (10215, 3000)\n",
      "Sum of explained variance ratio: 0.801\n"
     ]
    }
   ],
   "source": [
    "from sklearn.decomposition import PCA\n",
    "\n",
    "pca = PCA(n_components=3000, random_state=7) # 차원을 3000으로 축소(24849개의 변수가 있는 방정식들이 총 3000개)\n",
    "X_train_pca = pca.fit_transform(X_train_tfidf.toarray())\n",
    "X_test_pca = pca.transform(X_test_tfidf.toarray())\n",
    "\n",
    "print('Original tfidf matrix shape:', X_train_tfidf.shape)\n",
    "print('PCA Converted matrix shape:', X_train_pca.shape)\n",
    "print('Sum of explained variance ratio: {:.3f}'.format(pca.explained_variance_ratio_.sum()))"
   ]
  },
  {
   "cell_type": "code",
   "execution_count": 32,
   "id": "d24a8ae5",
   "metadata": {},
   "outputs": [
    {
     "name": "stdout",
     "output_type": "stream",
     "text": [
      "#Train set score: 0.839\n",
      "#Test set score: 0.770\n"
     ]
    },
    {
     "name": "stderr",
     "output_type": "stream",
     "text": [
      "C:\\ProgramData\\Anaconda3\\lib\\site-packages\\sklearn\\linear_model\\_logistic.py:814: ConvergenceWarning: lbfgs failed to converge (status=1):\n",
      "STOP: TOTAL NO. of ITERATIONS REACHED LIMIT.\n",
      "\n",
      "Increase the number of iterations (max_iter) or scale the data as shown in:\n",
      "    https://scikit-learn.org/stable/modules/preprocessing.html\n",
      "Please also refer to the documentation for alternative solver options:\n",
      "    https://scikit-learn.org/stable/modules/linear_model.html#logistic-regression\n",
      "  n_iter_i = _check_optimize_result(\n"
     ]
    }
   ],
   "source": [
    "LR_clf.fit(X_train_pca, y_train)\n",
    "print('#Train set score: {:.3f}'.format(LR_clf.score(X_train_pca, y_train)))\n",
    "print('#Test set score: {:.3f}'.format(LR_clf.score(X_test_pca, y_test)))"
   ]
  },
  {
   "cell_type": "markdown",
   "id": "56f6f2bc",
   "metadata": {},
   "source": [
    "### 3.2.1 PCA 결과 해석\n",
    "\n",
    "- 앞서 로지스틱 회귀를 적용했을 때는 tfidf로 max_features를 2000개만을 선택하여 진행\n",
    "- max_features로 특성 수를 제한하지 않고 모든 특성을 다 사용한뒤 PCA를 사용하여 3000개로 축소\n",
    "- 3000개만을 사용하였을 때 전체 대비 80% 설명률을 보임 -> 충분하다고 판단\n",
    "- 명사 토큰화 + 로지스틱 회귀에서 test 데이터에 대한 0.762 성능보다 PCA를 사용한 결과 0.770으로 더 좋은 성능을 보임"
   ]
  },
  {
   "cell_type": "markdown",
   "id": "19002618",
   "metadata": {},
   "source": [
    "### 3.3 차원 축소를 통한 분류 성능 개선(LSA)\n",
    "\n",
    "- 차원축소로 PCA가 아닌 LSA를 사용해서도 결과를 확인해보고자 함"
   ]
  },
  {
   "cell_type": "code",
   "execution_count": 33,
   "id": "d58d7840",
   "metadata": {},
   "outputs": [
    {
     "name": "stdout",
     "output_type": "stream",
     "text": [
      "LSA Converted X shape: (10215, 3000)\n",
      "Sum of explained variance ratio: 0.802\n"
     ]
    },
    {
     "name": "stderr",
     "output_type": "stream",
     "text": [
      "C:\\ProgramData\\Anaconda3\\lib\\site-packages\\sklearn\\linear_model\\_logistic.py:814: ConvergenceWarning: lbfgs failed to converge (status=1):\n",
      "STOP: TOTAL NO. of ITERATIONS REACHED LIMIT.\n",
      "\n",
      "Increase the number of iterations (max_iter) or scale the data as shown in:\n",
      "    https://scikit-learn.org/stable/modules/preprocessing.html\n",
      "Please also refer to the documentation for alternative solver options:\n",
      "    https://scikit-learn.org/stable/modules/linear_model.html#logistic-regression\n",
      "  n_iter_i = _check_optimize_result(\n"
     ]
    },
    {
     "name": "stdout",
     "output_type": "stream",
     "text": [
      "#Train set score: 0.840\n",
      "#Test set score: 0.771\n"
     ]
    }
   ],
   "source": [
    "from sklearn.decomposition import TruncatedSVD\n",
    "svd = TruncatedSVD(n_components=3000, random_state=7) #압축할 component의 수 지정\n",
    "X_train_lsa = svd.fit_transform(X_train_tfidf)\n",
    "X_test_lsa = svd.transform(X_test_tfidf)\n",
    "\n",
    "print('LSA Converted X shape:', X_train_lsa.shape)\n",
    "print('Sum of explained variance ratio: {:.3f}'.format(svd.explained_variance_ratio_.sum()))\n",
    "\n",
    "LR_clf.fit(X_train_lsa, y_train)\n",
    "print('#Train set score: {:.3f}'.format(LR_clf.score(X_train_lsa, y_train)))\n",
    "print('#Test set score: {:.3f}'.format(LR_clf.score(X_test_lsa, y_test)))"
   ]
  },
  {
   "cell_type": "markdown",
   "id": "115b7beb",
   "metadata": {},
   "source": [
    "### 3.3.1 LSA 결과 해석\n",
    "\n",
    "- 앞서 로지스틱 회귀를 적용했을 때는 tfidf로 max_features를 2000개만을 선택하여 진행\n",
    "- max_features로 특성 수를 제한하지 않고 모든 특성을 다 사용한뒤 LSA를 사용하여 3000개로 축소\n",
    "- 3000개만을 사용하였을 때 전체 대비 80% 설명률을 보임 -> PCA와 동일한 설명력을 나타냈으며 충분하다고 판단\n",
    "- 명사 토큰화 + 로지스틱 회귀에서 test 데이터에 대한 0.762 성능보다 LSA를 사용한 결과 0.771으로 조금 더 좋은 성능을 보임\n",
    "- 따라서 LSA를 사용한 차원축소로 문서를 분류하는 것이 가장 좋은 성능을 나타냄"
   ]
  },
  {
   "cell_type": "markdown",
   "id": "b3693bb6",
   "metadata": {},
   "source": [
    "## 4. 토픽 모델링\n",
    "\n",
    "- 토픽 모델링을 사용하여 기사 별 내재된 토픽 -> 주제를 파악\n",
    "- 동아일보의 언론사를 그대로 다뤘으며, 좀 더 다양한 시사들을 포함시키기 위해 경제, 정치, 문화, 사회에 대한 기사들 또한 포함\n",
    "- 23.2.28 ~ 23.5.28 최근 3개월간의 기사들을 데이터로 선정"
   ]
  },
  {
   "cell_type": "markdown",
   "id": "aa0a81fb",
   "metadata": {},
   "source": [
    "### 4.1 사이킷런을 이용한 토픽 모델링"
   ]
  },
  {
   "cell_type": "code",
   "execution_count": 34,
   "id": "ac6b9bec",
   "metadata": {},
   "outputs": [
    {
     "data": {
      "text/html": [
       "<div>\n",
       "<style scoped>\n",
       "    .dataframe tbody tr th:only-of-type {\n",
       "        vertical-align: middle;\n",
       "    }\n",
       "\n",
       "    .dataframe tbody tr th {\n",
       "        vertical-align: top;\n",
       "    }\n",
       "\n",
       "    .dataframe thead th {\n",
       "        text-align: right;\n",
       "    }\n",
       "</style>\n",
       "<table border=\"1\" class=\"dataframe\">\n",
       "  <thead>\n",
       "    <tr style=\"text-align: right;\">\n",
       "      <th></th>\n",
       "      <th>뉴스 식별자</th>\n",
       "      <th>일자</th>\n",
       "      <th>언론사</th>\n",
       "      <th>기고자</th>\n",
       "      <th>제목</th>\n",
       "      <th>통합 분류1</th>\n",
       "      <th>통합 분류2</th>\n",
       "      <th>통합 분류3</th>\n",
       "      <th>사건/사고 분류1</th>\n",
       "      <th>사건/사고 분류2</th>\n",
       "      <th>사건/사고 분류3</th>\n",
       "      <th>인물</th>\n",
       "      <th>위치</th>\n",
       "      <th>기관</th>\n",
       "      <th>키워드</th>\n",
       "      <th>특성추출(가중치순 상위 50개)</th>\n",
       "      <th>본문</th>\n",
       "      <th>URL</th>\n",
       "      <th>분석제외 여부</th>\n",
       "    </tr>\n",
       "  </thead>\n",
       "  <tbody>\n",
       "    <tr>\n",
       "      <th>0</th>\n",
       "      <td>1.100401e+06</td>\n",
       "      <td>20230528</td>\n",
       "      <td>동아일보</td>\n",
       "      <td>김예슬</td>\n",
       "      <td>尹대통령 부부, 새롬이와 ‘동물농장’ 출연 “사지 마시고 입양하세요”</td>\n",
       "      <td>정치&gt;청와대</td>\n",
       "      <td>정치&gt;외교</td>\n",
       "      <td>NaN</td>\n",
       "      <td>NaN</td>\n",
       "      <td>NaN</td>\n",
       "      <td>NaN</td>\n",
       "      <td>김,마리,이유라,윤석열,김건희</td>\n",
       "      <td>尹,래브라도,한남동,대통령 관저</td>\n",
       "      <td>SBS,용인,새롬</td>\n",
       "      <td>대통령,부부,새롬이,동물농장,출연,입양,윤석열,대통령,김건희,여사,방송,출연,은퇴,...</td>\n",
       "      <td>새롬이,안내견,김한숙,유기견,동물농장,반려견,김건희,윤석열,토리,한남동,아이들,장애...</td>\n",
       "      <td>윤석열 대통령과 김건희 여사가 방송에 출연해 은퇴한 시각장애인 안내견 ‘새롬이’와 ...</td>\n",
       "      <td>https://www.donga.com/news/Politics/article/al...</td>\n",
       "      <td>NaN</td>\n",
       "    </tr>\n",
       "    <tr>\n",
       "      <th>1</th>\n",
       "      <td>1.100401e+06</td>\n",
       "      <td>20230528</td>\n",
       "      <td>동아일보</td>\n",
       "      <td>이소정</td>\n",
       "      <td>“물놀이 사고 예방해요” 성동구 생존 수영 체험</td>\n",
       "      <td>사회&gt;교육_시험</td>\n",
       "      <td>문화&gt;문화일반</td>\n",
       "      <td>NaN</td>\n",
       "      <td>NaN</td>\n",
       "      <td>NaN</td>\n",
       "      <td>NaN</td>\n",
       "      <td>정</td>\n",
       "      <td>서울,마장국민체육센터,성동생명안전배,성동구(구청장,성동구</td>\n",
       "      <td>NaN</td>\n",
       "      <td>예방,물놀이,사고,성동구,생존,수영,체험,서울,성동구,구청장,정원오,물놀,여름,휴가...</td>\n",
       "      <td>생존수영,성동구,구청장,물놀,안전사고,물놀이,유대감,8세,휴가철,안전배,성동,움터,...</td>\n",
       "      <td>서울 성동구(구청장 정원오)는 여름 휴가철 물놀이 안전사고를 예방하고자 6월부터 생...</td>\n",
       "      <td>https://www.donga.com/news/Society/article/all...</td>\n",
       "      <td>NaN</td>\n",
       "    </tr>\n",
       "    <tr>\n",
       "      <th>2</th>\n",
       "      <td>1.100401e+06</td>\n",
       "      <td>20230528</td>\n",
       "      <td>동아일보</td>\n",
       "      <td>김예슬</td>\n",
       "      <td>앱으로 처음 만난 20대 女살해 후 시신 유기한 여성 긴급체포</td>\n",
       "      <td>사회&gt;여성</td>\n",
       "      <td>사회&gt;사건_사고</td>\n",
       "      <td>국제&gt;아시아</td>\n",
       "      <td>범죄&gt;범죄일반&gt;살인</td>\n",
       "      <td>NaN</td>\n",
       "      <td>NaN</td>\n",
       "      <td>NaN</td>\n",
       "      <td>부산,금정구</td>\n",
       "      <td>경찰,금정경찰서</td>\n",
       "      <td>20대,살해,시신,유기,여성,긴급,체포,온라인,여성,살해,여행,가방,시신,유기,여성...</td>\n",
       "      <td>20대,부산,온라인,긴급체포,금정경찰서,말다툼,신분증,주거지,금정구,여성,경찰,시신...</td>\n",
       "      <td>온라인 앱을 통해 처음 만난 여성을 살해한 뒤 여행용 가방에 시신을 넣어 유기한 2...</td>\n",
       "      <td>https://www.donga.com/news/Society/article/all...</td>\n",
       "      <td>NaN</td>\n",
       "    </tr>\n",
       "    <tr>\n",
       "      <th>3</th>\n",
       "      <td>1.100401e+06</td>\n",
       "      <td>20230528</td>\n",
       "      <td>동아일보</td>\n",
       "      <td>윤상호 군사전문</td>\n",
       "      <td>[단독]美코브라볼 27 28일 연속 서해상 출격 우리軍 ‘피스아이’도 투입</td>\n",
       "      <td>정치&gt;북한</td>\n",
       "      <td>NaN</td>\n",
       "      <td>NaN</td>\n",
       "      <td>NaN</td>\n",
       "      <td>NaN</td>\n",
       "      <td>NaN</td>\n",
       "      <td>NaN</td>\n",
       "      <td>고강,서해,충북,미국,평북,일본,히로시마,서해상,북한,美,동창리,철산군,오키나와,충...</td>\n",
       "      <td>서해위성발사장,미국,우리,서해상,코브라볼,피스아이,북한,공군,38노스</td>\n",
       "      <td>코브라볼,27,피스,투입,미국,공군,코브라볼,RC-,135S,정찰기,27일,서해,확...</td>\n",
       "      <td>코브라볼,서해,서해상,발사대,동창리,정찰기,충북,발사장,히로시마,피스아이,38노스,...</td>\n",
       "      <td>미국 공군의 코브라볼(RC-135S 사진) 정찰기가 27일과 28일 서해상으로 잇달...</td>\n",
       "      <td>https://www.donga.com/news/Politics/article/al...</td>\n",
       "      <td>NaN</td>\n",
       "    </tr>\n",
       "    <tr>\n",
       "      <th>4</th>\n",
       "      <td>1.100401e+06</td>\n",
       "      <td>20230528</td>\n",
       "      <td>동아일보</td>\n",
       "      <td>김예슬</td>\n",
       "      <td>교실서 폭력 애니 틀고 감상문 쓰게 한 초등교사 벌금형 선고</td>\n",
       "      <td>사회&gt;교육_시험</td>\n",
       "      <td>사회&gt;사건_사고</td>\n",
       "      <td>사회&gt;여성</td>\n",
       "      <td>범죄&gt;범죄일반&gt;폭행</td>\n",
       "      <td>사회&gt;사회문제&gt;학대</td>\n",
       "      <td>NaN</td>\n",
       "      <td>이해도,A 씨,송종선</td>\n",
       "      <td>일본</td>\n",
       "      <td>춘천지법,재판부,형사1단독</td>\n",
       "      <td>교실,폭력,감상문,초등교사,벌금형,선고,초등학생들,선정적,폭력성,일본,애니메이션,감...</td>\n",
       "      <td>감상문,송종선,춘천지법,재판부,일본,종사들,학생들,압박감,화장실,200회,판시,아동...</td>\n",
       "      <td>초등학생들에게 선정적이고 폭력성이 강한 일본 애니메이션을 틀어준 뒤 감상문을 쓰게 ...</td>\n",
       "      <td>https://www.donga.com/news/Society/article/all...</td>\n",
       "      <td>NaN</td>\n",
       "    </tr>\n",
       "  </tbody>\n",
       "</table>\n",
       "</div>"
      ],
      "text/plain": [
       "         뉴스 식별자        일자   언론사       기고자  \\\n",
       "0  1.100401e+06  20230528  동아일보       김예슬   \n",
       "1  1.100401e+06  20230528  동아일보       이소정   \n",
       "2  1.100401e+06  20230528  동아일보       김예슬   \n",
       "3  1.100401e+06  20230528  동아일보  윤상호 군사전문   \n",
       "4  1.100401e+06  20230528  동아일보       김예슬   \n",
       "\n",
       "                                          제목    통합 분류1     통합 분류2   통합 분류3  \\\n",
       "0     尹대통령 부부, 새롬이와 ‘동물농장’ 출연 “사지 마시고 입양하세요”    정치>청와대      정치>외교      NaN   \n",
       "1                 “물놀이 사고 예방해요” 성동구 생존 수영 체험  사회>교육_시험    문화>문화일반      NaN   \n",
       "2         앱으로 처음 만난 20대 女살해 후 시신 유기한 여성 긴급체포     사회>여성   사회>사건_사고   국제>아시아   \n",
       "3  [단독]美코브라볼 27 28일 연속 서해상 출격 우리軍 ‘피스아이’도 투입     정치>북한        NaN      NaN   \n",
       "4          교실서 폭력 애니 틀고 감상문 쓰게 한 초등교사 벌금형 선고  사회>교육_시험   사회>사건_사고    사회>여성   \n",
       "\n",
       "    사건/사고 분류1    사건/사고 분류2 사건/사고 분류3                인물  \\\n",
       "0         NaN          NaN       NaN  김,마리,이유라,윤석열,김건희   \n",
       "1         NaN          NaN       NaN                 정   \n",
       "2  범죄>범죄일반>살인          NaN       NaN               NaN   \n",
       "3         NaN          NaN       NaN               NaN   \n",
       "4  범죄>범죄일반>폭행   사회>사회문제>학대       NaN       이해도,A 씨,송종선   \n",
       "\n",
       "                                                  위치  \\\n",
       "0                                  尹,래브라도,한남동,대통령 관저   \n",
       "1                    서울,마장국민체육센터,성동생명안전배,성동구(구청장,성동구   \n",
       "2                                             부산,금정구   \n",
       "3  고강,서해,충북,미국,평북,일본,히로시마,서해상,북한,美,동창리,철산군,오키나와,충...   \n",
       "4                                                 일본   \n",
       "\n",
       "                                       기관  \\\n",
       "0                               SBS,용인,새롬   \n",
       "1                                     NaN   \n",
       "2                                경찰,금정경찰서   \n",
       "3  서해위성발사장,미국,우리,서해상,코브라볼,피스아이,북한,공군,38노스   \n",
       "4                          춘천지법,재판부,형사1단독   \n",
       "\n",
       "                                                 키워드  \\\n",
       "0  대통령,부부,새롬이,동물농장,출연,입양,윤석열,대통령,김건희,여사,방송,출연,은퇴,...   \n",
       "1  예방,물놀이,사고,성동구,생존,수영,체험,서울,성동구,구청장,정원오,물놀,여름,휴가...   \n",
       "2  20대,살해,시신,유기,여성,긴급,체포,온라인,여성,살해,여행,가방,시신,유기,여성...   \n",
       "3  코브라볼,27,피스,투입,미국,공군,코브라볼,RC-,135S,정찰기,27일,서해,확...   \n",
       "4  교실,폭력,감상문,초등교사,벌금형,선고,초등학생들,선정적,폭력성,일본,애니메이션,감...   \n",
       "\n",
       "                                   특성추출(가중치순 상위 50개)  \\\n",
       "0  새롬이,안내견,김한숙,유기견,동물농장,반려견,김건희,윤석열,토리,한남동,아이들,장애...   \n",
       "1  생존수영,성동구,구청장,물놀,안전사고,물놀이,유대감,8세,휴가철,안전배,성동,움터,...   \n",
       "2  20대,부산,온라인,긴급체포,금정경찰서,말다툼,신분증,주거지,금정구,여성,경찰,시신...   \n",
       "3  코브라볼,서해,서해상,발사대,동창리,정찰기,충북,발사장,히로시마,피스아이,38노스,...   \n",
       "4  감상문,송종선,춘천지법,재판부,일본,종사들,학생들,압박감,화장실,200회,판시,아동...   \n",
       "\n",
       "                                                  본문  \\\n",
       "0  윤석열 대통령과 김건희 여사가 방송에 출연해 은퇴한 시각장애인 안내견 ‘새롬이’와 ...   \n",
       "1  서울 성동구(구청장 정원오)는 여름 휴가철 물놀이 안전사고를 예방하고자 6월부터 생...   \n",
       "2  온라인 앱을 통해 처음 만난 여성을 살해한 뒤 여행용 가방에 시신을 넣어 유기한 2...   \n",
       "3  미국 공군의 코브라볼(RC-135S 사진) 정찰기가 27일과 28일 서해상으로 잇달...   \n",
       "4  초등학생들에게 선정적이고 폭력성이 강한 일본 애니메이션을 틀어준 뒤 감상문을 쓰게 ...   \n",
       "\n",
       "                                                 URL 분석제외 여부  \n",
       "0  https://www.donga.com/news/Politics/article/al...     NaN  \n",
       "1  https://www.donga.com/news/Society/article/all...     NaN  \n",
       "2  https://www.donga.com/news/Society/article/all...     NaN  \n",
       "3  https://www.donga.com/news/Politics/article/al...     NaN  \n",
       "4  https://www.donga.com/news/Society/article/all...     NaN  "
      ]
     },
     "execution_count": 34,
     "metadata": {},
     "output_type": "execute_result"
    }
   ],
   "source": [
    "import pandas as pd\n",
    "df = pd.read_csv(\"./NewsResult_20230228-20230528.csv\")\n",
    "df.head(5)"
   ]
  },
  {
   "cell_type": "code",
   "execution_count": 35,
   "id": "7b57474d",
   "metadata": {},
   "outputs": [
    {
     "data": {
      "text/plain": [
       "(13621, 19)"
      ]
     },
     "execution_count": 35,
     "metadata": {},
     "output_type": "execute_result"
    }
   ],
   "source": [
    "df.shape"
   ]
  },
  {
   "cell_type": "code",
   "execution_count": 36,
   "id": "d132074f",
   "metadata": {},
   "outputs": [],
   "source": [
    "from sklearn.feature_extraction.text import CountVectorizer\n",
    "\n",
    "cv = CountVectorizer(max_features=2000, min_df=5, max_df=0.5, tokenizer=my_tokenizer) # my_tokenizer로 위에서 사용했던 토큰화 지정\n",
    "content_cv = cv.fit_transform(df.본문)"
   ]
  },
  {
   "cell_type": "code",
   "execution_count": 37,
   "id": "bc64e868",
   "metadata": {},
   "outputs": [
    {
     "data": {
      "text/plain": [
       "(13621, 2000)"
      ]
     },
     "execution_count": 37,
     "metadata": {},
     "output_type": "execute_result"
    }
   ],
   "source": [
    "content_cv.shape # 빈도 높은 2000개의 단어만 사용"
   ]
  },
  {
   "cell_type": "markdown",
   "id": "2768aa4c",
   "metadata": {},
   "source": [
    "### 4.1.1 LDA 토픽 모델링 "
   ]
  },
  {
   "cell_type": "code",
   "execution_count": 38,
   "id": "071ae055",
   "metadata": {},
   "outputs": [
    {
     "name": "stdout",
     "output_type": "stream",
     "text": [
      "#shape of review_topics: (13621, 10)\n",
      "#Sample of review_topics: [0.047 0.042 0.049 0.042 0.083 0.047 0.054 0.33  0.265 0.042]\n",
      "#Sum of topic weights of documents: [0.116 0.087 0.093 0.098 0.096 0.106 0.102 0.095 0.101 0.106]\n",
      "#shape of topic word distribution: (10, 2000)\n"
     ]
    }
   ],
   "source": [
    "from sklearn.decomposition import LatentDirichletAllocation\n",
    "import numpy as np\n",
    "np.set_printoptions(precision=3) # 소수점 이하 셋째자리까지만 출력\n",
    "\n",
    "lda = LatentDirichletAllocation(n_components = 10, #추출할 topic의 수\n",
    "                                max_iter=5, \n",
    "                                topic_word_prior=0.1, doc_topic_prior=1.0,\n",
    "                                learning_method='online', \n",
    "                                n_jobs= -1, #사용 processor 수\n",
    "                                random_state=0)\n",
    "\n",
    "content_topics = lda.fit_transform(content_cv) # 문서의 토픽분포\n",
    "print('#shape of review_topics:', content_topics.shape)\n",
    "print('#Sample of review_topics:', content_topics[0]) # 첫번째 본문은 8번째 토픽이 제일 영향력이 큼\n",
    "\n",
    "gross_topic_weights = np.mean(content_topics, axis=0)\n",
    "print('#Sum of topic weights of documents:', gross_topic_weights)\n",
    "\n",
    "print('#shape of topic word distribution:', lda.components_.shape) # 토픽의 단어분포"
   ]
  },
  {
   "cell_type": "code",
   "execution_count": 39,
   "id": "1539f111",
   "metadata": {},
   "outputs": [
    {
     "name": "stdout",
     "output_type": "stream",
     "text": [
      "Topic #0: 혐의, 경찰, 여성, 남성, 인천, 서울, 오후, 위반, 재판, 오전\n",
      "Topic #1: 은행, 금융, 회장, 검찰, 수사, 대표, 투자, 관련, 의혹, 검사\n",
      "Topic #2: 판매, 그룹, 직원, 통해, 제품, 자동차, 국내, 브랜드, 세대, 서비스\n",
      "Topic #3: 한국, 결과, 중국, 전국, 이상, 최근, 교수, 부동산, 병원, 지난해\n",
      "Topic #4: 지원, 위해, 사회, 교육, 청년, 대상, 대학, 전세, 피해, 학생\n",
      "Topic #5: 대표, 민주당, 국민, 의원, 국회, 이재명, 위원회, 최고, 대해, 위원\n",
      "Topic #6: 서울, 행사, 기자, 진행, 세계, 문화, 센터, 이번, 개최, 오후\n",
      "Topic #7: 대통령, 정부, 일본, 윤석열, 대통령실, 방문, 한미, 미국, 한국, 대해\n",
      "Topic #8: 미국, 시간, 현지, 북한, 사진, 사람, 우리, 공개, 방송, 자신\n",
      "Topic #9: 기업, 지난해, 산업, 시장, 기술, 반도체, 올해, 사업, 글로벌, 국내\n",
      "\n"
     ]
    }
   ],
   "source": [
    "def print_top_words(model, feature_names, n_top_words):\n",
    "    for topic_idx, topic in enumerate(model.components_):\n",
    "        print(\"Topic #%d: \" % topic_idx, end='')\n",
    "        print(\", \".join([feature_names[i] for i in topic.argsort()[:-n_top_words - 1:-1]]))\n",
    "    print()\n",
    "\n",
    "print_top_words(lda,cv.get_feature_names_out(), 10)"
   ]
  },
  {
   "cell_type": "markdown",
   "id": "4e05815c",
   "metadata": {},
   "source": [
    "### 4.1.2 결과 해석\n",
    "- 위의 토픽 모델링 결과를 보면\n",
    "- Topic 0,3,4 : 혐의, 경찰, 한국, 사회 등등의 단어들을 보아 사회 부분에 해당하는 것으로 파악\n",
    "- Topic 1,2,9 : 은행, 금융, 시장 등등의 단어들을 보아 경제 부분에 해당하는 것으로 파악\n",
    "- Topic 5,7,8 : 국민, 의원, 대통령, 북한 등등의 단어들을 보아 정치 부분에 해당하는 것으로 파악\n",
    "- Topic 6 : 세계, 문화, 센터 등등의 단어들을 보아 문화 부분에 해당하는 것으로 파악\n",
    "- 다소 애매한 부분이 존재함 -> 좀 더 정확한 토픽 분류를 위해 최적의 토픽 수를 결정 "
   ]
  },
  {
   "cell_type": "code",
   "execution_count": 40,
   "id": "ad2dfa98",
   "metadata": {},
   "outputs": [
    {
     "name": "stdout",
     "output_type": "stream",
     "text": [
      "n_components: 4, perplexity: 1102.962\n",
      "n_components: 5, perplexity: 1072.186\n",
      "n_components: 6, perplexity: 1082.544\n",
      "n_components: 7, perplexity: 1119.785\n",
      "n_components: 8, perplexity: 1149.276\n",
      "n_components: 9, perplexity: 1207.407\n",
      "n_components: 10, perplexity: 1257.739\n"
     ]
    },
    {
     "data": {
      "image/png": "[encoded data removed]",
      "text/plain": [
       "<Figure size 640x480 with 1 Axes>"
      ]
     },
     "metadata": {},
     "output_type": "display_data"
    },
    {
     "name": "stdout",
     "output_type": "stream",
     "text": [
      "n_components with minimum perplexity: 5\n"
     ]
    }
   ],
   "source": [
    "import matplotlib.pyplot as plt\n",
    "%matplotlib inline\n",
    "\n",
    "def show_perplexity(cv, start=10, end=30, max_iter=5, topic_word_prior= 0.1, \n",
    "                    doc_topic_prior=1.0):\n",
    "    iter_num = []\n",
    "    per_value = []\n",
    "\n",
    "    for i in range(start, end + 1):\n",
    "        lda = LatentDirichletAllocation(n_components = i, max_iter=max_iter, \n",
    "                                        topic_word_prior= topic_word_prior, \n",
    "                                        doc_topic_prior=doc_topic_prior,\n",
    "                                        learning_method='batch', n_jobs= -1,\n",
    "                                        random_state=7)    \n",
    "        lda.fit(cv) # 몇개일때가 가장 좋은지만 알면 되므로 fit_transform 대신 fit\n",
    "        iter_num.append(i)\n",
    "        pv = lda.perplexity(cv)\n",
    "        per_value.append(pv)\n",
    "        print(f'n_components: {i}, perplexity: {pv:0.3f}')\n",
    "\n",
    "    plt.plot(iter_num, per_value, 'g-')\n",
    "    plt.show()\n",
    "    return start + per_value.index(min(per_value))\n",
    "\n",
    "print(\"n_components with minimum perplexity:\",\n",
    "      show_perplexity(content_cv, start=4, end=10))"
   ]
  },
  {
   "cell_type": "code",
   "execution_count": 41,
   "id": "40bc218c",
   "metadata": {},
   "outputs": [
    {
     "name": "stdout",
     "output_type": "stream",
     "text": [
      "Topic #0: 기업, 한국, 사업, 시장, 투자, 지난해, 은행, 올해, 국내, 산업\n",
      "Topic #1: 혐의, 서울, 경찰, 오후, 여성, 인천, 오전, 위반, 부장, 남성\n",
      "Topic #2: 대통령, 미국, 일본, 한국, 시간, 현지, 윤석열, 북한, 정부, 서울\n",
      "Topic #3: 서울, 지역, 최근, 위해, 결과, 전국, 진행, 사람, 사회, 한국\n",
      "Topic #4: 대표, 민주당, 의원, 국민, 관련, 대해, 위원회, 국회, 의혹, 대한\n",
      "\n"
     ]
    }
   ],
   "source": [
    "lda = LatentDirichletAllocation(n_components = 5, # 위의 결과에 따라 5개로 지정\n",
    "                                max_iter=20, \n",
    "                                topic_word_prior= 0.1, \n",
    "                                doc_topic_prior=1.0,\n",
    "                                learning_method='batch',\n",
    "                                n_jobs= -1, \n",
    "                                random_state=7)\n",
    "\n",
    "content_topics = lda.fit_transform(content_cv)\n",
    "\n",
    "print_top_words(lda, cv.get_feature_names_out(), 10)"
   ]
  },
  {
   "cell_type": "markdown",
   "id": "3806b06f",
   "metadata": {},
   "source": [
    "### 4.1.3 결과 해석\n",
    "- Topic 0 : 기업, 투자, 은행 등등의 단어들을 보아 경제 부분에 해당하는 것으로 파악\n",
    "- Topic 1 : 경찰, 혐의 등등의 단어들을 보아 사회 부분에 해당하는 것으로 파악\n",
    "- Topic 2,4 : 대통령, 민주당, 의원 등등의 단어들을 보아  정치 부분에 해당하는 것으로 파악\n",
    "- Topic 3 : 서울, 사회 등등의 단어들을 보아 문화 부분에 해당하는 것을 파악(다소 애매함)\n",
    "- 앞서 토픽의 수를 10개로 지정했을때보다 결과 해석부분이 더 잘된 것을 볼 수 있음\n",
    "- 전체 기사의 분류가 4개인데 최적의 토픽의 수가 5개로 지정됨으로써 정치 관련 기사는 2번과 4번에 두 개로 나오는 것으로 파악됨"
   ]
  },
  {
   "cell_type": "markdown",
   "id": "638fd6a2",
   "metadata": {},
   "source": [
    "### 4.2 Gensim을 이용한 토픽 모델링"
   ]
  },
  {
   "cell_type": "code",
   "execution_count": 42,
   "id": "44b2e4bf",
   "metadata": {},
   "outputs": [],
   "source": [
    "from nltk.corpus import stopwords\n",
    "from nltk.tokenize import RegexpTokenizer\n",
    "\n",
    "cachedStopWords = stopwords.words(\"english\")\n",
    "\n",
    "def tokenizer(text): \n",
    "    words = [token for token in twitter_tag.nouns(text) if len(token) >=2]\n",
    "    return words\n",
    "\n",
    "texts = [tokenizer(data) for data in df.본문]"
   ]
  },
  {
   "cell_type": "code",
   "execution_count": 43,
   "id": "b847a036",
   "metadata": {},
   "outputs": [
    {
     "name": "stdout",
     "output_type": "stream",
     "text": [
      "#Number of initial unique words in documents: 26891\n",
      "#Number of unique words after removing rare and common words: 2000\n",
      "#Number of unique tokens: 2000\n",
      "#Number of documents: 13621\n"
     ]
    }
   ],
   "source": [
    "from gensim.corpora.dictionary import Dictionary\n",
    "\n",
    "# 토큰화 결과로부터 dictionay 생성\n",
    "dictionary = Dictionary(texts)\n",
    "print('#Number of initial unique words in documents:', len(dictionary))\n",
    "\n",
    "# 문서 빈도수가 너무 적거나 높은 단어를 필터링하고 특성을 단어의 빈도 순으로 선택\n",
    "dictionary.filter_extremes(keep_n=2000, no_below=5, no_above=0.5)\n",
    "print('#Number of unique words after removing rare and common words:', len(dictionary))\n",
    "\n",
    "# 카운트 벡터로 변환\n",
    "corpus = [dictionary.doc2bow(text) for text in texts]\n",
    "print('#Number of unique tokens: %d' % len(dictionary))\n",
    "print('#Number of documents: %d' % len(corpus))"
   ]
  },
  {
   "cell_type": "code",
   "execution_count": 44,
   "id": "dfa713b1",
   "metadata": {},
   "outputs": [
    {
     "name": "stdout",
     "output_type": "stream",
     "text": [
      "Wall time: 14.2 s\n"
     ]
    }
   ],
   "source": [
    "from gensim.models import LdaModel\n",
    "\n",
    "num_topics = 10\n",
    "passes = 5\n",
    "%time model = LdaModel(corpus=corpus, id2word=dictionary,\\\n",
    "                       passes=passes, num_topics=num_topics, \\\n",
    "                       random_state=7)"
   ]
  },
  {
   "cell_type": "code",
   "execution_count": 45,
   "id": "c7a57bbd",
   "metadata": {},
   "outputs": [
    {
     "data": {
      "text/plain": [
       "[(0,\n",
       "  '0.065*\"대표\" + 0.058*\"민주당\" + 0.049*\"의원\" + 0.032*\"국민\" + 0.025*\"이재명\" + 0.023*\"북한\" + 0.014*\"국회\" + 0.009*\"대해\" + 0.009*\"훈련\" + 0.009*\"비판\"'),\n",
       " (1,\n",
       "  '0.015*\"판매\" + 0.013*\"서비스\" + 0.012*\"국내\" + 0.011*\"출시\" + 0.011*\"제품\" + 0.010*\"진행\" + 0.010*\"식품\" + 0.010*\"건강\" + 0.009*\"통해\" + 0.009*\"상품\"'),\n",
       " (2,\n",
       "  '0.068*\"대통령\" + 0.039*\"일본\" + 0.029*\"윤석열\" + 0.027*\"미국\" + 0.020*\"정부\" + 0.019*\"한국\" + 0.014*\"대통령실\" + 0.014*\"방문\" + 0.013*\"한일\" + 0.013*\"한미\"'),\n",
       " (3,\n",
       "  '0.028*\"정부\" + 0.022*\"위원회\" + 0.021*\"국민\" + 0.015*\"최고\" + 0.015*\"위원\" + 0.014*\"후보\" + 0.012*\"국회\" + 0.010*\"정책\" + 0.010*\"대책\" + 0.009*\"회의\"'),\n",
       " (4,\n",
       "  '0.022*\"미국\" + 0.021*\"지난해\" + 0.019*\"은행\" + 0.017*\"시간\" + 0.014*\"부동산\" + 0.013*\"현지\" + 0.012*\"주택\" + 0.011*\"가장\" + 0.010*\"결과\" + 0.010*\"최근\"'),\n",
       " (5,\n",
       "  '0.038*\"서울\" + 0.010*\"한국\" + 0.010*\"문화\" + 0.009*\"지역\" + 0.009*\"기자\" + 0.009*\"교수\" + 0.008*\"진행\" + 0.008*\"사진\" + 0.008*\"교육\" + 0.008*\"행사\"'),\n",
       " (6,\n",
       "  '0.046*\"혐의\" + 0.028*\"검찰\" + 0.022*\"수사\" + 0.021*\"부장\" + 0.019*\"재판\" + 0.018*\"위반\" + 0.017*\"기소\" + 0.016*\"대표\" + 0.016*\"판사\" + 0.014*\"형사\"'),\n",
       " (7,\n",
       "  '0.035*\"경찰\" + 0.023*\"서울\" + 0.021*\"여성\" + 0.018*\"인천\" + 0.017*\"오후\" + 0.015*\"남성\" + 0.013*\"혐의\" + 0.013*\"경찰서\" + 0.012*\"마약\" + 0.012*\"오전\"'),\n",
       " (8,\n",
       "  '0.034*\"회장\" + 0.030*\"금융\" + 0.020*\"그룹\" + 0.017*\"원장\" + 0.016*\"배상\" + 0.015*\"투자\" + 0.013*\"증권\" + 0.013*\"자산\" + 0.012*\"일월\" + 0.011*\"소송\"'),\n",
       " (9,\n",
       "  '0.021*\"한국\" + 0.021*\"기업\" + 0.016*\"사업\" + 0.014*\"산업\" + 0.013*\"반도체\" + 0.013*\"기술\" + 0.010*\"국내\" + 0.009*\"수출\" + 0.009*\"시장\" + 0.009*\"지원\"')]"
      ]
     },
     "execution_count": 45,
     "metadata": {},
     "output_type": "execute_result"
    }
   ],
   "source": [
    "model.print_topics(num_words=10) # 토픽의 상위 비중단어 출력"
   ]
  },
  {
   "cell_type": "code",
   "execution_count": 46,
   "id": "690ce30c",
   "metadata": {},
   "outputs": [
    {
     "data": {
      "text/html": [
       "\n",
       "<link rel=\"stylesheet\" type=\"text/css\" href=\"https://cdn.jsdelivr.net/gh/bmabey/pyLDAvis@3.4.0/pyLDAvis/js/ldavis.v1.0.0.css\">\n",
       "\n",
       "\n",
       "<div id=\"ldavis_el342425928878821288066093681\" style=\"background-color:white;\"></div>\n",
       "<script type=\"text/javascript\">\n",
       "\n",
       "var ldavis_el342425928878821288066093681_data = {\"mdsDat\": {\"x\": [-0.22999152700999984, -0.10674539106389354, 0.14886697560972334, -0.004679927324484189, -0.1447773201874823, 0.057998910108423576, 0.17961544728324383, 0.24598096990428042, -0.20596264674625672, 0.05969450942644474], \"y\": [0.006422985183115845, 0.06745603799560486, 0.2089422673011115, -0.25424074241669775, -0.027829911293901534, -0.19410551014607869, -0.15004832365785215, 0.1064447936875866, 0.11204412153358177, 0.12491428181352981], \"topics\": [1, 2, 3, 4, 5, 6, 7, 8, 9, 10], \"cluster\": [1, 1, 1, 1, 1, 1, 1, 1, 1, 1], \"Freq\": [15.02766098586486, 12.451838823383854, 10.60045202346251, 10.363124085851425, 10.143694146272074, 9.820104557300542, 9.359153999584153, 8.624393110153779, 8.426909482567268, 5.1826687855595335]}, \"tinfo\": {\"Term\": [\"\\ub300\\ud1b5\\ub839\", \"\\ubbfc\\uc8fc\\ub2f9\", \"\\ub300\\ud45c\", \"\\uc758\\uc6d0\", \"\\ud610\\uc758\", \"\\uc77c\\ubcf8\", \"\\uacbd\\ucc30\", \"\\ubbf8\\uad6d\", \"\\uc11c\\uc6b8\", \"\\uad6d\\ubbfc\", \"\\uc815\\ubd80\", \"\\uc724\\uc11d\\uc5f4\", \"\\uac80\\ucc30\", \"\\uc774\\uc7ac\\uba85\", \"\\ud68c\\uc7a5\", \"\\uae08\\uc735\", \"\\ubd81\\ud55c\", \"\\uae30\\uc5c5\", \"\\uc218\\uc0ac\", \"\\uc704\\uc6d0\\ud68c\", \"\\ubd80\\uc7a5\", \"\\uc5ec\\uc131\", \"\\ud55c\\uad6d\", \"\\uc2dc\\uac04\", \"\\uc778\\ucc9c\", \"\\uad6d\\ud68c\", \"\\uc7ac\\ud310\", \"\\uc740\\ud589\", \"\\uadf8\\ub8f9\", \"\\uc0ac\\uc5c5\", \"\\ubc18\\ub3c4\\uccb4\", \"\\uc218\\ucd9c\", \"\\uc804\\uae30\\ucc28\", \"\\ud611\\uc57d\", \"\\uacf5\\uc7a5\", \"\\ubc30\\ud130\\ub9ac\", \"\\uc131\\uc7a5\", \"\\ud604\\ub300\\ucc28\", \"\\uccb4\\uacb0\", \"\\ucca8\\ub2e8\", \"\\uc0bc\\uc131\", \"\\uc5d0\\ub108\\uc9c0\", \"\\ubb3c\\uac00\", \"\\ud0c0\\uc774\\uc5b4\", \"\\uc2e4\\uc801\", \"\\ud0c4\\uc18c\", \"\\uc804\\ubcf4\", \"\\uc77c\\uc790\\ub9ac\", \"\\uc194\\ub8e8\\uc158\", \"\\uc7a5\\ube44\", \"\\uac10\\ucd95\", \"\\uc778\\ud50c\\ub808\\uc774\\uc158\", \"\\ub9e4\\ucd9c\", \"\\ud488\\ubaa9\", \"\\ub300\\ud3ed\", \"\\ud6a8\\uc728\", \"\\uacbd\\uc7c1\\ub825\", \"\\ud328\\uc158\", \"\\ud56d\\uacf5\", \"\\ubd80\\ud488\", \"\\uc0b0\\uc5c5\", \"\\uae30\\uc220\", \"\\uc721\\uc131\", \"\\uad11\\uace0\", \"\\uc804\\uc790\", \"\\ubc84\\uc2a4\", \"\\uae30\\uc5c5\", \"\\ubd84\\uc57c\", \"\\uc0dd\\uc0b0\", \"\\uc0ac\\uc5c5\", \"\\uc790\\ub3d9\\ucc28\", \"\\uae00\\ub85c\\ubc8c\", \"\\uc2a4\\ud0c0\\ud2b8\\uc5c5\", \"\\ubc14\\uc774\\uc624\", \"\\ud601\\uc2e0\", \"\\uac1c\\ubc1c\", \"\\ud55c\\uad6d\", \"\\uc9c0\\uc6d0\", \"\\uc2dc\\uc7a5\", \"\\uad6d\\ub0b4\", \"\\ud22c\\uc790\", \"\\uc804\\ub7b5\", \"\\uc62c\\ud574\", \"\\uaddc\\ubaa8\", \"\\ud611\\ub825\", \"\\uc704\\ud574\", \"\\uc9c0\\ub09c\\ud574\", \"\\ubbf8\\uad6d\", \"\\uc138\\uacc4\", \"\\uadf8\\ub8f9\", \"\\uc911\\uad6d\", \"\\ubb38\\ud654\", \"\\ucd95\\uc81c\", \"\\uc791\\ud488\", \"\\uc791\\uac00\", \"\\uc601\\ud654\", \"\\uac10\\uc5fc\\uc99d\", \"\\uc804\\uc2dc\", \"\\ucf54\\ub85c\\ub098\\ubc14\\uc774\\ub7ec\\uc2a4\", \"\\uacf5\\uc5f0\", \"\\ubc9a\\uaf43\", \"\\ub9b0\\ub2e4\", \"\\uc608\\uc220\", \"\\ubc15\\ubb3c\\uad00\", \"\\uc804\\uc2dc\\ud68c\", \"\\uad00\\uad11\", \"\\uccb4\\ud5d8\", \"\\uba85\\uc608\", \"\\ucc38\\uac00\", \"\\uc2dc\\uc778\", \"\\ubb34\\ub300\", \"\\uc2e0\\uc81c\\ud488\", \"\\ub300\\ud559\\uc6d0\", \"\\uc544\\ub798\", \"\\uc74c\\uc545\", \"\\uad11\\uc7a5\", \"\\uccad\\uc7a5\", \"\\ub9c8\\uc744\", \"\\ub137\\ud50c\\ub9ad\\uc2a4\", \"\\ubc15\\ub78c\\ud68c\", \"\\uac15\\uc11c\\uad6c\", \"\\uc8fc\\uc81c\", \"\\uc9c0\\uad6c\", \"\\ucf54\\ub85c\\ub098\", \"\\uc11c\\uc6b8\\ub300\", \"\\uc2e0\\uc885\", \"\\uc911\\uad6c\", \"\\uad50\\uc721\", \"\\uad50\\uc218\", \"\\uc11c\\uc6b8\", \"\\uacf5\\uc6d0\", \"\\uae30\\uc790\", \"\\uac1c\\ucd5c\", \"\\uc9c0\\uc5ed\", \"\\ud589\\uc0ac\", \"\\ub300\\ud559\", \"\\uc13c\\ud130\", \"\\ubd80\\uc0b0\", \"\\uc11c\\uc6b8\\uc2dc\", \"\\ud504\\ub85c\\uadf8\\ub7a8\", \"\\ub2e8\\uc9c0\", \"\\uc138\\uacc4\", \"\\uc9c4\\ud589\", \"\\uc0ac\\uc9c4\", \"\\uae30\\ub150\", \"\\ud55c\\uad6d\", \"\\uc774\\ubc88\", \"\\uc2dc\\uc791\", \"\\uc704\\ud574\", \"\\uc62c\\ud574\", \"\\uad6d\\uc81c\", \"\\uc804\\uad6d\", \"\\uc0ac\\ud68c\", \"\\uacbd\\ucc30\\uc11c\", \"\\ubc1c\\uacac\", \"\\uc0ac\\uace0\", \"\\ud559\\uad50\\ud3ed\\ub825\", \"\\ub3c4\\ub85c\", \"\\uacbd\\ucc30\", \"\\ud22c\\uc57d\", \"\\uc6b4\\uc804\\uc790\", \"\\ubc94\\ud589\", \"\\ub9c8\\uc57d\", \"\\uc720\\uc544\\uc778\", \"\\uc2dd\\ub2f9\", \"\\ud559\\ud3ed\", \"\\uc6b4\\uc804\", \"\\uce74\\ud398\", \"\\uc74c\\uc8fc\\uc6b4\\uc804\", \"\\uc9c0\\ud558\\ucca0\", \"\\uc5bc\\uad74\", \"\\uc18c\\ubc29\", \"\\ucd9c\\ub3d9\", \"\\uc21c\\uc2e0\", \"\\ubbf8\\ucd94\\ud640\", \"\\uac74\\ucd95\", \"\\uac80\\uac70\", \"\\ud559\\uc6d0\", \"\\uac00\\ud574\\uc790\", \"\\uacbd\\ucc30\\uccad\", \"\\ud1a0\\uc9c0\", \"\\ubc29\\uc77c\", \"\\ud544\\ub85c\\ud3f0\", \"\\ub0a8\\uc131\", \"\\uc778\\ucc9c\", \"\\uc2e0\\uace0\", \"\\uc5ec\\uc131\", \"\\uc778\\uadfc\", \"\\uc785\\uac74\", \"\\uad50\\uc0ac\", \"\\uc601\\uc0c1\", \"\\ub178\\uc870\", \"\\uc81c\\ubaa9\", \"\\ubc1c\\uc0dd\", \"\\uc624\\ud6c4\", \"\\ubcd1\\uc6d0\", \"\\uc11c\\uc6b8\", \"\\uc9c0\\ub09c\", \"\\uc624\\uc804\", \"\\uc870\\uc0ac\", \"\\uc804\\ub0a0\", \"\\ucc28\\ub7c9\", \"\\uc0c1\\ud0dc\", \"\\ud610\\uc758\", \"\\uacbd\\uae30\", \"\\uc0ac\\uac74\", \"\\uc544\\ud30c\\ud2b8\", \"\\uc790\\uc2e0\", \"\\uc9c0\\ub09c\\ub2ec\", \"\\uc77c\\ubcf8\", \"\\ud55c\\uc77c\", \"\\uc815\\uc0c1\\ud68c\\ub2f4\", \"\\uc9d5\\uc6a9\", \"\\uc591\\uad6d\", \"\\uc678\\uad50\", \"\\uc815\\uc0c1\", \"\\uc548\\ubcf4\", \"\\ucd1d\\ub9ac\", \"\\ud574\\ubc95\", \"\\ub7ec\\uc2dc\\uc544\", \"\\uc5ec\\uc0ac\", \"\\ub3c4\\ucfc4\", \"\\uc77c\\uc81c\\uac15\\uc810\\uae30\", \"\\uc6b0\\ud06c\\ub77c\\uc774\\ub098\", \"\\ud6c4\\ubbf8\", \"\\uad50\\ud68c\", \"\\uc678\\uad50\\ubd80\", \"\\ubaa9\\uc0ac\", \"\\ud0dd\\uc2dc\", \"\\uc6cc\\uc2f1\\ud134\", \"\\ud30c\\ub9ac\", \"\\ud2b8\\ub7fc\\ud504\", \"\\ub9cc\\ucc2c\", \"\\uad6d\\uac00\\uc548\\ubcf4\\uc2e4\", \"\\uc5b5\\uc81c\", \"\\ucc38\\ubaa8\", \"\\ud68c\\ub2f4\", \"\\ubc29\\ud55c\", \"\\uae30\\ub3c5\\uad50\", \"\\ub300\\ud1b5\\ub839\", \"\\ubc14\\uc774\\ub4e0\", \"\\ud55c\\ubbf8\", \"\\uae40\\uac74\\ud76c\", \"\\uc6a9\\uc0b0\", \"\\uc724\\uc11d\\uc5f4\", \"\\ubc29\\ubb38\", \"\\ub300\\ud1b5\\ub839\\uc2e4\", \"\\uac15\\uc81c\", \"\\ub300\\ub9cc\", \"\\ubbf8\\uad6d\", \"\\uc815\\ubd80\", \"\\uc804\\uc7c1\", \"\\ud604\\uc9c0\", \"\\uad00\\uacc4\", \"\\ud55c\\uad6d\", \"\\uc2dc\\uac04\", \"\\uc911\\uad6d\", \"\\ub300\\ud574\", \"\\uc6b0\\ub9ac\", \"\\ud53c\\ud574\\uc790\", \"\\ubb38\\uc81c\", \"\\uc0ac\\uc9c4\", \"\\uad00\\ub828\", \"\\ub300\\ud55c\", \"\\ud558\\ub77d\", \"\\uc9c0\\uc218\", \"\\uccad\\uc57d\", \"\\ud1b5\\uacc4\", \"\\uc5c4\\ub9c8\", \"\\ub300\\ucd9c\", \"\\uc218\\uc11d\", \"\\uacb0\\ud63c\", \"\\uc5f0\\ubc29\", \"\\ucd9c\\uc0b0\", \"\\ubcf4\\uc99d\", \"\\ud638\\uc8fc\", \"\\uc138\\ub85c\", \"\\uc2e0\\uc6a9\", \"\\ud604\\uc0c1\", \"\\uc778\\ud558\", \"\\uc870\\uae08\", \"\\uc120\\ubb3c\", \"\\ud589\\uc815\\ubd80\", \"\\uae30\\uc900\\uae08\\ub9ac\", \"\\ubc30\\uce58\", \"\\uac71\\uc815\", \"\\uac10\\uc5fc\", \"\\uc790\\ubb38\", \"\\ubd80\\ub3d9\\uc0b0\", \"\\uc21c\\uc704\", \"\\uc0c1\\uc2b9\\uc138\", \"\\ud504\\ub9ac\\ubbf8\\uc5c4\", \"\\uae30\\uc99d\", \"\\uc2a4\\ub9c8\\ud2b8\\ud3f0\", \"\\ube4c\\ub77c\", \"\\uc0c1\\uc2b9\", \"\\uc138\\uae08\", \"\\uc0ac\\uc0c1\", \"\\ub2f4\\ubcf4\", \"\\ud3ec\\uc778\\ud2b8\", \"\\uc8fc\\ud0dd\", \"\\uac00\\uaca9\", \"\\uc740\\ud589\", \"\\ubcf4\\uace0\\uc11c\", \"\\ud3c9\\uade0\", \"\\uc704\\uae30\", \"\\uae08\\ub9ac\", \"\\uac00\\uc7a5\", \"\\uc2dc\\uac04\", \"\\ub54c\\ubb38\", \"\\uc9c0\\ub09c\\ud574\", \"\\ubd84\\uc11d\", \"\\uc601\\ud5a5\", \"\\ubbf8\\uad6d\", \"\\ud604\\uc9c0\", \"\\uacb0\\uacfc\", \"\\uc544\\ud30c\\ud2b8\", \"\\uae30\\ub85d\", \"\\uc778\\uc0c1\", \"\\uc774\\uc0c1\", \"\\uc6b0\\ub824\", \"\\uc804\\ub9dd\", \"\\uc0ac\\ub78c\", \"\\ucd5c\\uadfc\", \"\\uc62c\\ud574\", \"\\uc804\\uad6d\", \"\\uac1c\\uc6d4\", \"\\uc774\\ud6c4\", \"\\ud55c\\uad6d\", \"\\uae08\\uc735\", \"\\uae30\\uc900\", \"\\ubc1c\\ud45c\", \"\\uc870\\uc0ac\", \"\\ub300\\ucc45\", \"\\uc9c4\\ub8cc\", \"\\uc784\\uba85\", \"\\ubd80\\uacb0\", \"\\uc8fc\\uc8fc\", \"\\uc7ac\\uc815\", \"\\uc784\\uae30\", \"\\uc704\\uc6d0\", \"\\uce5c\\uc724\", \"\\uacfc\\uc7a5\", \"\\uae30\\uc628\", \"\\uc120\\ucd9c\", \"\\uc2ec\\uc758\", \"\\uc0ac\\ud1f4\", \"\\uac1c\\ud3b8\\uc548\", \"\\uac1c\\uc815\", \"\\ub2f9\\uc6d0\", \"\\uace0\\ub824\\ub300\", \"\\ubc18\\ub300\", \"\\ubbfc\\uc0dd\", \"\\ub3c4\\uc8fc\", \"\\ubcc0\\uc81c\", \"\\uc5ec\\ub860\", \"\\ub0b4\\ub144\", \"\\uac04\\ud638\", \"\\uc9c0\\uc9c0\\uc728\", \"\\ucc28\\uae30\", \"\\uc758\\uacb0\", \"\\uacf5\\ucc9c\", \"\\uc5d1\\uc2a4\\ud3ec\", \"\\ud6c4\\ubcf4\", \"\\uac1c\\uc815\\uc548\", \"\\uc704\\uc6d0\\ud68c\", \"\\uc774\\uc0ac\", \"\\uc608\\uc0b0\", \"\\uc120\\uac70\", \"\\uc758\\uc0ac\", \"\\ud1b5\\uacfc\", \"\\ucd5c\\uace0\", \"\\ucd1d\\uc120\", \"\\uc815\\ucc45\", \"\\uc758\\uacac\", \"\\uc815\\ubd80\", \"\\ubc95\\uc548\", \"\\uc758\\ub8cc\", \"\\ubc29\\uc548\", \"\\uc2e0\\uc784\", \"\\uc5ec\\ub2f9\", \"\\uac1c\\ud601\", \"\\uad6d\\ubbfc\", \"\\uad6d\\ud68c\", \"\\ud68c\\uc758\", \"\\ud22c\\ud45c\", \"\\uc81c\\ub3c4\", \"\\uac80\\ud1a0\", \"\\ub0b4\\uc6a9\", \"\\ub300\\ud55c\", \"\\uc9c0\\uc6d0\", \"\\ucd94\\uc9c4\", \"\\ub300\\ud574\", \"\\uacb0\\uc815\", \"\\uc704\\uc6d0\\uc7a5\", \"\\uad00\\ub828\", \"\\uc724\\uc11d\\uc5f4\", \"\\uad00\\ub9ac\", \"\\ud6c8\\ub828\", \"\\ubc1c\\uc0ac\", \"\\uad6d\\ube48\", \"\\ub77c\\ub514\\uc624\", \"\\uc758\\uc548\", \"\\uc131\\ub0a8\", \"\\ub3d9\\ub9f9\", \"\\ube44\\uba85\", \"\\ucc29\\uc6a9\", \"\\uc9c0\\uce35\", \"\\ubc1c\\uc758\", \"\\ud398\\uc774\\uc2a4\\ubd81\", \"\\ud0c4\\ub3c4\\ubbf8\\uc0ac\\uc77c\", \"\\ucf54\\uc778\", \"\\uae40\\uc815\\uc740\", \"\\ud45c\\uacb0\", \"\\uac15\\uc131\", \"\\uad6d\\ubb34\\uc704\\uc6d0\", \"\\ub3d9\\ud574\", \"\\ub0a8\\uad6d\", \"\\ucc2c\\uc131\", \"\\uc758\\uc6d0\", \"\\uc815\\uad8c\", \"\\uacf5\\uad70\", \"\\uc591\\uace1\", \"\\ud55c\\ub3d9\\ud6c8\", \"\\ub300\\ub959\\uac04\\ud0c4\\ub3c4\\ubbf8\\uc0ac\\uc77c\", \"\\ud37c\\uc2a4\\ud2b8\", \"\\uadc0\\uad6d\", \"\\ud0c8\\ub2f9\", \"\\ubbfc\\uc8fc\\ub2f9\", \"\\uc774\\uc7ac\\uba85\", \"\\uc778\\uad8c\", \"\\ubd81\\ud55c\", \"\\ube44\\ud310\", \"\\ub3d9\\uc758\", \"\\ub300\\ud45c\", \"\\uad6d\\ubbfc\", \"\\uc6d0\\ub0b4\\ub300\\ud45c\", \"\\uad6d\\ud68c\", \"\\uc815\\uce58\", \"\\ucd9c\\uc5f0\", \"\\uc8fc\\uc7a5\", \"\\uc804\\ub2f9\\ub300\\ud68c\", \"\\uc18c\\uc18d\", \"\\ubc29\\uc1a1\", \"\\uccb4\\ud3ec\", \"\\uc758\\ud639\", \"\\ub77c\\uba70\", \"\\uc7a5\\uad00\", \"\\ub17c\\ub780\", \"\\ub300\\ud574\", \"\\uad00\\ub828\", \"\\uc790\\uc2e0\", \"\\uc624\\uc804\", \"\\uc0ac\\uc2e4\", \"\\ub300\\ud55c\", \"\\uac80\\ucc30\", \"\\ubd80\\uc7a5\", \"\\uc7ac\\ud310\", \"\\uae30\\uc18c\", \"\\ud310\\uc0ac\", \"\\ud615\\uc0ac\", \"\\uc120\\uace0\", \"\\uc9c0\\ubc95\", \"\\uc9d5\\uc5ed\", \"\\uad6c\\uc18d\\uc601\\uc7a5\", \"\\uc601\\uc7a5\", \"\\uacf5\\ud310\", \"\\ubd80\\ud328\", \"\\uc5d4\\ud130\\ud14c\\uc778\\uba3c\\ud2b8\", \"\\uc548\\ucca0\\uc218\", \"\\ube44\\uc11c\\uc2e4\", \"\\ud30c\\ud06c\", \"\\uc555\\uc218\\uc218\\uc0c9\", \"\\uad6d\\uac00\\uc218\", \"\\uac1c\\uc785\", \"\\uc815\\uce58\\uc790\\uae08\", \"\\uc218\\uac10\", \"\\ud2b9\\ud61c\", \"\\uae30\\uac01\", \"\\uc9d1\\ud589\\uc720\\uc608\", \"\\ub3c5\\ub3c4\", \"\\uac00\\uc911\", \"\\ud5c8\\uc704\", \"\\uace0\\ubc1c\", \"\\ubc1c\\ubd80\", \"\\uc11c\\uc6b8\\uc911\\uc559\\uc9c0\\ubc95\", \"\\ubc95\\uc6d0\", \"\\ubc95\\uc870\", \"\\uc704\\ubc18\", \"\\uc218\\uc0ac\", \"\\uac80\\uc0ac\", \"\\ud610\\uc758\", \"\\ubc94\\uc8c4\", \"\\ucd9c\\uc11d\", \"\\uad6c\\uc18d\", \"\\ucc98\\ubc8c\", \"\\ub300\\uc7a5\\ub3d9\", \"\\ubcc0\\ud638\\uc0ac\", \"\\uc758\\ud639\", \"\\ub300\\ubc95\\uc6d0\", \"\\uc0ac\\uac74\", \"\\ubc95\\ub960\", \"\\ub300\\ud45c\", \"\\ub300\\ud55c\", \"\\uac1c\\ubc1c\", \"\\ub300\\ud574\", \"\\uad00\\ub828\", \"\\uc911\\uc559\", \"\\uccb4\\ud3ec\", \"\\uc9c0\\ub09c\\ud574\", \"\\uce74\\uce74\\uc624\", \"\\ud68c\\uc0ac\\ucc44\", \"\\uc608\\uce21\", \"\\uadfc\\ub85c\\uc2dc\\uac04\", \"\\uc8fc\\ubb38\", \"\\uc9c8\\ud658\", \"\\ud55c\\ud654\", \"\\ub85c\\ubd07\", \"\\ub9c8\\ud2b8\", \"\\ub124\\uc774\\ubc84\", \"\\ucd1d\\uc7ac\", \"\\uc12d\\ucde8\", \"\\uc0c1\\ubc18\\uae30\", \"\\ub9e4\\ub9e4\", \"\\uc8fc\\uc8fc\\ucd1d\\ud68c\", \"\\uc784\\uae08\", \"\\uc9c0\\ubc30\\uad6c\\uc870\", \"\\ub370\\uc774\", \"\\uc2e0\\uc6a9\\ub4f1\\uae09\", \"\\ud560\\uc778\", \"\\uc9c8\\ubcd1\", \"\\uc9c4\\ud654\", \"\\ubb3c\\uc9c8\", \"\\ud658\\uc790\", \"\\uc2e0\\uc57d\", \"\\uc99d\\uc0c1\", \"\\uc8fc\\ub958\", \"\\uac1c\\ubcc4\", \"\\ud765\\ud589\", \"\\uacc4\\uce35\", \"\\uc2dd\\ud488\", \"\\ucd9c\\uc2dc\", \"\\uac1c\\ud3b8\", \"\\uace0\\uac1d\", \"\\uc120\\uc784\", \"\\uc0c1\\ud488\", \"\\ud310\\ub9e4\", \"\\uac74\\uac15\", \"\\ubaa8\\uc9d1\", \"\\ubaa8\\ubc14\\uc77c\", \"\\uc11c\\ube44\\uc2a4\", \"\\ucc44\\uc6a9\", \"\\ubaa8\\ub378\", \"\\uc81c\\ud488\", \"\\ubc1c\\ud589\", \"\\uc18c\\ub4dd\", \"\\ud50c\\ub7ab\\ud3fc\", \"\\ub18d\\ud611\", \"\\uce58\\ub8cc\", \"\\uc720\\ud1b5\", \"\\uc5c5\\uacc4\", \"\\ube0c\\ub79c\\ub4dc\", \"\\ub86f\\ub370\", \"\\uc81c\\uacf5\", \"\\uad6d\\ub0b4\", \"\\ub300\\uc0c1\", \"\\uc9c4\\ud589\", \"\\ud1b5\\ud574\", \"\\uacb0\\uacfc\", \"\\uc18c\\ube44\\uc790\", \"\\uc774\\uc0c1\", \"\\uc2dc\\uc7a5\", \"\\ucd5c\\uadfc\", \"\\ubc30\\uc0c1\", \"\\uc77c\\uc6d4\", \"\\uc18c\\uc1a1\", \"\\uc2e4\\ub9ac\\ucf58\\ubc38\\ub9ac\", \"\\uc8fc\\uac00\", \"\\uc774\\uc0ac\\uc7a5\", \"\\uc120\\uc0ac\", \"\\ucca0\\ud559\", \"\\uc8fc\\uc2dd\", \"\\ud30c\\uc0b0\", \"\\uc608\\uae08\", \"\\ucc38\\uac00\\uc790\", \"\\ub3c4\\uc11c\\uad00\", \"\\uc2e0\\uc138\\uacc4\", \"\\ubc1c\\uc778\", \"\\uc784\\uc6d0\", \"\\ud3ed\\ub77d\", \"\\ubc30\\uc784\", \"\\uc791\\uc804\", \"\\uacc4\\uc88c\", \"\\uae08\\uc735\\uc2dc\\uc7a5\", \"\\uc720\\uc0b0\", \"\\ucee8\\uc124\\ud305\", \"\\uacf5\\uc2dc\", \"\\uc190\\uc790\", \"\\ud734\\ub300\\uc804\\ud654\", \"\\ub3d9\\ud589\", \"\\ud3d0\\uc1c4\\ud68c\", \"\\uae30\\ub3c4\", \"\\uc190\\uc2e4\", \"\\uc7ac\\uc0b0\", \"\\ud22c\\uc790\\uc790\", \"\\uc6d0\\uc7a5\", \"\\uaca8\\uc6b8\", \"\\uc99d\\uad8c\", \"\\ud68c\\uc7a5\", \"\\ubcc4\\uc138\", \"\\uc790\\uc0b0\", \"\\uc0ac\\ud0dc\", \"\\uae08\\uc735\", \"\\uc815\\uae30\", \"\\uc7ac\\ub2e8\", \"\\ub3d9\\uc6d0\", \"\\ubcf4\\ud5d8\", \"\\uadf8\\ub8f9\", \"\\uc0c1\\ub300\\ub85c\", \"\\uc778\\ud130\\ub137\", \"\\ud22c\\uc790\", \"\\uac70\\ub798\", \"\\ud68c\\uc0ac\", \"\\uac00\\uc0c1\", \"\\uc9c1\\uc6d0\", \"\\uc624\\uc804\", \"\\ub300\\ud45c\", \"\\uc0ac\\uc9c4\"], \"Freq\": [2217.0, 1795.0, 2932.0, 1418.0, 1635.0, 1250.0, 1133.0, 1916.0, 2600.0, 1639.0, 1691.0, 1104.0, 738.0, 807.0, 652.0, 690.0, 783.0, 1102.0, 699.0, 810.0, 568.0, 792.0, 2378.0, 961.0, 640.0, 757.0, 508.0, 797.0, 700.0, 895.0, 595.5019435963426, 431.55279651337474, 270.7835081432503, 256.8886219222892, 231.42551588633623, 214.0454320013351, 207.4643287287883, 210.56366583950316, 195.18777348000904, 179.44834691331735, 221.81225956831875, 280.81240786394625, 156.66521172923157, 139.30628877451375, 134.06423751613642, 125.1846104720818, 114.61447220971321, 116.85856674493903, 117.10776070874957, 92.97067129493023, 92.27525255341675, 88.74439324914529, 193.68440862268614, 83.67605369688765, 82.59454779341263, 82.36599679728793, 97.5753695771457, 79.08614972136183, 78.92320732091412, 76.32523102731194, 656.5555330277846, 591.2378165128378, 93.13897676643904, 113.12575058665568, 289.52540202404634, 229.40170652745078, 951.2588560661115, 300.8894798303183, 313.45911558215454, 754.8559854960353, 351.0193459904202, 406.63430656686523, 207.4540126403891, 166.83206215504833, 190.63272407093663, 416.3568961564944, 951.8769580990682, 421.19483947087394, 431.12323286588975, 453.94539868987084, 351.8106849304489, 247.26632284059124, 348.60089229582786, 259.5162245973767, 250.8465666412633, 328.10336419097604, 330.5336015346603, 337.10553255287726, 280.18998947601085, 251.58602299444746, 244.89398939894684, 374.97956491788136, 248.7750430041386, 228.2503014889997, 218.35553321119372, 183.67876234986034, 175.063883385976, 209.3077178994353, 170.2279074852909, 159.07193715021458, 136.6702618830511, 130.17424958529247, 115.42570333599146, 105.70362676869435, 108.89026003257143, 103.32499829384419, 108.32010199674149, 92.63405452870968, 112.63992513919182, 89.55177484013285, 86.34612349257281, 82.1021044467205, 81.1469531587889, 78.97560123115925, 79.2643685234133, 103.88963062411887, 108.67292455533527, 84.14194815864317, 74.11769239240446, 75.95388971318339, 71.92148820168278, 115.16297302525349, 121.79749455401, 268.7957471834172, 144.66576111356218, 175.17116075693414, 200.6615981342401, 320.2834489504804, 343.87814014131476, 1474.0888587058696, 155.0406398856979, 354.5857057294707, 235.32118387247115, 361.66272182493395, 316.8142357539678, 208.00774649056683, 281.3612910288126, 224.4415166977006, 201.318638501592, 189.78874420806682, 176.1531269169697, 307.5667797405297, 325.2722848223191, 323.7638923835261, 195.79667039765215, 380.9492582321361, 266.64835786240263, 230.9865629263089, 280.4896065068332, 219.2719240887983, 186.21792240648932, 193.0481773014439, 189.92030607140055, 419.5445895530263, 359.07837593245415, 308.66893707208175, 206.0321062560236, 205.70360930510688, 1128.0176690431767, 156.6627352049792, 148.16804885133308, 140.20617669664583, 392.1614807586462, 125.59265232573516, 127.26413061276021, 118.48338336578752, 120.23321041348979, 115.6418345021551, 114.30294072890344, 111.87752403251699, 96.08621067021933, 93.74935783572732, 88.1687079827416, 82.98376009456739, 79.4998244671312, 78.48676349768299, 76.05880444376557, 87.05763684692012, 71.31878434720747, 269.230242892441, 70.4228088374636, 68.97197521436067, 64.66788570402467, 497.2310280341812, 587.4977214212378, 297.986042069167, 677.2464741620765, 236.25735763824994, 145.53526255549755, 129.08969555696868, 294.4497293094837, 195.67169484339846, 146.56266424826416, 331.5354792060682, 566.2745470163069, 313.8265127516292, 766.127293444501, 374.75945449905305, 377.7809322468677, 352.33656136606834, 229.99798205483526, 236.02524191804292, 179.86508166482167, 423.38409747789905, 279.55474160197906, 245.05517826229433, 208.95456907341088, 200.85996149769093, 211.68238169085276, 1248.3287811415516, 420.03968143211426, 322.23224793661774, 270.17526935841687, 260.89958487541645, 251.88738658901735, 248.1101458679914, 229.6253925942627, 222.72185778952166, 197.20450552799008, 170.6805657483304, 160.8659728164519, 153.4918865500103, 153.24852198342498, 155.49205396449568, 148.286352403677, 134.5717797842468, 123.61175711055658, 113.6967346229468, 112.70957668173146, 100.8061963309808, 94.24749000749577, 89.9789734388244, 87.27913289540625, 86.61541676212359, 91.01156875906278, 69.65169202955303, 69.237196869225, 67.76426973946631, 63.50122262274088, 2160.760167713212, 209.26995280925877, 411.80847623500887, 86.64393976798591, 124.39281717273124, 933.9707580636027, 436.71938161791905, 459.279181690057, 369.0386121781608, 149.75706198693246, 877.4721380194211, 644.1380254027968, 157.52206151816915, 362.9987894121436, 209.2342041736828, 607.8121728900556, 348.6140861457199, 283.34588823860264, 288.00011651164704, 228.81372592548442, 224.89146659286308, 212.7844068282179, 254.6910797465275, 242.27881712186735, 223.1889861928615, 186.54455983117234, 131.51062914775258, 134.57589827808218, 100.91485396969576, 90.71841826787323, 294.30959797573627, 80.36018606106767, 77.3046845944117, 75.57768736148626, 73.60579928562942, 71.82428231922367, 70.06943886838302, 68.42703644970477, 66.2242789720588, 64.3479624958005, 62.84069763427123, 61.51797678977029, 59.78755614004647, 59.675818000907576, 58.26331622990319, 57.37469920316567, 56.74141079866177, 54.37182730688537, 54.03085863570123, 423.06666373458296, 60.26571641845862, 50.131047896317185, 49.183358720144085, 47.273966210521195, 44.827537937419855, 53.90663959297937, 140.40810397442792, 86.49574290507596, 73.15245149513987, 57.36480771377806, 115.11487364308589, 368.4426544353722, 305.7707895201845, 584.701059006419, 140.6921164591125, 249.44707563218336, 233.90757493971137, 263.9905951200288, 335.4471223525875, 518.9339882735798, 271.88913149267296, 642.6243388999256, 223.19834053695624, 159.46692083880978, 700.071253987873, 397.48092064748465, 325.4658083352816, 241.05016261235286, 181.53771807331523, 145.66271370210012, 278.95952149019666, 181.94986832037597, 151.39903459262956, 239.151025785394, 311.9263842782615, 285.0116562223078, 233.57474598825524, 192.32534143688733, 230.22515845088887, 307.7608872598624, 213.5691140115637, 185.93960566357404, 201.3594033099518, 202.88044924506087, 288.6524992940831, 153.7736177582509, 148.5679844157582, 125.9461746482729, 115.66984558386908, 114.11360639533058, 111.87598722460262, 459.42584563052964, 108.06101665609594, 102.575184667521, 99.41566569330253, 97.47181226637832, 95.93471086537424, 115.92092856129635, 83.6573900201806, 93.53525257832271, 89.29372935478884, 77.82410212041539, 139.8105074545917, 76.09269646903896, 74.89745913489396, 74.84907875159493, 73.65291061864576, 211.7812530889033, 69.87419184295942, 70.85476017713758, 105.76170385856676, 65.26706213155379, 69.12888995804357, 63.39763735143344, 433.4683773181472, 177.2382376368959, 672.2152807514684, 110.13020355230405, 87.47816397820121, 215.00934795986905, 172.97943822343598, 127.09479447564192, 459.7755721266816, 166.98780170286287, 310.08814701576415, 121.65811148453007, 843.8797400158066, 165.96919754482303, 185.746683608908, 248.1879674980841, 150.48049389810228, 134.1726449946675, 140.48296728157442, 626.7476771769831, 365.83944142701364, 283.6324192829023, 157.09231037949007, 172.3132824428997, 150.32929550447193, 204.77896650916242, 265.87966036911365, 224.37395959557958, 183.3780121974553, 241.66738340251803, 158.402945610835, 153.5596750634116, 173.99264092780913, 161.14878798015076, 154.73201615727498, 266.7609425252446, 237.4223319203534, 178.78540690108954, 151.14906168666053, 138.91785064390305, 128.12993677855866, 126.7637373158936, 124.00295094747635, 105.64468263073111, 96.72761148122716, 96.13153566100621, 237.54991412195523, 94.61077786119202, 93.52501864771801, 89.1093464991047, 88.48384827693407, 87.53482460253458, 79.99998805755315, 79.5662999710714, 77.56311693106622, 77.45165723797908, 1401.2563419547675, 69.92172666682661, 67.3760034059452, 61.58157787807432, 59.71009671358489, 56.90414850389265, 56.900008668442446, 56.250487975790044, 58.63872611650519, 1660.2001461039895, 731.0231116732873, 93.51646343582173, 671.5416871042296, 255.07356876219762, 113.95114821286582, 1880.0201396284983, 916.2499950067054, 189.85207416708928, 391.21522962396284, 213.2469160243458, 111.11936635468236, 199.8686345362763, 182.3552353974901, 150.92913964888038, 171.2791056504613, 185.1180513605599, 228.30687125382005, 178.55990683827096, 197.68514015677587, 170.91035115183655, 270.91045551286766, 249.69180955897693, 192.63917806086857, 192.1872101814898, 148.03413121291194, 160.7276597236737, 737.0134407146005, 567.9710531240756, 507.1772509756384, 451.97108277274947, 418.9153947951695, 383.421164336747, 354.9854319646779, 242.31855662889208, 190.12570667286792, 180.9564812631798, 149.89718722324838, 142.5850773499478, 102.68712889992419, 101.93725497839937, 97.2659602023036, 89.6628767548256, 87.78791946325653, 135.59724029331372, 82.20780370264058, 80.61836403720483, 74.10218470926979, 72.5808298256688, 72.38502879353585, 72.36453028272332, 80.08343341274394, 71.3201961823119, 85.58455868834056, 104.26762601260667, 66.6036746314536, 64.65063721168981, 148.86322004341105, 200.95567064677874, 145.4123360019932, 472.4064259688879, 581.535394582308, 331.59201122150796, 1210.9732450714432, 224.95888183274852, 187.1239567698696, 310.591132071472, 178.35984634003435, 151.3400594399227, 237.59948979466702, 351.77379217392775, 154.22330194022953, 284.9876126743033, 160.22493148934842, 433.34163980048515, 284.42732830263196, 226.91829175028457, 268.0808620735633, 263.14229396524775, 166.99035660721464, 163.2956951097168, 170.50781436199648, 188.97723046324072, 162.6623657959967, 136.63997484292568, 130.82171211691318, 130.07696732348492, 118.24508826140563, 107.40808213131245, 106.25043469460388, 92.00465813626533, 81.83747211865345, 79.71440243822953, 74.90307248018499, 74.67463147266523, 71.66512451544573, 120.8959769650052, 66.34535114627467, 66.17187830235707, 63.50454876867086, 60.98521696124863, 95.0632092332906, 57.19326687735104, 56.15551587322873, 55.45652342293083, 239.9428597607507, 52.612749956783574, 50.167265735072604, 50.08186055441637, 48.666043071463065, 47.785136497169965, 59.77228065280589, 250.407094121739, 283.95461699019387, 135.14179588102155, 222.32141227382596, 201.26831516154223, 243.63586836038374, 385.2802092013224, 248.82664444733646, 227.22004140583445, 101.44764888528307, 326.4188425119887, 195.21852536862673, 198.75422965507147, 274.0793963946213, 143.77271733328234, 140.85427333225496, 206.95223143573884, 175.92545028026754, 185.31631688119313, 126.0999928518216, 241.53916330884738, 204.21362603249403, 180.77961595277046, 175.2399336226097, 302.63481278724043, 231.95521831027557, 250.4861456507239, 246.13320443082952, 223.4986894686505, 150.62687942778726, 176.54546986583932, 175.26692151447074, 170.65633669375583, 250.5412747415812, 193.63207280582384, 182.4380228069469, 149.00424198400586, 164.5828861331086, 126.65944548040906, 120.07895183307454, 112.75060579962415, 111.74660185774746, 106.07166331811709, 90.88752903568722, 87.78734718740593, 85.29232757630864, 81.69429696261318, 72.42877827296064, 67.70051008711962, 65.98614425415444, 65.8630962367249, 62.55616960377506, 65.7269336169054, 59.63497379463826, 56.93041454461737, 58.21881258412132, 76.14718485967134, 55.604503681024084, 55.28215389957865, 54.354574893763335, 51.85880353758013, 53.309128212892716, 49.90815529248638, 98.2207800197477, 74.1152178924371, 270.81234148906174, 66.85399301923228, 213.9728508847371, 538.7281570609399, 132.7899489851259, 203.87599144630798, 173.8565326013138, 472.1732320545516, 148.86038328083154, 144.96929117195882, 110.6188949126238, 122.46612951793564, 326.27939862920374, 116.86784664800687, 92.8895304017739, 241.51540643090252, 136.746495017618, 127.79026360816552, 104.85838396454997, 117.68780701820559, 132.190398785514, 129.89325932148796, 108.06195681271717], \"Total\": [2217.0, 1795.0, 2932.0, 1418.0, 1635.0, 1250.0, 1133.0, 1916.0, 2600.0, 1639.0, 1691.0, 1104.0, 738.0, 807.0, 652.0, 690.0, 783.0, 1102.0, 699.0, 810.0, 568.0, 792.0, 2378.0, 961.0, 640.0, 757.0, 508.0, 797.0, 700.0, 895.0, 596.4125537435622, 432.45904368471605, 271.6938179258186, 257.79358656676663, 232.3338323664937, 214.94638140929905, 208.40471666595712, 211.54426253331374, 196.12613876678398, 180.36195347552217, 222.98448866070143, 282.29841494455377, 157.5662642767679, 140.2231833471158, 135.02827871460352, 126.08659689488958, 115.52295291784303, 117.79551176016253, 118.18189339487392, 93.87194530844215, 93.17616568297456, 89.64539743062934, 195.67661474470435, 84.5770916583373, 83.49584130021609, 83.26733835255482, 98.65233400274425, 79.98736064913558, 79.83343585988867, 77.22633625016546, 669.8300694098043, 603.1202507357043, 94.35168481144365, 115.03977294136558, 304.52271883393126, 244.29105224533257, 1102.3530302130605, 326.24868112261146, 343.0039323316978, 895.6495261705878, 402.68669558821466, 478.2381640771086, 226.5393247829364, 181.44992730421308, 221.72881178461884, 685.2953524513507, 2378.8406354920335, 800.8617741055214, 882.5666175691035, 967.8650102055988, 739.3952305676626, 378.45133044620735, 923.4168176597221, 441.2087656607771, 439.39750015001164, 1152.2049138390598, 1426.5072017441696, 1916.8524335553589, 784.4594347805867, 700.780324454112, 695.8348389784578, 376.2708437696403, 249.67179867795082, 229.15052710607625, 219.25761333826316, 184.58749778691546, 175.9751220440107, 210.4143645127913, 171.13531573468174, 159.9694840324838, 137.56695836712944, 131.07247490679126, 116.32716224883715, 106.60216656102531, 109.83437296431994, 104.22247905284274, 109.2745999653936, 93.53126950670172, 113.73791162640372, 90.44862352579115, 87.243090997731, 82.99957395324229, 82.04415234779866, 79.87247621778486, 80.164756140814, 105.07584699412217, 109.9418738401683, 85.14890910711514, 75.01491954101134, 76.88303770762514, 72.81839610337975, 116.64188273157619, 125.55977072453324, 314.62492357410974, 157.75470391296344, 196.79143569338626, 231.17466605576382, 406.1790658704269, 444.63515069467303, 2600.2271206234377, 177.17612247935307, 538.1197987459518, 339.72255074190974, 657.5479909443072, 554.1363582033135, 302.47790111572647, 512.2056541604107, 370.62335697335976, 310.1280561625908, 282.0143793071677, 258.87991555777165, 784.4594347805867, 907.0610955384285, 948.862280132789, 335.72921592713664, 2378.8406354920335, 875.3602342994252, 586.1762900500584, 1152.2049138390598, 923.4168176597221, 342.04139380081784, 616.4170292816947, 487.65753063464615, 420.44986176591266, 360.02163405224627, 309.581149977208, 206.93242692700423, 206.60700781214396, 1133.1369390338305, 157.56624066739792, 149.06831628679677, 141.10814203475937, 394.6963204447442, 126.49299437507828, 128.18093057742283, 119.38352754766086, 121.14959517286096, 116.5420656476136, 115.20313095031283, 112.77979399635076, 96.98682180516735, 94.64945476768928, 89.06910215435464, 83.88413398237229, 80.39992230326307, 79.38707592344744, 76.9602809246254, 88.13969316944647, 72.22072961068953, 272.63957871616117, 71.32312451822298, 69.8736997582784, 65.56810475494274, 538.5532379069678, 640.8441547208616, 326.19811605745264, 792.5023286842377, 259.7882377609266, 156.11690211406068, 138.32996892331744, 355.71697876206844, 224.34111524506437, 169.96195437108554, 484.1056086627183, 976.4016838125491, 459.75289743918506, 2600.2271206234377, 898.8940964902429, 914.0459342149322, 844.8608660925381, 394.35182804546366, 421.2629097025121, 252.86907710347043, 1635.1673930848403, 680.6554946754917, 539.632072845398, 470.50790541427534, 623.2103191574015, 868.995626954675, 1250.180927386536, 420.9374909973892, 323.1291967307887, 271.0720602643205, 261.79679687300217, 252.7857680989276, 249.01771509760138, 230.5229042175028, 223.61883164034305, 198.10131847729423, 171.60278862039334, 161.76849984664668, 154.38906742049323, 154.14540500370643, 156.40638521344988, 149.18316679034984, 135.46864987888964, 124.50939535248924, 114.63252882073667, 113.69914388151318, 101.71267601478439, 95.15473993381126, 90.87588682319395, 88.17588649089821, 87.51293607406397, 91.96378421647904, 70.54997000993974, 70.13401322841695, 68.66154710471712, 64.39810096138096, 2217.795696712958, 212.23132289297314, 425.9373440922928, 88.05528528125173, 127.68855682821689, 1104.844933965868, 506.2068711082437, 566.7692808168982, 456.4049405777626, 168.09441253066933, 1916.8524335553589, 1691.3303014255641, 191.2247872065045, 851.7488824882049, 329.40774239495727, 2378.8406354920335, 961.5812363656751, 695.8348389784578, 1204.5478139588188, 592.1410552172608, 566.676344952843, 482.2598685715401, 948.862280132789, 1223.099130007194, 1288.6758240869797, 187.45689759067508, 132.43045808658042, 135.5846754746958, 101.85612504026305, 91.62297496247716, 297.29698372061705, 81.2649241777588, 78.20946771925475, 76.48222055826074, 74.51042754344184, 72.72930657153785, 70.97414581659186, 69.35088057233581, 67.13351154109048, 65.25804334241568, 63.74512935543841, 62.42263430380989, 60.692350529882454, 60.5804152719032, 59.16773747950206, 58.288557931626805, 57.65439267617965, 55.27636532347913, 54.93548144321154, 430.4711836467404, 61.33519466914309, 51.03586852075091, 50.088051058009896, 48.178540109019764, 45.73516581375091, 55.05284938730302, 146.6944535340891, 89.9095073256502, 75.59838314802359, 58.75558006384071, 127.28646489004959, 471.6282159312248, 382.596683122969, 797.7460481165444, 160.92005447622196, 315.8307667396665, 299.9992588024063, 357.3966599908578, 504.32077407843144, 961.5812363656751, 438.9430535864606, 1426.5072017441696, 346.4491728865358, 229.12653008749783, 1916.8524335553589, 851.7488824882049, 744.5519551271708, 470.50790541427534, 304.82622144360784, 219.04008642077758, 650.9037212333603, 326.14948044542837, 243.88018971287738, 591.7541503143334, 1067.1318989377496, 923.4168176597221, 616.4170292816947, 409.6565519391234, 715.9264971188858, 2378.8406354920335, 690.2779532315908, 416.5735983487266, 716.2515166992431, 844.8608660925381, 289.5721554678379, 154.69822686260133, 149.47125876791557, 126.84711224970826, 116.5706426737211, 115.0149964864933, 112.78783400795952, 463.2469151143012, 108.961538380462, 103.48481274418776, 100.31758999496276, 98.37243835270291, 96.8354005986728, 117.10010731044605, 84.5579343592513, 94.5699406695659, 90.29200549123141, 78.72474031382478, 141.449972009096, 76.9932820213426, 75.79865307175498, 75.74987174720555, 74.55391544008553, 214.47428122215527, 70.77543715071732, 71.77551139386394, 107.21242086507728, 66.18085084502539, 70.10019897928926, 64.2985544122593, 447.73540704654505, 191.46609466078544, 810.8112558300788, 116.27798343948, 90.55921331626817, 252.86618259653122, 199.0683748090659, 139.59967144033777, 641.9845010675771, 195.77239483779582, 417.3685998588366, 134.82746918530776, 1691.3303014255641, 203.50951455144047, 236.98785108791063, 365.9532135486065, 181.58284105742266, 155.43561019914827, 166.4788059650583, 1639.410979768729, 757.861205518005, 534.1208061422856, 211.29716225012348, 303.3822531165311, 230.3001024119954, 520.8775447270865, 1288.6758240869797, 800.8617741055214, 429.51228218095883, 1204.5478139588188, 292.1323967023234, 281.55757854873997, 1223.099130007194, 1104.844933965868, 527.5105655643383, 267.66879675891283, 238.3221304826491, 179.694493322821, 152.05163592294966, 139.8186529495384, 129.02927837593657, 127.66313557481587, 124.90236018391249, 106.54392397932355, 97.62693347161088, 97.03072792622667, 239.79683894346053, 95.50986376697728, 94.43997075391557, 90.00844058967982, 89.3830871265512, 88.43400892319123, 80.8990915265586, 80.46574757140567, 78.46398098851321, 78.3518374497979, 1418.7984771750657, 70.82162733728694, 68.27533071722789, 62.48079364035227, 60.61281302544749, 57.80324264185855, 57.79952029530434, 57.15702712379819, 59.60662359460676, 1795.2779383448576, 807.156763069147, 96.66643641196467, 783.9959303537756, 282.8768360679046, 121.57019615806563, 2932.2800057004943, 1639.410979768729, 244.69307125013563, 757.861205518005, 354.6364759821764, 134.76422199542674, 343.7014269406395, 309.44363496638385, 230.90450695939677, 301.3761259575544, 368.7259843026622, 589.7045960484376, 382.52401880032875, 502.9754329621579, 382.3574513226203, 1204.5478139588188, 1223.099130007194, 623.2103191574015, 914.0459342149322, 515.9926988658178, 1288.6758240869797, 738.0314823133666, 568.8894187855182, 508.07780701115837, 452.87194750696636, 419.820028354494, 384.3628642101464, 355.9029269974623, 243.2522411371011, 191.02582282133716, 181.88426413737741, 150.79618270659824, 143.48269630677234, 103.58483049819795, 102.83522960935011, 98.16433568550977, 90.56099262638661, 88.6895064940867, 137.01077923128452, 83.10565919331361, 81.51657224022647, 75.0009027512526, 73.4786910277813, 73.28255496242839, 73.26302751265386, 81.08132872248655, 72.21794257520463, 86.68593831279874, 105.64086641798859, 67.50131526061345, 65.54844050358399, 152.07759007538178, 212.86317932665816, 152.68313920549494, 547.5257334933627, 699.7749776346293, 383.3540969202481, 1635.1673930848403, 259.13881772044317, 210.83659336169995, 383.25223326733106, 207.59068963668386, 173.6572092128307, 312.4628777052003, 589.7045960484376, 197.24231304456555, 539.632072845398, 220.01480624794385, 2932.2800057004943, 1288.6758240869797, 685.2953524513507, 1204.5478139588188, 1223.099130007194, 384.5088756910731, 368.7259843026622, 1426.5072017441696, 189.88984705842694, 163.56700997676677, 137.54497852603993, 131.72654589791975, 131.04905060075188, 119.15033425543851, 108.31447074069287, 107.18930214829423, 92.99208665838319, 82.74234178880569, 80.61943892510975, 75.8077560570159, 75.57940471193636, 72.57012163670524, 122.43238989829267, 67.25126290532762, 67.07720186697152, 64.40960726738926, 61.88997537191836, 96.48864698072202, 58.10680636471812, 57.06035913586247, 56.373498411692196, 243.92223835411988, 53.517452399049404, 51.0729092418468, 50.986635174608104, 49.570935761013736, 48.68997848476263, 60.95092186980247, 255.76678311834917, 293.44198707629806, 138.64620900451172, 229.84585469990233, 209.2093525317722, 264.5658466122268, 439.9321141822127, 277.7048308386569, 258.96717653667395, 107.91985395496084, 394.9833343688952, 224.1772493970648, 230.2123369658048, 336.7919077948935, 160.9350790260286, 157.47266635938166, 248.5050173069533, 216.41417116524164, 240.21990845664, 144.49737054298322, 391.7222325003491, 320.59943273320283, 274.4333204928204, 290.0125988118885, 967.8650102055988, 572.3516808372954, 907.0610955384285, 969.4084880916562, 744.5519551271708, 228.57889726401808, 650.9037212333603, 882.5666175691035, 1067.1318989377496, 251.43314897878392, 194.52356156839556, 183.33372079492523, 149.89644466191038, 165.61008911609989, 127.55475620855796, 120.9705087092491, 113.64211476294228, 112.65033225002196, 106.9633820316892, 91.77902559041574, 88.68021334114526, 86.18471977960074, 82.6208719415054, 73.3258950894993, 68.59380633908224, 66.8776762528964, 66.75480610531544, 63.44784258153667, 66.70391400778222, 60.526770337701414, 57.8222361059193, 59.14969596858255, 77.36498287884899, 56.49609252412648, 56.17396462308098, 55.24615401642788, 52.752124217284205, 54.25766677744141, 50.79986478085842, 100.29469380349462, 75.78914180382014, 285.9159150419447, 68.59783865958606, 240.47365232207954, 652.3500264874634, 145.39328884602844, 242.9706440512025, 208.83672133013945, 690.2779532315908, 184.15330620480427, 202.7968901194135, 139.71448781707323, 164.6399255761086, 700.780324454112, 157.76255260259256, 112.94332765135846, 739.3952305676626, 266.4425651244218, 321.6806712800419, 173.81876650134373, 408.9273887410095, 914.0459342149322, 2932.2800057004943, 948.862280132789], \"Category\": [\"Default\", \"Default\", \"Default\", \"Default\", \"Default\", \"Default\", \"Default\", \"Default\", \"Default\", \"Default\", \"Default\", \"Default\", \"Default\", \"Default\", \"Default\", \"Default\", \"Default\", \"Default\", \"Default\", \"Default\", \"Default\", \"Default\", \"Default\", \"Default\", \"Default\", \"Default\", \"Default\", \"Default\", \"Default\", \"Default\", \"Topic1\", \"Topic1\", \"Topic1\", \"Topic1\", \"Topic1\", \"Topic1\", \"Topic1\", \"Topic1\", \"Topic1\", \"Topic1\", \"Topic1\", \"Topic1\", \"Topic1\", \"Topic1\", \"Topic1\", \"Topic1\", \"Topic1\", \"Topic1\", \"Topic1\", \"Topic1\", \"Topic1\", \"Topic1\", \"Topic1\", \"Topic1\", \"Topic1\", \"Topic1\", \"Topic1\", \"Topic1\", \"Topic1\", \"Topic1\", \"Topic1\", \"Topic1\", \"Topic1\", \"Topic1\", \"Topic1\", \"Topic1\", \"Topic1\", \"Topic1\", \"Topic1\", \"Topic1\", \"Topic1\", \"Topic1\", \"Topic1\", \"Topic1\", \"Topic1\", \"Topic1\", \"Topic1\", \"Topic1\", \"Topic1\", \"Topic1\", \"Topic1\", \"Topic1\", \"Topic1\", \"Topic1\", \"Topic1\", \"Topic1\", \"Topic1\", \"Topic1\", \"Topic1\", \"Topic1\", \"Topic1\", \"Topic2\", \"Topic2\", \"Topic2\", \"Topic2\", \"Topic2\", \"Topic2\", \"Topic2\", \"Topic2\", \"Topic2\", \"Topic2\", \"Topic2\", \"Topic2\", \"Topic2\", \"Topic2\", \"Topic2\", \"Topic2\", \"Topic2\", \"Topic2\", \"Topic2\", \"Topic2\", \"Topic2\", \"Topic2\", \"Topic2\", \"Topic2\", \"Topic2\", \"Topic2\", \"Topic2\", \"Topic2\", \"Topic2\", \"Topic2\", \"Topic2\", \"Topic2\", \"Topic2\", \"Topic2\", \"Topic2\", \"Topic2\", \"Topic2\", \"Topic2\", \"Topic2\", \"Topic2\", \"Topic2\", \"Topic2\", \"Topic2\", \"Topic2\", \"Topic2\", \"Topic2\", \"Topic2\", \"Topic2\", \"Topic2\", \"Topic2\", \"Topic2\", \"Topic2\", \"Topic2\", \"Topic2\", \"Topic2\", \"Topic2\", \"Topic2\", \"Topic2\", \"Topic2\", \"Topic2\", \"Topic2\", \"Topic2\", \"Topic3\", \"Topic3\", \"Topic3\", \"Topic3\", \"Topic3\", \"Topic3\", \"Topic3\", \"Topic3\", \"Topic3\", \"Topic3\", \"Topic3\", \"Topic3\", \"Topic3\", \"Topic3\", \"Topic3\", \"Topic3\", \"Topic3\", \"Topic3\", \"Topic3\", \"Topic3\", \"Topic3\", \"Topic3\", \"Topic3\", \"Topic3\", \"Topic3\", \"Topic3\", \"Topic3\", \"Topic3\", \"Topic3\", \"Topic3\", \"Topic3\", \"Topic3\", \"Topic3\", \"Topic3\", \"Topic3\", \"Topic3\", \"Topic3\", \"Topic3\", \"Topic3\", \"Topic3\", \"Topic3\", \"Topic3\", \"Topic3\", \"Topic3\", \"Topic3\", \"Topic3\", \"Topic3\", \"Topic3\", \"Topic3\", \"Topic3\", \"Topic3\", \"Topic3\", \"Topic3\", \"Topic3\", \"Topic3\", \"Topic3\", \"Topic4\", \"Topic4\", \"Topic4\", \"Topic4\", \"Topic4\", \"Topic4\", \"Topic4\", \"Topic4\", \"Topic4\", \"Topic4\", \"Topic4\", \"Topic4\", \"Topic4\", \"Topic4\", \"Topic4\", \"Topic4\", \"Topic4\", \"Topic4\", \"Topic4\", \"Topic4\", \"Topic4\", \"Topic4\", \"Topic4\", \"Topic4\", \"Topic4\", \"Topic4\", \"Topic4\", \"Topic4\", \"Topic4\", \"Topic4\", \"Topic4\", \"Topic4\", \"Topic4\", \"Topic4\", \"Topic4\", \"Topic4\", \"Topic4\", \"Topic4\", \"Topic4\", \"Topic4\", \"Topic4\", \"Topic4\", \"Topic4\", \"Topic4\", \"Topic4\", \"Topic4\", \"Topic4\", \"Topic4\", \"Topic4\", \"Topic4\", \"Topic4\", \"Topic4\", \"Topic4\", \"Topic4\", \"Topic4\", \"Topic5\", \"Topic5\", \"Topic5\", \"Topic5\", \"Topic5\", \"Topic5\", \"Topic5\", \"Topic5\", \"Topic5\", \"Topic5\", \"Topic5\", \"Topic5\", \"Topic5\", \"Topic5\", \"Topic5\", \"Topic5\", \"Topic5\", \"Topic5\", \"Topic5\", \"Topic5\", \"Topic5\", \"Topic5\", \"Topic5\", \"Topic5\", \"Topic5\", \"Topic5\", \"Topic5\", \"Topic5\", \"Topic5\", \"Topic5\", \"Topic5\", \"Topic5\", \"Topic5\", \"Topic5\", \"Topic5\", \"Topic5\", \"Topic5\", \"Topic5\", \"Topic5\", \"Topic5\", \"Topic5\", \"Topic5\", \"Topic5\", \"Topic5\", \"Topic5\", \"Topic5\", \"Topic5\", \"Topic5\", \"Topic5\", \"Topic5\", \"Topic5\", \"Topic5\", \"Topic5\", \"Topic5\", \"Topic5\", \"Topic5\", \"Topic5\", \"Topic5\", \"Topic5\", \"Topic5\", \"Topic5\", \"Topic5\", \"Topic5\", \"Topic5\", \"Topic5\", \"Topic5\", \"Topic5\", \"Topic5\", \"Topic5\", \"Topic6\", \"Topic6\", \"Topic6\", \"Topic6\", \"Topic6\", \"Topic6\", \"Topic6\", \"Topic6\", \"Topic6\", \"Topic6\", \"Topic6\", \"Topic6\", \"Topic6\", \"Topic6\", \"Topic6\", \"Topic6\", \"Topic6\", \"Topic6\", \"Topic6\", \"Topic6\", \"Topic6\", \"Topic6\", \"Topic6\", \"Topic6\", \"Topic6\", \"Topic6\", \"Topic6\", \"Topic6\", \"Topic6\", \"Topic6\", \"Topic6\", \"Topic6\", \"Topic6\", \"Topic6\", \"Topic6\", \"Topic6\", \"Topic6\", \"Topic6\", \"Topic6\", \"Topic6\", \"Topic6\", \"Topic6\", \"Topic6\", \"Topic6\", \"Topic6\", \"Topic6\", \"Topic6\", \"Topic6\", \"Topic6\", \"Topic6\", \"Topic6\", \"Topic6\", \"Topic6\", \"Topic6\", \"Topic6\", \"Topic6\", \"Topic6\", \"Topic6\", \"Topic6\", \"Topic6\", \"Topic6\", \"Topic6\", \"Topic6\", \"Topic6\", \"Topic6\", \"Topic7\", \"Topic7\", \"Topic7\", \"Topic7\", \"Topic7\", \"Topic7\", \"Topic7\", \"Topic7\", \"Topic7\", \"Topic7\", \"Topic7\", \"Topic7\", \"Topic7\", \"Topic7\", \"Topic7\", \"Topic7\", \"Topic7\", \"Topic7\", \"Topic7\", \"Topic7\", \"Topic7\", \"Topic7\", \"Topic7\", \"Topic7\", \"Topic7\", \"Topic7\", \"Topic7\", \"Topic7\", \"Topic7\", \"Topic7\", \"Topic7\", \"Topic7\", \"Topic7\", \"Topic7\", \"Topic7\", \"Topic7\", \"Topic7\", \"Topic7\", \"Topic7\", \"Topic7\", \"Topic7\", \"Topic7\", \"Topic7\", \"Topic7\", \"Topic7\", \"Topic7\", \"Topic7\", \"Topic7\", \"Topic7\", \"Topic7\", \"Topic7\", \"Topic7\", \"Topic7\", \"Topic7\", \"Topic7\", \"Topic7\", \"Topic7\", \"Topic8\", \"Topic8\", \"Topic8\", \"Topic8\", \"Topic8\", \"Topic8\", \"Topic8\", \"Topic8\", \"Topic8\", \"Topic8\", \"Topic8\", \"Topic8\", \"Topic8\", \"Topic8\", \"Topic8\", \"Topic8\", \"Topic8\", \"Topic8\", \"Topic8\", \"Topic8\", \"Topic8\", \"Topic8\", \"Topic8\", \"Topic8\", \"Topic8\", \"Topic8\", \"Topic8\", \"Topic8\", \"Topic8\", \"Topic8\", \"Topic8\", \"Topic8\", \"Topic8\", \"Topic8\", \"Topic8\", \"Topic8\", \"Topic8\", \"Topic8\", \"Topic8\", \"Topic8\", \"Topic8\", \"Topic8\", \"Topic8\", \"Topic8\", \"Topic8\", \"Topic8\", \"Topic8\", \"Topic8\", \"Topic8\", \"Topic8\", \"Topic8\", \"Topic8\", \"Topic8\", \"Topic8\", \"Topic8\", \"Topic9\", \"Topic9\", \"Topic9\", \"Topic9\", \"Topic9\", \"Topic9\", \"Topic9\", \"Topic9\", \"Topic9\", \"Topic9\", \"Topic9\", \"Topic9\", \"Topic9\", \"Topic9\", \"Topic9\", \"Topic9\", \"Topic9\", \"Topic9\", \"Topic9\", \"Topic9\", \"Topic9\", \"Topic9\", \"Topic9\", \"Topic9\", \"Topic9\", \"Topic9\", \"Topic9\", \"Topic9\", \"Topic9\", \"Topic9\", \"Topic9\", \"Topic9\", \"Topic9\", \"Topic9\", \"Topic9\", \"Topic9\", \"Topic9\", \"Topic9\", \"Topic9\", \"Topic9\", \"Topic9\", \"Topic9\", \"Topic9\", \"Topic9\", \"Topic9\", \"Topic9\", \"Topic9\", \"Topic9\", \"Topic9\", \"Topic9\", \"Topic9\", \"Topic9\", \"Topic9\", \"Topic9\", \"Topic9\", \"Topic9\", \"Topic9\", \"Topic9\", \"Topic9\", \"Topic9\", \"Topic9\", \"Topic9\", \"Topic9\", \"Topic10\", \"Topic10\", \"Topic10\", \"Topic10\", \"Topic10\", \"Topic10\", \"Topic10\", \"Topic10\", \"Topic10\", \"Topic10\", \"Topic10\", \"Topic10\", \"Topic10\", \"Topic10\", \"Topic10\", \"Topic10\", \"Topic10\", \"Topic10\", \"Topic10\", \"Topic10\", \"Topic10\", \"Topic10\", \"Topic10\", \"Topic10\", \"Topic10\", \"Topic10\", \"Topic10\", \"Topic10\", \"Topic10\", \"Topic10\", \"Topic10\", \"Topic10\", \"Topic10\", \"Topic10\", \"Topic10\", \"Topic10\", \"Topic10\", \"Topic10\", \"Topic10\", \"Topic10\", \"Topic10\", \"Topic10\", \"Topic10\", \"Topic10\", \"Topic10\", \"Topic10\", \"Topic10\", \"Topic10\", \"Topic10\", \"Topic10\", \"Topic10\", \"Topic10\", \"Topic10\", \"Topic10\", \"Topic10\"], \"logprob\": [30.0, 29.0, 28.0, 27.0, 26.0, 25.0, 24.0, 23.0, 22.0, 21.0, 20.0, 19.0, 18.0, 17.0, 16.0, 15.0, 14.0, 13.0, 12.0, 11.0, 10.0, 9.0, 8.0, 7.0, 6.0, 5.0, 4.0, 3.0, 2.0, 1.0, -4.3545, -4.6765, -5.1426, -5.1953, -5.2996, -5.3777, -5.4089, -5.3941, -5.4699, -5.554, -5.3421, -5.1062, -5.6898, -5.8072, -5.8456, -5.9141, -6.0023, -5.9829, -5.9808, -6.2116, -6.2191, -6.2581, -5.4777, -6.3169, -6.33, -6.3327, -6.1633, -6.3734, -6.3754, -6.4089, -4.2569, -4.3617, -6.2098, -6.0154, -5.0757, -5.3084, -3.8861, -5.0372, -4.9962, -4.1174, -4.8831, -4.736, -5.409, -5.6269, -5.4936, -4.7124, -3.8855, -4.7008, -4.6775, -4.6259, -4.8808, -5.2334, -4.89, -5.1851, -5.2191, -4.9506, -4.9432, -4.9235, -5.1084, -5.2161, -5.2431, -4.629, -5.0393, -5.1254, -5.1698, -5.3427, -5.3907, -5.2121, -5.4187, -5.4865, -5.6383, -5.687, -5.8072, -5.8952, -5.8655, -5.918, -5.8708, -6.0272, -5.8317, -6.0611, -6.0975, -6.1479, -6.1596, -6.1867, -6.1831, -5.9125, -5.8675, -6.1234, -6.2502, -6.2258, -6.2803, -5.8095, -5.7535, -4.9619, -5.5815, -5.3901, -5.2543, -4.7867, -4.7156, -3.2601, -5.5122, -4.6849, -5.0949, -4.6652, -4.7976, -5.2183, -4.9162, -5.1423, -5.251, -5.31, -5.3845, -4.8272, -4.7712, -4.7759, -5.2788, -4.6132, -4.9699, -5.1135, -4.9193, -5.1656, -5.329, -5.2929, -5.3093, -4.3557, -4.5114, -4.6626, -5.0669, -5.0685, -3.3667, -5.3408, -5.3966, -5.4518, -4.4232, -5.5619, -5.5486, -5.6201, -5.6055, -5.6444, -5.6561, -5.6775, -5.8297, -5.8543, -5.9157, -5.9763, -6.0192, -6.032, -6.0634, -5.9283, -6.1277, -4.7993, -6.1404, -6.1612, -6.2256, -4.1859, -4.019, -4.6979, -3.8769, -4.93, -5.4145, -5.5344, -4.7098, -5.1185, -5.4075, -4.5912, -4.0558, -4.6461, -3.7536, -4.4686, -4.4606, -4.5303, -4.9568, -4.931, -5.2027, -4.3466, -4.7617, -4.8934, -5.0528, -5.0923, -5.0398, -3.2427, -4.3319, -4.597, -4.7732, -4.8081, -4.8433, -4.8584, -4.9358, -4.9663, -5.088, -5.2325, -5.2917, -5.3386, -5.3402, -5.3257, -5.3731, -5.4702, -5.5551, -5.6387, -5.6474, -5.7591, -5.8263, -5.8727, -5.9032, -5.9108, -5.8613, -6.1288, -6.1347, -6.1562, -6.2212, -2.694, -5.0286, -4.3517, -5.9105, -5.5488, -3.5328, -4.293, -4.2426, -4.4614, -5.3632, -3.5952, -3.9043, -5.3127, -4.4779, -5.0288, -3.9624, -4.5183, -4.7256, -4.7093, -4.9394, -4.9566, -5.012, -4.8322, -4.8822, -4.9642, -5.1222, -5.4718, -5.4487, -5.7366, -5.8431, -4.6662, -5.9643, -6.0031, -6.0257, -6.0521, -6.0766, -6.1014, -6.1251, -6.1578, -6.1866, -6.2103, -6.2315, -6.2601, -6.2619, -6.2859, -6.3013, -6.3124, -6.355, -6.3613, -4.3033, -6.2521, -6.4362, -6.4553, -6.4949, -6.548, -6.3636, -5.4063, -5.8908, -6.0583, -6.3014, -5.6049, -4.4416, -4.628, -3.9798, -5.4043, -4.8316, -4.8959, -4.7749, -4.5354, -4.0991, -4.7455, -3.8853, -4.9428, -5.279, -3.7997, -4.3657, -4.5656, -4.8659, -5.1494, -5.3696, -4.7198, -5.1471, -5.3309, -4.8738, -4.6081, -4.6983, -4.8974, -5.0917, -4.9118, -4.6215, -4.9869, -5.1254, -5.0458, -5.0382, -4.6532, -5.283, -5.3174, -5.4826, -5.5677, -5.5812, -5.601, -4.1885, -5.6357, -5.6878, -5.7191, -5.7389, -5.7548, -5.5655, -5.8917, -5.7801, -5.8265, -5.964, -5.3782, -5.9865, -6.0023, -6.003, -6.0191, -4.9629, -6.0717, -6.0578, -5.6573, -6.14, -6.0825, -6.169, -4.2466, -5.1409, -3.8079, -5.6168, -5.8471, -4.9478, -5.1653, -5.4735, -4.1877, -5.2005, -4.5816, -5.5172, -3.5804, -5.2066, -5.0941, -4.8043, -5.3046, -5.4193, -5.3734, -3.8779, -4.4162, -4.6708, -5.2616, -5.1691, -5.3056, -4.9965, -4.7354, -4.9051, -5.1069, -4.8309, -5.2533, -5.2844, -5.1594, -5.2361, -5.2767, -4.684, -4.8005, -5.0842, -5.2521, -5.3365, -5.4173, -5.428, -5.4501, -5.6103, -5.6985, -5.7046, -4.8, -5.7206, -5.7321, -5.7805, -5.7875, -5.7983, -5.8883, -5.8938, -5.9193, -5.9207, -3.0252, -6.023, -6.0601, -6.15, -6.1809, -6.229, -6.2291, -6.2405, -6.199, -2.8557, -3.6759, -5.7322, -3.7608, -4.7288, -5.5346, -2.7313, -3.4501, -5.0241, -4.3011, -4.9079, -5.5598, -4.9727, -5.0644, -5.2536, -5.1271, -5.0494, -4.8397, -5.0854, -4.9837, -5.1292, -4.6686, -4.7501, -5.0095, -5.0119, -5.2729, -5.1907, -3.586, -3.8465, -3.9597, -4.075, -4.1509, -4.2395, -4.3165, -4.6984, -4.9409, -4.9903, -5.1787, -5.2287, -5.5569, -5.5642, -5.6112, -5.6925, -5.7137, -5.2789, -5.7794, -5.7989, -5.8832, -5.9039, -5.9066, -5.9069, -5.8055, -5.9214, -5.7391, -5.5416, -5.9898, -6.0196, -5.1856, -4.8855, -5.209, -4.0308, -3.8229, -4.3847, -3.0894, -4.7727, -4.9568, -4.4501, -5.0048, -5.1691, -4.718, -4.3256, -5.1502, -4.5362, -5.112, -4.1171, -4.5381, -4.764, -4.5973, -4.6159, -5.0707, -5.093, -5.0498, -4.9238, -5.0738, -5.2481, -5.2916, -5.2973, -5.3927, -5.4888, -5.4996, -5.6436, -5.7607, -5.787, -5.8492, -5.8523, -5.8934, -5.3705, -5.9706, -5.9732, -6.0143, -6.0548, -5.6109, -6.119, -6.1373, -6.1498, -4.685, -6.2025, -6.2501, -6.2518, -6.2805, -6.2987, -6.0749, -4.6424, -4.5166, -5.2591, -4.7613, -4.8608, -4.6698, -4.2115, -4.6487, -4.7395, -5.5459, -4.3773, -4.8913, -4.8734, -4.552, -5.1972, -5.2177, -4.833, -4.9954, -4.9434, -5.3284, -4.6784, -4.8463, -4.9682, -4.9993, -4.4529, -4.7189, -4.642, -4.6596, -4.756, -5.1506, -4.9919, -4.9991, -5.0258, -4.1557, -4.4134, -4.4729, -4.6754, -4.5759, -4.8378, -4.8912, -4.9542, -4.9631, -5.0152, -5.1697, -5.2044, -5.2332, -5.2763, -5.3967, -5.4642, -5.4899, -5.4918, -5.5433, -5.4938, -5.5911, -5.6375, -5.6151, -5.3467, -5.6611, -5.6669, -5.6838, -5.7308, -5.7032, -5.7691, -5.0921, -5.3737, -4.0779, -5.4768, -4.3135, -3.3901, -4.7906, -4.3618, -4.5211, -3.522, -4.6763, -4.7028, -4.9732, -4.8715, -3.8916, -4.9183, -5.1479, -4.1924, -4.7612, -4.8289, -5.0267, -4.9113, -4.7951, -4.8126, -4.9966], \"loglift\": [30.0, 29.0, 28.0, 27.0, 26.0, 25.0, 24.0, 23.0, 22.0, 21.0, 20.0, 19.0, 18.0, 17.0, 16.0, 15.0, 14.0, 13.0, 12.0, 11.0, 10.0, 9.0, 8.0, 7.0, 6.0, 5.0, 4.0, 3.0, 2.0, 1.0, 1.8937, 1.8932, 1.8919, 1.8918, 1.8914, 1.8911, 1.8908, 1.8906, 1.8905, 1.8902, 1.89, 1.89, 1.8895, 1.8887, 1.8881, 1.8881, 1.8874, 1.8873, 1.8861, 1.8856, 1.8856, 1.8852, 1.885, 1.8846, 1.8844, 1.8844, 1.8843, 1.8839, 1.8838, 1.8835, 1.8753, 1.8754, 1.8823, 1.8785, 1.8448, 1.8324, 1.7479, 1.8144, 1.8052, 1.7243, 1.758, 1.7331, 1.8073, 1.8113, 1.7442, 1.397, 0.9793, 1.2527, 1.1788, 1.1382, 1.1525, 1.4697, 0.9211, 1.3646, 1.3347, 0.6392, 0.433, 0.1572, 0.8658, 0.8709, 0.851, 2.0799, 2.0797, 2.0794, 2.0792, 2.0784, 2.0781, 2.078, 2.078, 2.0777, 2.0768, 2.0764, 2.0755, 2.0748, 2.0747, 2.0747, 2.0745, 2.0737, 2.0736, 2.0733, 2.073, 2.0724, 2.0723, 2.072, 2.072, 2.0719, 2.0717, 2.0714, 2.0713, 2.0711, 2.0709, 2.0705, 2.0529, 1.9259, 1.9967, 1.9669, 1.9417, 1.8457, 1.8263, 1.5157, 1.9498, 1.6662, 1.7161, 1.4855, 1.5242, 1.7089, 1.4842, 1.5817, 1.6512, 1.6873, 1.6983, 1.147, 1.0578, 1.0081, 1.5441, 0.2516, 0.8946, 1.152, 0.6704, 0.6455, 1.4753, 0.9223, 1.1403, 2.2421, 2.2417, 2.2413, 2.2399, 2.2399, 2.2397, 2.2385, 2.2382, 2.2379, 2.2378, 2.2371, 2.2371, 2.2367, 2.2367, 2.2365, 2.2364, 2.2362, 2.2349, 2.2347, 2.2341, 2.2335, 2.233, 2.2329, 2.2325, 2.2319, 2.2317, 2.2317, 2.2316, 2.2313, 2.2304, 2.1644, 2.1574, 2.1538, 2.0871, 2.1493, 2.1741, 2.1751, 2.0552, 2.1075, 2.0962, 1.8657, 1.6995, 1.8624, 1.0223, 1.3694, 1.3607, 1.3697, 1.7051, 1.665, 1.9036, 0.8931, 1.3544, 1.4549, 1.4326, 1.112, 0.832, 2.2654, 2.2648, 2.2641, 2.2636, 2.2635, 2.2634, 2.2633, 2.263, 2.2629, 2.2624, 2.2615, 2.2613, 2.2611, 2.2611, 2.2611, 2.2609, 2.2603, 2.2597, 2.2587, 2.2582, 2.258, 2.2573, 2.257, 2.2567, 2.2566, 2.2565, 2.2541, 2.254, 2.2538, 2.2529, 2.2409, 2.2529, 2.2332, 2.2508, 2.2408, 2.0989, 2.1193, 2.0566, 2.0544, 2.1514, 1.4855, 1.3016, 2.073, 1.414, 1.8131, 0.9024, 1.2523, 1.3685, 0.836, 1.3161, 1.3427, 1.4487, 0.9517, 0.6479, 0.5136, 2.2834, 2.2813, 2.2808, 2.279, 2.2784, 2.2782, 2.2771, 2.2767, 2.2764, 2.2761, 2.2758, 2.2755, 2.2749, 2.2747, 2.2743, 2.274, 2.2737, 2.2733, 2.2733, 2.2729, 2.2725, 2.2724, 2.2718, 2.2717, 2.271, 2.2707, 2.2704, 2.2701, 2.2694, 2.2683, 2.2673, 2.2445, 2.2496, 2.2554, 2.2644, 2.1878, 2.0414, 2.0642, 1.9776, 2.154, 2.0524, 2.0395, 1.9854, 1.8806, 1.6715, 1.8093, 1.4909, 1.8486, 1.9259, 1.2811, 1.5262, 1.4608, 1.6195, 1.77, 1.8804, 1.441, 1.7047, 1.8116, 1.3823, 1.0584, 1.1128, 1.3179, 1.5322, 1.1538, 0.2433, 1.1152, 1.4817, 1.0194, 0.8618, 2.3176, 2.3147, 2.3147, 2.3136, 2.313, 2.3129, 2.3126, 2.3125, 2.3124, 2.3119, 2.3117, 2.3115, 2.3114, 2.3106, 2.31, 2.3097, 2.3096, 2.3092, 2.3091, 2.309, 2.3088, 2.3088, 2.3086, 2.3081, 2.3079, 2.3078, 2.3071, 2.3068, 2.3068, 2.3066, 2.2884, 2.2435, 2.1333, 2.2664, 2.2861, 2.1586, 2.1803, 2.2269, 1.9869, 2.1617, 2.0236, 2.218, 1.6255, 2.1168, 2.0771, 1.9324, 2.1329, 2.1736, 2.151, 1.3592, 1.5924, 1.6878, 2.0243, 1.7551, 1.8942, 1.3872, 0.7424, 1.0484, 1.4696, 0.7144, 1.7087, 1.7145, 0.3706, 0.3956, 1.0943, 2.3654, 2.365, 2.3637, 2.3629, 2.3624, 2.3618, 2.3617, 2.3616, 2.3603, 2.3596, 2.3595, 2.3594, 2.3594, 2.3591, 2.3588, 2.3587, 2.3586, 2.3576, 2.3576, 2.3573, 2.3573, 2.3564, 2.356, 2.3556, 2.3543, 2.3538, 2.3531, 2.3531, 2.3528, 2.3524, 2.2906, 2.2697, 2.3357, 2.214, 2.2654, 2.3041, 1.9243, 1.787, 2.1151, 1.7076, 1.8602, 2.1759, 1.8267, 1.84, 1.9436, 1.8038, 1.6798, 1.4199, 1.6069, 1.4349, 1.5636, 0.8767, 0.7799, 1.1948, 0.8094, 1.1202, 0.2872, 2.4492, 2.449, 2.4488, 2.4486, 2.4484, 2.4481, 2.448, 2.4467, 2.4459, 2.4455, 2.4446, 2.4443, 2.4419, 2.4418, 2.4414, 2.4406, 2.4404, 2.4402, 2.4397, 2.4395, 2.4385, 2.4383, 2.4383, 2.4382, 2.4382, 2.4381, 2.4378, 2.4375, 2.4372, 2.4368, 2.4292, 2.393, 2.4018, 2.303, 2.2655, 2.3055, 2.1503, 2.3091, 2.3313, 2.2404, 2.2988, 2.313, 2.1767, 1.9339, 2.2045, 1.8121, 2.1335, 0.5386, 0.9397, 1.3453, 0.948, 0.9141, 1.6165, 1.6361, 0.3264, 2.4689, 2.4682, 2.4671, 2.4668, 2.4663, 2.4661, 2.4653, 2.4649, 2.4631, 2.4627, 2.4625, 2.4617, 2.4617, 2.4612, 2.4611, 2.4602, 2.4602, 2.4596, 2.459, 2.4589, 2.4579, 2.4578, 2.4573, 2.4573, 2.4567, 2.4558, 2.4558, 2.4553, 2.455, 2.4542, 2.4526, 2.4409, 2.4481, 2.4405, 2.435, 2.3913, 2.3411, 2.3639, 2.343, 2.4119, 2.2831, 2.3354, 2.3268, 2.2677, 2.361, 2.3622, 2.2908, 2.2666, 2.2142, 2.3376, 1.9902, 2.0227, 2.0563, 1.97, 1.3112, 1.5705, 1.1869, 1.1029, 1.2704, 2.0567, 1.169, 0.8572, 0.6407, 2.9563, 2.9553, 2.955, 2.9539, 2.9536, 2.9528, 2.9525, 2.952, 2.9518, 2.9515, 2.9501, 2.9497, 2.9494, 2.9486, 2.9475, 2.9467, 2.9464, 2.9464, 2.9457, 2.9451, 2.945, 2.9443, 2.944, 2.944, 2.9439, 2.9438, 2.9436, 2.9428, 2.9422, 2.9421, 2.939, 2.9375, 2.9056, 2.9341, 2.8431, 2.7685, 2.8692, 2.7844, 2.7765, 2.5801, 2.7471, 2.6242, 2.7263, 2.6639, 2.1954, 2.6598, 2.7644, 1.841, 2.2928, 2.0367, 2.4544, 1.7143, 1.0262, -0.157, 0.7873]}, \"token.table\": {\"Topic\": [1, 5, 9, 10, 7, 8, 10, 1, 2, 4, 5, 7, 9, 8, 3, 6, 5, 2, 1, 2, 7, 3, 4, 8, 10, 1, 8, 9, 9, 1, 3, 4, 5, 6, 7, 8, 9, 8, 6, 6, 7, 1, 2, 4, 6, 9, 2, 5, 9, 6, 6, 7, 1, 3, 5, 7, 8, 9, 10, 5, 2, 5, 6, 9, 3, 3, 8, 9, 10, 8, 1, 4, 5, 6, 8, 9, 6, 10, 1, 2, 3, 4, 5, 6, 7, 8, 9, 10, 1, 2, 5, 6, 7, 8, 5, 1, 2, 3, 5, 6, 7, 8, 10, 1, 3, 8, 3, 3, 8, 10, 9, 1, 5, 9, 10, 6, 8, 7, 10, 2, 2, 3, 4, 1, 6, 8, 6, 1, 2, 3, 4, 5, 6, 7, 8, 9, 2, 1, 2, 3, 4, 5, 6, 7, 8, 9, 10, 1, 3, 6, 7, 8, 9, 10, 1, 10, 2, 3, 8, 2, 5, 6, 9, 1, 2, 6, 7, 9, 4, 3, 8, 8, 8, 4, 1, 2, 4, 5, 9, 10, 7, 4, 5, 6, 7, 8, 7, 1, 2, 4, 5, 6, 7, 7, 1, 2, 6, 7, 9, 10, 1, 2, 4, 8, 9, 10, 9, 1, 2, 5, 9, 5, 9, 1, 5, 9, 10, 10, 8, 2, 4, 9, 10, 4, 1, 2, 5, 6, 7, 8, 9, 8, 1, 8, 1, 4, 5, 9, 10, 6, 2, 3, 4, 5, 6, 7, 8, 10, 1, 2, 5, 6, 9, 5, 5, 4, 6, 7, 7, 3, 8, 4, 6, 7, 1, 2, 3, 4, 5, 6, 7, 9, 10, 9, 2, 3, 6, 3, 6, 7, 8, 9, 10, 2, 5, 9, 1, 2, 6, 5, 9, 6, 7, 1, 4, 5, 8, 10, 1, 2, 3, 5, 6, 7, 9, 10, 7, 8, 6, 5, 9, 4, 6, 7, 4, 6, 1, 1, 2, 4, 6, 7, 8, 9, 10, 1, 2, 5, 2, 1, 2, 3, 4, 5, 6, 7, 8, 9, 10, 1, 2, 3, 4, 5, 6, 7, 8, 9, 10, 9, 3, 10, 6, 4, 8, 7, 7, 10, 7, 8, 10, 7, 10, 1, 2, 3, 4, 5, 6, 7, 8, 9, 7, 2, 3, 4, 5, 6, 7, 8, 9, 10, 4, 9, 2, 9, 2, 3, 8, 2, 9, 4, 9, 1, 2, 2, 1, 2, 9, 1, 9, 2, 9, 10, 4, 2, 1, 2, 3, 4, 5, 6, 7, 8, 2, 1, 9, 1, 2, 4, 5, 7, 3, 6, 6, 7, 8, 4, 5, 1, 9, 2, 2, 6, 7, 1, 3, 8, 7, 1, 3, 5, 6, 9, 10, 7, 10, 1, 2, 4, 5, 6, 7, 9, 9, 10, 1, 2, 4, 2, 3, 4, 5, 7, 10, 1, 4, 6, 3, 4, 10, 10, 5, 1, 1, 6, 10, 3, 8, 3, 3, 6, 8, 6, 7, 8, 10, 8, 10, 2, 6, 3, 8, 10, 2, 10, 2, 3, 5, 6, 9, 10, 1, 5, 7, 5, 1, 5, 10, 6, 5, 10, 1, 2, 3, 8, 10, 8, 8, 1, 4, 7, 1, 4, 5, 7, 8, 9, 10, 1, 2, 4, 1, 2, 9, 7, 8, 4, 6, 7, 5, 3, 4, 8, 10, 3, 2, 3, 5, 6, 7, 8, 2, 5, 1, 3, 4, 5, 6, 7, 8, 10, 1, 2, 6, 8, 9, 1, 2, 3, 4, 5, 6, 7, 8, 9, 10, 2, 5, 7, 8, 10, 6, 1, 2, 3, 4, 5, 6, 8, 9, 10, 1, 2, 1, 3, 8, 10, 9, 1, 5, 5, 1, 3, 4, 6, 8, 9, 10, 1, 9, 1, 9, 1, 9, 1, 2, 3, 4, 5, 6, 8, 9, 10, 2, 3, 6, 1, 2, 3, 5, 6, 8, 10, 4, 6, 8, 8, 5, 10, 4, 9, 6, 9, 7, 1, 1, 2, 4, 5, 5, 6, 5, 1, 2, 3, 5, 6, 9, 10, 6, 9, 3, 1, 5, 9, 1, 3, 6, 7, 8, 10, 10, 10, 10, 1, 8, 3, 8, 10, 5, 1, 3, 5, 5, 1, 2, 1, 2, 4, 5, 2, 1, 2, 3, 4, 5, 6, 7, 8, 9, 1, 2, 5, 7, 8, 9, 3, 1, 9, 3, 7, 10, 10, 9, 5, 9, 1, 2, 6, 9, 2, 2, 9, 10, 1, 6, 2, 2, 3, 5, 4, 8, 8, 10, 7, 4, 4, 3, 5, 1, 5, 9, 10, 1, 9, 6, 8, 6, 7, 6, 4, 3, 5, 8, 5, 2, 3, 4, 9, 8, 1, 2, 4, 5, 6, 7, 9, 2, 10, 2, 6, 2, 9, 2, 3, 4, 6, 7, 8, 10, 2, 3, 4, 6, 7, 8, 10, 1, 2, 4, 5, 6, 7, 9, 4, 4, 3, 4, 1, 5, 6, 7, 8, 10, 1, 2, 4, 5, 7, 4, 3, 3, 4, 6, 7, 7, 8, 10, 1, 2, 4, 5, 6, 10, 3, 8, 6, 7, 6, 7, 6, 7, 10, 1, 2, 3, 4, 5, 6, 7, 8, 9, 10, 10, 3, 1, 8, 9, 1, 4, 6, 7, 5, 9, 10, 2, 3, 5, 6, 6, 3, 6, 9, 3, 5, 6, 8, 7, 6, 7, 8, 7, 8, 10, 1, 2, 4, 5, 6, 7, 8, 9, 10, 1, 5, 6, 10, 1, 2, 3, 4, 5, 6, 7, 9, 10, 7, 8, 1, 2, 4, 5, 6, 7, 8, 9, 10, 4, 7, 2, 3, 7, 5, 6, 1, 2, 3, 8, 7, 10, 1, 5, 1, 4, 10, 1, 4, 9, 6, 6, 10, 3, 8, 1, 2, 3, 9, 5, 5, 7, 8, 10, 2, 3, 4, 5, 6, 7, 8, 2, 10, 2, 1, 2, 4, 6, 7, 1, 1, 2, 4, 10, 8, 10, 6, 8, 1, 2, 3, 5, 6, 9, 1, 1, 3, 4, 5, 6, 7, 8, 10, 6, 7, 8, 1, 2, 4, 7, 1, 2, 5, 6, 7, 8, 1, 2, 2, 1, 8, 2, 4, 5, 10, 7, 1, 10, 1, 4, 5, 6, 7, 10, 4, 4, 1, 4, 5, 6, 4, 6, 7, 8, 1, 2, 4, 9, 10, 1, 5, 6, 9, 3, 4, 7, 9, 1, 9, 5, 1, 3, 5, 6, 7, 8, 9, 10, 10, 9, 9, 10, 3, 4, 5, 6, 7, 8, 10, 2, 4, 6, 6, 9, 3, 5, 6, 1, 2, 3, 10, 1, 4, 5, 2, 3, 6, 7, 8, 10, 9, 10, 9, 1, 2, 1, 2, 3, 4, 5, 6, 7, 8, 9, 10, 1, 2, 3, 4, 5, 6, 7, 8, 9, 10, 1, 2, 3, 4, 5, 6, 7, 8, 9, 10, 9, 8, 5, 1, 2, 3, 4, 5, 6, 9, 1, 2, 4, 5, 6, 8, 9, 10, 6, 7, 3, 1, 2, 3, 8, 9, 10, 6, 1, 2, 3, 4, 5, 6, 7, 8, 9, 10, 9, 9, 9, 8, 8, 4, 6, 9, 1, 3, 9, 7, 7, 2, 10, 4, 1, 6, 8, 9, 3, 8, 10, 1, 5, 2, 1, 7, 8, 10, 2, 4, 6, 7, 9, 1, 2, 5, 6, 7, 1, 2, 3, 4, 5, 6, 7, 8, 9, 10, 1, 2, 4, 6, 7, 9, 2, 3, 5, 7, 8, 1, 9, 2, 6, 7, 8, 3, 8, 9, 6, 9, 3, 10, 1, 2, 5, 2, 7, 1, 7, 1, 7, 4, 3, 5, 6, 7, 1, 2, 3, 4, 5, 6, 7, 8, 9, 10, 3, 1, 5, 7, 9, 10, 5, 10, 6, 7, 4, 8, 4, 10, 8, 1, 2, 5, 9, 8, 1, 7, 4, 7, 1, 5, 9, 10, 5, 9, 10, 7, 1, 1, 2, 8, 5, 1, 5, 9, 3, 4, 6, 8, 10, 3, 5, 3, 3, 3, 1, 2, 3, 4, 5, 6, 7, 8, 9, 10, 7, 4, 7, 4, 9, 2, 9, 1, 4, 1, 2, 3, 4, 6, 7, 8, 9, 10, 5, 8, 10, 1, 2, 6, 7, 1, 5, 1, 4, 5, 3, 8, 1, 4, 1, 8, 5, 6, 9, 4, 1, 5, 9, 10, 9, 4, 6, 7, 1, 2, 8, 10, 1, 4, 6, 8, 7, 10, 9], \"Freq\": [0.002613718424941477, 0.799797838032092, 0.1960288818706108, 0.002613718424941477, 0.3681995982839128, 0.02301247489274455, 0.6040774659345445, 0.09716038386390081, 0.13880054837700118, 0.013880054837700117, 0.6642597672327913, 0.03172583962902884, 0.04957162442035756, 0.9920870867161454, 0.9830972406777119, 0.9890436967691769, 0.9769093840376479, 0.9944587505740338, 0.9873769684086767, 0.9887611352738684, 0.9950922848746099, 0.006573110265200685, 0.8084925626196843, 0.1314622053040137, 0.050393845366538584, 0.6070375328125868, 0.3312440383376375, 0.0598282183781636, 0.988482449398045, 0.04882138441416184, 0.029292830648497106, 0.002441069220708092, 0.4686852903759537, 0.11228918415257223, 0.004882138441416184, 0.26607654505718203, 0.06590886895911849, 0.9936629788761953, 0.9939733422107421, 0.9244456587135462, 0.06789713877557119, 0.14423534702948154, 0.6917409500393502, 0.14129176851867578, 0.011774314043222982, 0.008830735532417236, 0.00721260254557309, 0.01442520509114618, 0.9737013436523673, 0.9934017503682047, 0.8409478863596855, 0.15016926542137243, 0.011259462235694502, 0.003753154078564834, 0.36030279154222405, 0.04503784894277801, 0.0337783867070835, 0.030025232628518674, 0.5141821087633822, 0.9886497342907574, 0.06841796717263002, 0.014403782562658951, 0.021605673843988427, 0.8966354645255197, 0.9825276859323425, 0.9875223828046328, 0.86604004670144, 0.1304277178767229, 0.0026085543575344577, 0.9986023871093772, 0.03039512326172287, 0.20842370236609967, 0.01302648139788123, 0.6513240698940614, 0.05210592559152492, 0.03907944419364369, 0.014577718766949185, 0.9767071573855953, 0.0067154480833321985, 0.0026861792333328794, 0.06581139121665554, 0.026861792333328794, 0.4365041254165929, 0.049694315816658265, 0.09535936278331722, 0.014773985783330836, 0.29950898451661606, 0.0013430896166664397, 0.027384843619900973, 0.0034231054524876217, 0.19511701079179442, 0.5408506614930442, 0.10611626902711627, 0.12323179628955437, 0.9845355331710437, 0.20127656512244263, 0.10724955659808987, 0.4113681622940433, 0.13957134077833613, 0.023506752131088188, 0.04554433225398337, 0.06023605233591348, 0.013222548073737106, 0.9933875461808526, 0.9954666211497699, 0.003530023479254503, 0.9989300465838585, 0.9866505856071973, 0.011003538129448298, 0.9894471858472939, 0.9843985646052452, 0.017402967763863263, 0.008701483881931631, 0.9658647108944112, 0.004350741940965816, 0.9907939954970229, 0.9925732519628997, 0.9813207683678625, 0.9823565800953319, 0.9939395689224895, 0.874835716184401, 0.08466152092107107, 0.0395087097631665, 0.9942589834941058, 0.9843053372842164, 0.9966358570113548, 0.995315131454253, 0.06982228114244862, 0.0030357513540195057, 0.03642901624823407, 0.6344720329900767, 0.03642901624823407, 0.10017979468264368, 0.03946476760225357, 0.07589378385048764, 0.0030357513540195057, 0.988270485753626, 0.07521876006849819, 0.014716713926445298, 0.032703808725434, 0.19785804278887567, 0.03842697525238495, 0.14226156795563788, 0.20439880453396247, 0.21502754236972854, 0.023710261325939647, 0.054778879615101944, 0.1649256065742042, 0.14976003355588655, 0.293832977229904, 0.0018956966272897031, 0.10995040438280279, 0.27866740421158637, 0.0037913932545794063, 0.98226897629218, 0.008692645807895399, 0.9897612341475358, 0.9325528011324179, 0.057832731853173204, 0.7736680275109912, 0.011245174818473709, 0.006747104891084225, 0.209160251623611, 0.12556038527172458, 0.7878298683716053, 0.073859050159838, 0.004923936677322533, 0.004923936677322533, 0.9965405289023799, 0.18786583286463884, 0.8114760280680928, 0.9951383142375113, 0.9866957412522086, 0.9941387399729126, 0.46907367785054965, 0.11778502042943317, 0.001033201933591519, 0.053726500546758996, 0.31306018587823026, 0.04442768314443532, 0.988886259294229, 0.029888783596479517, 0.0201291807894658, 0.38245443499985016, 0.5587372607015354, 0.008539652456137005, 0.996135144099417, 0.26604967015481273, 0.5437938313054415, 0.10817404171129749, 0.07893781422175762, 0.4829380331585065, 0.5159256037294427, 0.9797570450735279, 0.5892901960155088, 0.13145704372653658, 0.05439601809373927, 0.011332503769529014, 0.15412205126559458, 0.05892901960155088, 0.3595991371423004, 0.018550749138293274, 0.02140471054418455, 0.0071349035147281826, 0.12700128256216164, 0.4651957091602775, 0.9944844382507169, 0.8510404032380349, 0.008364033447056855, 0.1359155435146739, 0.0041820167235284275, 0.7386750620634035, 0.26021507868142624, 0.0014486917846911103, 0.3100200419238976, 0.004346075354073331, 0.683782522374204, 0.9912969032584695, 0.9827603696498112, 0.5838038237415057, 0.4110455493690193, 0.002978590937456662, 0.9768204780607281, 0.9938181257608869, 0.16074732602708489, 0.11153896091675278, 0.5970614966720296, 0.03936669208826568, 0.006561115348044281, 0.07217226882848708, 0.013122230696088562, 0.9980746268083807, 0.9799040892410433, 0.01823848558655072, 0.8627000370436617, 0.0009071504069859744, 0.0009071504069859744, 0.08708643907065354, 0.04717182116327067, 0.9868658129144757, 0.6597044019329917, 0.01486657807172939, 0.05574966776898521, 0.0018583222589661737, 0.04831637873312052, 0.18025725911971885, 0.007433289035864695, 0.031591478402424954, 0.20644611262187276, 0.00480107238655518, 0.4464997319496318, 0.09362091153782602, 0.2496557641008694, 0.9802639490836268, 0.9755380693073529, 0.9880156508734131, 0.011356501734177162, 0.9887961553041787, 0.9940867008955212, 0.9228428408146608, 0.07612989230060582, 0.004662563708345929, 0.988463506169337, 0.004662563708345929, 0.057595110988550066, 0.028797555494275033, 0.15358696263613353, 0.07679348131806676, 0.057595110988550066, 0.3935665917550921, 0.14398777747137517, 0.049915762856743394, 0.03647690362608171, 0.9910282719493186, 0.9864704308526723, 0.8736695446391747, 0.12480993494845352, 0.09938344308069175, 0.3844570034963602, 0.44722549386311283, 0.0026153537652813617, 0.0026153537652813617, 0.06276849036675268, 0.07393231188997926, 0.11089846783496889, 0.8132554307897718, 0.3128863814154174, 0.6798518904828823, 0.003862794832289104, 0.9701206240848411, 0.01701966007166388, 0.985690809676867, 0.986103848068951, 0.08923556574055193, 0.8923556574055194, 0.017847113148110386, 0.7807655346507966, 0.2129360549047627, 0.10133629714365754, 0.15899315586332474, 0.043679438423990316, 0.16772904354812282, 0.04542661596094993, 0.029702018128313412, 0.40534518857463014, 0.04717379349790954, 0.1266863615954881, 0.8695291182235775, 0.9980241350660477, 0.9889101339698912, 0.006727279822924431, 0.9743909248281363, 0.023446704345702493, 0.0018035926419771148, 0.8098533486826107, 0.1887893427212186, 0.9940614850692594, 0.03342109205447067, 0.06274980549002657, 0.0017051577578811566, 0.052177827391163396, 0.6411393169633149, 0.14766666183250818, 0.016369514475659104, 0.044334101704910076, 0.3074604777967521, 0.6876535417389725, 0.0033060266429758294, 0.9872732873956412, 0.0721671022779449, 0.03026362353591238, 0.003879951735373382, 0.17304584739765283, 0.10010275477263325, 0.20641343232186393, 0.1249344458790229, 0.2203812585692081, 0.03724753665958447, 0.03181560423006173, 0.0008301870531095316, 0.004981122318657189, 0.004981122318657189, 0.23909387129554507, 0.04815084908035283, 0.20090526685250662, 0.22498069139268304, 0.22249013023335446, 0.004150935265547657, 0.050641410239681425, 0.9936405874097505, 0.9970620173121336, 0.9862537143169878, 0.9894634925636615, 0.9910028122865074, 0.983135180375205, 0.9948055828972864, 0.20040870805510247, 0.7944773783612991, 0.9377298351297974, 0.02467710092446835, 0.03290280123262447, 0.9942118530497419, 0.9774436060099799, 0.056954996316112415, 0.10251899336900235, 0.03417299778966745, 0.0022781998526444965, 0.6196703599193031, 0.0683459955793349, 0.07973699484255739, 0.03417299778966745, 0.0022781998526444965, 0.9930836921512468, 0.039213223909554694, 0.11763967172866407, 0.26142149273036464, 0.010456859709214585, 0.08626909260102032, 0.4679444719873527, 0.007842644781910938, 0.010456859709214585, 0.0026142149273036463, 0.9964873028856962, 0.9889046563000395, 0.3388801324598374, 0.6595409029594685, 0.9918176954577693, 0.9931686202655602, 0.005067186838089593, 0.9865070601706729, 0.98933149374282, 0.9866643076957373, 0.9921438517140796, 0.9914317060989031, 0.005110472711850016, 0.9943198728136192, 0.13031447573748461, 0.004343815857916153, 0.8644193557253145, 0.055596813562257354, 0.9358796949646655, 0.02316895940343352, 0.8765589640965681, 0.09653733084763966, 0.9944821175346675, 0.9857514104152576, 0.031103562575982513, 0.02488285006078601, 0.06013355431356619, 0.4416705885789517, 0.15966495455671023, 0.14514995868791838, 0.12441425030393005, 0.012441425030393005, 0.9966225292480585, 0.9964061832691975, 0.9756357428509825, 0.17580904721754492, 0.0005216885674111125, 0.45752087361954574, 0.3651819971877788, 0.0005216885674111125, 0.9825880142273937, 0.9870991079316861, 0.002785084077070379, 0.9246479135873658, 0.07241218600382984, 0.9847745240950947, 0.009423679656412389, 0.9203641052994924, 0.07715627230055624, 0.9885145315019523, 0.9943512727700464, 0.9897492237820821, 0.007069637312729158, 0.9993082745475885, 0.9971622981631765, 0.9916330503156059, 0.9944523386058545, 0.03924763452438641, 0.6858007716892783, 0.09708625382348218, 0.018590984774709354, 0.140465218297804, 0.016525319799741648, 0.9893773039916762, 0.9819177783253658, 0.23595063474185113, 0.01954620642831903, 0.21081979790544095, 0.28062767800658034, 0.1717273850488029, 0.009773103214159515, 0.07120403770316218, 0.8947707415405088, 0.09941897128227875, 0.013828338569713269, 0.12247957018888896, 0.8632834221378141, 0.18913243316435702, 0.05972603152558643, 0.019908677175195476, 0.11613395018864028, 0.567397299493071, 0.04313546721292353, 0.024593307742069068, 0.2951196929048288, 0.6776822577814587, 0.9874960140753833, 0.9903651005167685, 0.998277279743967, 0.9886928574981609, 0.9778934669624474, 0.9955971279763163, 0.937406417039064, 0.00818695560732807, 0.04912173364396842, 0.1273448736483784, 0.8682605021480346, 0.9921468597149667, 0.10453841899203975, 0.16362535146580134, 0.7272237842924505, 0.8156866786591479, 0.18180968138788237, 0.9442685232637016, 0.05167638684527721, 0.9496791902139615, 0.03929706993988807, 0.9958786733830635, 0.9901006862465981, 0.19842357100255348, 0.7616904822356085, 0.03840456212952648, 0.08253475862086046, 0.9147602413812034, 0.004350162905203995, 0.6829755761170273, 0.004350162905203995, 0.09135342100928391, 0.18923208637637381, 0.028276058883825974, 0.09321398783279958, 0.8762114856283161, 0.03107132927759986, 0.9899723150691601, 0.10932949548546221, 0.1396987997869795, 0.7410110249570216, 0.9933217852997658, 0.9826441724078991, 0.016261251080036156, 0.01888709890592016, 0.6043871649894451, 0.24013597180384202, 0.13220969234144112, 0.0026981569865600226, 0.9984365699973522, 0.9943540912758638, 0.9841202326859986, 0.1428578844146045, 0.857147306487627, 0.2655512184759366, 0.005772852575563839, 0.6436730621753681, 0.07216065719454799, 0.0028864262877819195, 0.0028864262877819195, 0.0028864262877819195, 0.9226090936652018, 0.027586318415238592, 0.04904234384931305, 0.24329425456254697, 0.11540881306172099, 0.6363080503943536, 0.9927754753186103, 0.9938053613358567, 0.08837768531177558, 0.007070214824942046, 0.9014523901801109, 0.9808756604059473, 0.4540130439396461, 0.014824915720478239, 0.5281376225420372, 0.0018531144650597799, 0.9981227862960946, 0.24841397381313707, 0.1453306241355768, 0.40388394381863785, 0.011829236848244622, 0.1656093158754247, 0.021968582718168584, 0.026455592258950146, 0.9656291174516803, 0.0038760238359886044, 0.12790878658762395, 0.11046667932567522, 0.09690059589971511, 0.07558246480177779, 0.2868257638631567, 0.21124329906137893, 0.0872105363097436, 0.8429636570322939, 0.029029212030251182, 0.001116508155009661, 0.12393240520607236, 0.002233016310019322, 0.037940173989171495, 0.34146156590254345, 0.08536539147563586, 0.2687428990899648, 0.0021077874438428608, 0.02634734304803576, 0.062179729593364395, 0.0484791112083858, 0.014754512106900026, 0.11382052196751449, 0.009576859793916707, 0.11492231752700048, 0.03830743917566683, 0.004788429896958353, 0.8331868020707535, 0.9906054115942905, 0.073822298925947, 0.38961768877583136, 0.008202477658438555, 0.0041012388292192775, 0.1373915007788458, 0.12508778429118794, 0.026658052389925302, 0.22556813560706024, 0.006151858243828916, 0.9808457846314528, 0.01791499150011786, 0.9955849455421114, 0.1140955169845813, 0.14578871614696498, 0.7416208603997784, 0.992333828056139, 0.034084451589971615, 0.9543646445192052, 0.9797031274126405, 0.035591540504248086, 0.7118308100849617, 0.08304692784324554, 0.023727693669498725, 0.09095615906641177, 0.04745538733899745, 0.003954615611583121, 0.07559554740757574, 0.922265678372424, 0.9125259814727639, 0.0845471356636107, 0.1721591623825103, 0.8253512784808583, 0.008845381165967324, 0.566873558201558, 0.29458965100569434, 0.009614544745616656, 0.031151124975797966, 0.014998689803161984, 0.04076566972141462, 0.0003845817898246662, 0.033074033924921295, 0.9191485033625338, 0.012677910391207362, 0.06338955195603682, 0.05481606601592799, 0.6481193687765604, 0.2547334832504889, 0.003224474471525176, 0.03546921918677694, 0.9797630270583833, 0.013151181571253468, 0.06327457406801335, 0.8502520890389292, 0.08700253934351834, 0.9974629964269196, 0.9885924581296028, 0.9919773114984437, 0.03345930722163544, 0.9607601073641033, 0.9860485479908285, 0.9893446779191252, 0.9920229083748133, 0.9932596695102218, 0.3569336890929434, 0.3926270580022377, 0.06883721146792479, 0.18101637089713557, 0.9565173089928071, 0.033366882871842106, 0.9805210754184038, 0.23428089679466682, 0.5486077666608449, 0.01757106725960001, 0.0019523408066222236, 0.007809363226488894, 0.11518810759071119, 0.07418895065164449, 0.10160493481125829, 0.8953934880242137, 0.9931383147501133, 0.2449919947567062, 0.09187199803376482, 0.6606034144332613, 0.012992383905817537, 0.21653973176362562, 0.008661589270545025, 0.6539499899261494, 0.008661589270545025, 0.09527748197599527, 0.9927251746752191, 0.9842545883870184, 0.9912189940584895, 0.9899993699464187, 0.9934853081745794, 0.16719660425052915, 0.8316959288359655, 0.0014290308055600782, 0.9844345615213779, 0.9989385268005848, 0.9894600571002129, 0.9782311823359254, 0.9839255898460114, 0.9137486403225646, 0.07945640350630996, 0.06135727047149158, 0.034318473314563086, 0.36294385414492475, 0.5397359894017649, 0.9950400182080911, 0.08359259975495681, 0.39407939884479637, 0.027295542777128753, 0.03923734274212259, 0.18936282801633073, 0.07335677121353353, 0.025589571353558205, 0.008529857117852736, 0.15694937096849035, 0.4883484050044, 0.015862825220560556, 0.19148696159105244, 0.07931412610280279, 0.026060355719492345, 0.19828531525700696, 0.9907870026211931, 0.0195490592603121, 0.9774529630156049, 0.9135552455107185, 0.012262486516922397, 0.07050929747230378, 0.9924852894079238, 0.9903311466474328, 0.983115563076174, 0.9856200399730297, 0.10463543740893202, 0.005507128284680632, 0.8260692427020949, 0.055071282846806326, 0.9879568785039138, 0.8892663412073546, 0.10671196094488254, 0.9940195735533801, 0.9923847158210697, 0.9913729835007854, 0.9890766349173159, 0.04250725603088495, 0.4442008255227477, 0.5122124351721636, 0.9977316604643788, 0.9881389134110787, 0.9926226298620034, 0.0072986958078088485, 0.9923049370480186, 0.9969564300154952, 0.9895199591372803, 0.9898251970030554, 0.9932006686889147, 0.30889234758941636, 0.010211317275683186, 0.6177846951788327, 0.061267903654099114, 0.9954005588560999, 0.003542350743260142, 0.9798042984927244, 0.9918779817721711, 0.8620933120043445, 0.12867064358273797, 0.9925702702961231, 0.9952493850942847, 0.8542561649301372, 0.10220790156475792, 0.04164025619304953, 0.9936949979388556, 0.11526017156303364, 0.826499766817851, 0.014056118483296786, 0.04216835544989035, 0.9947201401765762, 0.12220322102947871, 0.04800840826158092, 0.017457603004211245, 0.693939719417397, 0.0829236142700034, 0.026186404506316867, 0.004364400751052811, 0.9968172395532786, 0.9915119431111383, 0.02208499750340386, 0.9606973913980679, 0.9885911233182306, 0.9960378159066218, 0.08971102756496503, 0.41354595633605834, 0.02297477535200324, 0.050325698390102334, 0.21005508893260105, 0.06892432605600972, 0.14441287364116323, 0.16079447895559043, 0.5796794591647401, 0.08090932380567926, 0.023555879082666115, 0.10344103423257729, 0.033797565640347034, 0.017410867148057563, 0.3779441670604336, 0.23716267216686235, 0.004331738304417577, 0.3086363541897524, 0.0194928223698791, 0.004331738304417577, 0.04764912134859335, 0.9968915651192036, 0.9959087798069606, 0.01566311069433307, 0.9711128630486504, 0.02146255143635357, 0.5580263373451929, 0.34953298053490106, 0.003066078776621939, 0.06438765430906072, 0.003066078776621939, 0.05741875132695394, 0.22291985809287998, 0.3867321780550721, 0.16718989356966, 0.16381231996219212, 0.9910081342808954, 0.9905109449914326, 0.9928333779208895, 0.9929932429004149, 0.2206846304397353, 0.7764829589546242, 0.045467913173328815, 0.0034975317825637555, 0.9478311130747776, 0.05666680667100249, 0.043333440395472496, 0.05000012353323749, 0.7800019271185049, 0.06666683137764999, 0.0033333415688824993, 0.13515346489353097, 0.8620599382398192, 0.9908322862479217, 0.0064760280146922995, 0.5469573960458725, 0.4510622681677, 0.8287995451074874, 0.12086660032817526, 0.04809997359998811, 0.2846715858094449, 0.24301232934952616, 0.047734564693656924, 0.08505431527233415, 0.049470367046153534, 0.08071480939109262, 0.03731975057867723, 0.03558394822618061, 0.11456295526477661, 0.019961727053711076, 0.9857799324050159, 0.9961025954242457, 0.11072865852074813, 0.006920541157546758, 0.8719881858508916, 0.9856739727102393, 0.845367500258506, 0.14572180678974248, 0.008145939509985604, 0.7333160739325105, 0.1767479767939897, 0.08900075427215084, 0.9854704711036849, 0.9895564387843614, 0.08900263479326398, 0.9048601203981839, 0.9821572126990242, 0.004219625585908411, 0.7848503589789644, 0.21098127929542052, 0.06028079553826498, 0.010046799256377498, 0.8690481356766535, 0.06028079553826498, 0.994144894602626, 0.002114465195912266, 0.9874552464910282, 0.009867504247590574, 0.3866342598104363, 0.5969090326897964, 0.015261878676727748, 0.2044872419219027, 0.30501728264328504, 0.1302320982072453, 0.042268312576035756, 0.006854320958276068, 0.08567901197845086, 0.04455308622879445, 0.11766584311707251, 0.061688888624484614, 0.00860008034556668, 0.03440032138226672, 0.9460088380123349, 0.9956508387060776, 0.09832483347726151, 0.09832483347726151, 0.024581208369315377, 0.001536325523082211, 0.4286348209399369, 0.02919018493856201, 0.03533548703089085, 0.27192961758555134, 0.012290604184657689, 0.9056481137820525, 0.09291875312401358, 0.0977754005218442, 0.1340919778585292, 0.17180534663124053, 0.32126203028605954, 0.0670459889292646, 0.12291764637031843, 0.013967914360263458, 0.06006203174913287, 0.011174331488210766, 0.020689704454155865, 0.9724161093453256, 0.05773933465688288, 0.9084321986016239, 0.0307943118170042, 0.6665446603209102, 0.3332723301604551, 0.07334076413706578, 0.004681325370451007, 0.915979330818247, 0.004681325370451007, 0.16822596248138322, 0.8234218163562442, 0.9928005514044513, 0.9883108033041456, 0.0007998842232303676, 0.9982555105914988, 0.9973084927904146, 0.9932466717256407, 0.9925693211310522, 0.9813942095468292, 0.9930149025833414, 0.9968471613084674, 0.991343149319534, 0.935196625240045, 0.06405456337260583, 0.8716453854709191, 0.00496664037305367, 0.044699763357483026, 0.07698292578233189, 0.982971270686349, 0.012347170629254264, 0.07819874731861035, 0.06585157668935608, 0.83960760278929, 0.12676298445572964, 0.3225235427291349, 0.004813784219837835, 0.12676298445572964, 0.001604594739945945, 0.30968678480956735, 0.10750784757637831, 0.9942642204340565, 0.9929415632854475, 0.9949791644793221, 0.04771604819475482, 0.015905349398251608, 0.29623713254243617, 0.24454474699811846, 0.39365739760672724, 0.9907113322774218, 0.029586252513374354, 0.16272438882355894, 0.09368979962568545, 0.7150011024065469, 0.009970617208915159, 0.9771204864736855, 0.9911750944007333, 0.9978786575672361, 0.08760303079706562, 0.3130997211821049, 0.024334175221407118, 0.37961313345395103, 0.13140454619559844, 0.06489113392375231, 0.9974463242074648, 0.030429680165237005, 0.583235536500376, 0.08621742713483818, 0.03803710020654626, 0.030429680165237005, 0.14200517410443936, 0.030429680165237005, 0.06085936033047401, 0.06463212598369548, 0.588152346451629, 0.3425502677135861, 0.6526598802249641, 0.002642347693218478, 0.20081842468460434, 0.14268677543379782, 0.13121196944152752, 0.004100374045047735, 0.619156480802208, 0.18861720607219581, 0.02460224427028641, 0.028702618315334143, 0.9954731687112003, 0.993278194119179, 0.9924033529595422, 0.9523099002611655, 0.04597358139191833, 0.12550674183301505, 0.8262527170673492, 0.02091779030550251, 0.026147237881878137, 0.9883986379842141, 0.18462877860138574, 0.8091084709296021, 0.07745382430006996, 0.3807653652614126, 0.019511268716811515, 0.49901547869663393, 0.02010251928398762, 0.0029562528358805327, 0.9959130815363779, 0.9965054326807569, 0.12938203788752678, 0.10542240124168849, 0.019167709316670632, 0.742748736020987, 0.28761846822865, 0.10715197835969313, 0.600615036595122, 0.9866547906153585, 0.13102879032040957, 0.19309505941955096, 0.0689625212212682, 0.6034220606860967, 0.0034481260610634097, 0.0988851512961663, 0.2636937367897768, 0.5669415340980202, 0.0659234341974442, 0.8648994449607723, 0.04118568785527488, 0.08825504540416045, 0.005883669693610696, 0.18408993376930552, 0.8135587395611245, 0.9932294702310553, 0.037876058987084175, 0.41663664885792595, 0.24027624919931526, 0.008285387903424663, 0.04379419320381608, 0.16097325069510776, 0.07338486428747559, 0.01775440265019571, 0.9963161114195634, 0.9806491412655632, 0.9919949774840576, 0.9942269832939455, 0.03782352641278159, 0.11347057923834476, 0.0029095020317524297, 0.06400904469855345, 0.581900406350486, 0.15420360768287877, 0.046552032508038875, 0.9859237291689247, 0.008573249818860216, 0.9951047479825748, 0.008167773256984711, 0.9883005640951501, 0.18234702058737925, 0.7802756229785531, 0.03604534127890055, 0.05190880213970058, 0.8694724358399847, 0.06056026916298401, 0.021628667558208574, 0.3520950465194872, 0.4067057067959791, 0.23999948068879332, 0.11443168878980839, 0.015604321198610235, 0.1872518543833228, 0.2184604967805433, 0.43432027336131823, 0.028607922197452097, 0.10811995305488509, 0.8899103828363619, 0.9789925959226989, 0.0238930031704321, 0.971648795597572, 0.07008612054076811, 0.0767609891636984, 0.4171792889331435, 0.040049211737581775, 0.04338664604904692, 0.02224956207643432, 0.1546344564312185, 0.040049211737581775, 0.13460985056242764, 0.001112478103821716, 0.18181909678153185, 0.06904522662589817, 0.2439598007448402, 0.08400502572817611, 0.20713567987769452, 0.03797487464424399, 0.041427135975538903, 0.04372864352973551, 0.017261306656474542, 0.07594974928848798, 0.23203528141694, 0.055380021848756074, 0.04416381489204598, 0.01121620695671009, 0.45075131707278676, 0.013319245761093232, 0.032246595000541514, 0.1198732118498391, 0.026638491522186464, 0.014721271630681994, 0.9839408646009438, 0.9948520879756445, 0.9967495537446606, 0.11558091735761537, 0.5505301589928522, 0.09885210037164473, 0.009124809265074899, 0.19162099456657286, 0.03345763397194129, 0.0015208015441791497, 0.5256837242234628, 0.022475788684138548, 0.0536921618565532, 0.013735204195862447, 0.2796987036248353, 0.04120561258758734, 0.0536921618565532, 0.009989239415172688, 0.9891953205375527, 0.9935782734403596, 0.9930856940882868, 0.07091723567180014, 0.158952424781621, 0.1271619398252968, 0.08069892335066912, 0.2714418330886143, 0.28855978652663505, 0.9954865231699037, 0.05071323224671492, 0.35830001043874676, 0.018741846699872906, 0.06835261737600708, 0.005512307852903796, 0.01322953884696911, 0.07496738679949162, 0.12127077276388351, 0.2756153926451898, 0.011024615705807593, 0.9814168864002815, 0.9809522079432306, 0.9903455222125321, 0.9866636531551233, 0.9946299259116576, 0.9960451096904818, 0.9886914141543072, 0.009327277492021765, 0.1994004173292142, 0.5602202201154114, 0.2373814492014455, 0.9948948381192614, 0.9827465762923039, 0.9935121753525109, 0.9923295928649998, 0.9922045323355594, 0.004460755954003124, 0.05798982740204061, 0.06691133931004686, 0.8698474110306091, 0.1348808082337622, 0.8574565666289168, 0.9943496760485165, 0.9924487762009796, 0.9956877466229218, 0.9914329835642279, 0.9942580893405387, 0.5017275914250351, 0.44206268866097687, 0.05424082069459839, 0.9883358075362686, 0.9972326497021577, 0.8530313997454302, 0.1430232286998326, 0.9923165066221167, 0.0887871901972911, 0.0654221401453724, 0.10747923023882608, 0.7165282015921738, 0.021807380048457465, 0.07965275903064202, 0.11151386264289882, 0.13868950984158845, 0.023427282067835887, 0.2923724802065919, 0.08527530672692263, 0.07590439389978827, 0.014993460523414968, 0.16024260934399748, 0.01874182565426871, 0.36553087423435765, 0.0069846663866437765, 0.06984666386643777, 0.4260646495852704, 0.05587733109315021, 0.07683133025308155, 0.9973092728874142, 0.9879969357667723, 0.9931495824105392, 0.10908922228952178, 0.8869428073104597, 0.027262628909065813, 0.9678233262718363, 0.14098697501956248, 0.022261101318878283, 0.8236607487984965, 0.007420367106292762, 0.12904842150331408, 0.09574560305084592, 0.7701276767133259, 0.9911754331413293, 0.9953138776390023, 0.9953487554506487, 0.9805629437352779, 0.047675816110184156, 0.8549863022426358, 0.09535163222036831, 0.9933659763339446, 0.9953412654578006, 0.9912768821965205, 0.9946616637604967, 0.9913821379777946, 0.989822882793488, 0.9938509309952082, 0.9814488705148506, 0.9915947613368894, 0.9097442614990492, 0.08596008770069756, 0.174333113518211, 0.10418724535703734, 0.08046143700840508, 0.14338640697651675, 0.020631137694462842, 0.017536467040293414, 0.14029173632234732, 0.02991514965697112, 0.2537629936418929, 0.036104490965309974, 0.9964063325684518, 0.47606474243789193, 0.005409826618612408, 0.009467196582571714, 0.1825816483781688, 0.3272945104260507, 0.013194502222871128, 0.9763931644924635, 0.7430293825439591, 0.2508315749989161, 0.9903617246135044, 0.9824984955411837, 0.9878646094286582, 0.9909933473176475, 0.9922256135889912, 0.10228850895245564, 0.004546155953442473, 0.018184623813769892, 0.875135021037676, 0.9980467145464494, 0.9876560416405458, 0.9861673541368596, 0.0041701967565793505, 0.9925068280658854, 0.0063325052864421005, 0.7883969081620414, 0.20264016916614722, 0.9857422951503103, 0.9034739090235346, 0.08641924347181636, 0.986876394305665, 0.9845262994262775, 0.9931767379674328, 0.21984694593345583, 0.6737245117315581, 0.10637755448393024, 0.9782772330919851, 0.10864971779080665, 0.05633689070634419, 0.8329811697295176, 0.2029377104307573, 0.39705204214713385, 0.24881927974553722, 0.06882235397216988, 0.08117508417230293, 0.991335653866068, 0.9975626525534805, 0.9954940511699834, 0.9870694674730097, 0.9884110682932491, 0.40019494614152273, 0.1601620530251262, 0.0012611185277568993, 0.25558668829206493, 0.129474835516375, 0.0029426098980994317, 0.0016814913703425325, 0.030687217508751218, 0.0016814913703425325, 0.01639454086083969, 0.9898897115170978, 0.9672784171531276, 0.030520920929588975, 0.9977728498472116, 0.9878643109115148, 0.010363913592858187, 0.9845717913215277, 0.9895603157885954, 0.9944406302504218, 0.01804609975859224, 0.572061362347374, 0.0036092199517184483, 0.09383971874467965, 0.15158723797217483, 0.005413829927577672, 0.021655319710310688, 0.11549503845499035, 0.01804609975859224, 0.9904190938722007, 0.9844675032151271, 0.009466033684760839, 0.8614126349332176, 0.04059012415915685, 0.07216022072738996, 0.02255006897730936, 0.9974271931235761, 0.9807220186511785, 0.10683900134293417, 0.4261819504119242, 0.466099819045548, 0.2586891114566475, 0.7405969597494093, 0.5712367501278633, 0.42785860168939566, 0.996921620210435, 0.9964542250642577, 0.9862746383857975, 0.012299001600849034, 0.9839201280679227, 0.9838307666107226, 0.32330198636480056, 0.04663009418723085, 0.23004179799033886, 0.3979101370643699, 0.9965334698185941, 0.39129724511110703, 0.5317149168016957, 0.07676166052418847, 0.06591553346219778, 0.05518509778230511, 0.053652178399463304, 0.8262435473517349, 0.9847798863560536, 0.9920690328821578, 0.9670890288893029, 0.029035005486283922, 0.9975014018555356, 0.9791012681594026, 0.9858291478814567], \"Term\": [\"\\uac00\\uaca9\", \"\\uac00\\uaca9\", \"\\uac00\\uaca9\", \"\\uac00\\uaca9\", \"\\uac00\\uc0c1\", \"\\uac00\\uc0c1\", \"\\uac00\\uc0c1\", \"\\uac00\\uc7a5\", \"\\uac00\\uc7a5\", \"\\uac00\\uc7a5\", \"\\uac00\\uc7a5\", \"\\uac00\\uc7a5\", \"\\uac00\\uc7a5\", \"\\uac00\\uc911\", \"\\uac00\\ud574\\uc790\", \"\\uac04\\ud638\", \"\\uac10\\uc5fc\", \"\\uac10\\uc5fc\\uc99d\", \"\\uac10\\ucd95\", \"\\uac15\\uc11c\\uad6c\", \"\\uac15\\uc131\", \"\\uac15\\uc81c\", \"\\uac15\\uc81c\", \"\\uac15\\uc81c\", \"\\uac15\\uc81c\", \"\\uac1c\\ubc1c\", \"\\uac1c\\ubc1c\", \"\\uac1c\\ubc1c\", \"\\uac1c\\ubcc4\", \"\\uac1c\\uc6d4\", \"\\uac1c\\uc6d4\", \"\\uac1c\\uc6d4\", \"\\uac1c\\uc6d4\", \"\\uac1c\\uc6d4\", \"\\uac1c\\uc6d4\", \"\\uac1c\\uc6d4\", \"\\uac1c\\uc6d4\", \"\\uac1c\\uc785\", \"\\uac1c\\uc815\", \"\\uac1c\\uc815\\uc548\", \"\\uac1c\\uc815\\uc548\", \"\\uac1c\\ucd5c\", \"\\uac1c\\ucd5c\", \"\\uac1c\\ucd5c\", \"\\uac1c\\ucd5c\", \"\\uac1c\\ucd5c\", \"\\uac1c\\ud3b8\", \"\\uac1c\\ud3b8\", \"\\uac1c\\ud3b8\", \"\\uac1c\\ud3b8\\uc548\", \"\\uac1c\\ud601\", \"\\uac1c\\ud601\", \"\\uac70\\ub798\", \"\\uac70\\ub798\", \"\\uac70\\ub798\", \"\\uac70\\ub798\", \"\\uac70\\ub798\", \"\\uac70\\ub798\", \"\\uac70\\ub798\", \"\\uac71\\uc815\", \"\\uac74\\uac15\", \"\\uac74\\uac15\", \"\\uac74\\uac15\", \"\\uac74\\uac15\", \"\\uac74\\ucd95\", \"\\uac80\\uac70\", \"\\uac80\\uc0ac\", \"\\uac80\\uc0ac\", \"\\uac80\\uc0ac\", \"\\uac80\\ucc30\", \"\\uac80\\ud1a0\", \"\\uac80\\ud1a0\", \"\\uac80\\ud1a0\", \"\\uac80\\ud1a0\", \"\\uac80\\ud1a0\", \"\\uac80\\ud1a0\", \"\\uaca8\\uc6b8\", \"\\uaca8\\uc6b8\", \"\\uacb0\\uacfc\", \"\\uacb0\\uacfc\", \"\\uacb0\\uacfc\", \"\\uacb0\\uacfc\", \"\\uacb0\\uacfc\", \"\\uacb0\\uacfc\", \"\\uacb0\\uacfc\", \"\\uacb0\\uacfc\", \"\\uacb0\\uacfc\", \"\\uacb0\\uacfc\", \"\\uacb0\\uc815\", \"\\uacb0\\uc815\", \"\\uacb0\\uc815\", \"\\uacb0\\uc815\", \"\\uacb0\\uc815\", \"\\uacb0\\uc815\", \"\\uacb0\\ud63c\", \"\\uacbd\\uae30\", \"\\uacbd\\uae30\", \"\\uacbd\\uae30\", \"\\uacbd\\uae30\", \"\\uacbd\\uae30\", \"\\uacbd\\uae30\", \"\\uacbd\\uae30\", \"\\uacbd\\uae30\", \"\\uacbd\\uc7c1\\ub825\", \"\\uacbd\\ucc30\", \"\\uacbd\\ucc30\", \"\\uacbd\\ucc30\\uc11c\", \"\\uacbd\\ucc30\\uccad\", \"\\uacbd\\ucc30\\uccad\", \"\\uacc4\\uc88c\", \"\\uacc4\\uce35\", \"\\uace0\\uac1d\", \"\\uace0\\uac1d\", \"\\uace0\\uac1d\", \"\\uace0\\uac1d\", \"\\uace0\\ub824\\ub300\", \"\\uace0\\ubc1c\", \"\\uacf5\\uad70\", \"\\uacf5\\uc2dc\", \"\\uacf5\\uc5f0\", \"\\uacf5\\uc6d0\", \"\\uacf5\\uc6d0\", \"\\uacf5\\uc6d0\", \"\\uacf5\\uc7a5\", \"\\uacf5\\ucc9c\", \"\\uacf5\\ud310\", \"\\uacfc\\uc7a5\", \"\\uad00\\uacc4\", \"\\uad00\\uacc4\", \"\\uad00\\uacc4\", \"\\uad00\\uacc4\", \"\\uad00\\uacc4\", \"\\uad00\\uacc4\", \"\\uad00\\uacc4\", \"\\uad00\\uacc4\", \"\\uad00\\uacc4\", \"\\uad00\\uad11\", \"\\uad00\\ub828\", \"\\uad00\\ub828\", \"\\uad00\\ub828\", \"\\uad00\\ub828\", \"\\uad00\\ub828\", \"\\uad00\\ub828\", \"\\uad00\\ub828\", \"\\uad00\\ub828\", \"\\uad00\\ub828\", \"\\uad00\\ub828\", \"\\uad00\\ub9ac\", \"\\uad00\\ub9ac\", \"\\uad00\\ub9ac\", \"\\uad00\\ub9ac\", \"\\uad00\\ub9ac\", \"\\uad00\\ub9ac\", \"\\uad00\\ub9ac\", \"\\uad11\\uace0\", \"\\uad11\\uace0\", \"\\uad11\\uc7a5\", \"\\uad50\\uc0ac\", \"\\uad50\\uc0ac\", \"\\uad50\\uc218\", \"\\uad50\\uc218\", \"\\uad50\\uc218\", \"\\uad50\\uc218\", \"\\uad50\\uc721\", \"\\uad50\\uc721\", \"\\uad50\\uc721\", \"\\uad50\\uc721\", \"\\uad50\\uc721\", \"\\uad50\\ud68c\", \"\\uad6c\\uc18d\", \"\\uad6c\\uc18d\", \"\\uad6c\\uc18d\\uc601\\uc7a5\", \"\\uad6d\\uac00\\uc218\", \"\\uad6d\\uac00\\uc548\\ubcf4\\uc2e4\", \"\\uad6d\\ub0b4\", \"\\uad6d\\ub0b4\", \"\\uad6d\\ub0b4\", \"\\uad6d\\ub0b4\", \"\\uad6d\\ub0b4\", \"\\uad6d\\ub0b4\", \"\\uad6d\\ubb34\\uc704\\uc6d0\", \"\\uad6d\\ubbfc\", \"\\uad6d\\ubbfc\", \"\\uad6d\\ubbfc\", \"\\uad6d\\ubbfc\", \"\\uad6d\\ubbfc\", \"\\uad6d\\ube48\", \"\\uad6d\\uc81c\", \"\\uad6d\\uc81c\", \"\\uad6d\\uc81c\", \"\\uad6d\\uc81c\", \"\\uad6d\\ud68c\", \"\\uad6d\\ud68c\", \"\\uadc0\\uad6d\", \"\\uaddc\\ubaa8\", \"\\uaddc\\ubaa8\", \"\\uaddc\\ubaa8\", \"\\uaddc\\ubaa8\", \"\\uaddc\\ubaa8\", \"\\uaddc\\ubaa8\", \"\\uadf8\\ub8f9\", \"\\uadf8\\ub8f9\", \"\\uadf8\\ub8f9\", \"\\uadf8\\ub8f9\", \"\\uadf8\\ub8f9\", \"\\uadf8\\ub8f9\", \"\\uadfc\\ub85c\\uc2dc\\uac04\", \"\\uae00\\ub85c\\ubc8c\", \"\\uae00\\ub85c\\ubc8c\", \"\\uae00\\ub85c\\ubc8c\", \"\\uae00\\ub85c\\ubc8c\", \"\\uae08\\ub9ac\", \"\\uae08\\ub9ac\", \"\\uae08\\uc735\", \"\\uae08\\uc735\", \"\\uae08\\uc735\", \"\\uae08\\uc735\", \"\\uae08\\uc735\\uc2dc\\uc7a5\", \"\\uae30\\uac01\", \"\\uae30\\ub150\", \"\\uae30\\ub150\", \"\\uae30\\ub150\", \"\\uae30\\ub3c4\", \"\\uae30\\ub3c5\\uad50\", \"\\uae30\\ub85d\", \"\\uae30\\ub85d\", \"\\uae30\\ub85d\", \"\\uae30\\ub85d\", \"\\uae30\\ub85d\", \"\\uae30\\ub85d\", \"\\uae30\\ub85d\", \"\\uae30\\uc18c\", \"\\uae30\\uc220\", \"\\uae30\\uc220\", \"\\uae30\\uc5c5\", \"\\uae30\\uc5c5\", \"\\uae30\\uc5c5\", \"\\uae30\\uc5c5\", \"\\uae30\\uc5c5\", \"\\uae30\\uc628\", \"\\uae30\\uc790\", \"\\uae30\\uc790\", \"\\uae30\\uc790\", \"\\uae30\\uc790\", \"\\uae30\\uc790\", \"\\uae30\\uc790\", \"\\uae30\\uc790\", \"\\uae30\\uc790\", \"\\uae30\\uc900\", \"\\uae30\\uc900\", \"\\uae30\\uc900\", \"\\uae30\\uc900\", \"\\uae30\\uc900\", \"\\uae30\\uc900\\uae08\\ub9ac\", \"\\uae30\\uc99d\", \"\\uae40\\uac74\\ud76c\", \"\\uae40\\uac74\\ud76c\", \"\\uae40\\uc815\\uc740\", \"\\ub0a8\\uad6d\", \"\\ub0a8\\uc131\", \"\\ub0a8\\uc131\", \"\\ub0b4\\ub144\", \"\\ub0b4\\ub144\", \"\\ub0b4\\ub144\", \"\\ub0b4\\uc6a9\", \"\\ub0b4\\uc6a9\", \"\\ub0b4\\uc6a9\", \"\\ub0b4\\uc6a9\", \"\\ub0b4\\uc6a9\", \"\\ub0b4\\uc6a9\", \"\\ub0b4\\uc6a9\", \"\\ub0b4\\uc6a9\", \"\\ub0b4\\uc6a9\", \"\\ub124\\uc774\\ubc84\", \"\\ub137\\ud50c\\ub9ad\\uc2a4\", \"\\ub178\\uc870\", \"\\ub178\\uc870\", \"\\ub17c\\ub780\", \"\\ub17c\\ub780\", \"\\ub17c\\ub780\", \"\\ub17c\\ub780\", \"\\ub17c\\ub780\", \"\\ub17c\\ub780\", \"\\ub18d\\ud611\", \"\\ub18d\\ud611\", \"\\ub18d\\ud611\", \"\\ub2e8\\uc9c0\", \"\\ub2e8\\uc9c0\", \"\\ub2e8\\uc9c0\", \"\\ub2f4\\ubcf4\", \"\\ub2f4\\ubcf4\", \"\\ub2f9\\uc6d0\", \"\\ub300\\ub959\\uac04\\ud0c4\\ub3c4\\ubbf8\\uc0ac\\uc77c\", \"\\ub300\\ub9cc\", \"\\ub300\\ub9cc\", \"\\ub300\\ub9cc\", \"\\ub300\\ubc95\\uc6d0\", \"\\ub300\\ubc95\\uc6d0\", \"\\ub300\\uc0c1\", \"\\ub300\\uc0c1\", \"\\ub300\\uc0c1\", \"\\ub300\\uc0c1\", \"\\ub300\\uc0c1\", \"\\ub300\\uc0c1\", \"\\ub300\\uc0c1\", \"\\ub300\\uc0c1\", \"\\ub300\\uc7a5\\ub3d9\", \"\\ub300\\uc7a5\\ub3d9\", \"\\ub300\\ucc45\", \"\\ub300\\ucd9c\", \"\\ub300\\ucd9c\", \"\\ub300\\ud1b5\\ub839\", \"\\ub300\\ud1b5\\ub839\", \"\\ub300\\ud1b5\\ub839\", \"\\ub300\\ud1b5\\ub839\\uc2e4\", \"\\ub300\\ud1b5\\ub839\\uc2e4\", \"\\ub300\\ud3ed\", \"\\ub300\\ud45c\", \"\\ub300\\ud45c\", \"\\ub300\\ud45c\", \"\\ub300\\ud45c\", \"\\ub300\\ud45c\", \"\\ub300\\ud45c\", \"\\ub300\\ud45c\", \"\\ub300\\ud45c\", \"\\ub300\\ud559\", \"\\ub300\\ud559\", \"\\ub300\\ud559\", \"\\ub300\\ud559\\uc6d0\", \"\\ub300\\ud55c\", \"\\ub300\\ud55c\", \"\\ub300\\ud55c\", \"\\ub300\\ud55c\", \"\\ub300\\ud55c\", \"\\ub300\\ud55c\", \"\\ub300\\ud55c\", \"\\ub300\\ud55c\", \"\\ub300\\ud55c\", \"\\ub300\\ud55c\", \"\\ub300\\ud574\", \"\\ub300\\ud574\", \"\\ub300\\ud574\", \"\\ub300\\ud574\", \"\\ub300\\ud574\", \"\\ub300\\ud574\", \"\\ub300\\ud574\", \"\\ub300\\ud574\", \"\\ub300\\ud574\", \"\\ub300\\ud574\", \"\\ub370\\uc774\", \"\\ub3c4\\ub85c\", \"\\ub3c4\\uc11c\\uad00\", \"\\ub3c4\\uc8fc\", \"\\ub3c4\\ucfc4\", \"\\ub3c5\\ub3c4\", \"\\ub3d9\\ub9f9\", \"\\ub3d9\\uc6d0\", \"\\ub3d9\\uc6d0\", \"\\ub3d9\\uc758\", \"\\ub3d9\\uc758\", \"\\ub3d9\\uc758\", \"\\ub3d9\\ud574\", \"\\ub3d9\\ud589\", \"\\ub54c\\ubb38\", \"\\ub54c\\ubb38\", \"\\ub54c\\ubb38\", \"\\ub54c\\ubb38\", \"\\ub54c\\ubb38\", \"\\ub54c\\ubb38\", \"\\ub54c\\ubb38\", \"\\ub54c\\ubb38\", \"\\ub54c\\ubb38\", \"\\ub77c\\ub514\\uc624\", \"\\ub77c\\uba70\", \"\\ub77c\\uba70\", \"\\ub77c\\uba70\", \"\\ub77c\\uba70\", \"\\ub77c\\uba70\", \"\\ub77c\\uba70\", \"\\ub77c\\uba70\", \"\\ub77c\\uba70\", \"\\ub77c\\uba70\", \"\\ub7ec\\uc2dc\\uc544\", \"\\ub85c\\ubd07\", \"\\ub86f\\ub370\", \"\\ub86f\\ub370\", \"\\ub9b0\\ub2e4\", \"\\ub9c8\\uc57d\", \"\\ub9c8\\uc57d\", \"\\ub9c8\\uc744\", \"\\ub9c8\\ud2b8\", \"\\ub9cc\\ucc2c\", \"\\ub9e4\\ub9e4\", \"\\ub9e4\\ucd9c\", \"\\ub9e4\\ucd9c\", \"\\uba85\\uc608\", \"\\ubaa8\\ub378\", \"\\ubaa8\\ub378\", \"\\ubaa8\\ub378\", \"\\ubaa8\\ubc14\\uc77c\", \"\\ubaa8\\ubc14\\uc77c\", \"\\ubaa8\\uc9d1\", \"\\ubaa8\\uc9d1\", \"\\ubaa8\\uc9d1\", \"\\ubaa9\\uc0ac\", \"\\ubb34\\ub300\", \"\\ubb38\\uc81c\", \"\\ubb38\\uc81c\", \"\\ubb38\\uc81c\", \"\\ubb38\\uc81c\", \"\\ubb38\\uc81c\", \"\\ubb38\\uc81c\", \"\\ubb38\\uc81c\", \"\\ubb38\\uc81c\", \"\\ubb38\\ud654\", \"\\ubb3c\\uac00\", \"\\ubb3c\\uc9c8\", \"\\ubbf8\\uad6d\", \"\\ubbf8\\uad6d\", \"\\ubbf8\\uad6d\", \"\\ubbf8\\uad6d\", \"\\ubbf8\\uad6d\", \"\\ubbf8\\ucd94\\ud640\", \"\\ubbfc\\uc0dd\", \"\\ubbfc\\uc8fc\\ub2f9\", \"\\ubbfc\\uc8fc\\ub2f9\", \"\\ubbfc\\uc8fc\\ub2f9\", \"\\ubc14\\uc774\\ub4e0\", \"\\ubc14\\uc774\\ub4e0\", \"\\ubc14\\uc774\\uc624\", \"\\ubc14\\uc774\\uc624\", \"\\ubc15\\ub78c\\ud68c\", \"\\ubc15\\ubb3c\\uad00\", \"\\ubc18\\ub300\", \"\\ubc18\\ub300\", \"\\ubc18\\ub3c4\\uccb4\", \"\\ubc1c\\uacac\", \"\\ubc1c\\ubd80\", \"\\ubc1c\\uc0ac\", \"\\ubc1c\\uc0dd\", \"\\ubc1c\\uc0dd\", \"\\ubc1c\\uc0dd\", \"\\ubc1c\\uc0dd\", \"\\ubc1c\\uc0dd\", \"\\ubc1c\\uc0dd\", \"\\ubc1c\\uc758\", \"\\ubc1c\\uc778\", \"\\ubc1c\\ud45c\", \"\\ubc1c\\ud45c\", \"\\ubc1c\\ud45c\", \"\\ubc1c\\ud45c\", \"\\ubc1c\\ud45c\", \"\\ubc1c\\ud45c\", \"\\ubc1c\\ud45c\", \"\\ubc1c\\ud589\", \"\\ubc1c\\ud589\", \"\\ubc29\\ubb38\", \"\\ubc29\\ubb38\", \"\\ubc29\\ubb38\", \"\\ubc29\\uc1a1\", \"\\ubc29\\uc1a1\", \"\\ubc29\\uc1a1\", \"\\ubc29\\uc1a1\", \"\\ubc29\\uc1a1\", \"\\ubc29\\uc1a1\", \"\\ubc29\\uc548\", \"\\ubc29\\uc548\", \"\\ubc29\\uc548\", \"\\ubc29\\uc77c\", \"\\ubc29\\ud55c\", \"\\ubc30\\uc0c1\", \"\\ubc30\\uc784\", \"\\ubc30\\uce58\", \"\\ubc30\\ud130\\ub9ac\", \"\\ubc84\\uc2a4\", \"\\ubc84\\uc2a4\", \"\\ubc84\\uc2a4\", \"\\ubc94\\uc8c4\", \"\\ubc94\\uc8c4\", \"\\ubc94\\ud589\", \"\\ubc95\\ub960\", \"\\ubc95\\ub960\", \"\\ubc95\\ub960\", \"\\ubc95\\uc548\", \"\\ubc95\\uc548\", \"\\ubc95\\uc6d0\", \"\\ubc95\\uc6d0\", \"\\ubc95\\uc870\", \"\\ubc95\\uc870\", \"\\ubc9a\\uaf43\", \"\\ubcc0\\uc81c\", \"\\ubcc0\\ud638\\uc0ac\", \"\\ubcc0\\ud638\\uc0ac\", \"\\ubcc0\\ud638\\uc0ac\", \"\\ubcc4\\uc138\", \"\\ubcc4\\uc138\", \"\\ubcd1\\uc6d0\", \"\\ubcd1\\uc6d0\", \"\\ubcd1\\uc6d0\", \"\\ubcd1\\uc6d0\", \"\\ubcd1\\uc6d0\", \"\\ubcd1\\uc6d0\", \"\\ubcf4\\uace0\\uc11c\", \"\\ubcf4\\uace0\\uc11c\", \"\\ubcf4\\uace0\\uc11c\", \"\\ubcf4\\uc99d\", \"\\ubcf4\\ud5d8\", \"\\ubcf4\\ud5d8\", \"\\ubcf4\\ud5d8\", \"\\ubd80\\uacb0\", \"\\ubd80\\ub3d9\\uc0b0\", \"\\ubd80\\ub3d9\\uc0b0\", \"\\ubd80\\uc0b0\", \"\\ubd80\\uc0b0\", \"\\ubd80\\uc0b0\", \"\\ubd80\\uc0b0\", \"\\ubd80\\uc0b0\", \"\\ubd80\\uc7a5\", \"\\ubd80\\ud328\", \"\\ubd80\\ud488\", \"\\ubd81\\ud55c\", \"\\ubd81\\ud55c\", \"\\ubd84\\uc11d\", \"\\ubd84\\uc11d\", \"\\ubd84\\uc11d\", \"\\ubd84\\uc11d\", \"\\ubd84\\uc11d\", \"\\ubd84\\uc11d\", \"\\ubd84\\uc11d\", \"\\ubd84\\uc57c\", \"\\ubd84\\uc57c\", \"\\ubd84\\uc57c\", \"\\ube0c\\ub79c\\ub4dc\", \"\\ube0c\\ub79c\\ub4dc\", \"\\ube0c\\ub79c\\ub4dc\", \"\\ube44\\uba85\", \"\\ube44\\uc11c\\uc2e4\", \"\\ube44\\ud310\", \"\\ube44\\ud310\", \"\\ube44\\ud310\", \"\\ube4c\\ub77c\", \"\\uc0ac\\uac74\", \"\\uc0ac\\uac74\", \"\\uc0ac\\uac74\", \"\\uc0ac\\uac74\", \"\\uc0ac\\uace0\", \"\\uc0ac\\ub78c\", \"\\uc0ac\\ub78c\", \"\\uc0ac\\ub78c\", \"\\uc0ac\\ub78c\", \"\\uc0ac\\ub78c\", \"\\uc0ac\\ub78c\", \"\\uc0ac\\uc0c1\", \"\\uc0ac\\uc0c1\", \"\\uc0ac\\uc2e4\", \"\\uc0ac\\uc2e4\", \"\\uc0ac\\uc2e4\", \"\\uc0ac\\uc2e4\", \"\\uc0ac\\uc2e4\", \"\\uc0ac\\uc2e4\", \"\\uc0ac\\uc2e4\", \"\\uc0ac\\uc2e4\", \"\\uc0ac\\uc5c5\", \"\\uc0ac\\uc5c5\", \"\\uc0ac\\uc5c5\", \"\\uc0ac\\uc5c5\", \"\\uc0ac\\uc5c5\", \"\\uc0ac\\uc9c4\", \"\\uc0ac\\uc9c4\", \"\\uc0ac\\uc9c4\", \"\\uc0ac\\uc9c4\", \"\\uc0ac\\uc9c4\", \"\\uc0ac\\uc9c4\", \"\\uc0ac\\uc9c4\", \"\\uc0ac\\uc9c4\", \"\\uc0ac\\uc9c4\", \"\\uc0ac\\uc9c4\", \"\\uc0ac\\ud0dc\", \"\\uc0ac\\ud0dc\", \"\\uc0ac\\ud0dc\", \"\\uc0ac\\ud0dc\", \"\\uc0ac\\ud0dc\", \"\\uc0ac\\ud1f4\", \"\\uc0ac\\ud68c\", \"\\uc0ac\\ud68c\", \"\\uc0ac\\ud68c\", \"\\uc0ac\\ud68c\", \"\\uc0ac\\ud68c\", \"\\uc0ac\\ud68c\", \"\\uc0ac\\ud68c\", \"\\uc0ac\\ud68c\", \"\\uc0ac\\ud68c\", \"\\uc0b0\\uc5c5\", \"\\uc0b0\\uc5c5\", \"\\uc0bc\\uc131\", \"\\uc0c1\\ub300\\ub85c\", \"\\uc0c1\\ub300\\ub85c\", \"\\uc0c1\\ub300\\ub85c\", \"\\uc0c1\\ubc18\\uae30\", \"\\uc0c1\\uc2b9\", \"\\uc0c1\\uc2b9\", \"\\uc0c1\\uc2b9\\uc138\", \"\\uc0c1\\ud0dc\", \"\\uc0c1\\ud0dc\", \"\\uc0c1\\ud0dc\", \"\\uc0c1\\ud0dc\", \"\\uc0c1\\ud0dc\", \"\\uc0c1\\ud0dc\", \"\\uc0c1\\ud0dc\", \"\\uc0c1\\ud488\", \"\\uc0c1\\ud488\", \"\\uc0dd\\uc0b0\", \"\\uc0dd\\uc0b0\", \"\\uc11c\\ube44\\uc2a4\", \"\\uc11c\\ube44\\uc2a4\", \"\\uc11c\\uc6b8\", \"\\uc11c\\uc6b8\", \"\\uc11c\\uc6b8\", \"\\uc11c\\uc6b8\", \"\\uc11c\\uc6b8\", \"\\uc11c\\uc6b8\", \"\\uc11c\\uc6b8\", \"\\uc11c\\uc6b8\", \"\\uc11c\\uc6b8\", \"\\uc11c\\uc6b8\\ub300\", \"\\uc11c\\uc6b8\\ub300\", \"\\uc11c\\uc6b8\\ub300\", \"\\uc11c\\uc6b8\\uc2dc\", \"\\uc11c\\uc6b8\\uc2dc\", \"\\uc11c\\uc6b8\\uc2dc\", \"\\uc11c\\uc6b8\\uc2dc\", \"\\uc11c\\uc6b8\\uc2dc\", \"\\uc11c\\uc6b8\\uc911\\uc559\\uc9c0\\ubc95\", \"\\uc11c\\uc6b8\\uc911\\uc559\\uc9c0\\ubc95\", \"\\uc120\\uac70\", \"\\uc120\\uac70\", \"\\uc120\\uac70\", \"\\uc120\\uace0\", \"\\uc120\\ubb3c\", \"\\uc120\\uc0ac\", \"\\uc120\\uc784\", \"\\uc120\\uc784\", \"\\uc120\\ucd9c\", \"\\uc12d\\ucde8\", \"\\uc131\\ub0a8\", \"\\uc131\\uc7a5\", \"\\uc138\\uacc4\", \"\\uc138\\uacc4\", \"\\uc138\\uacc4\", \"\\uc138\\uacc4\", \"\\uc138\\uae08\", \"\\uc138\\uae08\", \"\\uc138\\ub85c\", \"\\uc13c\\ud130\", \"\\uc13c\\ud130\", \"\\uc13c\\ud130\", \"\\uc13c\\ud130\", \"\\uc13c\\ud130\", \"\\uc13c\\ud130\", \"\\uc13c\\ud130\", \"\\uc18c\\ub4dd\", \"\\uc18c\\ub4dd\", \"\\uc18c\\ubc29\", \"\\uc18c\\ube44\\uc790\", \"\\uc18c\\ube44\\uc790\", \"\\uc18c\\ube44\\uc790\", \"\\uc18c\\uc18d\", \"\\uc18c\\uc18d\", \"\\uc18c\\uc18d\", \"\\uc18c\\uc18d\", \"\\uc18c\\uc18d\", \"\\uc18c\\uc18d\", \"\\uc18c\\uc1a1\", \"\\uc190\\uc2e4\", \"\\uc190\\uc790\", \"\\uc194\\ub8e8\\uc158\", \"\\uc218\\uac10\", \"\\uc218\\uc0ac\", \"\\uc218\\uc0ac\", \"\\uc218\\uc0ac\", \"\\uc218\\uc11d\", \"\\uc218\\ucd9c\", \"\\uc21c\\uc2e0\", \"\\uc21c\\uc704\", \"\\uc2a4\\ub9c8\\ud2b8\\ud3f0\", \"\\uc2a4\\ud0c0\\ud2b8\\uc5c5\", \"\\uc2a4\\ud0c0\\ud2b8\\uc5c5\", \"\\uc2dc\\uac04\", \"\\uc2dc\\uac04\", \"\\uc2dc\\uac04\", \"\\uc2dc\\uac04\", \"\\uc2dc\\uc778\", \"\\uc2dc\\uc791\", \"\\uc2dc\\uc791\", \"\\uc2dc\\uc791\", \"\\uc2dc\\uc791\", \"\\uc2dc\\uc791\", \"\\uc2dc\\uc791\", \"\\uc2dc\\uc791\", \"\\uc2dc\\uc791\", \"\\uc2dc\\uc791\", \"\\uc2dc\\uc7a5\", \"\\uc2dc\\uc7a5\", \"\\uc2dc\\uc7a5\", \"\\uc2dc\\uc7a5\", \"\\uc2dc\\uc7a5\", \"\\uc2dc\\uc7a5\", \"\\uc2dd\\ub2f9\", \"\\uc2dd\\ud488\", \"\\uc2dd\\ud488\", \"\\uc2e0\\uace0\", \"\\uc2e0\\uace0\", \"\\uc2e0\\uace0\", \"\\uc2e0\\uc138\\uacc4\", \"\\uc2e0\\uc57d\", \"\\uc2e0\\uc6a9\", \"\\uc2e0\\uc6a9\\ub4f1\\uae09\", \"\\uc2e0\\uc784\", \"\\uc2e0\\uc784\", \"\\uc2e0\\uc784\", \"\\uc2e0\\uc784\", \"\\uc2e0\\uc81c\\ud488\", \"\\uc2e0\\uc885\", \"\\uc2e0\\uc885\", \"\\uc2e4\\ub9ac\\ucf58\\ubc38\\ub9ac\", \"\\uc2e4\\uc801\", \"\\uc2ec\\uc758\", \"\\uc544\\ub798\", \"\\uc544\\ud30c\\ud2b8\", \"\\uc544\\ud30c\\ud2b8\", \"\\uc544\\ud30c\\ud2b8\", \"\\uc548\\ubcf4\", \"\\uc548\\ucca0\\uc218\", \"\\uc555\\uc218\\uc218\\uc0c9\", \"\\uc555\\uc218\\uc218\\uc0c9\", \"\\uc591\\uace1\", \"\\uc591\\uad6d\", \"\\uc5b5\\uc81c\", \"\\uc5bc\\uad74\", \"\\uc5c4\\ub9c8\", \"\\uc5c5\\uacc4\", \"\\uc5c5\\uacc4\", \"\\uc5c5\\uacc4\", \"\\uc5c5\\uacc4\", \"\\uc5d0\\ub108\\uc9c0\", \"\\uc5d0\\ub108\\uc9c0\", \"\\uc5d1\\uc2a4\\ud3ec\", \"\\uc5d4\\ud130\\ud14c\\uc778\\uba3c\\ud2b8\", \"\\uc5ec\\ub2f9\", \"\\uc5ec\\ub2f9\", \"\\uc5ec\\ub860\", \"\\uc5ec\\uc0ac\", \"\\uc5ec\\uc131\", \"\\uc5ec\\uc131\", \"\\uc5ec\\uc131\", \"\\uc5f0\\ubc29\", \"\\uc601\\uc0c1\", \"\\uc601\\uc0c1\", \"\\uc601\\uc0c1\", \"\\uc601\\uc0c1\", \"\\uc601\\uc7a5\", \"\\uc601\\ud5a5\", \"\\uc601\\ud5a5\", \"\\uc601\\ud5a5\", \"\\uc601\\ud5a5\", \"\\uc601\\ud5a5\", \"\\uc601\\ud5a5\", \"\\uc601\\ud5a5\", \"\\uc601\\ud654\", \"\\uc608\\uae08\", \"\\uc608\\uc0b0\", \"\\uc608\\uc0b0\", \"\\uc608\\uc220\", \"\\uc608\\uce21\", \"\\uc624\\uc804\", \"\\uc624\\uc804\", \"\\uc624\\uc804\", \"\\uc624\\uc804\", \"\\uc624\\uc804\", \"\\uc624\\uc804\", \"\\uc624\\uc804\", \"\\uc624\\ud6c4\", \"\\uc624\\ud6c4\", \"\\uc624\\ud6c4\", \"\\uc624\\ud6c4\", \"\\uc624\\ud6c4\", \"\\uc624\\ud6c4\", \"\\uc624\\ud6c4\", \"\\uc62c\\ud574\", \"\\uc62c\\ud574\", \"\\uc62c\\ud574\", \"\\uc62c\\ud574\", \"\\uc62c\\ud574\", \"\\uc62c\\ud574\", \"\\uc62c\\ud574\", \"\\uc678\\uad50\", \"\\uc678\\uad50\\ubd80\", \"\\uc6a9\\uc0b0\", \"\\uc6a9\\uc0b0\", \"\\uc6b0\\ub824\", \"\\uc6b0\\ub824\", \"\\uc6b0\\ub824\", \"\\uc6b0\\ub824\", \"\\uc6b0\\ub824\", \"\\uc6b0\\ub824\", \"\\uc6b0\\ub9ac\", \"\\uc6b0\\ub9ac\", \"\\uc6b0\\ub9ac\", \"\\uc6b0\\ub9ac\", \"\\uc6b0\\ub9ac\", \"\\uc6b0\\ud06c\\ub77c\\uc774\\ub098\", \"\\uc6b4\\uc804\", \"\\uc6b4\\uc804\\uc790\", \"\\uc6cc\\uc2f1\\ud134\", \"\\uc6d0\\ub0b4\\ub300\\ud45c\", \"\\uc6d0\\ub0b4\\ub300\\ud45c\", \"\\uc6d0\\uc7a5\", \"\\uc6d0\\uc7a5\", \"\\uc6d0\\uc7a5\", \"\\uc704\\uae30\", \"\\uc704\\uae30\", \"\\uc704\\uae30\", \"\\uc704\\uae30\", \"\\uc704\\uae30\", \"\\uc704\\uae30\", \"\\uc704\\ubc18\", \"\\uc704\\ubc18\", \"\\uc704\\uc6d0\", \"\\uc704\\uc6d0\", \"\\uc704\\uc6d0\\uc7a5\", \"\\uc704\\uc6d0\\uc7a5\", \"\\uc704\\uc6d0\\ud68c\", \"\\uc704\\uc6d0\\ud68c\", \"\\uc704\\uc6d0\\ud68c\", \"\\uc704\\ud574\", \"\\uc704\\ud574\", \"\\uc704\\ud574\", \"\\uc704\\ud574\", \"\\uc704\\ud574\", \"\\uc704\\ud574\", \"\\uc704\\ud574\", \"\\uc704\\ud574\", \"\\uc704\\ud574\", \"\\uc704\\ud574\", \"\\uc720\\uc0b0\", \"\\uc720\\uc544\\uc778\", \"\\uc720\\ud1b5\", \"\\uc720\\ud1b5\", \"\\uc720\\ud1b5\", \"\\uc721\\uc131\", \"\\uc724\\uc11d\\uc5f4\", \"\\uc724\\uc11d\\uc5f4\", \"\\uc724\\uc11d\\uc5f4\", \"\\uc740\\ud589\", \"\\uc740\\ud589\", \"\\uc740\\ud589\", \"\\uc74c\\uc545\", \"\\uc74c\\uc8fc\\uc6b4\\uc804\", \"\\uc758\\uacac\", \"\\uc758\\uacac\", \"\\uc758\\uacb0\", \"\\uc758\\ub8cc\", \"\\uc758\\ub8cc\", \"\\uc758\\ub8cc\", \"\\uc758\\uc0ac\", \"\\uc758\\uc0ac\", \"\\uc758\\uc0ac\", \"\\uc758\\uc0ac\", \"\\uc758\\uc548\", \"\\uc758\\uc6d0\", \"\\uc758\\uc6d0\", \"\\uc758\\uc6d0\", \"\\uc758\\ud639\", \"\\uc758\\ud639\", \"\\uc758\\ud639\", \"\\uc774\\ubc88\", \"\\uc774\\ubc88\", \"\\uc774\\ubc88\", \"\\uc774\\ubc88\", \"\\uc774\\ubc88\", \"\\uc774\\ubc88\", \"\\uc774\\ubc88\", \"\\uc774\\ubc88\", \"\\uc774\\ubc88\", \"\\uc774\\uc0ac\", \"\\uc774\\uc0ac\", \"\\uc774\\uc0ac\", \"\\uc774\\uc0ac\\uc7a5\", \"\\uc774\\uc0c1\", \"\\uc774\\uc0c1\", \"\\uc774\\uc0c1\", \"\\uc774\\uc0c1\", \"\\uc774\\uc0c1\", \"\\uc774\\uc0c1\", \"\\uc774\\uc0c1\", \"\\uc774\\uc0c1\", \"\\uc774\\uc0c1\", \"\\uc774\\uc7ac\\uba85\", \"\\uc774\\uc7ac\\uba85\", \"\\uc774\\ud6c4\", \"\\uc774\\ud6c4\", \"\\uc774\\ud6c4\", \"\\uc774\\ud6c4\", \"\\uc774\\ud6c4\", \"\\uc774\\ud6c4\", \"\\uc774\\ud6c4\", \"\\uc774\\ud6c4\", \"\\uc774\\ud6c4\", \"\\uc778\\uad8c\", \"\\uc778\\uad8c\", \"\\uc778\\uadfc\", \"\\uc778\\uadfc\", \"\\uc778\\uadfc\", \"\\uc778\\uc0c1\", \"\\uc778\\uc0c1\", \"\\uc778\\ucc9c\", \"\\uc778\\ucc9c\", \"\\uc778\\ucc9c\", \"\\uc778\\ucc9c\", \"\\uc778\\ud130\\ub137\", \"\\uc778\\ud130\\ub137\", \"\\uc778\\ud50c\\ub808\\uc774\\uc158\", \"\\uc778\\ud558\", \"\\uc77c\\ubcf8\", \"\\uc77c\\ubcf8\", \"\\uc77c\\uc6d4\", \"\\uc77c\\uc790\\ub9ac\", \"\\uc77c\\uc81c\\uac15\\uc810\\uae30\", \"\\uc784\\uae08\", \"\\uc784\\uae30\", \"\\uc784\\uba85\", \"\\uc784\\uc6d0\", \"\\uc785\\uac74\", \"\\uc785\\uac74\", \"\\uc790\\ub3d9\\ucc28\", \"\\uc790\\ub3d9\\ucc28\", \"\\uc790\\ub3d9\\ucc28\", \"\\uc790\\ub3d9\\ucc28\", \"\\uc790\\ubb38\", \"\\uc790\\uc0b0\", \"\\uc790\\uc0b0\", \"\\uc790\\uc0b0\", \"\\uc790\\uc0b0\", \"\\uc790\\uc2e0\", \"\\uc790\\uc2e0\", \"\\uc790\\uc2e0\", \"\\uc790\\uc2e0\", \"\\uc790\\uc2e0\", \"\\uc790\\uc2e0\", \"\\uc790\\uc2e0\", \"\\uc791\\uac00\", \"\\uc791\\uc804\", \"\\uc791\\ud488\", \"\\uc7a5\\uad00\", \"\\uc7a5\\uad00\", \"\\uc7a5\\uad00\", \"\\uc7a5\\uad00\", \"\\uc7a5\\uad00\", \"\\uc7a5\\ube44\", \"\\uc7ac\\ub2e8\", \"\\uc7ac\\ub2e8\", \"\\uc7ac\\ub2e8\", \"\\uc7ac\\ub2e8\", \"\\uc7ac\\uc0b0\", \"\\uc7ac\\uc0b0\", \"\\uc7ac\\uc815\", \"\\uc7ac\\ud310\", \"\\uc804\\uad6d\", \"\\uc804\\uad6d\", \"\\uc804\\uad6d\", \"\\uc804\\uad6d\", \"\\uc804\\uad6d\", \"\\uc804\\uad6d\", \"\\uc804\\uae30\\ucc28\", \"\\uc804\\ub0a0\", \"\\uc804\\ub0a0\", \"\\uc804\\ub0a0\", \"\\uc804\\ub0a0\", \"\\uc804\\ub0a0\", \"\\uc804\\ub0a0\", \"\\uc804\\ub0a0\", \"\\uc804\\ub0a0\", \"\\uc804\\ub2f9\\ub300\\ud68c\", \"\\uc804\\ub2f9\\ub300\\ud68c\", \"\\uc804\\ub2f9\\ub300\\ud68c\", \"\\uc804\\ub7b5\", \"\\uc804\\ub7b5\", \"\\uc804\\ub7b5\", \"\\uc804\\ub7b5\", \"\\uc804\\ub9dd\", \"\\uc804\\ub9dd\", \"\\uc804\\ub9dd\", \"\\uc804\\ub9dd\", \"\\uc804\\ub9dd\", \"\\uc804\\ub9dd\", \"\\uc804\\ubcf4\", \"\\uc804\\uc2dc\", \"\\uc804\\uc2dc\\ud68c\", \"\\uc804\\uc790\", \"\\uc804\\uc790\", \"\\uc804\\uc7c1\", \"\\uc804\\uc7c1\", \"\\uc804\\uc7c1\", \"\\uc804\\uc7c1\", \"\\uc815\\uad8c\", \"\\uc815\\uae30\", \"\\uc815\\uae30\", \"\\uc815\\ubd80\", \"\\uc815\\ubd80\", \"\\uc815\\ubd80\", \"\\uc815\\ubd80\", \"\\uc815\\ubd80\", \"\\uc815\\ubd80\", \"\\uc815\\uc0c1\", \"\\uc815\\uc0c1\\ud68c\\ub2f4\", \"\\uc815\\ucc45\", \"\\uc815\\ucc45\", \"\\uc815\\ucc45\", \"\\uc815\\ucc45\", \"\\uc815\\uce58\", \"\\uc815\\uce58\", \"\\uc815\\uce58\", \"\\uc815\\uce58\\uc790\\uae08\", \"\\uc81c\\uacf5\", \"\\uc81c\\uacf5\", \"\\uc81c\\uacf5\", \"\\uc81c\\uacf5\", \"\\uc81c\\uacf5\", \"\\uc81c\\ub3c4\", \"\\uc81c\\ub3c4\", \"\\uc81c\\ub3c4\", \"\\uc81c\\ub3c4\", \"\\uc81c\\ubaa9\", \"\\uc81c\\ubaa9\", \"\\uc81c\\ubaa9\", \"\\uc81c\\ubaa9\", \"\\uc81c\\ud488\", \"\\uc81c\\ud488\", \"\\uc870\\uae08\", \"\\uc870\\uc0ac\", \"\\uc870\\uc0ac\", \"\\uc870\\uc0ac\", \"\\uc870\\uc0ac\", \"\\uc870\\uc0ac\", \"\\uc870\\uc0ac\", \"\\uc870\\uc0ac\", \"\\uc870\\uc0ac\", \"\\uc8fc\\uac00\", \"\\uc8fc\\ub958\", \"\\uc8fc\\ubb38\", \"\\uc8fc\\uc2dd\", \"\\uc8fc\\uc7a5\", \"\\uc8fc\\uc7a5\", \"\\uc8fc\\uc7a5\", \"\\uc8fc\\uc7a5\", \"\\uc8fc\\uc7a5\", \"\\uc8fc\\uc7a5\", \"\\uc8fc\\uc7a5\", \"\\uc8fc\\uc81c\", \"\\uc8fc\\uc81c\", \"\\uc8fc\\uc8fc\", \"\\uc8fc\\uc8fc\\ucd1d\\ud68c\", \"\\uc8fc\\uc8fc\\ucd1d\\ud68c\", \"\\uc8fc\\ud0dd\", \"\\uc8fc\\ud0dd\", \"\\uc8fc\\ud0dd\", \"\\uc911\\uad6c\", \"\\uc911\\uad6c\", \"\\uc911\\uad6c\", \"\\uc911\\uad6c\", \"\\uc911\\uad6d\", \"\\uc911\\uad6d\", \"\\uc911\\uad6d\", \"\\uc911\\uc559\", \"\\uc911\\uc559\", \"\\uc911\\uc559\", \"\\uc911\\uc559\", \"\\uc911\\uc559\", \"\\uc911\\uc559\", \"\\uc99d\\uad8c\", \"\\uc99d\\uad8c\", \"\\uc99d\\uc0c1\", \"\\uc9c0\\uad6c\", \"\\uc9c0\\uad6c\", \"\\uc9c0\\ub09c\", \"\\uc9c0\\ub09c\", \"\\uc9c0\\ub09c\", \"\\uc9c0\\ub09c\", \"\\uc9c0\\ub09c\", \"\\uc9c0\\ub09c\", \"\\uc9c0\\ub09c\", \"\\uc9c0\\ub09c\", \"\\uc9c0\\ub09c\", \"\\uc9c0\\ub09c\", \"\\uc9c0\\ub09c\\ub2ec\", \"\\uc9c0\\ub09c\\ub2ec\", \"\\uc9c0\\ub09c\\ub2ec\", \"\\uc9c0\\ub09c\\ub2ec\", \"\\uc9c0\\ub09c\\ub2ec\", \"\\uc9c0\\ub09c\\ub2ec\", \"\\uc9c0\\ub09c\\ub2ec\", \"\\uc9c0\\ub09c\\ub2ec\", \"\\uc9c0\\ub09c\\ub2ec\", \"\\uc9c0\\ub09c\\ub2ec\", \"\\uc9c0\\ub09c\\ud574\", \"\\uc9c0\\ub09c\\ud574\", \"\\uc9c0\\ub09c\\ud574\", \"\\uc9c0\\ub09c\\ud574\", \"\\uc9c0\\ub09c\\ud574\", \"\\uc9c0\\ub09c\\ud574\", \"\\uc9c0\\ub09c\\ud574\", \"\\uc9c0\\ub09c\\ud574\", \"\\uc9c0\\ub09c\\ud574\", \"\\uc9c0\\ub09c\\ud574\", \"\\uc9c0\\ubc30\\uad6c\\uc870\", \"\\uc9c0\\ubc95\", \"\\uc9c0\\uc218\", \"\\uc9c0\\uc5ed\", \"\\uc9c0\\uc5ed\", \"\\uc9c0\\uc5ed\", \"\\uc9c0\\uc5ed\", \"\\uc9c0\\uc5ed\", \"\\uc9c0\\uc5ed\", \"\\uc9c0\\uc5ed\", \"\\uc9c0\\uc6d0\", \"\\uc9c0\\uc6d0\", \"\\uc9c0\\uc6d0\", \"\\uc9c0\\uc6d0\", \"\\uc9c0\\uc6d0\", \"\\uc9c0\\uc6d0\", \"\\uc9c0\\uc6d0\", \"\\uc9c0\\uc6d0\", \"\\uc9c0\\uc9c0\\uc728\", \"\\uc9c0\\uce35\", \"\\uc9c0\\ud558\\ucca0\", \"\\uc9c1\\uc6d0\", \"\\uc9c1\\uc6d0\", \"\\uc9c1\\uc6d0\", \"\\uc9c1\\uc6d0\", \"\\uc9c1\\uc6d0\", \"\\uc9c1\\uc6d0\", \"\\uc9c4\\ub8cc\", \"\\uc9c4\\ud589\", \"\\uc9c4\\ud589\", \"\\uc9c4\\ud589\", \"\\uc9c4\\ud589\", \"\\uc9c4\\ud589\", \"\\uc9c4\\ud589\", \"\\uc9c4\\ud589\", \"\\uc9c4\\ud589\", \"\\uc9c4\\ud589\", \"\\uc9c4\\ud589\", \"\\uc9c4\\ud654\", \"\\uc9c8\\ubcd1\", \"\\uc9c8\\ud658\", \"\\uc9d1\\ud589\\uc720\\uc608\", \"\\uc9d5\\uc5ed\", \"\\uc9d5\\uc6a9\", \"\\ucc28\\uae30\", \"\\ucc28\\uae30\", \"\\ucc28\\ub7c9\", \"\\ucc28\\ub7c9\", \"\\ucc28\\ub7c9\", \"\\ucc29\\uc6a9\", \"\\ucc2c\\uc131\", \"\\ucc38\\uac00\", \"\\ucc38\\uac00\\uc790\", \"\\ucc38\\ubaa8\", \"\\ucc44\\uc6a9\", \"\\ucc44\\uc6a9\", \"\\ucc44\\uc6a9\", \"\\ucc44\\uc6a9\", \"\\ucc98\\ubc8c\", \"\\ucc98\\ubc8c\", \"\\ucca0\\ud559\", \"\\ucca8\\ub2e8\", \"\\uccad\\uc57d\", \"\\uccad\\uc7a5\", \"\\uccb4\\uacb0\", \"\\uccb4\\ud3ec\", \"\\uccb4\\ud3ec\", \"\\uccb4\\ud3ec\", \"\\uccb4\\ud5d8\", \"\\ucd1d\\ub9ac\", \"\\ucd1d\\uc120\", \"\\ucd1d\\uc120\", \"\\ucd1d\\uc7ac\", \"\\ucd5c\\uace0\", \"\\ucd5c\\uace0\", \"\\ucd5c\\uace0\", \"\\ucd5c\\uace0\", \"\\ucd5c\\uace0\", \"\\ucd5c\\uadfc\", \"\\ucd5c\\uadfc\", \"\\ucd5c\\uadfc\", \"\\ucd5c\\uadfc\", \"\\ucd5c\\uadfc\", \"\\ucd5c\\uadfc\", \"\\ucd5c\\uadfc\", \"\\ucd5c\\uadfc\", \"\\ucd5c\\uadfc\", \"\\ucd5c\\uadfc\", \"\\ucd94\\uc9c4\", \"\\ucd94\\uc9c4\", \"\\ucd94\\uc9c4\", \"\\ucd94\\uc9c4\", \"\\ucd94\\uc9c4\", \"\\ucd94\\uc9c4\", \"\\ucd95\\uc81c\", \"\\ucd9c\\ub3d9\", \"\\ucd9c\\uc0b0\", \"\\ucd9c\\uc11d\", \"\\ucd9c\\uc11d\", \"\\ucd9c\\uc2dc\", \"\\ucd9c\\uc2dc\", \"\\ucd9c\\uc5f0\", \"\\ucd9c\\uc5f0\", \"\\ucd9c\\uc5f0\", \"\\ucd9c\\uc5f0\", \"\\uce58\\ub8cc\", \"\\uce58\\ub8cc\", \"\\uce58\\ub8cc\", \"\\uce5c\\uc724\", \"\\uce74\\uce74\\uc624\", \"\\uce74\\ud398\", \"\\ucee8\\uc124\\ud305\", \"\\ucf54\\ub85c\\ub098\", \"\\ucf54\\ub85c\\ub098\", \"\\ucf54\\ub85c\\ub098\", \"\\ucf54\\ub85c\\ub098\\ubc14\\uc774\\ub7ec\\uc2a4\", \"\\ucf54\\uc778\", \"\\ud0c0\\uc774\\uc5b4\", \"\\ud0c4\\ub3c4\\ubbf8\\uc0ac\\uc77c\", \"\\ud0c4\\uc18c\", \"\\ud0c8\\ub2f9\", \"\\ud0dd\\uc2dc\", \"\\ud1a0\\uc9c0\", \"\\ud1b5\\uacc4\", \"\\ud1b5\\uacfc\", \"\\ud1b5\\uacfc\", \"\\ud1b5\\ud574\", \"\\ud1b5\\ud574\", \"\\ud1b5\\ud574\", \"\\ud1b5\\ud574\", \"\\ud1b5\\ud574\", \"\\ud1b5\\ud574\", \"\\ud1b5\\ud574\", \"\\ud1b5\\ud574\", \"\\ud1b5\\ud574\", \"\\ud1b5\\ud574\", \"\\ud22c\\uc57d\", \"\\ud22c\\uc790\", \"\\ud22c\\uc790\", \"\\ud22c\\uc790\", \"\\ud22c\\uc790\", \"\\ud22c\\uc790\", \"\\ud22c\\uc790\\uc790\", \"\\ud22c\\uc790\\uc790\", \"\\ud22c\\ud45c\", \"\\ud22c\\ud45c\", \"\\ud2b8\\ub7fc\\ud504\", \"\\ud2b9\\ud61c\", \"\\ud30c\\ub9ac\", \"\\ud30c\\uc0b0\", \"\\ud30c\\ud06c\", \"\\ud310\\ub9e4\", \"\\ud310\\ub9e4\", \"\\ud310\\ub9e4\", \"\\ud310\\ub9e4\", \"\\ud310\\uc0ac\", \"\\ud328\\uc158\", \"\\ud37c\\uc2a4\\ud2b8\", \"\\ud398\\uc774\\uc2a4\\ubd81\", \"\\ud398\\uc774\\uc2a4\\ubd81\", \"\\ud3c9\\uade0\", \"\\ud3c9\\uade0\", \"\\ud3c9\\uade0\", \"\\ud3d0\\uc1c4\\ud68c\", \"\\ud3ec\\uc778\\ud2b8\", \"\\ud3ec\\uc778\\ud2b8\", \"\\ud3ed\\ub77d\", \"\\ud45c\\uacb0\", \"\\ud488\\ubaa9\", \"\\ud504\\ub85c\\uadf8\\ub7a8\", \"\\ud504\\ub85c\\uadf8\\ub7a8\", \"\\ud504\\ub85c\\uadf8\\ub7a8\", \"\\ud504\\ub9ac\\ubbf8\\uc5c4\", \"\\ud50c\\ub7ab\\ud3fc\", \"\\ud50c\\ub7ab\\ud3fc\", \"\\ud50c\\ub7ab\\ud3fc\", \"\\ud53c\\ud574\\uc790\", \"\\ud53c\\ud574\\uc790\", \"\\ud53c\\ud574\\uc790\", \"\\ud53c\\ud574\\uc790\", \"\\ud53c\\ud574\\uc790\", \"\\ud544\\ub85c\\ud3f0\", \"\\ud558\\ub77d\", \"\\ud559\\uad50\\ud3ed\\ub825\", \"\\ud559\\uc6d0\", \"\\ud559\\ud3ed\", \"\\ud55c\\uad6d\", \"\\ud55c\\uad6d\", \"\\ud55c\\uad6d\", \"\\ud55c\\uad6d\", \"\\ud55c\\uad6d\", \"\\ud55c\\uad6d\", \"\\ud55c\\uad6d\", \"\\ud55c\\uad6d\", \"\\ud55c\\uad6d\", \"\\ud55c\\uad6d\", \"\\ud55c\\ub3d9\\ud6c8\", \"\\ud55c\\ubbf8\", \"\\ud55c\\ubbf8\", \"\\ud55c\\uc77c\", \"\\ud55c\\ud654\", \"\\ud560\\uc778\", \"\\ud560\\uc778\", \"\\ud56d\\uacf5\", \"\\ud574\\ubc95\", \"\\ud589\\uc0ac\", \"\\ud589\\uc0ac\", \"\\ud589\\uc0ac\", \"\\ud589\\uc0ac\", \"\\ud589\\uc0ac\", \"\\ud589\\uc0ac\", \"\\ud589\\uc0ac\", \"\\ud589\\uc0ac\", \"\\ud589\\uc0ac\", \"\\ud589\\uc815\\ubd80\", \"\\ud5c8\\uc704\", \"\\ud5c8\\uc704\", \"\\ud601\\uc2e0\", \"\\ud601\\uc2e0\", \"\\ud601\\uc2e0\", \"\\ud601\\uc2e0\", \"\\ud604\\ub300\\ucc28\", \"\\ud604\\uc0c1\", \"\\ud604\\uc9c0\", \"\\ud604\\uc9c0\", \"\\ud604\\uc9c0\", \"\\ud610\\uc758\", \"\\ud610\\uc758\", \"\\ud611\\ub825\", \"\\ud611\\ub825\", \"\\ud611\\uc57d\", \"\\ud615\\uc0ac\", \"\\ud638\\uc8fc\", \"\\ud658\\uc790\", \"\\ud658\\uc790\", \"\\ud68c\\ub2f4\", \"\\ud68c\\uc0ac\", \"\\ud68c\\uc0ac\", \"\\ud68c\\uc0ac\", \"\\ud68c\\uc0ac\", \"\\ud68c\\uc0ac\\ucc44\", \"\\ud68c\\uc758\", \"\\ud68c\\uc758\", \"\\ud68c\\uc758\", \"\\ud68c\\uc7a5\", \"\\ud68c\\uc7a5\", \"\\ud68c\\uc7a5\", \"\\ud68c\\uc7a5\", \"\\ud6a8\\uc728\", \"\\ud6c4\\ubbf8\", \"\\ud6c4\\ubcf4\", \"\\ud6c4\\ubcf4\", \"\\ud6c8\\ub828\", \"\\ud734\\ub300\\uc804\\ud654\", \"\\ud765\\ud589\"]}, \"R\": 30, \"lambda.step\": 0.01, \"plot.opts\": {\"xlab\": \"PC1\", \"ylab\": \"PC2\"}, \"topic.order\": [10, 6, 8, 3, 5, 4, 1, 7, 2, 9]};\n",
       "\n",
       "function LDAvis_load_lib(url, callback){\n",
       "  var s = document.createElement('script');\n",
       "  s.src = url;\n",
       "  s.async = true;\n",
       "  s.onreadystatechange = s.onload = callback;\n",
       "  s.onerror = function(){console.warn(\"failed to load library \" + url);};\n",
       "  document.getElementsByTagName(\"head\")[0].appendChild(s);\n",
       "}\n",
       "\n",
       "if(typeof(LDAvis) !== \"undefined\"){\n",
       "   // already loaded: just create the visualization\n",
       "   !function(LDAvis){\n",
       "       new LDAvis(\"#\" + \"ldavis_el342425928878821288066093681\", ldavis_el342425928878821288066093681_data);\n",
       "   }(LDAvis);\n",
       "}else if(typeof define === \"function\" && define.amd){\n",
       "   // require.js is available: use it to load d3/LDAvis\n",
       "   require.config({paths: {d3: \"https://d3js.org/d3.v5\"}});\n",
       "   require([\"d3\"], function(d3){\n",
       "      window.d3 = d3;\n",
       "      LDAvis_load_lib(\"https://cdn.jsdelivr.net/gh/bmabey/pyLDAvis@3.4.0/pyLDAvis/js/ldavis.v3.0.0.js\", function(){\n",
       "        new LDAvis(\"#\" + \"ldavis_el342425928878821288066093681\", ldavis_el342425928878821288066093681_data);\n",
       "      });\n",
       "    });\n",
       "}else{\n",
       "    // require.js not available: dynamically load d3 & LDAvis\n",
       "    LDAvis_load_lib(\"https://d3js.org/d3.v5.js\", function(){\n",
       "         LDAvis_load_lib(\"https://cdn.jsdelivr.net/gh/bmabey/pyLDAvis@3.4.0/pyLDAvis/js/ldavis.v3.0.0.js\", function(){\n",
       "                 new LDAvis(\"#\" + \"ldavis_el342425928878821288066093681\", ldavis_el342425928878821288066093681_data);\n",
       "            })\n",
       "         });\n",
       "}\n",
       "</script>"
      ],
      "text/plain": [
       "PreparedData(topic_coordinates=              x         y  topics  cluster       Freq\n",
       "topic                                                \n",
       "9     -0.229992  0.006423       1        1  15.027661\n",
       "5     -0.106745  0.067456       2        1  12.451839\n",
       "7      0.148867  0.208942       3        1  10.600452\n",
       "2     -0.004680 -0.254241       4        1  10.363124\n",
       "4     -0.144777 -0.027830       5        1  10.143694\n",
       "3      0.057999 -0.194106       6        1   9.820105\n",
       "0      0.179615 -0.150048       7        1   9.359154\n",
       "6      0.245981  0.106445       8        1   8.624393\n",
       "1     -0.205963  0.112044       9        1   8.426909\n",
       "8      0.059695  0.124914      10        1   5.182669, topic_info=    Term         Freq        Total Category  logprob  loglift\n",
       "2    대통령  2217.000000  2217.000000  Default  30.0000  30.0000\n",
       "253  민주당  1795.000000  1795.000000  Default  29.0000  29.0000\n",
       "297   대표  2932.000000  2932.000000  Default  28.0000  28.0000\n",
       "258   의원  1418.000000  1418.000000  Default  27.0000  27.0000\n",
       "50    혐의  1635.000000  1635.000000  Default  26.0000  26.0000\n",
       "..   ...          ...          ...      ...      ...      ...\n",
       "612   가상   104.858384   173.818767  Topic10  -5.0267   2.4544\n",
       "686   직원   117.687807   408.927389  Topic10  -4.9113   1.7143\n",
       "369   오전   132.190399   914.045934  Topic10  -4.7951   1.0262\n",
       "297   대표   129.893259  2932.280006  Topic10  -4.8126  -0.1570\n",
       "58    사진   108.061957   948.862280  Topic10  -4.9966   0.7873\n",
       "\n",
       "[628 rows x 6 columns], token_table=      Topic      Freq  Term\n",
       "term                       \n",
       "1137      1  0.002614    가격\n",
       "1137      5  0.799798    가격\n",
       "1137      9  0.196029    가격\n",
       "1137     10  0.002614    가격\n",
       "612       7  0.368200    가상\n",
       "...     ...       ...   ...\n",
       "744       6  0.967089    후보\n",
       "744       8  0.029035    후보\n",
       "1571      7  0.997501    훈련\n",
       "476      10  0.979101  휴대전화\n",
       "1583      9  0.985829    흥행\n",
       "\n",
       "[1369 rows x 3 columns], R=30, lambda_step=0.01, plot_opts={'xlab': 'PC1', 'ylab': 'PC2'}, topic_order=[10, 6, 8, 3, 5, 4, 1, 7, 2, 9])"
      ]
     },
     "execution_count": 46,
     "metadata": {},
     "output_type": "execute_result"
    }
   ],
   "source": [
    "import pyLDAvis\n",
    "import pyLDAvis.gensim_models as gensimvis\n",
    "pyLDAvis.enable_notebook()\n",
    "\n",
    "lda_viz = gensimvis.prepare(model, corpus, dictionary)\n",
    "lda_viz"
   ]
  },
  {
   "cell_type": "code",
   "execution_count": 48,
   "id": "b680e9fa",
   "metadata": {},
   "outputs": [
    {
     "name": "stdout",
     "output_type": "stream",
     "text": [
      "num_topics: 5, perplexity: -7.018, coherence: -3.889\n",
      "num_topics: 6, perplexity: -6.991, coherence: -3.759\n",
      "num_topics: 7, perplexity: -6.968, coherence: -3.749\n",
      "num_topics: 8, perplexity: -6.971, coherence: -4.183\n",
      "num_topics: 9, perplexity: -6.971, coherence: -3.729\n",
      "num_topics: 10, perplexity: -6.982, coherence: -4.569\n"
     ]
    },
    {
     "name": "stderr",
     "output_type": "stream",
     "text": [
      "C:\\ProgramData\\Anaconda3\\lib\\site-packages\\IPython\\core\\pylabtools.py:151: UserWarning: Glyph 8722 (\\N{MINUS SIGN}) missing from current font.\n",
      "  fig.canvas.print_figure(bytes_io, **kw)\n"
     ]
    },
    {
     "data": {
      "image/png": "[encoded data removed]",
      "text/plain": [
       "<Figure size 640x480 with 1 Axes>"
      ]
     },
     "metadata": {},
     "output_type": "display_data"
    },
    {
     "data": {
      "image/png": "[encoded data removed]",
      "text/plain": [
       "<Figure size 640x480 with 1 Axes>"
      ]
     },
     "metadata": {},
     "output_type": "display_data"
    }
   ],
   "source": [
    "from gensim.models import CoherenceModel\n",
    "\n",
    "def show_coherence(corpus, dictionary, start=6, end=15):\n",
    "    iter_num = []\n",
    "    per_value = []\n",
    "    coh_value = []\n",
    "\n",
    "    for i in range(start, end + 1):\n",
    "        model = LdaModel(corpus=corpus, id2word=dictionary,\n",
    "                 chunksize=1000, num_topics=i,\n",
    "                 random_state=7)\n",
    "        iter_num.append(i)\n",
    "        pv = model.log_perplexity(corpus)\n",
    "        per_value.append(pv)\n",
    "        \n",
    "        cm = CoherenceModel(model=model, corpus=corpus, \n",
    "                            coherence='u_mass')\n",
    "        cv = cm.get_coherence()\n",
    "        coh_value.append(cv)\n",
    "        print(f'num_topics: {i}, perplexity: {pv:0.3f}, coherence: {cv:0.3f}')\n",
    "\n",
    "    plt.plot(iter_num, per_value, 'g-')\n",
    "    plt.xlabel(\"num_topics\")\n",
    "    plt.ylabel(\"perplexity\")\n",
    "    plt.show()\n",
    "\n",
    "    plt.plot(iter_num, coh_value, 'r--')\n",
    "    plt.xlabel(\"num_topics\")\n",
    "    plt.ylabel(\"coherence\")\n",
    "    plt.show()\n",
    "\n",
    "show_coherence(corpus, dictionary, start=5, end=10)"
   ]
  },
  {
   "cell_type": "code",
   "execution_count": 49,
   "id": "12a79e89",
   "metadata": {},
   "outputs": [
    {
     "name": "stdout",
     "output_type": "stream",
     "text": [
      "Wall time: 14.7 s\n"
     ]
    }
   ],
   "source": [
    "# Perplexity는 낮을수록 좋고 coherence는 높을수록 좋은데 두 척도가 모두 최상인 토픽 수는 존재 X\n",
    "# LDA 시행 시 토픽의 수를 5개로 하였을 때 괜찮은 결과가 나왔으므로 Gensim에서도 동일하게 Perplexity가 가장 작은 5개로 진행\n",
    "\n",
    "num_topics = 5\n",
    "passes = 5\n",
    "%time model = LdaModel(corpus=corpus, id2word=dictionary,\\\n",
    "                       passes=passes, num_topics=num_topics, \\\n",
    "                       random_state=7)"
   ]
  },
  {
   "cell_type": "code",
   "execution_count": 50,
   "id": "b010e673",
   "metadata": {},
   "outputs": [
    {
     "data": {
      "text/plain": [
       "[(0,\n",
       "  '0.042*\"대표\" + 0.031*\"민주당\" + 0.026*\"국민\" + 0.024*\"의원\" + 0.014*\"이재명\" + 0.011*\"대해\" + 0.010*\"국회\" + 0.010*\"의혹\" + 0.009*\"검찰\" + 0.009*\"관련\"'),\n",
       " (1,\n",
       "  '0.015*\"지난해\" + 0.009*\"국내\" + 0.009*\"시장\" + 0.009*\"판매\" + 0.008*\"은행\" + 0.008*\"결과\" + 0.007*\"금리\" + 0.007*\"서비스\" + 0.007*\"선고\" + 0.007*\"혐의\"'),\n",
       " (2,\n",
       "  '0.030*\"대통령\" + 0.018*\"경찰\" + 0.017*\"일본\" + 0.015*\"혐의\" + 0.013*\"윤석열\" + 0.013*\"서울\" + 0.011*\"미국\" + 0.011*\"오후\" + 0.010*\"여성\" + 0.009*\"북한\"'),\n",
       " (3,\n",
       "  '0.019*\"정부\" + 0.011*\"금융\" + 0.009*\"위원회\" + 0.009*\"지원\" + 0.008*\"주택\" + 0.008*\"부동산\" + 0.007*\"서울\" + 0.007*\"정책\" + 0.007*\"투자\" + 0.007*\"한국\"'),\n",
       " (4,\n",
       "  '0.017*\"한국\" + 0.015*\"미국\" + 0.015*\"서울\" + 0.009*\"세계\" + 0.008*\"기업\" + 0.008*\"시간\" + 0.007*\"위해\" + 0.007*\"현지\" + 0.007*\"반도체\" + 0.006*\"기술\"')]"
      ]
     },
     "execution_count": 50,
     "metadata": {},
     "output_type": "execute_result"
    }
   ],
   "source": [
    "model.print_topics(num_words=10) # 토픽의 상위 비중단어 출력"
   ]
  },
  {
   "cell_type": "code",
   "execution_count": 51,
   "id": "4b8b4d71",
   "metadata": {},
   "outputs": [
    {
     "data": {
      "text/html": [
       "\n",
       "<link rel=\"stylesheet\" type=\"text/css\" href=\"https://cdn.jsdelivr.net/gh/bmabey/pyLDAvis@3.4.0/pyLDAvis/js/ldavis.v1.0.0.css\">\n",
       "\n",
       "\n",
       "<div id=\"ldavis_el342425928906241445992614242\" style=\"background-color:white;\"></div>\n",
       "<script type=\"text/javascript\">\n",
       "\n",
       "var ldavis_el342425928906241445992614242_data = {\"mdsDat\": {\"x\": [0.11281252937805634, -0.1714262900163913, -0.23031512080126595, 0.05854787818490326, 0.23038100325469682], \"y\": [0.1306679978694333, 0.1999423791273941, -0.16010648933872518, -0.1276837872669534, -0.04282010039114914], \"topics\": [1, 2, 3, 4, 5], \"cluster\": [1, 1, 1, 1, 1], \"Freq\": [27.355192327411505, 20.239788454452974, 18.88944476902788, 17.461958188774965, 16.053616260332678]}, \"tinfo\": {\"Term\": [\"\\ub300\\ud45c\", \"\\ubbfc\\uc8fc\\ub2f9\", \"\\ub300\\ud1b5\\ub839\", \"\\uc758\\uc6d0\", \"\\uad6d\\ubbfc\", \"\\uacbd\\ucc30\", \"\\uc77c\\ubcf8\", \"\\uc815\\ubd80\", \"\\ubbf8\\uad6d\", \"\\uc774\\uc7ac\\uba85\", \"\\ud610\\uc758\", \"\\uc724\\uc11d\\uc5f4\", \"\\uc138\\uacc4\", \"\\uc758\\ud639\", \"\\uae08\\uc735\", \"\\uc704\\uc6d0\\ud68c\", \"\\uad6d\\ud68c\", \"\\uad6d\\ub0b4\", \"\\uc740\\ud589\", \"\\ubd81\\ud55c\", \"\\ubd80\\ub3d9\\uc0b0\", \"\\uc8fc\\ud0dd\", \"\\uc5ec\\uc131\", \"\\ud310\\ub9e4\", \"\\ub0a8\\uc131\", \"\\uc9c0\\ub09c\\ud574\", \"\\uacbd\\ucc30\\uc11c\", \"\\uc704\\uc6d0\", \"\\uae08\\ub9ac\", \"\\ub300\\ud574\", \"\\uc138\\uacc4\", \"\\ubb38\\ud654\", \"\\uc791\\ud488\", \"\\uc2a4\\ud0c0\\ud2b8\\uc5c5\", \"\\uc601\\ud654\", \"\\uacf5\\uac04\", \"\\ucd95\\uc81c\", \"\\ub514\\uc790\\uc778\", \"\\uc720\\ub7fd\", \"\\uc2e4\\ub9ac\\ucf58\\ubc38\\ub9ac\", \"\\ubb34\\uc5ed\", \"\\uc608\\uc220\", \"\\ucca8\\ub2e8\", \"\\ucc38\\uac00\", \"\\uccb4\\ud5d8\", \"\\uc804\\uc2dc\\ud68c\", \"\\uadf8\\ub9b0\", \"\\ud30c\\uc0b0\", \"\\uc544\\ud2b8\", \"\\ubc1c\\uad74\", \"\\uc791\\uac00\", \"\\ub098\\ubb34\", \"\\ud30c\\ud06c\", \"\\uacb0\\ud63c\", \"\\uc790\\uc5f0\", \"\\uad00\\uad11\", \"\\uc5f0\\ubc29\", \"\\ub300\\ud559\", \"\\uc74c\\uc545\", \"\\uace0\\ub824\\ub300\", \"\\uc601\\uad6d\", \"\\uc804\\uc2dc\", \"\\ucc3d\\uc5c5\", \"\\uacf5\\uc5f0\", \"\\ub9b0\\ub2e4\", \"\\uad50\\uc218\", \"\\uc18c\\uac1c\", \"\\ub2ec\\ub7ec\", \"\\uc218\\ucd9c\", \"\\ubc18\\ub3c4\\uccb4\", \"\\uc138\\uc0c1\", \"\\ubc30\\ud130\\ub9ac\", \"\\uad6d\\uc81c\", \"\\uae30\\uc220\", \"\\uc804\\uae30\\ucc28\", \"\\uc2dc\\ub300\", \"\\uac1c\\ucd5c\", \"\\uad50\\uc721\", \"\\ubbf8\\uad6d\", \"\\ud55c\\uad6d\", \"\\ubd84\\uc57c\", \"\\uc0b0\\uc5c5\", \"\\uc13c\\ud130\", \"\\uc2dc\\uac04\", \"\\uc911\\uad6d\", \"\\ud604\\uc9c0\", \"\\uc11c\\uc6b8\", \"\\uae00\\ub85c\\ubc8c\", \"\\uae30\\uc5c5\", \"\\uacbd\\uc81c\", \"\\ubbf8\\ub798\", \"\\uc704\\ud574\", \"\\uc0ac\\ub78c\", \"\\uad6d\\ub0b4\", \"\\uadf8\\ub8f9\", \"\\uc774\\ubc88\", \"\\ud589\\uc0ac\", \"\\uc0ac\\uc9c4\", \"\\ud68c\\uc7a5\", \"\\uc740\\ud589\", \"\\uc9c4\\ud589\", \"\\ucd5c\\uadfc\", \"\\uc2dc\\uc791\", \"\\uc62c\\ud574\", \"\\uc9c0\\uc5ed\", \"\\uacbd\\ucc30\", \"\\uacbd\\ucc30\\uc11c\", \"\\ud55c\\uc77c\", \"\\ud55c\\ubbf8\", \"\\uc815\\uc0c1\\ud68c\\ub2f4\", \"\\uc9d5\\uc6a9\", \"\\uc591\\uad6d\", \"\\uc815\\uc0c1\", \"\\uc678\\uad50\", \"\\ucd1d\\ub9ac\", \"\\uacbd\\ucc30\\uccad\", \"\\uad6d\\ube48\", \"\\uc785\\uac74\", \"\\uc77c\\uc81c\\uac15\\uc810\\uae30\", \"\\ud22c\\uc57d\", \"\\ud6c4\\ubbf8\", \"\\ubc9a\\uaf43\", \"\\uc720\\uc544\\uc778\", \"\\uc6a9\\uc0b0\", \"\\uc6b4\\uc804\\uc790\", \"\\uc678\\uad50\\ubd80\", \"\\uc704\\ud611\", \"\\ub3d9\\ub9f9\", \"\\ubc94\\ud589\", \"\\uc74c\\uc8fc\\uc6b4\\uc804\", \"\\ud0dd\\uc2dc\", \"\\ubaa9\\uc0ac\", \"\\uc9c0\\ud558\\ucca0\", \"\\uc544\\ub0b4\", \"\\ub9c8\\uc57d\", \"\\ubc1c\\uacac\", \"\\uc6b0\\ud06c\\ub77c\\uc774\\ub098\", \"\\uc0b4\\uc778\", \"\\uc0ac\\uace0\", \"\\ub0a8\\uc131\", \"\\ub300\\ud1b5\\ub839\", \"\\uc77c\\ubcf8\", \"\\uc548\\ubcf4\", \"\\ud6c8\\ub828\", \"\\ubc30\\uc0c1\", \"\\uac15\\uc81c\", \"\\uc724\\uc11d\\uc5f4\", \"\\uc5ec\\uc131\", \"\\uc601\\uc0c1\", \"\\uc624\\ud6c4\", \"\\ubd81\\ud55c\", \"\\uae30\\uc0ac\", \"\\ud53c\\ud574\\uc790\", \"\\ub300\\ud1b5\\ub839\\uc2e4\", \"\\ubc29\\ubb38\", \"\\ud610\\uc758\", \"\\uc624\\uc804\", \"\\uc778\\ucc9c\", \"\\ubbf8\\uad6d\", \"\\uc11c\\uc6b8\", \"\\uc815\\ubd80\", \"\\uc9c0\\ub09c\", \"\\uc870\\uc0ac\", \"\\ud55c\\uad6d\", \"\\uc2dc\\uac04\", \"\\ubbfc\\uc8fc\\ub2f9\", \"\\uc758\\uc6d0\", \"\\uc774\\uc7ac\\uba85\", \"\\uc804\\ub2f9\\ub300\\ud68c\", \"\\uae40\\uae30\\ud604\", \"\\uc6d0\\ub0b4\\ub300\\ud45c\", \"\\ub178\\uc870\", \"\\ud22c\\ud45c\", \"\\ub300\\ubc95\\uc6d0\", \"\\uc77c\\uc6d4\", \"\\ub300\\uc7a5\\ub3d9\", \"\\ubc95\\ubb34\\ubd80\", \"\\ub77c\\ub514\\uc624\", \"\\uc758\\uc548\", \"\\uac00\\uc0c1\", \"\\ub178\\ub3d9\\uc870\\ud569\", \"\\uc131\\ub0a8\", \"\\ubd80\\uacb0\", \"\\ub3c4\\ubd80\", \"\\ube44\\uba85\", \"\\ubd09\\ud22c\", \"\\ud398\\uc774\\uc2a4\\ubd81\", \"\\uc120\\uc0ac\", \"\\ube44\\ud310\", \"\\uce5c\\uc724\", \"\\uc758\\ud639\", \"\\ucc29\\uc6a9\", \"\\ub4dc\\ub77c\\ub9c8\", \"\\ucca0\\ud559\", \"\\uc9c0\\uce35\", \"\\uc120\\uac70\", \"\\ub300\\uc120\", \"\\ud559\\uad50\\ud3ed\\ub825\", \"\\ucd1d\\uc120\", \"\\uad6d\\ubbfc\", \"\\uc704\\uc6d0\", \"\\ub300\\ud45c\", \"\\ub17c\\ub780\", \"\\ud6c4\\ubcf4\", \"\\ubcc0\\ud638\\uc0ac\", \"\\ucd9c\\uc11d\", \"\\uc815\\uce58\", \"\\uad6d\\ud68c\", \"\\uac80\\ucc30\", \"\\uc704\\uc6d0\\uc7a5\", \"\\ub300\\ud574\", \"\\uc218\\uc0ac\", \"\\uc8fc\\uc7a5\", \"\\ucd5c\\uace0\", \"\\uad00\\ub828\", \"\\ub300\\ud55c\", \"\\uc0ac\\uc2e4\", \"\\ubd80\\uc7a5\", \"\\uc7ac\\ud310\", \"\\ud610\\uc758\", \"\\uc704\\uc6d0\\ud68c\", \"\\uac80\\uc0ac\", \"\\ub300\\ud1b5\\ub839\", \"\\uc790\\uc2e0\", \"\\ubd80\\ub3d9\\uc0b0\", \"\\uc804\\uc138\", \"\\ubd84\\uc591\", \"\\uc784\\uba85\", \"\\uc0ac\\uae30\", \"\\ubcf4\\uc870\\uae08\", \"\\uc7ac\\uc815\", \"\\uc8fc\\uc8fc\", \"\\uc5f0\\uae08\", \"\\uc774\\uc0ac\", \"\\uad6d\\ud1a0\\uad50\\ud1b5\\ubd80\", \"\\ucc28\\uae30\", \"\\ubcf4\\uc99d\\uae08\", \"\\uccad\\uc57d\", \"\\uae30\\uc628\", \"\\uc18c\\ub4dd\", \"\\uacfc\\uc7a5\", \"\\uc138\\uae08\", \"\\uac10\\ucd95\", \"\\uc8fc\\uc2dd\", \"\\uc784\\ub300\", \"\\uac1c\\ud3b8\\uc548\", \"\\uadfc\\ub85c\", \"\\ud6c4\\ubcf4\\uc790\", \"\\uae30\\ud68d\\uc7ac\\uc815\\ubd80\", \"\\uc790\\uc6d0\\ubd80\", \"\\ubbfc\\uc0dd\", \"\\uc2b9\\uc9c4\", \"\\ud1a0\\uc9c0\", \"\\ucd08\\uae30\", \"\\uc120\\uc784\", \"\\uc8fc\\uac00\", \"\\uc774\\uc0ac\\ud68c\", \"\\uc815\\ucc45\", \"\\uc8fc\\ud0dd\", \"\\uac00\\uad6c\", \"\\uac1c\\ud3b8\", \"\\uae08\\uc735\", \"\\uc8fc\\uc8fc\\ucd1d\\ud68c\", \"\\uaddc\\uc81c\", \"\\ub2e8\\uc9c0\", \"\\ubc29\\uc548\", \"\\uc815\\ubd80\", \"\\uc81c\\ub3c4\", \"\\uac80\\ud1a0\", \"\\uc2ec\\uc0ac\", \"\\uc704\\uc6d0\\ud68c\", \"\\uc9c0\\uc6d0\", \"\\uc544\\ud30c\\ud2b8\", \"\\uac74\\uc124\", \"\\uc758\\ub8cc\", \"\\ud22c\\uc790\", \"\\ucd94\\uc9c4\", \"\\uc804\\uad6d\", \"\\ud53c\\ud574\", \"\\ub300\\ucd9c\", \"\\ub300\\ucc45\", \"\\ub0b4\\uc6a9\", \"\\uacf5\\uc0ac\", \"\\uc11c\\uc6b8\", \"\\uc0ac\\uc5c5\", \"\\ud55c\\uad6d\", \"\\ub300\\ud55c\", \"\\uc62c\\ud574\", \"\\uc9c0\\uc5ed\", \"\\uc9c0\\ub09c\\ud574\", \"\\uc704\\ud574\", \"\\uad00\\ub828\", \"\\ucd5c\\uadfc\", \"\\ubc1c\\ud45c\", \"\\uce58\\ub8cc\", \"\\uc601\\uc5c5\", \"\\ub9e4\\ucd9c\", \"\\uc2e0\\uc885\", \"\\uc9d5\\uc5ed\", \"\\uce74\\uce74\\uc624\", \"\\ud68c\\uc0ac\\ucc44\", \"\\uae08\\ub9ac\", \"\\uac10\\uc5fc\\uc99d\", \"\\ubc1c\\ud589\", \"\\ucf54\\ub85c\\ub098\\ubc14\\uc774\\ub7ec\\uc2a4\", \"\\ud658\\uc790\", \"\\uc608\\uce21\", \"\\ud0c0\\uc774\\uc5b4\", \"\\uc2e4\\uc801\", \"\\ub86f\\ub370\", \"\\ud55c\\ud654\", \"\\ubaa8\\ubc14\\uc77c\", \"\\ub85c\\ubd07\", \"\\ub370\\uc774\\ud130\", \"\\ud3ec\\uc778\\ud2b8\", \"\\uc74c\\ub8cc\", \"\\uac00\\uc911\", \"\\uae30\\ubd80\", \"\\uc12d\\ucde8\", \"\\uc9d1\\ud589\\uc720\\uc608\", \"\\uc0c1\\ubc18\\uae30\", \"\\ud1b5\\uacc4\\uccad\", \"\\uc2e0\\uc138\\uacc4\", \"\\ub9e4\\ub9e4\", \"\\uc120\\uace0\", \"\\uc0c1\\uc2b9\", \"\\ubaa8\\uc9d1\", \"\\uc9c0\\ubc95\", \"\\uc774\\uc775\", \"\\uc2dd\\ud488\", \"\\ud310\\ub9e4\", \"\\ud560\\uc778\", \"\\uc11c\\ube44\\uc2a4\", \"\\uc99d\\uac00\", \"\\uc18c\\ube44\\uc790\", \"\\ucf54\\ub85c\\ub098\", \"\\ucd9c\\uc2dc\", \"\\uc81c\\ud488\", \"\\uac00\\uaca9\", \"\\uc5c5\\uacc4\", \"\\uc9c0\\ub09c\\ud574\", \"\\ub300\\ube44\", \"\\uc0c1\\ud488\", \"\\ud615\\uc0ac\", \"\\uacb0\\uacfc\", \"\\uad6d\\ub0b4\", \"\\uc740\\ud589\", \"\\uc2dc\\uc7a5\", \"\\ud3c9\\uade0\", \"\\ud310\\uc0ac\", \"\\uae30\\uc900\", \"\\uac1c\\ubc1c\", \"\\uc774\\uc0c1\", \"\\uc62c\\ud574\", \"\\uae30\\uc5c5\", \"\\ud610\\uc758\", \"\\uc0ac\\uc5c5\", \"\\ub300\\uc0c1\"], \"Freq\": [2916.0, 1794.0, 2173.0, 1419.0, 1648.0, 1147.0, 1223.0, 1684.0, 1938.0, 806.0, 1616.0, 1087.0, 785.0, 583.0, 662.0, 813.0, 761.0, 979.0, 823.0, 782.0, 449.0, 489.0, 802.0, 455.0, 543.0, 1447.0, 425.0, 469.0, 370.0, 1195.0, 784.0785387197842, 364.9774461763384, 222.0191503345275, 227.7708656650221, 178.68216530587094, 165.48017402941073, 241.62745649406082, 158.73349684334272, 158.40399706255567, 137.9701981439192, 124.0090678154409, 112.34442789629682, 181.3570368459274, 109.79338518083013, 105.47157455941145, 106.01262834413762, 101.26483203038603, 98.22470081500477, 90.67693716973092, 107.8533838931755, 211.20392822340003, 82.43381495997755, 86.13876985598287, 81.3565542754344, 79.09616260061637, 100.35056319692791, 79.53711126996885, 294.97216376867004, 77.17629037197165, 78.70458635363167, 194.2741864686159, 201.12335047135545, 249.25449887284424, 152.8336838886421, 125.37618400329198, 422.29180620954173, 202.49255862776917, 219.9774086602988, 413.00323007670096, 557.7281295302358, 142.06328686915708, 205.78504214478514, 299.8385540748805, 507.9101276800679, 246.16425862644638, 185.88912468296058, 286.14959573141437, 329.2272945156887, 1229.0442984278354, 1446.0791421436504, 279.40290872389767, 498.80167691548354, 394.41829922368794, 639.336824946159, 494.16697458294635, 571.679811625112, 1224.341160241099, 364.84937448593143, 643.3769367773742, 342.2412639791772, 290.80822311286494, 583.3654498014716, 385.4126593835806, 486.70593432925943, 396.3568174725963, 448.6665601312772, 349.0006206554535, 439.7359954446569, 360.9554843822299, 402.9368737823028, 413.22507695882615, 405.26565711480094, 334.8680274764288, 359.6564995836697, 335.49106089304354, 1146.170719812479, 424.8417142200651, 411.40041760328006, 416.58415741455156, 315.631669716037, 264.64933854976726, 255.5686886102671, 243.0532664009714, 246.6442162110752, 218.18511055358903, 274.73818093028615, 179.35300252413523, 156.98187062779598, 150.15338337011187, 158.6427357823979, 145.30308682212845, 133.77780638336358, 127.2420684458386, 124.2976145900931, 149.88281224895798, 121.11789887563361, 117.79975835355582, 127.0747436718232, 141.80879966050693, 115.77014067322597, 110.57945382452034, 111.44040685916798, 113.30191495372208, 108.33149860575278, 396.3657205761804, 357.43676096207986, 151.05001627275288, 134.9409264792945, 301.40085246834667, 510.3037327284362, 1859.0212876894964, 1052.207591248968, 213.2221644508941, 244.21874093218335, 216.6097026795578, 378.8529658822459, 813.6403379372206, 622.895734577499, 312.1008888075595, 678.7081170550455, 564.06467539865, 245.82879679207858, 419.264580247146, 417.89522906085824, 378.72727973218207, 911.2683048847168, 529.9878580935248, 397.1703270331456, 704.4798237754009, 781.9846939798565, 531.1383921341879, 397.2797356059579, 371.24575642213676, 392.4767457668618, 318.10984365128076, 1793.3125951013556, 1418.411707774038, 805.5777204997125, 307.39872246575067, 266.7283086929864, 244.73648696852152, 225.9784510871646, 212.8375838602025, 191.13145881589662, 180.09991555662776, 170.56060608493385, 168.76717206569154, 151.32010185086102, 139.0815060555172, 165.44428488412447, 137.45116451513505, 128.2935435293963, 127.94777228263122, 126.36114723088566, 124.15939876627348, 127.38959017268, 238.24653482737222, 111.704282242383, 280.41011829764494, 109.74539562357847, 579.42178562297, 105.72701885006573, 101.01272522137677, 104.83934218784647, 96.87017083276382, 252.81265724405395, 179.9638152628085, 206.09469188656945, 194.22377305600128, 1489.87659667785, 442.28097698015694, 2467.7124739872393, 346.2177707507753, 402.91552006086727, 275.9133287811285, 194.95611579707062, 307.5127135828781, 580.1444166029895, 552.9557718595154, 243.4118624425297, 651.480719620275, 438.0677003539544, 269.1590159935234, 395.5828149343105, 532.2469334509541, 511.4708722941201, 298.61747291243137, 306.2201812728696, 278.2532663820204, 369.7569093097754, 310.5604161161489, 254.1999470438593, 312.705955729098, 256.29605976118586, 448.3807395760934, 267.3837239798898, 221.52851620585244, 149.4084818525058, 247.28854004847597, 131.98034259926445, 114.83035330275085, 116.37982021898017, 119.6624987868618, 116.21831945521274, 137.61388546805463, 106.96591812899366, 101.43920024133057, 140.72068117775567, 100.04609941784673, 163.20628957387356, 103.16356571372528, 93.1474651430651, 93.09601185237258, 102.9151266312015, 88.60332517471302, 84.19034188252611, 83.52154314511714, 84.71620366678549, 76.63999936265033, 74.45041639512368, 76.54074786454466, 74.40589710461465, 70.62641560496053, 70.78945238142684, 215.9079886936454, 149.94226193896384, 146.42318788200555, 394.21769678293055, 457.71222361326596, 236.21023967574675, 140.1416858929944, 574.9204499626672, 123.98964091222015, 215.07126928633164, 216.4525522161935, 292.59339133778656, 1043.3148958332986, 252.4311105643098, 196.32594585356844, 192.93944536612202, 501.8805258164424, 476.69157268694187, 326.45664076916626, 279.05912577890825, 191.60396696188454, 356.2654937749911, 257.7122858505384, 308.1233950615935, 218.54707167125878, 201.47183917238348, 190.54622473136206, 237.60233111945703, 215.48129063533747, 403.28965109894955, 269.06809669715744, 353.46077220348275, 295.14317241791923, 247.74204623045893, 232.7887557154035, 263.91652326607635, 246.84539098069112, 237.72726851155167, 234.64596434321237, 227.33409249691664, 245.2949229651468, 210.17495680210104, 194.26132155996433, 189.27281313837068, 183.56989364115546, 196.1682621765716, 168.92406312514353, 368.4187968292558, 167.67139412920062, 164.11818636636124, 163.03838516158916, 251.69163067332602, 141.90960901090102, 138.99716252921866, 133.82176876283563, 275.52089544518316, 111.53805455335757, 110.88785217317624, 110.35682205393944, 102.95086201281833, 130.57630163437184, 90.48970065827783, 82.8628661631204, 83.15106752662146, 77.82832806093558, 77.47588918301072, 77.57812164540059, 74.46891643515065, 74.5219606563478, 74.45255301626781, 337.2470544733313, 149.91265228164897, 260.123857775301, 229.34716604643862, 147.87557666273926, 253.06954697195437, 421.9491135864338, 98.2720078061107, 365.2543110446821, 194.47771754395063, 218.48690499416165, 276.9822023547298, 256.45049790607504, 285.4036857396221, 307.9152313057753, 297.8377169030103, 736.0290021445155, 229.5759657209624, 225.48627528719086, 277.56842659133963, 419.56354729035115, 468.6734930684437, 419.99278875954536, 438.6463254648099, 246.12142835934299, 265.93897533943175, 263.2934387561736, 302.67257403169145, 294.3534326213266, 316.9248063974142, 319.2660145139539, 332.927642157561, 252.57127827326354, 241.87062827970564], \"Total\": [2916.0, 1794.0, 2173.0, 1419.0, 1648.0, 1147.0, 1223.0, 1684.0, 1938.0, 806.0, 1616.0, 1087.0, 785.0, 583.0, 662.0, 813.0, 761.0, 979.0, 823.0, 782.0, 449.0, 489.0, 802.0, 455.0, 543.0, 1447.0, 425.0, 469.0, 370.0, 1195.0, 785.5272387235842, 365.9332807831073, 222.8608782625832, 228.73621301056812, 179.5236710475304, 166.28710666321734, 242.8076823046962, 159.54100374786722, 159.27420923092484, 138.7781015838475, 124.87726319280343, 113.14328345978247, 182.68799005409545, 110.63517802295777, 106.2879980940176, 106.83358073354236, 102.10007153769564, 99.0397181134119, 91.47615500859243, 108.81537454843603, 213.24445923146908, 83.23371237516183, 86.98185849631828, 82.17196048821013, 79.89614067170398, 101.36834254126745, 80.35117994389596, 298.00594646755263, 77.97695494963111, 79.52117853208571, 196.5058655039781, 204.6641974913016, 255.3564347572269, 155.59053970610094, 127.4571404787165, 440.3024861061058, 209.20729559336422, 227.97909733223918, 437.79324300583147, 603.5831323125, 146.0565296910845, 217.54887251323447, 338.5767019972257, 609.1682343115879, 274.7709703800842, 201.39141861885457, 332.9420958657362, 398.2973428199565, 1938.106111877006, 2375.140590218223, 329.0381484497238, 676.9739033613942, 505.45995580321534, 980.8443468388436, 701.2995328777255, 865.5005971492477, 2562.367511919765, 484.99868848371005, 1110.3568713791087, 473.91727089985596, 368.31058039398994, 1153.2239550932336, 601.0398155792769, 979.0027040878508, 680.8577236492523, 869.173509106623, 547.4178133875484, 928.2625619048537, 610.4880817890814, 823.6156668592278, 906.1717364503381, 1086.3169145151403, 589.4773948520027, 932.8927907571021, 654.6322621213675, 1147.0446853189185, 425.6378717865427, 412.2010050620325, 417.41128722829876, 316.4285012560731, 265.450106877631, 256.3675745565134, 243.859489127114, 247.54327301355124, 218.98418650532557, 275.92311911425, 180.15245703558955, 157.78203769425892, 150.95424107606738, 159.49603137522826, 146.09825388458188, 134.60480962065938, 128.03807194179694, 125.12902113118125, 150.88636696953492, 121.93080218831354, 118.60338711456127, 127.97528612012368, 142.83114640418003, 116.60707298461813, 111.39016935600159, 112.26212352146887, 114.14126249479665, 109.15776220373073, 399.4708767758188, 364.4387525730618, 153.15791463952647, 136.71775620104, 313.21342274371654, 543.4391365083695, 2173.1937767936884, 1223.1700455200855, 225.65693357570476, 268.20011639046845, 234.24163328111496, 446.21705046189345, 1087.3848215346084, 802.6808337737406, 358.91279965132486, 975.9467000335367, 782.8543652408499, 280.8642199740727, 560.7279148109135, 558.629745434057, 495.2084024785169, 1616.1488097959436, 906.0672857359916, 644.6681021957621, 1938.106111877006, 2562.367511919765, 1684.2811692925336, 907.3129215952349, 856.3593299086826, 2375.140590218223, 980.8443468388436, 1794.208303098902, 1419.3233536436865, 806.3764218200322, 308.2390545933995, 267.59467689265756, 245.57949309043752, 226.78847252951948, 213.6439300380096, 191.93891715704038, 180.8942221849412, 171.3781159605588, 169.58676233551486, 152.11907727934798, 139.87697504851292, 166.40413749642258, 138.256139347688, 129.09787430990275, 128.74993706179956, 127.163648982567, 124.95463613973705, 128.2534099484213, 239.87969962931092, 112.50773136543536, 282.4721272733479, 110.55332392539135, 583.8442358831393, 106.56137574637525, 101.83289791355092, 105.69682775873272, 97.66630966607029, 255.35596431476972, 181.78092575240484, 209.06699087893963, 198.21961771617052, 1648.3270579771756, 469.7825735645313, 2916.7683407935124, 382.9965738246011, 453.4781876198815, 308.74724669642507, 208.03583626946403, 352.8786666325197, 761.7726883063815, 725.6377871335828, 283.51474155797933, 1195.3149320189123, 692.2414986210011, 341.5098159450396, 650.6288245203696, 1213.8130395219025, 1286.8230679447786, 513.4087414130673, 555.3599454596188, 495.94009735555005, 1616.1488097959436, 813.3942072980559, 379.14902567171896, 2173.1937767936884, 626.5524400016976, 449.6692077097731, 268.18307874963483, 222.33935967775992, 150.25294136980366, 248.73362872872997, 132.78634076133102, 115.63111809078826, 117.20636032119022, 120.52215080353172, 117.08203295419044, 138.65207742430883, 107.7905023178073, 102.2385250297668, 141.84529924891038, 100.84887706374433, 164.5191255512583, 104.03802859788652, 93.94916301575464, 93.91064257771448, 103.82658264852473, 89.40169447600138, 84.99694956204078, 84.32614255906668, 85.56789648278271, 77.44092217837695, 75.25805865314453, 77.37790843591979, 75.2277063427089, 71.43115244358528, 71.60597448433715, 218.92398160943483, 152.62481845778035, 149.0791676954471, 418.69066269114717, 489.31876342621695, 251.3763521631802, 145.42921820679032, 662.3432811809881, 128.35889950799015, 240.21675957867086, 254.19065538767376, 364.7398677969944, 1684.2811692925336, 309.08979245609515, 230.2851780929654, 226.7282961368553, 813.3942072980559, 805.4164133924912, 482.9364024745529, 403.63132762341155, 240.02762160827277, 728.0487067976331, 432.87456521103337, 623.2919139821804, 350.79019387832176, 309.89767495961183, 292.05821499596175, 523.2963030707432, 408.0684402884892, 2562.367511919765, 897.7253098550091, 2375.140590218223, 1286.8230679447786, 932.8927907571021, 654.6322621213675, 1447.0828746464701, 1153.2239550932336, 1213.8130395219025, 1086.3169145151403, 724.5608599811553, 246.13330855184984, 210.98265854312157, 195.07231718255392, 190.07951702624723, 184.37479882713123, 197.03310859203896, 169.72254344651128, 370.1626911534854, 168.47679837271633, 164.92386647655982, 163.8437633074012, 252.99221616581053, 142.71174237896784, 139.81741497503458, 134.63954879421112, 277.31561436867906, 112.37089280088622, 111.73047507656736, 111.19874981811336, 103.80398637032725, 131.74486695049163, 91.31682117174904, 83.68336801781889, 83.97683130450847, 78.6310624956201, 78.27615047778706, 78.39599866697532, 75.27314224140764, 75.34100530164424, 75.29393183813015, 343.59649343185566, 151.60711821601578, 265.1317691413269, 234.86245753471368, 151.70146641065352, 265.4074601073287, 455.11148765477634, 100.0674899244303, 407.8022118582249, 207.35988244464843, 235.09827605289166, 304.5428919098747, 304.91436258793834, 347.96126557198664, 397.0562972481623, 399.7687053116487, 1447.0828746464701, 281.4435270710032, 274.44770063881333, 372.8504524428088, 767.3176249081189, 979.0027040878508, 823.6156668592278, 898.3828756240441, 327.8644514945912, 408.01100306233883, 428.3407973806111, 684.301990486658, 668.3483338745091, 932.8927907571021, 1110.3568713791087, 1616.1488097959436, 897.7253098550091, 582.1919459357877], \"Category\": [\"Default\", \"Default\", \"Default\", \"Default\", \"Default\", \"Default\", \"Default\", \"Default\", \"Default\", \"Default\", \"Default\", \"Default\", \"Default\", \"Default\", \"Default\", \"Default\", \"Default\", \"Default\", \"Default\", \"Default\", \"Default\", \"Default\", \"Default\", \"Default\", \"Default\", \"Default\", \"Default\", \"Default\", \"Default\", \"Default\", \"Topic1\", \"Topic1\", \"Topic1\", \"Topic1\", \"Topic1\", \"Topic1\", \"Topic1\", \"Topic1\", \"Topic1\", \"Topic1\", \"Topic1\", \"Topic1\", \"Topic1\", \"Topic1\", \"Topic1\", \"Topic1\", \"Topic1\", \"Topic1\", \"Topic1\", \"Topic1\", \"Topic1\", \"Topic1\", \"Topic1\", \"Topic1\", \"Topic1\", \"Topic1\", \"Topic1\", \"Topic1\", \"Topic1\", \"Topic1\", \"Topic1\", \"Topic1\", \"Topic1\", \"Topic1\", \"Topic1\", \"Topic1\", \"Topic1\", \"Topic1\", \"Topic1\", \"Topic1\", \"Topic1\", \"Topic1\", \"Topic1\", \"Topic1\", \"Topic1\", \"Topic1\", \"Topic1\", \"Topic1\", \"Topic1\", \"Topic1\", \"Topic1\", \"Topic1\", \"Topic1\", \"Topic1\", \"Topic1\", \"Topic1\", \"Topic1\", \"Topic1\", \"Topic1\", \"Topic1\", \"Topic1\", \"Topic1\", \"Topic1\", \"Topic1\", \"Topic1\", \"Topic1\", \"Topic1\", \"Topic1\", \"Topic1\", \"Topic1\", \"Topic1\", \"Topic1\", \"Topic1\", \"Topic1\", \"Topic1\", \"Topic2\", \"Topic2\", \"Topic2\", \"Topic2\", \"Topic2\", \"Topic2\", \"Topic2\", \"Topic2\", \"Topic2\", \"Topic2\", \"Topic2\", \"Topic2\", \"Topic2\", \"Topic2\", \"Topic2\", \"Topic2\", \"Topic2\", \"Topic2\", \"Topic2\", \"Topic2\", \"Topic2\", \"Topic2\", \"Topic2\", \"Topic2\", \"Topic2\", \"Topic2\", \"Topic2\", \"Topic2\", \"Topic2\", \"Topic2\", \"Topic2\", \"Topic2\", \"Topic2\", \"Topic2\", \"Topic2\", \"Topic2\", \"Topic2\", \"Topic2\", \"Topic2\", \"Topic2\", \"Topic2\", \"Topic2\", \"Topic2\", \"Topic2\", \"Topic2\", \"Topic2\", \"Topic2\", \"Topic2\", \"Topic2\", \"Topic2\", \"Topic2\", \"Topic2\", \"Topic2\", \"Topic2\", \"Topic2\", \"Topic2\", \"Topic2\", \"Topic2\", \"Topic2\", \"Topic2\", \"Topic3\", \"Topic3\", \"Topic3\", \"Topic3\", \"Topic3\", \"Topic3\", \"Topic3\", \"Topic3\", \"Topic3\", \"Topic3\", \"Topic3\", \"Topic3\", \"Topic3\", \"Topic3\", \"Topic3\", \"Topic3\", \"Topic3\", \"Topic3\", \"Topic3\", \"Topic3\", \"Topic3\", \"Topic3\", \"Topic3\", \"Topic3\", \"Topic3\", \"Topic3\", \"Topic3\", \"Topic3\", \"Topic3\", \"Topic3\", \"Topic3\", \"Topic3\", \"Topic3\", \"Topic3\", \"Topic3\", \"Topic3\", \"Topic3\", \"Topic3\", \"Topic3\", \"Topic3\", \"Topic3\", \"Topic3\", \"Topic3\", \"Topic3\", \"Topic3\", \"Topic3\", \"Topic3\", \"Topic3\", \"Topic3\", \"Topic3\", \"Topic3\", \"Topic3\", \"Topic3\", \"Topic3\", \"Topic3\", \"Topic3\", \"Topic3\", \"Topic3\", \"Topic3\", \"Topic4\", \"Topic4\", \"Topic4\", \"Topic4\", \"Topic4\", \"Topic4\", \"Topic4\", \"Topic4\", \"Topic4\", \"Topic4\", \"Topic4\", \"Topic4\", \"Topic4\", \"Topic4\", \"Topic4\", \"Topic4\", \"Topic4\", \"Topic4\", \"Topic4\", \"Topic4\", \"Topic4\", \"Topic4\", \"Topic4\", \"Topic4\", \"Topic4\", \"Topic4\", \"Topic4\", \"Topic4\", \"Topic4\", \"Topic4\", \"Topic4\", \"Topic4\", \"Topic4\", \"Topic4\", \"Topic4\", \"Topic4\", \"Topic4\", \"Topic4\", \"Topic4\", \"Topic4\", \"Topic4\", \"Topic4\", \"Topic4\", \"Topic4\", \"Topic4\", \"Topic4\", \"Topic4\", \"Topic4\", \"Topic4\", \"Topic4\", \"Topic4\", \"Topic4\", \"Topic4\", \"Topic4\", \"Topic4\", \"Topic4\", \"Topic4\", \"Topic4\", \"Topic4\", \"Topic4\", \"Topic4\", \"Topic4\", \"Topic4\", \"Topic4\", \"Topic4\", \"Topic4\", \"Topic4\", \"Topic4\", \"Topic4\", \"Topic4\", \"Topic5\", \"Topic5\", \"Topic5\", \"Topic5\", \"Topic5\", \"Topic5\", \"Topic5\", \"Topic5\", \"Topic5\", \"Topic5\", \"Topic5\", \"Topic5\", \"Topic5\", \"Topic5\", \"Topic5\", \"Topic5\", \"Topic5\", \"Topic5\", \"Topic5\", \"Topic5\", \"Topic5\", \"Topic5\", \"Topic5\", \"Topic5\", \"Topic5\", \"Topic5\", \"Topic5\", \"Topic5\", \"Topic5\", \"Topic5\", \"Topic5\", \"Topic5\", \"Topic5\", \"Topic5\", \"Topic5\", \"Topic5\", \"Topic5\", \"Topic5\", \"Topic5\", \"Topic5\", \"Topic5\", \"Topic5\", \"Topic5\", \"Topic5\", \"Topic5\", \"Topic5\", \"Topic5\", \"Topic5\", \"Topic5\", \"Topic5\", \"Topic5\", \"Topic5\", \"Topic5\", \"Topic5\", \"Topic5\", \"Topic5\", \"Topic5\", \"Topic5\", \"Topic5\", \"Topic5\", \"Topic5\", \"Topic5\", \"Topic5\", \"Topic5\"], \"logprob\": [30.0, 29.0, 28.0, 27.0, 26.0, 25.0, 24.0, 23.0, 22.0, 21.0, 20.0, 19.0, 18.0, 17.0, 16.0, 15.0, 14.0, 13.0, 12.0, 11.0, 10.0, 9.0, 8.0, 7.0, 6.0, 5.0, 4.0, 3.0, 2.0, 1.0, -4.6784, -5.4431, -5.9402, -5.9146, -6.1573, -6.2341, -5.8555, -6.2757, -6.2778, -6.4159, -6.5226, -6.6213, -6.1424, -6.6443, -6.6845, -6.6794, -6.7252, -6.7557, -6.8356, -6.6621, -5.9901, -6.9309, -6.887, -6.9441, -6.9723, -6.7342, -6.9667, -5.656, -6.9968, -6.9772, -6.0736, -6.039, -5.8244, -6.3136, -6.5116, -5.2972, -6.0322, -5.9494, -5.3195, -5.019, -6.3866, -6.0161, -5.6397, -5.1126, -5.8369, -6.1178, -5.6864, -5.5462, -4.2289, -4.0663, -5.7103, -5.1307, -5.3655, -4.8825, -5.14, -4.9943, -4.2328, -5.4434, -4.8762, -5.5074, -5.6703, -4.9741, -5.3886, -5.1553, -5.3606, -5.2366, -5.4878, -5.2567, -5.4542, -5.3441, -5.3189, -5.3384, -5.5292, -5.4578, -5.5273, -3.9975, -4.9899, -5.0221, -5.0096, -5.2871, -5.4633, -5.4982, -5.5484, -5.5337, -5.6563, -5.4258, -5.8523, -5.9855, -6.03, -5.975, -6.0628, -6.1455, -6.1956, -6.219, -6.0318, -6.2449, -6.2727, -6.1969, -6.0872, -6.2901, -6.3359, -6.3282, -6.3116, -6.3565, -5.0593, -5.1627, -6.024, -6.1368, -5.3332, -4.8067, -3.5139, -4.083, -5.6793, -5.5436, -5.6636, -5.1045, -4.3401, -4.6073, -5.2983, -4.5215, -4.7065, -5.537, -5.0032, -5.0064, -5.1048, -4.2268, -4.7688, -5.0573, -4.4842, -4.3798, -4.7666, -5.057, -5.1248, -5.0692, -5.2793, -3.4808, -3.7153, -4.2811, -5.2445, -5.3864, -5.4724, -5.5522, -5.6121, -5.7197, -5.7791, -5.8335, -5.8441, -5.9532, -6.0376, -5.864, -6.0493, -6.1183, -6.121, -6.1335, -6.151, -6.1254, -5.4993, -6.2568, -5.3364, -6.2744, -4.6106, -6.3118, -6.3574, -6.3202, -6.3992, -5.44, -5.7799, -5.6443, -5.7036, -3.6662, -4.8807, -3.1616, -5.1255, -4.9739, -5.3525, -5.6998, -5.2441, -4.6093, -4.6573, -5.4779, -4.4934, -4.8902, -5.3773, -4.9923, -4.6955, -4.7353, -5.2734, -5.2483, -5.3441, -5.0598, -5.2342, -5.4345, -5.2273, -5.4263, -4.7884, -5.3053, -5.4935, -5.8873, -5.3835, -6.0114, -6.1506, -6.1372, -6.1094, -6.1386, -5.9696, -6.2215, -6.2746, -5.9473, -6.2884, -5.799, -6.2577, -6.3598, -6.3604, -6.2601, -6.4099, -6.461, -6.4689, -6.4547, -6.5549, -6.5839, -6.5562, -6.5845, -6.6366, -6.6343, -5.5192, -5.8838, -5.9075, -4.9171, -4.7678, -5.4293, -5.9514, -4.5398, -6.0738, -5.5231, -5.5167, -5.2152, -3.9439, -5.3629, -5.6143, -5.6317, -4.6757, -4.7272, -5.1057, -5.2626, -5.6386, -5.0184, -5.3422, -5.1635, -5.507, -5.5884, -5.6441, -5.4234, -5.5212, -4.8944, -5.2991, -5.0263, -5.2066, -5.3816, -5.4439, -5.3184, -5.3853, -5.4229, -5.436, -5.4676, -5.3075, -5.462, -5.5407, -5.5668, -5.5973, -5.531, -5.6805, -4.9007, -5.6879, -5.7094, -5.716, -5.2817, -5.8548, -5.8755, -5.9134, -5.1913, -6.0956, -6.1014, -6.1062, -6.1757, -5.938, -6.3047, -6.3928, -6.3893, -6.4554, -6.46, -6.4587, -6.4996, -6.4988, -6.4998, -4.9891, -5.7999, -5.2488, -5.3747, -5.8136, -5.2763, -4.7651, -6.2222, -4.9093, -5.5396, -5.4232, -5.186, -5.263, -5.156, -5.0801, -5.1134, -4.2087, -5.3737, -5.3917, -5.1839, -4.7707, -4.66, -4.7697, -4.7262, -5.3041, -5.2267, -5.2367, -5.0973, -5.1252, -5.0513, -5.0439, -5.002, -5.2782, -5.3215], \"loglift\": [30.0, 29.0, 28.0, 27.0, 26.0, 25.0, 24.0, 23.0, 22.0, 21.0, 20.0, 19.0, 18.0, 17.0, 16.0, 15.0, 14.0, 13.0, 12.0, 11.0, 10.0, 9.0, 8.0, 7.0, 6.0, 5.0, 4.0, 3.0, 2.0, 1.0, 1.2944, 1.2936, 1.2925, 1.292, 1.2916, 1.2914, 1.2914, 1.2912, 1.2908, 1.2904, 1.2893, 1.2892, 1.289, 1.2886, 1.2886, 1.2885, 1.288, 1.288, 1.2875, 1.2874, 1.2866, 1.2866, 1.2865, 1.2863, 1.2862, 1.2862, 1.2861, 1.286, 1.2859, 1.2859, 1.2848, 1.2788, 1.2721, 1.2784, 1.2798, 1.2545, 1.2636, 1.2605, 1.238, 1.2173, 1.2685, 1.2407, 1.1748, 1.1145, 1.1863, 1.2162, 1.1448, 1.1058, 0.8408, 0.8001, 1.1327, 0.9908, 1.0482, 0.8683, 0.9462, 0.8815, 0.5577, 1.0116, 0.7506, 0.9707, 1.06, 0.6148, 0.8519, 0.5974, 0.7552, 0.635, 0.8461, 0.5491, 0.7708, 0.5813, 0.511, 0.3103, 0.7308, 0.3431, 0.6278, 1.5968, 1.5956, 1.5956, 1.5955, 1.595, 1.5945, 1.5944, 1.5942, 1.5939, 1.5939, 1.5932, 1.5931, 1.5924, 1.5922, 1.5922, 1.5921, 1.5914, 1.5913, 1.5909, 1.5908, 1.5908, 1.5907, 1.5905, 1.5903, 1.5903, 1.5902, 1.5902, 1.5901, 1.5899, 1.5897, 1.5781, 1.5837, 1.5844, 1.5591, 1.5346, 1.4414, 1.447, 1.5408, 1.5039, 1.5193, 1.4339, 1.3075, 1.3439, 1.4578, 1.2343, 1.2697, 1.4643, 1.3068, 1.3073, 1.3294, 1.0246, 1.0613, 1.1131, 0.5855, 0.4107, 0.4434, 0.7717, 0.7617, -0.2028, 0.4715, 1.6661, 1.6659, 1.6656, 1.6638, 1.6633, 1.6631, 1.663, 1.6628, 1.6624, 1.6622, 1.6618, 1.6617, 1.6613, 1.6609, 1.6608, 1.6607, 1.6603, 1.6603, 1.6602, 1.6602, 1.6598, 1.6597, 1.6594, 1.6592, 1.6592, 1.659, 1.6587, 1.6585, 1.6584, 1.6584, 1.6566, 1.6565, 1.6522, 1.6462, 1.5655, 1.6062, 1.4994, 1.5656, 1.5483, 1.5541, 1.6016, 1.529, 1.3942, 1.3948, 1.5141, 1.0596, 1.209, 1.4285, 1.169, 0.8422, 0.7439, 1.1247, 1.0713, 1.0886, 0.1916, 0.7037, 1.2668, -0.2721, 0.7727, 1.7423, 1.7422, 1.7415, 1.7395, 1.7393, 1.7391, 1.7382, 1.7381, 1.738, 1.7377, 1.7376, 1.7375, 1.7373, 1.7372, 1.7372, 1.7371, 1.7367, 1.7366, 1.7364, 1.7363, 1.7362, 1.7356, 1.7356, 1.7351, 1.7347, 1.7344, 1.7343, 1.7342, 1.7338, 1.7337, 1.7313, 1.7274, 1.7272, 1.6849, 1.6784, 1.6829, 1.7081, 1.6036, 1.7105, 1.6346, 1.5844, 1.5247, 1.2662, 1.5427, 1.5856, 1.5838, 1.2623, 1.2207, 1.3536, 1.3761, 1.5198, 1.0305, 1.2265, 1.0406, 1.272, 1.3146, 1.3181, 0.9556, 1.1066, -0.1039, 0.5402, -0.1599, 0.2727, 0.4192, 0.7112, 0.0435, 0.2036, 0.1147, 0.2127, 0.586, 1.8258, 1.8254, 1.8251, 1.825, 1.8249, 1.8248, 1.8245, 1.8245, 1.8244, 1.8243, 1.8243, 1.8241, 1.8236, 1.8234, 1.8231, 1.8227, 1.8218, 1.8217, 1.8216, 1.821, 1.8203, 1.8201, 1.8194, 1.8194, 1.819, 1.819, 1.8187, 1.8185, 1.8183, 1.818, 1.8106, 1.818, 1.8102, 1.8055, 1.8037, 1.7816, 1.7536, 1.8111, 1.719, 1.7651, 1.756, 1.7344, 1.6561, 1.631, 1.575, 1.5349, 1.1532, 1.6255, 1.6327, 1.5341, 1.2256, 1.0926, 1.1558, 1.1123, 1.5425, 1.4012, 1.3426, 1.0135, 1.0092, 0.7496, 0.5828, 0.2494, 0.5611, 0.9508]}, \"token.table\": {\"Topic\": [1, 4, 5, 1, 4, 3, 5, 5, 4, 2, 3, 4, 1, 3, 4, 5, 1, 2, 4, 5, 1, 4, 5, 4, 1, 3, 4, 5, 2, 3, 4, 5, 2, 3, 4, 5, 2, 3, 4, 5, 1, 2, 3, 4, 5, 1, 1, 2, 4, 5, 2, 2, 2, 4, 1, 1, 1, 3, 4, 5, 1, 2, 4, 1, 1, 2, 3, 4, 5, 1, 4, 5, 1, 3, 4, 5, 1, 2, 4, 5, 2, 3, 4, 5, 2, 1, 2, 4, 5, 4, 3, 4, 1, 4, 1, 2, 3, 4, 5, 1, 4, 1, 4, 5, 1, 5, 1, 4, 5, 5, 1, 2, 3, 5, 1, 4, 5, 1, 4, 5, 4, 1, 4, 5, 4, 3, 1, 2, 5, 1, 2, 3, 4, 5, 3, 3, 3, 4, 1, 2, 4, 1, 5, 3, 1, 3, 4, 5, 1, 2, 3, 4, 5, 2, 3, 3, 3, 4, 4, 5, 2, 3, 4, 2, 3, 4, 1, 2, 3, 4, 5, 1, 4, 1, 2, 3, 4, 5, 1, 2, 3, 4, 5, 5, 3, 2, 3, 1, 3, 5, 1, 5, 1, 5, 2, 5, 5, 5, 5, 1, 4, 5, 2, 1, 1, 1, 2, 3, 4, 5, 1, 2, 3, 5, 4, 3, 1, 4, 5, 1, 2, 3, 1, 1, 2, 3, 4, 5, 5, 1, 2, 2, 4, 2, 3, 1, 5, 2, 3, 2, 2, 3, 4, 4, 4, 3, 3, 1, 4, 2, 3, 4, 5, 2, 3, 1, 2, 4, 5, 4, 3, 2, 3, 2, 4, 5, 4, 5, 1, 2, 3, 1, 2, 3, 4, 5, 1, 3, 4, 5, 1, 2, 3, 4, 5, 1, 4, 5, 2, 5, 5, 1, 5, 1, 4, 5, 1, 5, 1, 2, 3, 4, 5, 3, 4, 3, 5, 3, 1, 4, 5, 5, 3, 1, 2, 4, 1, 2, 1, 2, 3, 4, 5, 1, 2, 5, 1, 4, 1, 5, 2, 3, 4, 1, 4, 5, 1, 4, 1, 2, 3, 4, 1, 2, 3, 4, 1, 2, 3, 4, 5, 1, 3, 4, 5, 1, 5, 5, 5, 1, 5, 3, 4, 5, 2, 1, 2, 4, 5, 1, 2, 2, 1, 4, 5, 1, 2, 5, 4, 1, 1, 2, 1, 2, 5, 5, 1, 1, 5, 1, 2, 3, 4, 5, 1, 2, 3, 4, 5, 1, 2, 4, 5, 2, 2, 2, 1, 2, 2, 3, 3, 4, 3, 4, 1, 3, 4, 1, 2, 3, 4, 5, 2, 1, 2, 2, 3, 4, 1, 5, 5, 1, 2, 1, 4, 5, 3, 3, 3, 4, 1, 2, 3, 4, 5, 4, 3, 4, 1, 2, 3, 4, 5, 2, 5, 3, 1, 2, 4, 5, 1, 2, 3, 2, 4, 4, 2, 1, 2, 3, 5, 1, 4, 1, 2, 1, 4, 3, 5, 1, 2, 3, 4, 5, 1, 5, 3, 4, 1, 2, 1, 1, 2, 3, 4, 2, 2, 1, 2, 4, 1, 2, 3, 4, 1, 4, 5, 1, 5, 1, 2, 3, 4, 5, 1, 4, 4, 1, 2, 3, 4, 4, 4, 5, 2, 4, 1, 2, 1, 4, 5, 1, 2, 3, 4, 5, 1, 2, 3, 4, 5, 3, 5, 1, 2, 3, 4, 5, 1, 2, 4, 5, 3, 2, 1, 2, 3, 4, 5, 5, 5, 2, 4, 3, 1, 1, 4, 5, 3, 1, 4, 4, 1, 4, 2, 3, 4, 1, 2, 3, 4, 5, 1, 2, 3, 4, 5, 1, 2, 3, 4, 5, 1, 5, 2, 3, 1, 5, 5, 3, 5, 1, 5, 5, 5, 2, 4, 5, 2, 1, 3, 4, 5, 3, 1, 1, 1, 5, 3, 5, 2, 3, 4, 5, 5, 1, 2, 3, 4, 2, 3, 4, 3, 4, 1, 2, 3, 4, 5, 2, 2, 5, 1, 5, 1, 2, 3, 4, 5, 1, 2, 3, 2, 3, 4, 5, 2, 3, 5, 4, 5, 5, 1, 3, 4, 2, 3, 4, 4, 1, 2, 3], \"Freq\": [0.005037069085319126, 0.21911250521138198, 0.7757086391391455, 0.055693385155465784, 0.9388313497635661, 0.991561883511143, 0.9918338848685753, 0.9971699463824002, 0.9903030950197056, 0.8493624338372661, 0.13670477167301645, 0.013446370984231126, 0.187051918275102, 0.2893459360817984, 0.08183521424535713, 0.44278696279184304, 0.8590082286120219, 0.11113043517008675, 0.024028202198937674, 0.0030035252748672092, 0.02750478926670895, 0.9626676243348131, 0.006876197316677237, 0.9882707606899105, 0.07432525165140311, 0.1263529278073853, 0.691224840358049, 0.10901036908872457, 0.007912456044651713, 0.6699212784471783, 0.10286192858047226, 0.22154876925024794, 0.12816311615657305, 0.7620882068234934, 0.02756196046377915, 0.08130778336814849, 0.13895813992458386, 0.004342441872643246, 0.8511186070380762, 0.004342441872643246, 0.13423385134980256, 0.10947226712022734, 0.1602986768546186, 0.04952316845915047, 0.5473613356011368, 0.9857377080789221, 0.7216449388953973, 0.08862306267136458, 0.15825546905600818, 0.02954102089045486, 0.9990892374706152, 0.9985013744574341, 0.9966544336073999, 0.003624197940390545, 0.9934460411464422, 0.9922597326452728, 0.10047334209676818, 0.21810066942956996, 0.5268724036781747, 0.15193529780486897, 0.9833502749524857, 0.012854251960163212, 0.9900226041200899, 0.9865012832708555, 0.08815196122966781, 0.21255332707714297, 0.43828825583348857, 0.19607632497813962, 0.06508415829106315, 0.9584320173434242, 0.020440493260878715, 0.020440493260878715, 0.8260160554189758, 0.06276717746344801, 0.10544885813859266, 0.005021374197075841, 0.49744499986212404, 0.0020428952766411664, 0.02145040040473225, 0.4790589423723535, 0.009706811474438316, 0.9039468185570682, 0.08372124896703048, 0.002426702868609579, 0.9936028791693811, 0.8860621484890541, 0.08565267435394189, 0.014767702474817566, 0.014767702474817566, 0.995297023770417, 0.7613819829764318, 0.23760368779092095, 0.10407267188121615, 0.8950249781784589, 0.5816193108268265, 0.017624827600812923, 0.013218620700609692, 0.15862344840731632, 0.22765402317716693, 0.9892255556619323, 0.9961323671501013, 0.7525793546805838, 0.0020618612457002296, 0.24536148823832732, 0.0027015148309081126, 0.9941574577741854, 0.019627284475235273, 0.8681298902507909, 0.1117245423974931, 0.9883678475439687, 0.0890109818983273, 0.8758680618795406, 0.021362635655598552, 0.014241757103732367, 0.8339239825498836, 0.024623739642220973, 0.14117610728206692, 0.5790930975204104, 0.1323898683289274, 0.28729502038726423, 0.9915826820440671, 0.021011307013099813, 0.3618613985589412, 0.613997082716139, 0.9943063413247929, 0.9977776953579084, 0.985177732195807, 0.9384675591765104, 0.060724371476127144, 0.0917262356304302, 0.19491825071466415, 0.21402788313767043, 0.4548092516675497, 0.043952154572914466, 0.990914404571004, 0.9965233130206085, 0.903402337375623, 0.09399561891769488, 0.07081298867005029, 0.0747470435961642, 0.8497558640406035, 0.9650007503950634, 0.030704569330752017, 0.9951082502134146, 0.017765553367083086, 0.007106221346833234, 0.15988998030374776, 0.8172154548858219, 0.32978814176377574, 0.001717646571686332, 0.0377882245770993, 0.21642346803247783, 0.41567047034809235, 0.005501127226967985, 0.9902029008542372, 0.9977936741897325, 0.3458214657697491, 0.653979207544773, 0.6486011875571374, 0.3485021306277156, 0.8554230275510695, 0.1440276533746556, 0.0004601522472033725, 0.7482594749322071, 0.23092218245515483, 0.01969103881400545, 0.10971046124045059, 0.0003428451913764081, 0.8461419323169751, 0.0253705441618542, 0.018513640334326037, 0.9899131325962318, 0.006711275475228691, 0.14065647757549155, 0.17951185812120746, 0.3971019891772165, 0.22924674521972382, 0.052843317542173626, 0.03681038262082367, 0.24679688348052237, 0.5446263428671867, 0.16648332139872526, 0.004182998025093599, 0.9922547640178386, 0.9908492010737556, 0.9923791057657161, 0.9918209347802515, 0.9966089987203403, 0.9926434126517023, 0.989219754537941, 0.003605999619879115, 0.9952558950866358, 0.9807218295539369, 0.007845774636431496, 0.9913113145973677, 0.00750993420149521, 0.9828149253659393, 0.9945029761370476, 0.9934621679889325, 0.003771709453147261, 0.011315128359441783, 0.9806444578182879, 0.9887573521515697, 0.9929749966457146, 0.9974495875829876, 0.6341242063416977, 0.36324120526001236, 0.0005159676211079721, 0.0005159676211079721, 0.0015479028633239164, 0.7900940551007546, 0.19548718889090835, 0.013575499228535303, 0.0027150998457070607, 0.9951160680928361, 0.9993265536131924, 0.9244791150179132, 0.01988127129070781, 0.054673496049446484, 0.0027439452937967194, 0.9795884698854289, 0.013719726468983598, 0.9925068075001379, 0.1435352166313605, 0.20012121549564688, 0.023462487333972392, 0.3132932132242196, 0.3188137984792719, 0.9943982244880784, 0.23424481373785314, 0.765334348333158, 0.19465927985562828, 0.8033122394042125, 0.9263938137742441, 0.07257463057217581, 0.9469136641352536, 0.05056335099751354, 0.9941809162419794, 0.9965400463607296, 0.9955067755575463, 0.10364464895605666, 0.8939350972459886, 0.0032388952798767705, 0.9940781502312472, 0.9878859262747951, 0.9902270828594313, 0.9941752432745689, 0.002223856966086553, 0.9962879208067758, 0.001800633999941056, 0.5509940039819631, 0.02700950999911584, 0.41954772198626605, 0.720440512363346, 0.27846814130356284, 0.8479259967712544, 0.01823496767250009, 0.051665741738750263, 0.07901819324750041, 0.9984736859985036, 0.9923601382931524, 0.0035401722982469747, 0.991248243509153, 0.9610060685243683, 0.022348978337776007, 0.015963555955554293, 0.993030179563614, 0.00402036509944783, 0.6405565655062974, 0.11646483009205406, 0.2429123599062842, 0.0934927595270163, 0.19867211399490964, 0.5823819812203724, 0.10907488611485235, 0.01558212658783605, 0.3430893577566002, 0.07574700106314551, 0.29964622479391384, 0.28182340101435016, 0.4740038196704735, 0.2973296687023879, 0.18098327660145352, 0.046323100558705366, 0.0010772814083419853, 0.7371037458346678, 0.23191440500208985, 0.031020398121298642, 0.9874357490294524, 0.007314338881699647, 0.9949487387914081, 0.006595996360640275, 0.9893994540960412, 0.16032198447130064, 0.014574725861027331, 0.8198283296827874, 0.10299110396831682, 0.8950417368675152, 0.47768323408181224, 0.30518651066338004, 0.03395297497150136, 0.15727642429327643, 0.02575742928872517, 0.9907738034586668, 0.00783220397991041, 0.017462343518328018, 0.980801627612757, 0.9954871424454715, 0.004567795600319484, 0.9866438496690085, 0.009135591200638967, 0.9919743867678852, 0.9914957987048859, 0.9980557787836029, 0.0012730303300811261, 0.9898970572457845, 0.9722263037492112, 0.020539992332729812, 0.7794880592942387, 0.003956792179158572, 0.003956792179158572, 0.11276857710601931, 0.1008982005685436, 0.9655495016417925, 0.02389974013964833, 0.0047799480279296655, 0.006078320661195319, 0.990766267774837, 0.06805664536817092, 0.9272717931413289, 0.3163635818370685, 0.632727163674137, 0.04911580722584624, 0.9433676891959221, 0.02284183266818213, 0.03197856573545498, 0.9967813884785524, 0.9836801306008729, 0.6514795156432605, 0.32421046318396995, 0.0142734166181622, 0.009175767825961415, 0.9235746054900991, 0.029792729209358035, 0.024827274341131696, 0.019861819472905357, 0.568299994072049, 0.04919611888981917, 0.08142805885211447, 0.14080268509844795, 0.1594632819187242, 0.3484037914041724, 0.09238822583561121, 0.07012600274269284, 0.48865579688955807, 0.045213499255624894, 0.9532512759727583, 0.9954738418968667, 0.9943207082849533, 0.9943931962250011, 0.9952499187650381, 0.13672753038856744, 0.8512391408062424, 0.008821130992810802, 0.9893936795665534, 0.9947947636348762, 0.3105999034891636, 0.6750371235831155, 0.012423996139566544, 0.05317806907082767, 0.9439107260071912, 0.9985662205637774, 0.090052071414483, 0.1650954642598855, 0.7454310355976649, 0.12084504315863898, 0.7761490916271349, 0.10340349053780448, 0.9956675947114245, 0.9956294363798869, 0.9872478844458341, 0.01017781324170963, 0.11144768322238448, 0.869291929134599, 0.016717152483357672, 0.9953424677179299, 0.9970829972199502, 0.9898952600205486, 0.9950127272843616, 0.08498265108142987, 0.5849455204306212, 0.25825896562408557, 0.05849455204306212, 0.0143477203124492, 0.12705611894147392, 0.6957347158166193, 0.14242581074891028, 0.029714737494376964, 0.005123230602478787, 0.3858964326520703, 0.008575476281157119, 0.2658397647158707, 0.3398032476408508, 0.9978053412361503, 0.9923661439799603, 0.9909771440631856, 0.013058417547060587, 0.9859105248030743, 0.994125599367676, 0.9976403034180703, 0.9408607829921666, 0.05747339624612782, 0.8570982893681598, 0.13755898471340836, 0.0012294161810197958, 0.3823484322971565, 0.6171669228719375, 0.5055392731179147, 0.1127274536969621, 0.07717494906945867, 0.21418216202422802, 0.09018196295756968, 0.9949125642256873, 0.9919999023251943, 0.9918924744331605, 0.7485850306897012, 0.22715049457046213, 0.024830216005678047, 0.4893058937754285, 0.5099465890463523, 0.9855796428866883, 0.9874712349275223, 0.9947938579617875, 0.029163310260283556, 0.7999079385677775, 0.1708136743816608, 0.9937303830869322, 0.9990676165228387, 0.9917028625352244, 0.006851142400934193, 0.5165827021827933, 0.17602929495315672, 0.10124560755475681, 0.0908909431457476, 0.1150518267667691, 0.9907583347599217, 0.01341569067574745, 0.9793454193295638, 0.21695273654594852, 0.03590941846277768, 0.04638299884775451, 0.2603432838551382, 0.43989037616902665, 0.019775682272437936, 0.9756003254402715, 0.9995331934195415, 0.020165415282253837, 0.6158207590042133, 0.15046502172143247, 0.2125124533591366, 0.13898312881568065, 0.8600603030240943, 0.9950566570112616, 0.9936786070449883, 0.9955068583615134, 0.9916611191875444, 0.9950435568858965, 0.26015380292758633, 0.3239952269588959, 0.408585113800381, 0.004788106802348215, 0.9887836801105795, 0.9832834027922143, 0.989474712545601, 0.004689453613960194, 0.9961371494660948, 0.9945419701788861, 0.5605515695995354, 0.43755284389604027, 0.2727453961561584, 0.00962630809962912, 0.00160438468327152, 0.49415048244762816, 0.22140508629146977, 0.895291084279078, 0.1019030502431471, 0.9959802154368987, 0.995588540652338, 0.9820965389344303, 0.01465815729752881, 0.9921973902978931, 0.006530976062993358, 0.31526802631358847, 0.05877878456694022, 0.6192552757910974, 0.9964754739288986, 0.9986458196579254, 0.007165194419950537, 0.047767962799670244, 0.9410288671535038, 0.07367971617019241, 0.04817519903435658, 0.8728212530930486, 0.0056676704746301855, 0.09058856255816755, 0.8152970630235079, 0.09058856255816755, 0.17818075209630874, 0.8190566830233547, 0.039702959741941005, 0.43322935483117975, 0.15297316841747857, 0.12377981566605135, 0.251062833662274, 0.01310402869080724, 0.982802151810543, 0.9920388148445288, 0.002928173520379671, 0.1727622377024006, 0.7876786769821315, 0.03513808224455605, 0.9897073817676418, 0.966041314433996, 0.031162623046257935, 0.06335338498556148, 0.9359951717221663, 0.7044065721431629, 0.2951663166672768, 0.02893520158896506, 0.03375773518712591, 0.9355715180432037, 0.20169447127265633, 0.4375557655477845, 0.1675276482701845, 0.02755388951812245, 0.1653233371087347, 0.1665419474049664, 0.07947022386544039, 0.06288513366743544, 0.18243599217805448, 0.5086094327388185, 0.021289055954210895, 0.975038762702859, 0.5117376875292035, 0.09012693601260599, 0.018330902239852065, 0.35592501849046093, 0.02291362779981508, 0.2743922228616211, 0.03973100059534785, 0.5922402276244039, 0.09436112641395114, 0.9931776917920984, 0.9900013153013033, 0.45576349756593193, 0.1379429472051852, 0.12801105500641188, 0.08828348621131854, 0.18980949535433486, 0.9836968160800243, 0.9979671905839873, 0.9983043635471637, 0.9926663082478585, 0.9947319022258931, 0.9942588059755644, 0.9751075990574896, 0.01566437910132513, 0.007832189550662566, 0.9934072973285127, 0.9907602571269429, 0.005473813575286978, 0.9940406960725076, 0.9878819987476075, 0.9915373753558832, 0.9955056731674018, 0.9787124111892267, 0.015134728008080824, 0.1951957786278864, 0.018443695618382966, 0.6086419554066379, 0.12295797078921977, 0.056868061490014145, 0.37281938133198, 0.11322662692304578, 0.10954446019384104, 0.21632729534077852, 0.18779050318944177, 0.1686400769802941, 0.048512898857344874, 0.11550690204129732, 0.5960156145330942, 0.07161427926560433, 0.9966735718695975, 0.00411848583417189, 0.057682369610862025, 0.9373385061765079, 0.1574212496669672, 0.839579998223825, 0.995395549840378, 0.9949949589415803, 0.9947566751627615, 0.08865746243714755, 0.9095598924107359, 0.9948501957574172, 0.9941536969827361, 0.9964972729796773, 0.9939640838928675, 0.983086367813309, 0.9968900080400038, 0.17855948205967287, 0.006867672386910494, 0.48897827394802723, 0.32415413666217535, 0.9969859661451883, 0.9895020085555848, 0.9887119163318424, 0.07250970563290213, 0.927245326578324, 0.3455789156216873, 0.6519432025203463, 0.004168756262181887, 0.9921639903992892, 0.24705331618220971, 0.7503100713681925, 0.9943461406297405, 0.002850706825478904, 0.3306819917555529, 0.042760602382183564, 0.6243047947798801, 0.7472429835088441, 0.03388452669849174, 0.21757432932715748, 0.9853301046423174, 0.00956631169555648, 0.6088060664514787, 0.16504286172128607, 0.0227354962575241, 0.148622781090852, 0.054312574392974246, 0.99901467152211, 0.997086360665589, 0.9966993872555286, 0.009993255559374851, 0.9793390448187353, 0.6375386249130386, 0.08768439540351247, 0.16623499961915905, 0.021921098850878118, 0.08585763716593929, 0.6608892031779429, 0.33853240652296723, 0.0011554007048565434, 0.5636857166110982, 0.22893931410110466, 0.001237509805951917, 0.2060453826909942, 0.0026820404627332164, 0.25211180349692236, 0.7456072486398342, 0.00395269077901038, 0.9960780763106156, 0.9957427962612463, 0.5913301352944716, 0.10647218502532038, 0.3013981853024454, 0.9924827720018509, 0.8886866248521885, 0.1102588864580879, 0.9933632062242294, 0.033557032417156143, 0.9097684344206776, 0.0559283873619269], \"Term\": [\"\\uac00\\uaca9\", \"\\uac00\\uaca9\", \"\\uac00\\uaca9\", \"\\uac00\\uad6c\", \"\\uac00\\uad6c\", \"\\uac00\\uc0c1\", \"\\uac00\\uc911\", \"\\uac10\\uc5fc\\uc99d\", \"\\uac10\\ucd95\", \"\\uac15\\uc81c\", \"\\uac15\\uc81c\", \"\\uac15\\uc81c\", \"\\uac1c\\ubc1c\", \"\\uac1c\\ubc1c\", \"\\uac1c\\ubc1c\", \"\\uac1c\\ubc1c\", \"\\uac1c\\ucd5c\", \"\\uac1c\\ucd5c\", \"\\uac1c\\ucd5c\", \"\\uac1c\\ucd5c\", \"\\uac1c\\ud3b8\", \"\\uac1c\\ud3b8\", \"\\uac1c\\ud3b8\", \"\\uac1c\\ud3b8\\uc548\", \"\\uac74\\uc124\", \"\\uac74\\uc124\", \"\\uac74\\uc124\", \"\\uac74\\uc124\", \"\\uac80\\uc0ac\", \"\\uac80\\uc0ac\", \"\\uac80\\uc0ac\", \"\\uac80\\uc0ac\", \"\\uac80\\ucc30\", \"\\uac80\\ucc30\", \"\\uac80\\ucc30\", \"\\uac80\\ucc30\", \"\\uac80\\ud1a0\", \"\\uac80\\ud1a0\", \"\\uac80\\ud1a0\", \"\\uac80\\ud1a0\", \"\\uacb0\\uacfc\", \"\\uacb0\\uacfc\", \"\\uacb0\\uacfc\", \"\\uacb0\\uacfc\", \"\\uacb0\\uacfc\", \"\\uacb0\\ud63c\", \"\\uacbd\\uc81c\", \"\\uacbd\\uc81c\", \"\\uacbd\\uc81c\", \"\\uacbd\\uc81c\", \"\\uacbd\\ucc30\", \"\\uacbd\\ucc30\\uc11c\", \"\\uacbd\\ucc30\\uccad\", \"\\uacbd\\ucc30\\uccad\", \"\\uace0\\ub824\\ub300\", \"\\uacf5\\uac04\", \"\\uacf5\\uc0ac\", \"\\uacf5\\uc0ac\", \"\\uacf5\\uc0ac\", \"\\uacf5\\uc0ac\", \"\\uacf5\\uc5f0\", \"\\uacf5\\uc5f0\", \"\\uacfc\\uc7a5\", \"\\uad00\\uad11\", \"\\uad00\\ub828\", \"\\uad00\\ub828\", \"\\uad00\\ub828\", \"\\uad00\\ub828\", \"\\uad00\\ub828\", \"\\uad50\\uc218\", \"\\uad50\\uc218\", \"\\uad50\\uc218\", \"\\uad50\\uc721\", \"\\uad50\\uc721\", \"\\uad50\\uc721\", \"\\uad50\\uc721\", \"\\uad6d\\ub0b4\", \"\\uad6d\\ub0b4\", \"\\uad6d\\ub0b4\", \"\\uad6d\\ub0b4\", \"\\uad6d\\ubbfc\", \"\\uad6d\\ubbfc\", \"\\uad6d\\ubbfc\", \"\\uad6d\\ubbfc\", \"\\uad6d\\ube48\", \"\\uad6d\\uc81c\", \"\\uad6d\\uc81c\", \"\\uad6d\\uc81c\", \"\\uad6d\\uc81c\", \"\\uad6d\\ud1a0\\uad50\\ud1b5\\ubd80\", \"\\uad6d\\ud68c\", \"\\uad6d\\ud68c\", \"\\uaddc\\uc81c\", \"\\uaddc\\uc81c\", \"\\uadf8\\ub8f9\", \"\\uadf8\\ub8f9\", \"\\uadf8\\ub8f9\", \"\\uadf8\\ub8f9\", \"\\uadf8\\ub8f9\", \"\\uadf8\\ub9b0\", \"\\uadfc\\ub85c\", \"\\uae00\\ub85c\\ubc8c\", \"\\uae00\\ub85c\\ubc8c\", \"\\uae00\\ub85c\\ubc8c\", \"\\uae08\\ub9ac\", \"\\uae08\\ub9ac\", \"\\uae08\\uc735\", \"\\uae08\\uc735\", \"\\uae08\\uc735\", \"\\uae30\\ubd80\", \"\\uae30\\uc0ac\", \"\\uae30\\uc0ac\", \"\\uae30\\uc0ac\", \"\\uae30\\uc0ac\", \"\\uae30\\uc220\", \"\\uae30\\uc220\", \"\\uae30\\uc220\", \"\\uae30\\uc5c5\", \"\\uae30\\uc5c5\", \"\\uae30\\uc5c5\", \"\\uae30\\uc628\", \"\\uae30\\uc900\", \"\\uae30\\uc900\", \"\\uae30\\uc900\", \"\\uae30\\ud68d\\uc7ac\\uc815\\ubd80\", \"\\uae40\\uae30\\ud604\", \"\\ub098\\ubb34\", \"\\ub0a8\\uc131\", \"\\ub0a8\\uc131\", \"\\ub0b4\\uc6a9\", \"\\ub0b4\\uc6a9\", \"\\ub0b4\\uc6a9\", \"\\ub0b4\\uc6a9\", \"\\ub0b4\\uc6a9\", \"\\ub178\\ub3d9\\uc870\\ud569\", \"\\ub178\\uc870\", \"\\ub17c\\ub780\", \"\\ub17c\\ub780\", \"\\ub2e8\\uc9c0\", \"\\ub2e8\\uc9c0\", \"\\ub2e8\\uc9c0\", \"\\ub2ec\\ub7ec\", \"\\ub2ec\\ub7ec\", \"\\ub300\\ubc95\\uc6d0\", \"\\ub300\\ube44\", \"\\ub300\\ube44\", \"\\ub300\\ube44\", \"\\ub300\\ube44\", \"\\ub300\\uc0c1\", \"\\ub300\\uc0c1\", \"\\ub300\\uc0c1\", \"\\ub300\\uc0c1\", \"\\ub300\\uc0c1\", \"\\ub300\\uc120\", \"\\ub300\\uc120\", \"\\ub300\\uc7a5\\ub3d9\", \"\\ub300\\ucc45\", \"\\ub300\\ucc45\", \"\\ub300\\ucd9c\", \"\\ub300\\ucd9c\", \"\\ub300\\ud1b5\\ub839\", \"\\ub300\\ud1b5\\ub839\", \"\\ub300\\ud1b5\\ub839\", \"\\ub300\\ud1b5\\ub839\\uc2e4\", \"\\ub300\\ud1b5\\ub839\\uc2e4\", \"\\ub300\\ud1b5\\ub839\\uc2e4\", \"\\ub300\\ud45c\", \"\\ub300\\ud45c\", \"\\ub300\\ud45c\", \"\\ub300\\ud45c\", \"\\ub300\\ud45c\", \"\\ub300\\ud559\", \"\\ub300\\ud559\", \"\\ub300\\ud55c\", \"\\ub300\\ud55c\", \"\\ub300\\ud55c\", \"\\ub300\\ud55c\", \"\\ub300\\ud55c\", \"\\ub300\\ud574\", \"\\ub300\\ud574\", \"\\ub300\\ud574\", \"\\ub300\\ud574\", \"\\ub300\\ud574\", \"\\ub370\\uc774\\ud130\", \"\\ub3c4\\ubd80\", \"\\ub3d9\\ub9f9\", \"\\ub4dc\\ub77c\\ub9c8\", \"\\ub514\\uc790\\uc778\", \"\\ub77c\\ub514\\uc624\", \"\\ub85c\\ubd07\", \"\\ub86f\\ub370\", \"\\ub86f\\ub370\", \"\\ub9b0\\ub2e4\", \"\\ub9b0\\ub2e4\", \"\\ub9c8\\uc57d\", \"\\ub9c8\\uc57d\", \"\\ub9e4\\ub9e4\", \"\\ub9e4\\ucd9c\", \"\\ubaa8\\ubc14\\uc77c\", \"\\ubaa8\\uc9d1\", \"\\ubaa8\\uc9d1\", \"\\ubaa8\\uc9d1\", \"\\ubaa9\\uc0ac\", \"\\ubb34\\uc5ed\", \"\\ubb38\\ud654\", \"\\ubbf8\\uad6d\", \"\\ubbf8\\uad6d\", \"\\ubbf8\\uad6d\", \"\\ubbf8\\uad6d\", \"\\ubbf8\\uad6d\", \"\\ubbf8\\ub798\", \"\\ubbf8\\ub798\", \"\\ubbf8\\ub798\", \"\\ubbf8\\ub798\", \"\\ubbfc\\uc0dd\", \"\\ubbfc\\uc8fc\\ub2f9\", \"\\ubc18\\ub3c4\\uccb4\", \"\\ubc18\\ub3c4\\uccb4\", \"\\ubc18\\ub3c4\\uccb4\", \"\\ubc1c\\uacac\", \"\\ubc1c\\uacac\", \"\\ubc1c\\uacac\", \"\\ubc1c\\uad74\", \"\\ubc1c\\ud45c\", \"\\ubc1c\\ud45c\", \"\\ubc1c\\ud45c\", \"\\ubc1c\\ud45c\", \"\\ubc1c\\ud45c\", \"\\ubc1c\\ud589\", \"\\ubc29\\ubb38\", \"\\ubc29\\ubb38\", \"\\ubc29\\uc548\", \"\\ubc29\\uc548\", \"\\ubc30\\uc0c1\", \"\\ubc30\\uc0c1\", \"\\ubc30\\ud130\\ub9ac\", \"\\ubc30\\ud130\\ub9ac\", \"\\ubc94\\ud589\", \"\\ubc95\\ubb34\\ubd80\", \"\\ubc9a\\uaf43\", \"\\ubcc0\\ud638\\uc0ac\", \"\\ubcc0\\ud638\\uc0ac\", \"\\ubcc0\\ud638\\uc0ac\", \"\\ubcf4\\uc870\\uae08\", \"\\ubcf4\\uc99d\\uae08\", \"\\ubd09\\ud22c\", \"\\ubd80\\uacb0\", \"\\ubd80\\ub3d9\\uc0b0\", \"\\ubd80\\ub3d9\\uc0b0\", \"\\ubd80\\uc7a5\", \"\\ubd80\\uc7a5\", \"\\ubd80\\uc7a5\", \"\\ubd80\\uc7a5\", \"\\ubd81\\ud55c\", \"\\ubd81\\ud55c\", \"\\ubd84\\uc57c\", \"\\ubd84\\uc57c\", \"\\ubd84\\uc57c\", \"\\ubd84\\uc57c\", \"\\ubd84\\uc591\", \"\\ube44\\uba85\", \"\\ube44\\ud310\", \"\\ube44\\ud310\", \"\\uc0ac\\uace0\", \"\\uc0ac\\uace0\", \"\\uc0ac\\uace0\", \"\\uc0ac\\uae30\", \"\\uc0ac\\uae30\", \"\\uc0ac\\ub78c\", \"\\uc0ac\\ub78c\", \"\\uc0ac\\ub78c\", \"\\uc0ac\\uc2e4\", \"\\uc0ac\\uc2e4\", \"\\uc0ac\\uc2e4\", \"\\uc0ac\\uc2e4\", \"\\uc0ac\\uc2e4\", \"\\uc0ac\\uc5c5\", \"\\uc0ac\\uc5c5\", \"\\uc0ac\\uc5c5\", \"\\uc0ac\\uc5c5\", \"\\uc0ac\\uc9c4\", \"\\uc0ac\\uc9c4\", \"\\uc0ac\\uc9c4\", \"\\uc0ac\\uc9c4\", \"\\uc0ac\\uc9c4\", \"\\uc0b0\\uc5c5\", \"\\uc0b0\\uc5c5\", \"\\uc0b0\\uc5c5\", \"\\uc0b4\\uc778\", \"\\uc0b4\\uc778\", \"\\uc0c1\\ubc18\\uae30\", \"\\uc0c1\\uc2b9\", \"\\uc0c1\\uc2b9\", \"\\uc0c1\\ud488\", \"\\uc0c1\\ud488\", \"\\uc0c1\\ud488\", \"\\uc11c\\ube44\\uc2a4\", \"\\uc11c\\ube44\\uc2a4\", \"\\uc11c\\uc6b8\", \"\\uc11c\\uc6b8\", \"\\uc11c\\uc6b8\", \"\\uc11c\\uc6b8\", \"\\uc11c\\uc6b8\", \"\\uc120\\uac70\", \"\\uc120\\uac70\", \"\\uc120\\uace0\", \"\\uc120\\uace0\", \"\\uc120\\uc0ac\", \"\\uc120\\uc784\", \"\\uc120\\uc784\", \"\\uc120\\uc784\", \"\\uc12d\\ucde8\", \"\\uc131\\ub0a8\", \"\\uc138\\uacc4\", \"\\uc138\\uacc4\", \"\\uc138\\uae08\", \"\\uc138\\uc0c1\", \"\\uc138\\uc0c1\", \"\\uc13c\\ud130\", \"\\uc13c\\ud130\", \"\\uc13c\\ud130\", \"\\uc13c\\ud130\", \"\\uc13c\\ud130\", \"\\uc18c\\uac1c\", \"\\uc18c\\uac1c\", \"\\uc18c\\uac1c\", \"\\uc18c\\ub4dd\", \"\\uc18c\\ub4dd\", \"\\uc18c\\ube44\\uc790\", \"\\uc18c\\ube44\\uc790\", \"\\uc218\\uc0ac\", \"\\uc218\\uc0ac\", \"\\uc218\\uc0ac\", \"\\uc218\\ucd9c\", \"\\uc218\\ucd9c\", \"\\uc218\\ucd9c\", \"\\uc2a4\\ud0c0\\ud2b8\\uc5c5\", \"\\uc2b9\\uc9c4\", \"\\uc2dc\\uac04\", \"\\uc2dc\\uac04\", \"\\uc2dc\\uac04\", \"\\uc2dc\\uac04\", \"\\uc2dc\\ub300\", \"\\uc2dc\\ub300\", \"\\uc2dc\\ub300\", \"\\uc2dc\\ub300\", \"\\uc2dc\\uc791\", \"\\uc2dc\\uc791\", \"\\uc2dc\\uc791\", \"\\uc2dc\\uc791\", \"\\uc2dc\\uc791\", \"\\uc2dc\\uc7a5\", \"\\uc2dc\\uc7a5\", \"\\uc2dc\\uc7a5\", \"\\uc2dc\\uc7a5\", \"\\uc2dd\\ud488\", \"\\uc2dd\\ud488\", \"\\uc2e0\\uc138\\uacc4\", \"\\uc2e0\\uc885\", \"\\uc2e4\\ub9ac\\ucf58\\ubc38\\ub9ac\", \"\\uc2e4\\uc801\", \"\\uc2ec\\uc0ac\", \"\\uc2ec\\uc0ac\", \"\\uc2ec\\uc0ac\", \"\\uc544\\ub0b4\", \"\\uc544\\ud2b8\", \"\\uc544\\ud30c\\ud2b8\", \"\\uc544\\ud30c\\ud2b8\", \"\\uc544\\ud30c\\ud2b8\", \"\\uc548\\ubcf4\", \"\\uc548\\ubcf4\", \"\\uc591\\uad6d\", \"\\uc5c5\\uacc4\", \"\\uc5c5\\uacc4\", \"\\uc5c5\\uacc4\", \"\\uc5ec\\uc131\", \"\\uc5ec\\uc131\", \"\\uc5ec\\uc131\", \"\\uc5f0\\uae08\", \"\\uc5f0\\ubc29\", \"\\uc601\\uad6d\", \"\\uc601\\uad6d\", \"\\uc601\\uc0c1\", \"\\uc601\\uc0c1\", \"\\uc601\\uc0c1\", \"\\uc601\\uc5c5\", \"\\uc601\\ud654\", \"\\uc608\\uc220\", \"\\uc608\\uce21\", \"\\uc624\\uc804\", \"\\uc624\\uc804\", \"\\uc624\\uc804\", \"\\uc624\\uc804\", \"\\uc624\\uc804\", \"\\uc624\\ud6c4\", \"\\uc624\\ud6c4\", \"\\uc624\\ud6c4\", \"\\uc624\\ud6c4\", \"\\uc624\\ud6c4\", \"\\uc62c\\ud574\", \"\\uc62c\\ud574\", \"\\uc62c\\ud574\", \"\\uc62c\\ud574\", \"\\uc678\\uad50\", \"\\uc678\\uad50\\ubd80\", \"\\uc6a9\\uc0b0\", \"\\uc6b0\\ud06c\\ub77c\\uc774\\ub098\", \"\\uc6b0\\ud06c\\ub77c\\uc774\\ub098\", \"\\uc6b4\\uc804\\uc790\", \"\\uc6d0\\ub0b4\\ub300\\ud45c\", \"\\uc704\\uc6d0\", \"\\uc704\\uc6d0\", \"\\uc704\\uc6d0\\uc7a5\", \"\\uc704\\uc6d0\\uc7a5\", \"\\uc704\\uc6d0\\ud68c\", \"\\uc704\\uc6d0\\ud68c\", \"\\uc704\\uc6d0\\ud68c\", \"\\uc704\\ud574\", \"\\uc704\\ud574\", \"\\uc704\\ud574\", \"\\uc704\\ud574\", \"\\uc704\\ud574\", \"\\uc704\\ud611\", \"\\uc720\\ub7fd\", \"\\uc720\\uc544\\uc778\", \"\\uc724\\uc11d\\uc5f4\", \"\\uc724\\uc11d\\uc5f4\", \"\\uc724\\uc11d\\uc5f4\", \"\\uc740\\ud589\", \"\\uc740\\ud589\", \"\\uc74c\\ub8cc\", \"\\uc74c\\uc545\", \"\\uc74c\\uc8fc\\uc6b4\\uc804\", \"\\uc758\\ub8cc\", \"\\uc758\\ub8cc\", \"\\uc758\\ub8cc\", \"\\uc758\\uc548\", \"\\uc758\\uc6d0\", \"\\uc758\\ud639\", \"\\uc758\\ud639\", \"\\uc774\\ubc88\", \"\\uc774\\ubc88\", \"\\uc774\\ubc88\", \"\\uc774\\ubc88\", \"\\uc774\\ubc88\", \"\\uc774\\uc0ac\", \"\\uc774\\uc0ac\\ud68c\", \"\\uc774\\uc0ac\\ud68c\", \"\\uc774\\uc0c1\", \"\\uc774\\uc0c1\", \"\\uc774\\uc0c1\", \"\\uc774\\uc0c1\", \"\\uc774\\uc0c1\", \"\\uc774\\uc775\", \"\\uc774\\uc775\", \"\\uc774\\uc7ac\\uba85\", \"\\uc778\\ucc9c\", \"\\uc778\\ucc9c\", \"\\uc778\\ucc9c\", \"\\uc778\\ucc9c\", \"\\uc77c\\ubcf8\", \"\\uc77c\\ubcf8\", \"\\uc77c\\uc6d4\", \"\\uc77c\\uc81c\\uac15\\uc810\\uae30\", \"\\uc784\\ub300\", \"\\uc784\\uba85\", \"\\uc785\\uac74\", \"\\uc790\\uc2e0\", \"\\uc790\\uc2e0\", \"\\uc790\\uc2e0\", \"\\uc790\\uc2e0\", \"\\uc790\\uc5f0\", \"\\uc790\\uc6d0\\ubd80\", \"\\uc791\\uac00\", \"\\uc791\\uac00\", \"\\uc791\\ud488\", \"\\uc7ac\\uc815\", \"\\uc7ac\\ud310\", \"\\uc7ac\\ud310\", \"\\uc804\\uad6d\", \"\\uc804\\uad6d\", \"\\uc804\\uad6d\", \"\\uc804\\uad6d\", \"\\uc804\\uad6d\", \"\\uc804\\uae30\\ucc28\", \"\\uc804\\uae30\\ucc28\", \"\\uc804\\ub2f9\\ub300\\ud68c\", \"\\uc804\\uc138\", \"\\uc804\\uc2dc\", \"\\uc804\\uc2dc\", \"\\uc804\\uc2dc\\ud68c\", \"\\uc815\\ubd80\", \"\\uc815\\ubd80\", \"\\uc815\\ubd80\", \"\\uc815\\ubd80\", \"\\uc815\\uc0c1\", \"\\uc815\\uc0c1\\ud68c\\ub2f4\", \"\\uc815\\ucc45\", \"\\uc815\\ucc45\", \"\\uc815\\ucc45\", \"\\uc815\\uce58\", \"\\uc815\\uce58\", \"\\uc815\\uce58\", \"\\uc815\\uce58\", \"\\uc81c\\ub3c4\", \"\\uc81c\\ub3c4\", \"\\uc81c\\ub3c4\", \"\\uc81c\\ud488\", \"\\uc81c\\ud488\", \"\\uc870\\uc0ac\", \"\\uc870\\uc0ac\", \"\\uc870\\uc0ac\", \"\\uc870\\uc0ac\", \"\\uc870\\uc0ac\", \"\\uc8fc\\uac00\", \"\\uc8fc\\uac00\", \"\\uc8fc\\uc2dd\", \"\\uc8fc\\uc7a5\", \"\\uc8fc\\uc7a5\", \"\\uc8fc\\uc7a5\", \"\\uc8fc\\uc7a5\", \"\\uc8fc\\uc8fc\", \"\\uc8fc\\uc8fc\\ucd1d\\ud68c\", \"\\uc8fc\\uc8fc\\ucd1d\\ud68c\", \"\\uc8fc\\ud0dd\", \"\\uc8fc\\ud0dd\", \"\\uc911\\uad6d\", \"\\uc911\\uad6d\", \"\\uc99d\\uac00\", \"\\uc99d\\uac00\", \"\\uc99d\\uac00\", \"\\uc9c0\\ub09c\", \"\\uc9c0\\ub09c\", \"\\uc9c0\\ub09c\", \"\\uc9c0\\ub09c\", \"\\uc9c0\\ub09c\", \"\\uc9c0\\ub09c\\ud574\", \"\\uc9c0\\ub09c\\ud574\", \"\\uc9c0\\ub09c\\ud574\", \"\\uc9c0\\ub09c\\ud574\", \"\\uc9c0\\ub09c\\ud574\", \"\\uc9c0\\ubc95\", \"\\uc9c0\\ubc95\", \"\\uc9c0\\uc5ed\", \"\\uc9c0\\uc5ed\", \"\\uc9c0\\uc5ed\", \"\\uc9c0\\uc5ed\", \"\\uc9c0\\uc5ed\", \"\\uc9c0\\uc6d0\", \"\\uc9c0\\uc6d0\", \"\\uc9c0\\uc6d0\", \"\\uc9c0\\uc6d0\", \"\\uc9c0\\uce35\", \"\\uc9c0\\ud558\\ucca0\", \"\\uc9c4\\ud589\", \"\\uc9c4\\ud589\", \"\\uc9c4\\ud589\", \"\\uc9c4\\ud589\", \"\\uc9c4\\ud589\", \"\\uc9d1\\ud589\\uc720\\uc608\", \"\\uc9d5\\uc5ed\", \"\\uc9d5\\uc6a9\", \"\\ucc28\\uae30\", \"\\ucc29\\uc6a9\", \"\\ucc38\\uac00\", \"\\ucc3d\\uc5c5\", \"\\ucc3d\\uc5c5\", \"\\ucc3d\\uc5c5\", \"\\ucca0\\ud559\", \"\\ucca8\\ub2e8\", \"\\ucca8\\ub2e8\", \"\\uccad\\uc57d\", \"\\uccb4\\ud5d8\", \"\\ucd08\\uae30\", \"\\ucd1d\\ub9ac\", \"\\ucd1d\\uc120\", \"\\ucd1d\\uc120\", \"\\ucd5c\\uace0\", \"\\ucd5c\\uace0\", \"\\ucd5c\\uace0\", \"\\ucd5c\\uace0\", \"\\ucd5c\\uace0\", \"\\ucd5c\\uadfc\", \"\\ucd5c\\uadfc\", \"\\ucd5c\\uadfc\", \"\\ucd5c\\uadfc\", \"\\ucd5c\\uadfc\", \"\\ucd94\\uc9c4\", \"\\ucd94\\uc9c4\", \"\\ucd94\\uc9c4\", \"\\ucd94\\uc9c4\", \"\\ucd94\\uc9c4\", \"\\ucd95\\uc81c\", \"\\ucd95\\uc81c\", \"\\ucd9c\\uc11d\", \"\\ucd9c\\uc11d\", \"\\ucd9c\\uc2dc\", \"\\ucd9c\\uc2dc\", \"\\uce58\\ub8cc\", \"\\uce5c\\uc724\", \"\\uce74\\uce74\\uc624\", \"\\ucf54\\ub85c\\ub098\", \"\\ucf54\\ub85c\\ub098\", \"\\ucf54\\ub85c\\ub098\\ubc14\\uc774\\ub7ec\\uc2a4\", \"\\ud0c0\\uc774\\uc5b4\", \"\\ud0dd\\uc2dc\", \"\\ud1a0\\uc9c0\", \"\\ud1b5\\uacc4\\uccad\", \"\\ud22c\\uc57d\", \"\\ud22c\\uc790\", \"\\ud22c\\uc790\", \"\\ud22c\\uc790\", \"\\ud22c\\uc790\", \"\\ud22c\\ud45c\", \"\\ud30c\\uc0b0\", \"\\ud30c\\ud06c\", \"\\ud310\\ub9e4\", \"\\ud310\\ub9e4\", \"\\ud310\\uc0ac\", \"\\ud310\\uc0ac\", \"\\ud398\\uc774\\uc2a4\\ubd81\", \"\\ud398\\uc774\\uc2a4\\ubd81\", \"\\ud3c9\\uade0\", \"\\ud3c9\\uade0\", \"\\ud3ec\\uc778\\ud2b8\", \"\\ud53c\\ud574\", \"\\ud53c\\ud574\", \"\\ud53c\\ud574\", \"\\ud53c\\ud574\", \"\\ud53c\\ud574\\uc790\", \"\\ud53c\\ud574\\uc790\", \"\\ud53c\\ud574\\uc790\", \"\\ud559\\uad50\\ud3ed\\ub825\", \"\\ud559\\uad50\\ud3ed\\ub825\", \"\\ud55c\\uad6d\", \"\\ud55c\\uad6d\", \"\\ud55c\\uad6d\", \"\\ud55c\\uad6d\", \"\\ud55c\\uad6d\", \"\\ud55c\\ubbf8\", \"\\ud55c\\uc77c\", \"\\ud55c\\ud654\", \"\\ud560\\uc778\", \"\\ud560\\uc778\", \"\\ud589\\uc0ac\", \"\\ud589\\uc0ac\", \"\\ud589\\uc0ac\", \"\\ud589\\uc0ac\", \"\\ud589\\uc0ac\", \"\\ud604\\uc9c0\", \"\\ud604\\uc9c0\", \"\\ud604\\uc9c0\", \"\\ud610\\uc758\", \"\\ud610\\uc758\", \"\\ud610\\uc758\", \"\\ud610\\uc758\", \"\\ud615\\uc0ac\", \"\\ud615\\uc0ac\", \"\\ud615\\uc0ac\", \"\\ud658\\uc790\", \"\\ud658\\uc790\", \"\\ud68c\\uc0ac\\ucc44\", \"\\ud68c\\uc7a5\", \"\\ud68c\\uc7a5\", \"\\ud68c\\uc7a5\", \"\\ud6c4\\ubbf8\", \"\\ud6c4\\ubcf4\", \"\\ud6c4\\ubcf4\", \"\\ud6c4\\ubcf4\\uc790\", \"\\ud6c8\\ub828\", \"\\ud6c8\\ub828\", \"\\ud6c8\\ub828\"]}, \"R\": 30, \"lambda.step\": 0.01, \"plot.opts\": {\"xlab\": \"PC1\", \"ylab\": \"PC2\"}, \"topic.order\": [5, 3, 1, 4, 2]};\n",
       "\n",
       "function LDAvis_load_lib(url, callback){\n",
       "  var s = document.createElement('script');\n",
       "  s.src = url;\n",
       "  s.async = true;\n",
       "  s.onreadystatechange = s.onload = callback;\n",
       "  s.onerror = function(){console.warn(\"failed to load library \" + url);};\n",
       "  document.getElementsByTagName(\"head\")[0].appendChild(s);\n",
       "}\n",
       "\n",
       "if(typeof(LDAvis) !== \"undefined\"){\n",
       "   // already loaded: just create the visualization\n",
       "   !function(LDAvis){\n",
       "       new LDAvis(\"#\" + \"ldavis_el342425928906241445992614242\", ldavis_el342425928906241445992614242_data);\n",
       "   }(LDAvis);\n",
       "}else if(typeof define === \"function\" && define.amd){\n",
       "   // require.js is available: use it to load d3/LDAvis\n",
       "   require.config({paths: {d3: \"https://d3js.org/d3.v5\"}});\n",
       "   require([\"d3\"], function(d3){\n",
       "      window.d3 = d3;\n",
       "      LDAvis_load_lib(\"https://cdn.jsdelivr.net/gh/bmabey/pyLDAvis@3.4.0/pyLDAvis/js/ldavis.v3.0.0.js\", function(){\n",
       "        new LDAvis(\"#\" + \"ldavis_el342425928906241445992614242\", ldavis_el342425928906241445992614242_data);\n",
       "      });\n",
       "    });\n",
       "}else{\n",
       "    // require.js not available: dynamically load d3 & LDAvis\n",
       "    LDAvis_load_lib(\"https://d3js.org/d3.v5.js\", function(){\n",
       "         LDAvis_load_lib(\"https://cdn.jsdelivr.net/gh/bmabey/pyLDAvis@3.4.0/pyLDAvis/js/ldavis.v3.0.0.js\", function(){\n",
       "                 new LDAvis(\"#\" + \"ldavis_el342425928906241445992614242\", ldavis_el342425928906241445992614242_data);\n",
       "            })\n",
       "         });\n",
       "}\n",
       "</script>"
      ],
      "text/plain": [
       "PreparedData(topic_coordinates=              x         y  topics  cluster       Freq\n",
       "topic                                                \n",
       "4      0.112813  0.130668       1        1  27.355192\n",
       "2     -0.171426  0.199942       2        1  20.239788\n",
       "0     -0.230315 -0.160106       3        1  18.889445\n",
       "3      0.058548 -0.127684       4        1  17.461958\n",
       "1      0.230381 -0.042820       5        1  16.053616, topic_info=    Term         Freq        Total Category  logprob  loglift\n",
       "297   대표  2916.000000  2916.000000  Default  30.0000  30.0000\n",
       "253  민주당  1794.000000  1794.000000  Default  29.0000  29.0000\n",
       "2    대통령  2173.000000  2173.000000  Default  28.0000  28.0000\n",
       "258   의원  1419.000000  1419.000000  Default  27.0000  27.0000\n",
       "159   국민  1648.000000  1648.000000  Default  26.0000  26.0000\n",
       "..   ...          ...          ...      ...      ...      ...\n",
       "742   올해   316.924806   932.892791   Topic5  -5.0513   0.7496\n",
       "589   기업   319.266015  1110.356871   Topic5  -5.0439   0.5828\n",
       "50    혐의   332.927642  1616.148810   Topic5  -5.0020   0.2494\n",
       "593   사업   252.571278   897.725310   Topic5  -5.2782   0.5611\n",
       "836   대상   241.870628   582.191946   Topic5  -5.3215   0.9508\n",
       "\n",
       "[358 rows x 6 columns], token_table=      Topic      Freq Term\n",
       "term                      \n",
       "1137      1  0.005037   가격\n",
       "1137      4  0.219113   가격\n",
       "1137      5  0.775709   가격\n",
       "1138      1  0.055693   가구\n",
       "1138      4  0.938831   가구\n",
       "...     ...       ...  ...\n",
       "744       4  0.110259   후보\n",
       "767       4  0.993363  후보자\n",
       "1571      1  0.033557   훈련\n",
       "1571      2  0.909768   훈련\n",
       "1571      3  0.055928   훈련\n",
       "\n",
       "[672 rows x 3 columns], R=30, lambda_step=0.01, plot_opts={'xlab': 'PC1', 'ylab': 'PC2'}, topic_order=[5, 3, 1, 4, 2])"
      ]
     },
     "execution_count": 51,
     "metadata": {},
     "output_type": "execute_result"
    }
   ],
   "source": [
    "lda_viz = gensimvis.prepare(model, corpus, dictionary)\n",
    "lda_viz"
   ]
  },
  {
   "cell_type": "markdown",
   "id": "53031b33",
   "metadata": {},
   "source": [
    "### 4.2.1 Gensim을 이용한 토픽 모델링 결과 해석\n",
    "\n",
    "- Topic 1 : 한국, 미국, 세계, 수출 등등의 단어들이 상위 단어들로 나오는 것을 보아 경제 관련 내용들이라고 추측 가능\n",
    "- Topic 2 : 대통령, 경찰, 혐의, 피해자 등등의 단어들이 상위 단어들로 나오는 것을 보아 사회 관련 내용들이라고 추측 가능\n",
    "- Topic 3 : 민주당, 국민, 의원 등등의 단어들이 상위 단어들로 나오는 것을 보아 정부 관련 내용들이라고 추측 가능\n",
    "- Topic 4 : 정부, 금융, 투자 등등의 단어들이 상위 단어들로 나오는 것을 보아 경제 관련 내용들이라고 추측 가능\n",
    "- Topic 5 : 시장, 은행, 금리 등등의 단어들이 상위 단어들로 나오는 것을 보아 경제 관련 내용들이라고 추측 가능\n",
    "- 결과들을 종합적으로 보면 각 카테고리 별로 잘 나눠주기는 하지만 5개의 토픽들 중에 경제 관련 토픽이 3개를 차지할 정도로 많은 비율을 가지는 것을 보임 -> 좀 더 다양한 토픽의 수를 조정해보고 할 필요가 있어보임"
   ]
  },
  {
   "cell_type": "markdown",
   "id": "7922777f",
   "metadata": {},
   "source": [
    "## 5. 토픽 트렌드\n",
    "\n",
    "- 해당 데이터는 23년 2월부터 5월까지의 데이터를 가지고 있으므로 월 별 토픽 트렌드 분석 또한 가능\n",
    "- 토픽 트렌드 분석을 통해 사람들의 관심이 점차 사라져가는 주제와 높아지는 주제를 찾고자 함\n",
    "- 위와 마찬가지로 두 자 이상의 명사만을 대상으로 하여 분석을 진행하고자 함"
   ]
  },
  {
   "cell_type": "code",
   "execution_count": 52,
   "id": "60d3660f",
   "metadata": {},
   "outputs": [
    {
     "name": "stdout",
     "output_type": "stream",
     "text": [
      "(13621, 1000)\n"
     ]
    }
   ],
   "source": [
    "twit = Okt()\n",
    "\n",
    "def tokenizer(doc):\n",
    "    return [token for token in twit.nouns(doc) if len(token) > 1]\n",
    "\n",
    "vec = CountVectorizer(tokenizer=tokenizer, # 2글자 이상의 명사만 사용\n",
    "                      max_df=0.5, min_df = 5, \n",
    "                      max_features = 1000) #1000개의 단어 수를 선택\n",
    "\n",
    "pet_cv = vec.fit_transform(df.본문)\n",
    "print(pet_cv.shape)"
   ]
  },
  {
   "cell_type": "code",
   "execution_count": 53,
   "id": "dcee6890",
   "metadata": {},
   "outputs": [
    {
     "name": "stdout",
     "output_type": "stream",
     "text": [
      "Wall time: 6.33 s\n",
      "Topic #0: 대표, 민주당, 의원, 국민, 국회, 의혹, 관련, 이재명, 대해, 위원회\n",
      "Topic #1: 혐의, 서울, 경찰, 오후, 여성, 남성, 위반, 오전, 부장, 마약\n",
      "Topic #2: 서울, 한국, 사업, 위해, 기업, 기술, 세계, 지원, 진행, 그룹\n",
      "Topic #3: 은행, 지난해, 미국, 한국, 금융, 투자, 결과, 반도체, 시장, 중국\n",
      "Topic #4: 대통령, 미국, 일본, 정부, 윤석열, 한국, 북한, 현지, 시간, 대통령실\n"
     ]
    },
    {
     "name": "stderr",
     "output_type": "stream",
     "text": [
      "C:\\ProgramData\\Anaconda3\\lib\\site-packages\\sklearn\\utils\\deprecation.py:87: FutureWarning: Function get_feature_names is deprecated; get_feature_names is deprecated in 1.0 and will be removed in 1.2. Please use get_feature_names_out instead.\n",
      "  warnings.warn(msg, category=FutureWarning)\n"
     ]
    }
   ],
   "source": [
    "from sklearn.decomposition import LatentDirichletAllocation\n",
    "\n",
    "lda = LatentDirichletAllocation(n_components = 5, \\\n",
    "                                n_jobs= -1, \\\n",
    "                                random_state=0)\n",
    "\n",
    "%time pet_topics = lda.fit_transform(pet_cv)\n",
    "\n",
    "def print_top_words(model, feature_names, n_top_words):\n",
    "    for topic_idx, topic in enumerate(model.components_):\n",
    "        print(\"Topic #%d: \" % topic_idx, end='')\n",
    "        print(\", \".join([feature_names[i] \n",
    "                         for i in topic.argsort()[:-n_top_words - 1:-1]]))\n",
    "print_top_words(lda,vec.get_feature_names(), 10)"
   ]
  },
  {
   "cell_type": "code",
   "execution_count": 54,
   "id": "882e7ad1",
   "metadata": {},
   "outputs": [],
   "source": [
    "import pandas as pd\n",
    "\n",
    "# 'df.일자' 컬럼을 문자열로 변환\n",
    "df['일자'] = df['일자'].astype(str)"
   ]
  },
  {
   "cell_type": "code",
   "execution_count": 55,
   "id": "da9b23b2",
   "metadata": {},
   "outputs": [
    {
     "data": {
      "text/html": [
       "<div>\n",
       "<style scoped>\n",
       "    .dataframe tbody tr th:only-of-type {\n",
       "        vertical-align: middle;\n",
       "    }\n",
       "\n",
       "    .dataframe tbody tr th {\n",
       "        vertical-align: top;\n",
       "    }\n",
       "\n",
       "    .dataframe thead th {\n",
       "        text-align: right;\n",
       "    }\n",
       "</style>\n",
       "<table border=\"1\" class=\"dataframe\">\n",
       "  <thead>\n",
       "    <tr style=\"text-align: right;\">\n",
       "      <th></th>\n",
       "      <th>Topic2</th>\n",
       "      <th>Topic3</th>\n",
       "      <th>Topic4</th>\n",
       "      <th>Topic5</th>\n",
       "      <th>일자</th>\n",
       "    </tr>\n",
       "  </thead>\n",
       "  <tbody>\n",
       "    <tr>\n",
       "      <th>0</th>\n",
       "      <td>0.013583</td>\n",
       "      <td>0.106164</td>\n",
       "      <td>0.013370</td>\n",
       "      <td>0.785335</td>\n",
       "      <td>202305</td>\n",
       "    </tr>\n",
       "    <tr>\n",
       "      <th>1</th>\n",
       "      <td>0.319482</td>\n",
       "      <td>0.644460</td>\n",
       "      <td>0.012093</td>\n",
       "      <td>0.011983</td>\n",
       "      <td>202305</td>\n",
       "    </tr>\n",
       "    <tr>\n",
       "      <th>2</th>\n",
       "      <td>0.964803</td>\n",
       "      <td>0.008844</td>\n",
       "      <td>0.008820</td>\n",
       "      <td>0.008783</td>\n",
       "      <td>202305</td>\n",
       "    </tr>\n",
       "    <tr>\n",
       "      <th>3</th>\n",
       "      <td>0.014360</td>\n",
       "      <td>0.014425</td>\n",
       "      <td>0.158812</td>\n",
       "      <td>0.798005</td>\n",
       "      <td>202305</td>\n",
       "    </tr>\n",
       "    <tr>\n",
       "      <th>4</th>\n",
       "      <td>0.829310</td>\n",
       "      <td>0.089063</td>\n",
       "      <td>0.010049</td>\n",
       "      <td>0.061565</td>\n",
       "      <td>202305</td>\n",
       "    </tr>\n",
       "  </tbody>\n",
       "</table>\n",
       "</div>"
      ],
      "text/plain": [
       "     Topic2    Topic3    Topic4    Topic5      일자\n",
       "0  0.013583  0.106164  0.013370  0.785335  202305\n",
       "1  0.319482  0.644460  0.012093  0.011983  202305\n",
       "2  0.964803  0.008844  0.008820  0.008783  202305\n",
       "3  0.014360  0.014425  0.158812  0.798005  202305\n",
       "4  0.829310  0.089063  0.010049  0.061565  202305"
      ]
     },
     "execution_count": 55,
     "metadata": {},
     "output_type": "execute_result"
    }
   ],
   "source": [
    "trend_data = pd.DataFrame(pet_topics, columns=['Topic'+str(i) for i in range(1, 6)])\n",
    "trend_data = pd.concat([trend_data, df.일자.map(lambda x: x[:6])], axis=1)\n",
    "trend_data.iloc[:5, -5:]"
   ]
  },
  {
   "cell_type": "code",
   "execution_count": 56,
   "id": "017614f6",
   "metadata": {},
   "outputs": [
    {
     "data": {
      "text/html": [
       "<div>\n",
       "<style scoped>\n",
       "    .dataframe tbody tr th:only-of-type {\n",
       "        vertical-align: middle;\n",
       "    }\n",
       "\n",
       "    .dataframe tbody tr th {\n",
       "        vertical-align: top;\n",
       "    }\n",
       "\n",
       "    .dataframe thead th {\n",
       "        text-align: right;\n",
       "    }\n",
       "</style>\n",
       "<table border=\"1\" class=\"dataframe\">\n",
       "  <thead>\n",
       "    <tr style=\"text-align: right;\">\n",
       "      <th></th>\n",
       "      <th>Topic1</th>\n",
       "      <th>Topic2</th>\n",
       "      <th>Topic3</th>\n",
       "      <th>Topic4</th>\n",
       "      <th>Topic5</th>\n",
       "    </tr>\n",
       "    <tr>\n",
       "      <th>일자</th>\n",
       "      <th></th>\n",
       "      <th></th>\n",
       "      <th></th>\n",
       "      <th></th>\n",
       "      <th></th>\n",
       "    </tr>\n",
       "  </thead>\n",
       "  <tbody>\n",
       "    <tr>\n",
       "      <th>202302</th>\n",
       "      <td>0.230642</td>\n",
       "      <td>0.196330</td>\n",
       "      <td>0.254422</td>\n",
       "      <td>0.189575</td>\n",
       "      <td>0.129031</td>\n",
       "    </tr>\n",
       "    <tr>\n",
       "      <th>202303</th>\n",
       "      <td>0.153887</td>\n",
       "      <td>0.189109</td>\n",
       "      <td>0.271545</td>\n",
       "      <td>0.207147</td>\n",
       "      <td>0.178311</td>\n",
       "    </tr>\n",
       "    <tr>\n",
       "      <th>202304</th>\n",
       "      <td>0.149673</td>\n",
       "      <td>0.206988</td>\n",
       "      <td>0.270448</td>\n",
       "      <td>0.202331</td>\n",
       "      <td>0.170559</td>\n",
       "    </tr>\n",
       "    <tr>\n",
       "      <th>202305</th>\n",
       "      <td>0.158995</td>\n",
       "      <td>0.194077</td>\n",
       "      <td>0.268836</td>\n",
       "      <td>0.200039</td>\n",
       "      <td>0.178052</td>\n",
       "    </tr>\n",
       "  </tbody>\n",
       "</table>\n",
       "</div>"
      ],
      "text/plain": [
       "          Topic1    Topic2    Topic3    Topic4    Topic5\n",
       "일자                                                      \n",
       "202302  0.230642  0.196330  0.254422  0.189575  0.129031\n",
       "202303  0.153887  0.189109  0.271545  0.207147  0.178311\n",
       "202304  0.149673  0.206988  0.270448  0.202331  0.170559\n",
       "202305  0.158995  0.194077  0.268836  0.200039  0.178052"
      ]
     },
     "execution_count": 56,
     "metadata": {},
     "output_type": "execute_result"
    }
   ],
   "source": [
    "trend = trend_data.groupby(['일자']).mean()\n",
    "trend.iloc[:5, -5:]"
   ]
  },
  {
   "cell_type": "code",
   "execution_count": 57,
   "id": "89a94642",
   "metadata": {},
   "outputs": [
    {
     "data": {
      "image/png": "[encoded data removed]",
      "text/plain": [
       "<Figure size 1200x600 with 6 Axes>"
      ]
     },
     "metadata": {},
     "output_type": "display_data"
    }
   ],
   "source": [
    "import matplotlib\n",
    "import matplotlib.pyplot as plt\n",
    "%matplotlib inline\n",
    "\n",
    "fig, axes = plt.subplots(2, 3, sharex='col', figsize=(12, 6)) \n",
    "for col, ax in zip(trend.columns.tolist(), axes.ravel()): \n",
    "    ax.set_title(col)\n",
    "    ax.axes.xaxis.set_visible(False)\n",
    "    ax.plot(trend[col])\n",
    "plt.show()"
   ]
  },
  {
   "cell_type": "markdown",
   "id": "c55fc80c",
   "metadata": {},
   "source": [
    "### 5. 1 토픽 트렌드 결과해석\n",
    "\n",
    "- Topic1이나 Topic4 같은 경우는 최근 사람들의 관심이 점차 사라져가는 Cold Topic에 해당하는 것으로 보임\n",
    "- 반면에 Topic2, Topic3, Topic5은 2월에 비해 점차 사람들의 관심이 높아져가는 Hot Topic에 해당하는 것으로 보임"
   ]
  },
  {
   "cell_type": "markdown",
   "id": "624f2a4f",
   "metadata": {},
   "source": [
    "## 6. 결론\n",
    "\n",
    "- 동아일보에서 다루고 있는 경제 뉴스에 대해 워드클라우드를 진행해본 결과 은행, 투자, 금융, 글로벌등과 같은 단어들이 자주 나타났음. 또한 자동차, 반도체, 사진 등과 같은 단어들도 최근 경제 기사에서 많이 다뤄지고 있음을 확인\n",
    "- 문서 분류를 하기 위해 기존의 경제 기사에서 정치, 문화, 사회 등에 대한 기사들을 추가로 더 수집하여 분석을 진행\n",
    "- 성능을 개선시키기 위해 로지스틱 회귀, 라쏘회귀, 나이브 베이지안 등 다양한 모델 방법들을 적용해봄 -> 그 결과 해당 데이터셋에 대해서는 명사만을 형태소로 분류한 로지스틱 회귀모델이 test데이터에 대한 정확도가 0.762로 가장 좋은 성능을 나타냄  \n",
    "- 추가로 분류 성능 개선을 위한 PCA 및 LSA의 차원축소를 이용\n",
    "- PCA의 경우 24849개의 특성집합을 3000개로 축소하여 진행한 결과, 전체 대비 80%의 설명력을 보였고 추가로 test 데이터에 대한 성능 또한 0.770으로 단순히 로지스틱을 사용했을 때보다 더 좋은 결과를 나타냄\n",
    "- LSA의 경우도 마찬가지로 24849개의 특성집합을 3000개로 축소하였을 때, 전체 대비 80%의 설명력을 보였고 추가로 test 데이터에 대한 성능 또한 0.771로 PCA를 사용하여 차원축소 하였을 때 보다 더 좋은 결과를 보임\n",
    "- 기사 별로 내재된 토픽이 무엇인지를 보기 위해 토픽 모델링(LDA, Gensim)을 사용\n",
    "- LDA를 사용하여 토픽모델링을 했을 때 5개로 토픽의 수를 지정하는 것이 혼란도에서 가장 좋은 결과를 나타냈고, 각 토픽 별 카테고리 또한 잘 나뉜 것을 볼 수 있었음\n",
    "- Gensim을 사용하여 토픽모델링을 했을 때 LDA와 동일하게 5개의 토픽수를 지정하여 토픽 모델링 시행 -> 분류가 잘 되긴 하였으나 LDA에 비해 카테고리가 덜 나뉜 것을 보임(주관적인 생각으로는 해당 데이터에 대해서는 Gensim보다는 LDA를 사용하여 토픽 모델링을 하는 것이 더 좋을 것이라고 판단됨)\n",
    "- 월 별 데이터가 존재함을 고려하여 시간 별로 사람들의 관심도를 측정할 수 있는 토픽 트렌드를 진행(각 토픽 별, Cold Topic과 Hot Topic이 무엇인지를 구별)"
   ]
  }
 ],
 "metadata": {
  "kernelspec": {
   "display_name": "Python 3 (ipykernel)",
   "language": "python",
   "name": "python3"
  },
  "language_info": {
   "codemirror_mode": {
    "name": "ipython",
    "version": 3
   },
   "file_extension": ".py",
   "mimetype": "text/x-python",
   "name": "python",
   "nbconvert_exporter": "python",
   "pygments_lexer": "ipython3",
   "version": "3.9.13"
  }
 },
 "nbformat": 4,
 "nbformat_minor": 5
}
