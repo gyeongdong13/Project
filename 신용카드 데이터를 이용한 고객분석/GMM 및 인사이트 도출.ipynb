{
  "nbformat": 4,
  "nbformat_minor": 0,
  "metadata": {
    "colab": {
      "provenance": [],
      "authorship_tag": "ABX9TyMTS7OOYG7XfdOxfX/fWkdh",
      "include_colab_link": true
    },
    "kernelspec": {
      "name": "python3",
      "display_name": "Python 3"
    },
    "language_info": {
      "name": "python"
    }
  },
  "cells": [
    {
      "cell_type": "markdown",
      "metadata": {
        "id": "view-in-github",
        "colab_type": "text"
      },
      "source": [
        "<a href=\"https://colab.research.google.com/github/gyeongdong13/Project/blob/main/O2b_GMM.ipynb\" target=\"_parent\"><img src=\"https://colab.research.google.com/assets/colab-badge.svg\" alt=\"Open In Colab\"/></a>"
      ]
    },
    {
      "cell_type": "code",
      "execution_count": null,
      "metadata": {
        "colab": {
          "base_uri": "https://localhost:8080/"
        },
        "id": "boTxPypJt3Z_",
        "outputId": "11ad9a8a-9321-4c30-c228-323f1604e3ed"
      },
      "outputs": [
        {
          "output_type": "stream",
          "name": "stdout",
          "text": [
            "Drive already mounted at /content/drive; to attempt to forcibly remount, call drive.mount(\"/content/drive\", force_remount=True).\n"
          ]
        }
      ],
      "source": [
        "from google.colab import drive\n",
        "drive.mount('/content/drive')"
      ]
    },
    {
      "cell_type": "code",
      "source": [
        "import pandas as pd\n",
        "import numpy as np\n",
        "import matplotlib.pyplot as plt\n",
        "import warnings\n",
        "warnings.filterwarnings(\"ignore\")\n",
        "plt.rc('font', family='NanumGothic')\n",
        "\n",
        "!sudo apt-get install -y fonts-nanum\n",
        "!sudo fc-cache -fv\n",
        "!rm ~/.cache/matplotlib -rf"
      ],
      "metadata": {
        "colab": {
          "base_uri": "https://localhost:8080/"
        },
        "id": "Do1UPlzxuAUq",
        "outputId": "9d1c1338-30c8-4978-a1ed-f08a1505e3d5"
      },
      "execution_count": null,
      "outputs": [
        {
          "output_type": "stream",
          "name": "stdout",
          "text": [
            "Reading package lists... Done\n",
            "Building dependency tree       \n",
            "Reading state information... Done\n",
            "fonts-nanum is already the newest version (20170925-1).\n",
            "The following package was automatically installed and is no longer required:\n",
            "  libnvidia-common-460\n",
            "Use 'sudo apt autoremove' to remove it.\n",
            "0 upgraded, 0 newly installed, 0 to remove and 21 not upgraded.\n",
            "/usr/share/fonts: caching, new cache contents: 0 fonts, 1 dirs\n",
            "/usr/share/fonts/truetype: caching, new cache contents: 0 fonts, 3 dirs\n",
            "/usr/share/fonts/truetype/humor-sans: caching, new cache contents: 1 fonts, 0 dirs\n",
            "/usr/share/fonts/truetype/liberation: caching, new cache contents: 16 fonts, 0 dirs\n",
            "/usr/share/fonts/truetype/nanum: caching, new cache contents: 10 fonts, 0 dirs\n",
            "/usr/local/share/fonts: caching, new cache contents: 0 fonts, 0 dirs\n",
            "/root/.local/share/fonts: skipping, no such directory\n",
            "/root/.fonts: skipping, no such directory\n",
            "/var/cache/fontconfig: cleaning cache directory\n",
            "/root/.cache/fontconfig: not cleaning non-existent cache directory\n",
            "/root/.fontconfig: not cleaning non-existent cache directory\n",
            "fc-cache: succeeded\n"
          ]
        }
      ]
    },
    {
      "cell_type": "code",
      "source": [
        "df = pd.read_csv('/content/drive/MyDrive/CC GENERAL.csv', encoding='utf-8')\n",
        "df\n",
        "\n",
        "col_name = ['고객번호', '잔액', '잔액 업데이트 빈도', '구매금액', '일시불 구매금액', \"할부 구매금액\", \"현금 선지급\", \"구매빈도\", \"일회성 구매빈도\", \"할부 구매빈도\", \"현금 선지급 빈도\", \"현금 선지급 거래수\", \"구매건수\", \"카드 한도\", \"지불금액\",\"지불한 최소금액\", \"지불한 전액 지불비율\",\"카드 서비스 기간\"]\n",
        "df.columns = col_name"
      ],
      "metadata": {
        "id": "QtOAh1p1uN01"
      },
      "execution_count": null,
      "outputs": []
    },
    {
      "cell_type": "code",
      "source": [
        "df2 = df[[\"구매금액\", \"일시불 구매금액\", \"구매건수\", \"할부 구매금액\", \"지불금액\"]]\n",
        "df2"
      ],
      "metadata": {
        "colab": {
          "base_uri": "https://localhost:8080/",
          "height": 423
        },
        "id": "gQYvWNGexICt",
        "outputId": "afa985f5-07f2-4309-e6a1-50491cc2389b"
      },
      "execution_count": null,
      "outputs": [
        {
          "output_type": "execute_result",
          "data": {
            "text/plain": [
              "         구매금액  일시불 구매금액  구매건수  할부 구매금액         지불금액\n",
              "0       95.40      0.00     2    95.40   201.802084\n",
              "1        0.00      0.00     0     0.00  4103.032597\n",
              "2      773.17    773.17    12     0.00   622.066742\n",
              "3     1499.00   1499.00     1     0.00     0.000000\n",
              "4       16.00     16.00     1     0.00   678.334763\n",
              "...       ...       ...   ...      ...          ...\n",
              "8945   291.12      0.00     6   291.12   325.594462\n",
              "8946   300.00      0.00     6   300.00   275.861322\n",
              "8947   144.40      0.00     5   144.40    81.270775\n",
              "8948     0.00      0.00     0     0.00    52.549959\n",
              "8949  1093.25   1093.25    23     0.00    63.165404\n",
              "\n",
              "[8950 rows x 5 columns]"
            ],
            "text/html": [
              "\n",
              "  <div id=\"df-ce6d8b77-b6cf-40b7-bf5b-c6384b61c9e2\">\n",
              "    <div class=\"colab-df-container\">\n",
              "      <div>\n",
              "<style scoped>\n",
              "    .dataframe tbody tr th:only-of-type {\n",
              "        vertical-align: middle;\n",
              "    }\n",
              "\n",
              "    .dataframe tbody tr th {\n",
              "        vertical-align: top;\n",
              "    }\n",
              "\n",
              "    .dataframe thead th {\n",
              "        text-align: right;\n",
              "    }\n",
              "</style>\n",
              "<table border=\"1\" class=\"dataframe\">\n",
              "  <thead>\n",
              "    <tr style=\"text-align: right;\">\n",
              "      <th></th>\n",
              "      <th>구매금액</th>\n",
              "      <th>일시불 구매금액</th>\n",
              "      <th>구매건수</th>\n",
              "      <th>할부 구매금액</th>\n",
              "      <th>지불금액</th>\n",
              "    </tr>\n",
              "  </thead>\n",
              "  <tbody>\n",
              "    <tr>\n",
              "      <th>0</th>\n",
              "      <td>95.40</td>\n",
              "      <td>0.00</td>\n",
              "      <td>2</td>\n",
              "      <td>95.40</td>\n",
              "      <td>201.802084</td>\n",
              "    </tr>\n",
              "    <tr>\n",
              "      <th>1</th>\n",
              "      <td>0.00</td>\n",
              "      <td>0.00</td>\n",
              "      <td>0</td>\n",
              "      <td>0.00</td>\n",
              "      <td>4103.032597</td>\n",
              "    </tr>\n",
              "    <tr>\n",
              "      <th>2</th>\n",
              "      <td>773.17</td>\n",
              "      <td>773.17</td>\n",
              "      <td>12</td>\n",
              "      <td>0.00</td>\n",
              "      <td>622.066742</td>\n",
              "    </tr>\n",
              "    <tr>\n",
              "      <th>3</th>\n",
              "      <td>1499.00</td>\n",
              "      <td>1499.00</td>\n",
              "      <td>1</td>\n",
              "      <td>0.00</td>\n",
              "      <td>0.000000</td>\n",
              "    </tr>\n",
              "    <tr>\n",
              "      <th>4</th>\n",
              "      <td>16.00</td>\n",
              "      <td>16.00</td>\n",
              "      <td>1</td>\n",
              "      <td>0.00</td>\n",
              "      <td>678.334763</td>\n",
              "    </tr>\n",
              "    <tr>\n",
              "      <th>...</th>\n",
              "      <td>...</td>\n",
              "      <td>...</td>\n",
              "      <td>...</td>\n",
              "      <td>...</td>\n",
              "      <td>...</td>\n",
              "    </tr>\n",
              "    <tr>\n",
              "      <th>8945</th>\n",
              "      <td>291.12</td>\n",
              "      <td>0.00</td>\n",
              "      <td>6</td>\n",
              "      <td>291.12</td>\n",
              "      <td>325.594462</td>\n",
              "    </tr>\n",
              "    <tr>\n",
              "      <th>8946</th>\n",
              "      <td>300.00</td>\n",
              "      <td>0.00</td>\n",
              "      <td>6</td>\n",
              "      <td>300.00</td>\n",
              "      <td>275.861322</td>\n",
              "    </tr>\n",
              "    <tr>\n",
              "      <th>8947</th>\n",
              "      <td>144.40</td>\n",
              "      <td>0.00</td>\n",
              "      <td>5</td>\n",
              "      <td>144.40</td>\n",
              "      <td>81.270775</td>\n",
              "    </tr>\n",
              "    <tr>\n",
              "      <th>8948</th>\n",
              "      <td>0.00</td>\n",
              "      <td>0.00</td>\n",
              "      <td>0</td>\n",
              "      <td>0.00</td>\n",
              "      <td>52.549959</td>\n",
              "    </tr>\n",
              "    <tr>\n",
              "      <th>8949</th>\n",
              "      <td>1093.25</td>\n",
              "      <td>1093.25</td>\n",
              "      <td>23</td>\n",
              "      <td>0.00</td>\n",
              "      <td>63.165404</td>\n",
              "    </tr>\n",
              "  </tbody>\n",
              "</table>\n",
              "<p>8950 rows × 5 columns</p>\n",
              "</div>\n",
              "      <button class=\"colab-df-convert\" onclick=\"convertToInteractive('df-ce6d8b77-b6cf-40b7-bf5b-c6384b61c9e2')\"\n",
              "              title=\"Convert this dataframe to an interactive table.\"\n",
              "              style=\"display:none;\">\n",
              "        \n",
              "  <svg xmlns=\"http://www.w3.org/2000/svg\" height=\"24px\"viewBox=\"0 0 24 24\"\n",
              "       width=\"24px\">\n",
              "    <path d=\"M0 0h24v24H0V0z\" fill=\"none\"/>\n",
              "    <path d=\"M18.56 5.44l.94 2.06.94-2.06 2.06-.94-2.06-.94-.94-2.06-.94 2.06-2.06.94zm-11 1L8.5 8.5l.94-2.06 2.06-.94-2.06-.94L8.5 2.5l-.94 2.06-2.06.94zm10 10l.94 2.06.94-2.06 2.06-.94-2.06-.94-.94-2.06-.94 2.06-2.06.94z\"/><path d=\"M17.41 7.96l-1.37-1.37c-.4-.4-.92-.59-1.43-.59-.52 0-1.04.2-1.43.59L10.3 9.45l-7.72 7.72c-.78.78-.78 2.05 0 2.83L4 21.41c.39.39.9.59 1.41.59.51 0 1.02-.2 1.41-.59l7.78-7.78 2.81-2.81c.8-.78.8-2.07 0-2.86zM5.41 20L4 18.59l7.72-7.72 1.47 1.35L5.41 20z\"/>\n",
              "  </svg>\n",
              "      </button>\n",
              "      \n",
              "  <style>\n",
              "    .colab-df-container {\n",
              "      display:flex;\n",
              "      flex-wrap:wrap;\n",
              "      gap: 12px;\n",
              "    }\n",
              "\n",
              "    .colab-df-convert {\n",
              "      background-color: #E8F0FE;\n",
              "      border: none;\n",
              "      border-radius: 50%;\n",
              "      cursor: pointer;\n",
              "      display: none;\n",
              "      fill: #1967D2;\n",
              "      height: 32px;\n",
              "      padding: 0 0 0 0;\n",
              "      width: 32px;\n",
              "    }\n",
              "\n",
              "    .colab-df-convert:hover {\n",
              "      background-color: #E2EBFA;\n",
              "      box-shadow: 0px 1px 2px rgba(60, 64, 67, 0.3), 0px 1px 3px 1px rgba(60, 64, 67, 0.15);\n",
              "      fill: #174EA6;\n",
              "    }\n",
              "\n",
              "    [theme=dark] .colab-df-convert {\n",
              "      background-color: #3B4455;\n",
              "      fill: #D2E3FC;\n",
              "    }\n",
              "\n",
              "    [theme=dark] .colab-df-convert:hover {\n",
              "      background-color: #434B5C;\n",
              "      box-shadow: 0px 1px 3px 1px rgba(0, 0, 0, 0.15);\n",
              "      filter: drop-shadow(0px 1px 2px rgba(0, 0, 0, 0.3));\n",
              "      fill: #FFFFFF;\n",
              "    }\n",
              "  </style>\n",
              "\n",
              "      <script>\n",
              "        const buttonEl =\n",
              "          document.querySelector('#df-ce6d8b77-b6cf-40b7-bf5b-c6384b61c9e2 button.colab-df-convert');\n",
              "        buttonEl.style.display =\n",
              "          google.colab.kernel.accessAllowed ? 'block' : 'none';\n",
              "\n",
              "        async function convertToInteractive(key) {\n",
              "          const element = document.querySelector('#df-ce6d8b77-b6cf-40b7-bf5b-c6384b61c9e2');\n",
              "          const dataTable =\n",
              "            await google.colab.kernel.invokeFunction('convertToInteractive',\n",
              "                                                     [key], {});\n",
              "          if (!dataTable) return;\n",
              "\n",
              "          const docLinkHtml = 'Like what you see? Visit the ' +\n",
              "            '<a target=\"_blank\" href=https://colab.research.google.com/notebooks/data_table.ipynb>data table notebook</a>'\n",
              "            + ' to learn more about interactive tables.';\n",
              "          element.innerHTML = '';\n",
              "          dataTable['output_type'] = 'display_data';\n",
              "          await google.colab.output.renderOutput(dataTable, element);\n",
              "          const docLink = document.createElement('div');\n",
              "          docLink.innerHTML = docLinkHtml;\n",
              "          element.appendChild(docLink);\n",
              "        }\n",
              "      </script>\n",
              "    </div>\n",
              "  </div>\n",
              "  "
            ]
          },
          "metadata": {},
          "execution_count": 15
        }
      ]
    },
    {
      "cell_type": "code",
      "source": [
        "# 로그 변환\n",
        "df2_copy = df2.copy()\n",
        "_purchase = np.log1p(df2_copy[\"지불금액\"])\n",
        "df2_copy.insert(0,\"정규화 지불금액\", _purchase)\n",
        "\n",
        "sale_purchase = np.log1p(df2_copy[\"할부 구매금액\"])\n",
        "df2_copy.insert(0,\"정규화 할부 구매금액\", sale_purchase)\n",
        "\n",
        "count_purchase = np.log1p(df2_copy[\"구매건수\"])\n",
        "df2_copy.insert(0,\"정규화 구매건수\", count_purchase)\n",
        "\n",
        "oneoff_purchase = np.log1p(df2_copy[\"일시불 구매금액\"])\n",
        "df2_copy.insert(0,\"정규화 일시불 구매금액\", oneoff_purchase)\n",
        "\n",
        "purchase = np.log1p(df2_copy[\"구매금액\"])\n",
        "df2_copy.insert(0,\"정규화 구매금액\", purchase)\n",
        "\n",
        "df2_copy.drop([\"구매금액\", \"일시불 구매금액\", \"구매건수\", \"할부 구매금액\", \"지불금액\"], axis=1, inplace=True)\n",
        "df2_copy"
      ],
      "metadata": {
        "colab": {
          "base_uri": "https://localhost:8080/",
          "height": 423
        },
        "id": "7CRiLeQBxN-W",
        "outputId": "5dcb700b-5b22-4ebf-c758-7f7a299a8f59"
      },
      "execution_count": null,
      "outputs": [
        {
          "output_type": "execute_result",
          "data": {
            "text/plain": [
              "      정규화 구매금액  정규화 일시불 구매금액  정규화 구매건수  정규화 할부 구매금액  정규화 지불금액\n",
              "0     4.568506      0.000000  1.098612     4.568506  5.312231\n",
              "1     0.000000      0.000000  0.000000     0.000000  8.319725\n",
              "2     6.651791      6.651791  2.564949     0.000000  6.434654\n",
              "3     7.313220      7.313220  0.693147     0.000000  0.000000\n",
              "4     2.833213      2.833213  0.693147     0.000000  6.521114\n",
              "...        ...           ...       ...          ...       ...\n",
              "8945  5.677165      0.000000  1.945910     5.677165  5.788719\n",
              "8946  5.707110      0.000000  1.945910     5.707110  5.623517\n",
              "8947  4.979489      0.000000  1.791759     4.979489  4.410016\n",
              "8948  0.000000      0.000000  0.000000     0.000000  3.980615\n",
              "8949  6.997824      6.997824  3.178054     0.000000  4.161464\n",
              "\n",
              "[8950 rows x 5 columns]"
            ],
            "text/html": [
              "\n",
              "  <div id=\"df-abb61ce4-75c0-4edd-bc30-1a3bb70ca09e\">\n",
              "    <div class=\"colab-df-container\">\n",
              "      <div>\n",
              "<style scoped>\n",
              "    .dataframe tbody tr th:only-of-type {\n",
              "        vertical-align: middle;\n",
              "    }\n",
              "\n",
              "    .dataframe tbody tr th {\n",
              "        vertical-align: top;\n",
              "    }\n",
              "\n",
              "    .dataframe thead th {\n",
              "        text-align: right;\n",
              "    }\n",
              "</style>\n",
              "<table border=\"1\" class=\"dataframe\">\n",
              "  <thead>\n",
              "    <tr style=\"text-align: right;\">\n",
              "      <th></th>\n",
              "      <th>정규화 구매금액</th>\n",
              "      <th>정규화 일시불 구매금액</th>\n",
              "      <th>정규화 구매건수</th>\n",
              "      <th>정규화 할부 구매금액</th>\n",
              "      <th>정규화 지불금액</th>\n",
              "    </tr>\n",
              "  </thead>\n",
              "  <tbody>\n",
              "    <tr>\n",
              "      <th>0</th>\n",
              "      <td>4.568506</td>\n",
              "      <td>0.000000</td>\n",
              "      <td>1.098612</td>\n",
              "      <td>4.568506</td>\n",
              "      <td>5.312231</td>\n",
              "    </tr>\n",
              "    <tr>\n",
              "      <th>1</th>\n",
              "      <td>0.000000</td>\n",
              "      <td>0.000000</td>\n",
              "      <td>0.000000</td>\n",
              "      <td>0.000000</td>\n",
              "      <td>8.319725</td>\n",
              "    </tr>\n",
              "    <tr>\n",
              "      <th>2</th>\n",
              "      <td>6.651791</td>\n",
              "      <td>6.651791</td>\n",
              "      <td>2.564949</td>\n",
              "      <td>0.000000</td>\n",
              "      <td>6.434654</td>\n",
              "    </tr>\n",
              "    <tr>\n",
              "      <th>3</th>\n",
              "      <td>7.313220</td>\n",
              "      <td>7.313220</td>\n",
              "      <td>0.693147</td>\n",
              "      <td>0.000000</td>\n",
              "      <td>0.000000</td>\n",
              "    </tr>\n",
              "    <tr>\n",
              "      <th>4</th>\n",
              "      <td>2.833213</td>\n",
              "      <td>2.833213</td>\n",
              "      <td>0.693147</td>\n",
              "      <td>0.000000</td>\n",
              "      <td>6.521114</td>\n",
              "    </tr>\n",
              "    <tr>\n",
              "      <th>...</th>\n",
              "      <td>...</td>\n",
              "      <td>...</td>\n",
              "      <td>...</td>\n",
              "      <td>...</td>\n",
              "      <td>...</td>\n",
              "    </tr>\n",
              "    <tr>\n",
              "      <th>8945</th>\n",
              "      <td>5.677165</td>\n",
              "      <td>0.000000</td>\n",
              "      <td>1.945910</td>\n",
              "      <td>5.677165</td>\n",
              "      <td>5.788719</td>\n",
              "    </tr>\n",
              "    <tr>\n",
              "      <th>8946</th>\n",
              "      <td>5.707110</td>\n",
              "      <td>0.000000</td>\n",
              "      <td>1.945910</td>\n",
              "      <td>5.707110</td>\n",
              "      <td>5.623517</td>\n",
              "    </tr>\n",
              "    <tr>\n",
              "      <th>8947</th>\n",
              "      <td>4.979489</td>\n",
              "      <td>0.000000</td>\n",
              "      <td>1.791759</td>\n",
              "      <td>4.979489</td>\n",
              "      <td>4.410016</td>\n",
              "    </tr>\n",
              "    <tr>\n",
              "      <th>8948</th>\n",
              "      <td>0.000000</td>\n",
              "      <td>0.000000</td>\n",
              "      <td>0.000000</td>\n",
              "      <td>0.000000</td>\n",
              "      <td>3.980615</td>\n",
              "    </tr>\n",
              "    <tr>\n",
              "      <th>8949</th>\n",
              "      <td>6.997824</td>\n",
              "      <td>6.997824</td>\n",
              "      <td>3.178054</td>\n",
              "      <td>0.000000</td>\n",
              "      <td>4.161464</td>\n",
              "    </tr>\n",
              "  </tbody>\n",
              "</table>\n",
              "<p>8950 rows × 5 columns</p>\n",
              "</div>\n",
              "      <button class=\"colab-df-convert\" onclick=\"convertToInteractive('df-abb61ce4-75c0-4edd-bc30-1a3bb70ca09e')\"\n",
              "              title=\"Convert this dataframe to an interactive table.\"\n",
              "              style=\"display:none;\">\n",
              "        \n",
              "  <svg xmlns=\"http://www.w3.org/2000/svg\" height=\"24px\"viewBox=\"0 0 24 24\"\n",
              "       width=\"24px\">\n",
              "    <path d=\"M0 0h24v24H0V0z\" fill=\"none\"/>\n",
              "    <path d=\"M18.56 5.44l.94 2.06.94-2.06 2.06-.94-2.06-.94-.94-2.06-.94 2.06-2.06.94zm-11 1L8.5 8.5l.94-2.06 2.06-.94-2.06-.94L8.5 2.5l-.94 2.06-2.06.94zm10 10l.94 2.06.94-2.06 2.06-.94-2.06-.94-.94-2.06-.94 2.06-2.06.94z\"/><path d=\"M17.41 7.96l-1.37-1.37c-.4-.4-.92-.59-1.43-.59-.52 0-1.04.2-1.43.59L10.3 9.45l-7.72 7.72c-.78.78-.78 2.05 0 2.83L4 21.41c.39.39.9.59 1.41.59.51 0 1.02-.2 1.41-.59l7.78-7.78 2.81-2.81c.8-.78.8-2.07 0-2.86zM5.41 20L4 18.59l7.72-7.72 1.47 1.35L5.41 20z\"/>\n",
              "  </svg>\n",
              "      </button>\n",
              "      \n",
              "  <style>\n",
              "    .colab-df-container {\n",
              "      display:flex;\n",
              "      flex-wrap:wrap;\n",
              "      gap: 12px;\n",
              "    }\n",
              "\n",
              "    .colab-df-convert {\n",
              "      background-color: #E8F0FE;\n",
              "      border: none;\n",
              "      border-radius: 50%;\n",
              "      cursor: pointer;\n",
              "      display: none;\n",
              "      fill: #1967D2;\n",
              "      height: 32px;\n",
              "      padding: 0 0 0 0;\n",
              "      width: 32px;\n",
              "    }\n",
              "\n",
              "    .colab-df-convert:hover {\n",
              "      background-color: #E2EBFA;\n",
              "      box-shadow: 0px 1px 2px rgba(60, 64, 67, 0.3), 0px 1px 3px 1px rgba(60, 64, 67, 0.15);\n",
              "      fill: #174EA6;\n",
              "    }\n",
              "\n",
              "    [theme=dark] .colab-df-convert {\n",
              "      background-color: #3B4455;\n",
              "      fill: #D2E3FC;\n",
              "    }\n",
              "\n",
              "    [theme=dark] .colab-df-convert:hover {\n",
              "      background-color: #434B5C;\n",
              "      box-shadow: 0px 1px 3px 1px rgba(0, 0, 0, 0.15);\n",
              "      filter: drop-shadow(0px 1px 2px rgba(0, 0, 0, 0.3));\n",
              "      fill: #FFFFFF;\n",
              "    }\n",
              "  </style>\n",
              "\n",
              "      <script>\n",
              "        const buttonEl =\n",
              "          document.querySelector('#df-abb61ce4-75c0-4edd-bc30-1a3bb70ca09e button.colab-df-convert');\n",
              "        buttonEl.style.display =\n",
              "          google.colab.kernel.accessAllowed ? 'block' : 'none';\n",
              "\n",
              "        async function convertToInteractive(key) {\n",
              "          const element = document.querySelector('#df-abb61ce4-75c0-4edd-bc30-1a3bb70ca09e');\n",
              "          const dataTable =\n",
              "            await google.colab.kernel.invokeFunction('convertToInteractive',\n",
              "                                                     [key], {});\n",
              "          if (!dataTable) return;\n",
              "\n",
              "          const docLinkHtml = 'Like what you see? Visit the ' +\n",
              "            '<a target=\"_blank\" href=https://colab.research.google.com/notebooks/data_table.ipynb>data table notebook</a>'\n",
              "            + ' to learn more about interactive tables.';\n",
              "          element.innerHTML = '';\n",
              "          dataTable['output_type'] = 'display_data';\n",
              "          await google.colab.output.renderOutput(dataTable, element);\n",
              "          const docLink = document.createElement('div');\n",
              "          docLink.innerHTML = docLinkHtml;\n",
              "          element.appendChild(docLink);\n",
              "        }\n",
              "      </script>\n",
              "    </div>\n",
              "  </div>\n",
              "  "
            ]
          },
          "metadata": {},
          "execution_count": 16
        }
      ]
    },
    {
      "cell_type": "code",
      "source": [
        "from sklearn.mixture import GaussianMixture\n",
        "from sklearn.mixture import BayesianGaussianMixture\n",
        "\n",
        "gmm = GaussianMixture(n_components=4, covariance_type = \"diag\", random_state=0, n_init=10)\n",
        "gmm.fit(df2_copy)\n",
        "gmm_label = gmm.predict(df2_copy)\n",
        "df2_copy['gmm_label'] = gmm_label\n",
        "df2_copy"
      ],
      "metadata": {
        "colab": {
          "base_uri": "https://localhost:8080/",
          "height": 423
        },
        "id": "bJf5yM_6uR9t",
        "outputId": "12466a73-8690-450f-f69d-097f83a6a862"
      },
      "execution_count": null,
      "outputs": [
        {
          "output_type": "execute_result",
          "data": {
            "text/plain": [
              "      정규화 구매금액  정규화 일시불 구매금액  정규화 구매건수  정규화 할부 구매금액  정규화 지불금액  gmm_label\n",
              "0     4.568506      0.000000  1.098612     4.568506  5.312231          3\n",
              "1     0.000000      0.000000  0.000000     0.000000  8.319725          0\n",
              "2     6.651791      6.651791  2.564949     0.000000  6.434654          2\n",
              "3     7.313220      7.313220  0.693147     0.000000  0.000000          2\n",
              "4     2.833213      2.833213  0.693147     0.000000  6.521114          2\n",
              "...        ...           ...       ...          ...       ...        ...\n",
              "8945  5.677165      0.000000  1.945910     5.677165  5.788719          3\n",
              "8946  5.707110      0.000000  1.945910     5.707110  5.623517          3\n",
              "8947  4.979489      0.000000  1.791759     4.979489  4.410016          3\n",
              "8948  0.000000      0.000000  0.000000     0.000000  3.980615          0\n",
              "8949  6.997824      6.997824  3.178054     0.000000  4.161464          2\n",
              "\n",
              "[8950 rows x 6 columns]"
            ],
            "text/html": [
              "\n",
              "  <div id=\"df-762c538e-3ad7-40db-8fe1-77e7965a5762\">\n",
              "    <div class=\"colab-df-container\">\n",
              "      <div>\n",
              "<style scoped>\n",
              "    .dataframe tbody tr th:only-of-type {\n",
              "        vertical-align: middle;\n",
              "    }\n",
              "\n",
              "    .dataframe tbody tr th {\n",
              "        vertical-align: top;\n",
              "    }\n",
              "\n",
              "    .dataframe thead th {\n",
              "        text-align: right;\n",
              "    }\n",
              "</style>\n",
              "<table border=\"1\" class=\"dataframe\">\n",
              "  <thead>\n",
              "    <tr style=\"text-align: right;\">\n",
              "      <th></th>\n",
              "      <th>정규화 구매금액</th>\n",
              "      <th>정규화 일시불 구매금액</th>\n",
              "      <th>정규화 구매건수</th>\n",
              "      <th>정규화 할부 구매금액</th>\n",
              "      <th>정규화 지불금액</th>\n",
              "      <th>gmm_label</th>\n",
              "    </tr>\n",
              "  </thead>\n",
              "  <tbody>\n",
              "    <tr>\n",
              "      <th>0</th>\n",
              "      <td>4.568506</td>\n",
              "      <td>0.000000</td>\n",
              "      <td>1.098612</td>\n",
              "      <td>4.568506</td>\n",
              "      <td>5.312231</td>\n",
              "      <td>3</td>\n",
              "    </tr>\n",
              "    <tr>\n",
              "      <th>1</th>\n",
              "      <td>0.000000</td>\n",
              "      <td>0.000000</td>\n",
              "      <td>0.000000</td>\n",
              "      <td>0.000000</td>\n",
              "      <td>8.319725</td>\n",
              "      <td>0</td>\n",
              "    </tr>\n",
              "    <tr>\n",
              "      <th>2</th>\n",
              "      <td>6.651791</td>\n",
              "      <td>6.651791</td>\n",
              "      <td>2.564949</td>\n",
              "      <td>0.000000</td>\n",
              "      <td>6.434654</td>\n",
              "      <td>2</td>\n",
              "    </tr>\n",
              "    <tr>\n",
              "      <th>3</th>\n",
              "      <td>7.313220</td>\n",
              "      <td>7.313220</td>\n",
              "      <td>0.693147</td>\n",
              "      <td>0.000000</td>\n",
              "      <td>0.000000</td>\n",
              "      <td>2</td>\n",
              "    </tr>\n",
              "    <tr>\n",
              "      <th>4</th>\n",
              "      <td>2.833213</td>\n",
              "      <td>2.833213</td>\n",
              "      <td>0.693147</td>\n",
              "      <td>0.000000</td>\n",
              "      <td>6.521114</td>\n",
              "      <td>2</td>\n",
              "    </tr>\n",
              "    <tr>\n",
              "      <th>...</th>\n",
              "      <td>...</td>\n",
              "      <td>...</td>\n",
              "      <td>...</td>\n",
              "      <td>...</td>\n",
              "      <td>...</td>\n",
              "      <td>...</td>\n",
              "    </tr>\n",
              "    <tr>\n",
              "      <th>8945</th>\n",
              "      <td>5.677165</td>\n",
              "      <td>0.000000</td>\n",
              "      <td>1.945910</td>\n",
              "      <td>5.677165</td>\n",
              "      <td>5.788719</td>\n",
              "      <td>3</td>\n",
              "    </tr>\n",
              "    <tr>\n",
              "      <th>8946</th>\n",
              "      <td>5.707110</td>\n",
              "      <td>0.000000</td>\n",
              "      <td>1.945910</td>\n",
              "      <td>5.707110</td>\n",
              "      <td>5.623517</td>\n",
              "      <td>3</td>\n",
              "    </tr>\n",
              "    <tr>\n",
              "      <th>8947</th>\n",
              "      <td>4.979489</td>\n",
              "      <td>0.000000</td>\n",
              "      <td>1.791759</td>\n",
              "      <td>4.979489</td>\n",
              "      <td>4.410016</td>\n",
              "      <td>3</td>\n",
              "    </tr>\n",
              "    <tr>\n",
              "      <th>8948</th>\n",
              "      <td>0.000000</td>\n",
              "      <td>0.000000</td>\n",
              "      <td>0.000000</td>\n",
              "      <td>0.000000</td>\n",
              "      <td>3.980615</td>\n",
              "      <td>0</td>\n",
              "    </tr>\n",
              "    <tr>\n",
              "      <th>8949</th>\n",
              "      <td>6.997824</td>\n",
              "      <td>6.997824</td>\n",
              "      <td>3.178054</td>\n",
              "      <td>0.000000</td>\n",
              "      <td>4.161464</td>\n",
              "      <td>2</td>\n",
              "    </tr>\n",
              "  </tbody>\n",
              "</table>\n",
              "<p>8950 rows × 6 columns</p>\n",
              "</div>\n",
              "      <button class=\"colab-df-convert\" onclick=\"convertToInteractive('df-762c538e-3ad7-40db-8fe1-77e7965a5762')\"\n",
              "              title=\"Convert this dataframe to an interactive table.\"\n",
              "              style=\"display:none;\">\n",
              "        \n",
              "  <svg xmlns=\"http://www.w3.org/2000/svg\" height=\"24px\"viewBox=\"0 0 24 24\"\n",
              "       width=\"24px\">\n",
              "    <path d=\"M0 0h24v24H0V0z\" fill=\"none\"/>\n",
              "    <path d=\"M18.56 5.44l.94 2.06.94-2.06 2.06-.94-2.06-.94-.94-2.06-.94 2.06-2.06.94zm-11 1L8.5 8.5l.94-2.06 2.06-.94-2.06-.94L8.5 2.5l-.94 2.06-2.06.94zm10 10l.94 2.06.94-2.06 2.06-.94-2.06-.94-.94-2.06-.94 2.06-2.06.94z\"/><path d=\"M17.41 7.96l-1.37-1.37c-.4-.4-.92-.59-1.43-.59-.52 0-1.04.2-1.43.59L10.3 9.45l-7.72 7.72c-.78.78-.78 2.05 0 2.83L4 21.41c.39.39.9.59 1.41.59.51 0 1.02-.2 1.41-.59l7.78-7.78 2.81-2.81c.8-.78.8-2.07 0-2.86zM5.41 20L4 18.59l7.72-7.72 1.47 1.35L5.41 20z\"/>\n",
              "  </svg>\n",
              "      </button>\n",
              "      \n",
              "  <style>\n",
              "    .colab-df-container {\n",
              "      display:flex;\n",
              "      flex-wrap:wrap;\n",
              "      gap: 12px;\n",
              "    }\n",
              "\n",
              "    .colab-df-convert {\n",
              "      background-color: #E8F0FE;\n",
              "      border: none;\n",
              "      border-radius: 50%;\n",
              "      cursor: pointer;\n",
              "      display: none;\n",
              "      fill: #1967D2;\n",
              "      height: 32px;\n",
              "      padding: 0 0 0 0;\n",
              "      width: 32px;\n",
              "    }\n",
              "\n",
              "    .colab-df-convert:hover {\n",
              "      background-color: #E2EBFA;\n",
              "      box-shadow: 0px 1px 2px rgba(60, 64, 67, 0.3), 0px 1px 3px 1px rgba(60, 64, 67, 0.15);\n",
              "      fill: #174EA6;\n",
              "    }\n",
              "\n",
              "    [theme=dark] .colab-df-convert {\n",
              "      background-color: #3B4455;\n",
              "      fill: #D2E3FC;\n",
              "    }\n",
              "\n",
              "    [theme=dark] .colab-df-convert:hover {\n",
              "      background-color: #434B5C;\n",
              "      box-shadow: 0px 1px 3px 1px rgba(0, 0, 0, 0.15);\n",
              "      filter: drop-shadow(0px 1px 2px rgba(0, 0, 0, 0.3));\n",
              "      fill: #FFFFFF;\n",
              "    }\n",
              "  </style>\n",
              "\n",
              "      <script>\n",
              "        const buttonEl =\n",
              "          document.querySelector('#df-762c538e-3ad7-40db-8fe1-77e7965a5762 button.colab-df-convert');\n",
              "        buttonEl.style.display =\n",
              "          google.colab.kernel.accessAllowed ? 'block' : 'none';\n",
              "\n",
              "        async function convertToInteractive(key) {\n",
              "          const element = document.querySelector('#df-762c538e-3ad7-40db-8fe1-77e7965a5762');\n",
              "          const dataTable =\n",
              "            await google.colab.kernel.invokeFunction('convertToInteractive',\n",
              "                                                     [key], {});\n",
              "          if (!dataTable) return;\n",
              "\n",
              "          const docLinkHtml = 'Like what you see? Visit the ' +\n",
              "            '<a target=\"_blank\" href=https://colab.research.google.com/notebooks/data_table.ipynb>data table notebook</a>'\n",
              "            + ' to learn more about interactive tables.';\n",
              "          element.innerHTML = '';\n",
              "          dataTable['output_type'] = 'display_data';\n",
              "          await google.colab.output.renderOutput(dataTable, element);\n",
              "          const docLink = document.createElement('div');\n",
              "          docLink.innerHTML = docLinkHtml;\n",
              "          element.appendChild(docLink);\n",
              "        }\n",
              "      </script>\n",
              "    </div>\n",
              "  </div>\n",
              "  "
            ]
          },
          "metadata": {},
          "execution_count": 17
        }
      ]
    },
    {
      "cell_type": "code",
      "source": [
        "df2_copy.groupby(\"gmm_label\").count()"
      ],
      "metadata": {
        "colab": {
          "base_uri": "https://localhost:8080/",
          "height": 206
        },
        "id": "6aFrXt7axcus",
        "outputId": "f3563b7a-ebb3-4365-af63-cd3092d7487d"
      },
      "execution_count": null,
      "outputs": [
        {
          "output_type": "execute_result",
          "data": {
            "text/plain": [
              "           정규화 구매금액  정규화 일시불 구매금액  정규화 구매건수  정규화 할부 구매금액  정규화 지불금액\n",
              "gmm_label                                                         \n",
              "0              2040          2040      2040         2040      2040\n",
              "1              2774          2774      2774         2774      2774\n",
              "2              1876          1876      1876         1876      1876\n",
              "3              2260          2260      2260         2260      2260"
            ],
            "text/html": [
              "\n",
              "  <div id=\"df-c919d9f9-4db3-4dce-ab22-4b2bec707f70\">\n",
              "    <div class=\"colab-df-container\">\n",
              "      <div>\n",
              "<style scoped>\n",
              "    .dataframe tbody tr th:only-of-type {\n",
              "        vertical-align: middle;\n",
              "    }\n",
              "\n",
              "    .dataframe tbody tr th {\n",
              "        vertical-align: top;\n",
              "    }\n",
              "\n",
              "    .dataframe thead th {\n",
              "        text-align: right;\n",
              "    }\n",
              "</style>\n",
              "<table border=\"1\" class=\"dataframe\">\n",
              "  <thead>\n",
              "    <tr style=\"text-align: right;\">\n",
              "      <th></th>\n",
              "      <th>정규화 구매금액</th>\n",
              "      <th>정규화 일시불 구매금액</th>\n",
              "      <th>정규화 구매건수</th>\n",
              "      <th>정규화 할부 구매금액</th>\n",
              "      <th>정규화 지불금액</th>\n",
              "    </tr>\n",
              "    <tr>\n",
              "      <th>gmm_label</th>\n",
              "      <th></th>\n",
              "      <th></th>\n",
              "      <th></th>\n",
              "      <th></th>\n",
              "      <th></th>\n",
              "    </tr>\n",
              "  </thead>\n",
              "  <tbody>\n",
              "    <tr>\n",
              "      <th>0</th>\n",
              "      <td>2040</td>\n",
              "      <td>2040</td>\n",
              "      <td>2040</td>\n",
              "      <td>2040</td>\n",
              "      <td>2040</td>\n",
              "    </tr>\n",
              "    <tr>\n",
              "      <th>1</th>\n",
              "      <td>2774</td>\n",
              "      <td>2774</td>\n",
              "      <td>2774</td>\n",
              "      <td>2774</td>\n",
              "      <td>2774</td>\n",
              "    </tr>\n",
              "    <tr>\n",
              "      <th>2</th>\n",
              "      <td>1876</td>\n",
              "      <td>1876</td>\n",
              "      <td>1876</td>\n",
              "      <td>1876</td>\n",
              "      <td>1876</td>\n",
              "    </tr>\n",
              "    <tr>\n",
              "      <th>3</th>\n",
              "      <td>2260</td>\n",
              "      <td>2260</td>\n",
              "      <td>2260</td>\n",
              "      <td>2260</td>\n",
              "      <td>2260</td>\n",
              "    </tr>\n",
              "  </tbody>\n",
              "</table>\n",
              "</div>\n",
              "      <button class=\"colab-df-convert\" onclick=\"convertToInteractive('df-c919d9f9-4db3-4dce-ab22-4b2bec707f70')\"\n",
              "              title=\"Convert this dataframe to an interactive table.\"\n",
              "              style=\"display:none;\">\n",
              "        \n",
              "  <svg xmlns=\"http://www.w3.org/2000/svg\" height=\"24px\"viewBox=\"0 0 24 24\"\n",
              "       width=\"24px\">\n",
              "    <path d=\"M0 0h24v24H0V0z\" fill=\"none\"/>\n",
              "    <path d=\"M18.56 5.44l.94 2.06.94-2.06 2.06-.94-2.06-.94-.94-2.06-.94 2.06-2.06.94zm-11 1L8.5 8.5l.94-2.06 2.06-.94-2.06-.94L8.5 2.5l-.94 2.06-2.06.94zm10 10l.94 2.06.94-2.06 2.06-.94-2.06-.94-.94-2.06-.94 2.06-2.06.94z\"/><path d=\"M17.41 7.96l-1.37-1.37c-.4-.4-.92-.59-1.43-.59-.52 0-1.04.2-1.43.59L10.3 9.45l-7.72 7.72c-.78.78-.78 2.05 0 2.83L4 21.41c.39.39.9.59 1.41.59.51 0 1.02-.2 1.41-.59l7.78-7.78 2.81-2.81c.8-.78.8-2.07 0-2.86zM5.41 20L4 18.59l7.72-7.72 1.47 1.35L5.41 20z\"/>\n",
              "  </svg>\n",
              "      </button>\n",
              "      \n",
              "  <style>\n",
              "    .colab-df-container {\n",
              "      display:flex;\n",
              "      flex-wrap:wrap;\n",
              "      gap: 12px;\n",
              "    }\n",
              "\n",
              "    .colab-df-convert {\n",
              "      background-color: #E8F0FE;\n",
              "      border: none;\n",
              "      border-radius: 50%;\n",
              "      cursor: pointer;\n",
              "      display: none;\n",
              "      fill: #1967D2;\n",
              "      height: 32px;\n",
              "      padding: 0 0 0 0;\n",
              "      width: 32px;\n",
              "    }\n",
              "\n",
              "    .colab-df-convert:hover {\n",
              "      background-color: #E2EBFA;\n",
              "      box-shadow: 0px 1px 2px rgba(60, 64, 67, 0.3), 0px 1px 3px 1px rgba(60, 64, 67, 0.15);\n",
              "      fill: #174EA6;\n",
              "    }\n",
              "\n",
              "    [theme=dark] .colab-df-convert {\n",
              "      background-color: #3B4455;\n",
              "      fill: #D2E3FC;\n",
              "    }\n",
              "\n",
              "    [theme=dark] .colab-df-convert:hover {\n",
              "      background-color: #434B5C;\n",
              "      box-shadow: 0px 1px 3px 1px rgba(0, 0, 0, 0.15);\n",
              "      filter: drop-shadow(0px 1px 2px rgba(0, 0, 0, 0.3));\n",
              "      fill: #FFFFFF;\n",
              "    }\n",
              "  </style>\n",
              "\n",
              "      <script>\n",
              "        const buttonEl =\n",
              "          document.querySelector('#df-c919d9f9-4db3-4dce-ab22-4b2bec707f70 button.colab-df-convert');\n",
              "        buttonEl.style.display =\n",
              "          google.colab.kernel.accessAllowed ? 'block' : 'none';\n",
              "\n",
              "        async function convertToInteractive(key) {\n",
              "          const element = document.querySelector('#df-c919d9f9-4db3-4dce-ab22-4b2bec707f70');\n",
              "          const dataTable =\n",
              "            await google.colab.kernel.invokeFunction('convertToInteractive',\n",
              "                                                     [key], {});\n",
              "          if (!dataTable) return;\n",
              "\n",
              "          const docLinkHtml = 'Like what you see? Visit the ' +\n",
              "            '<a target=\"_blank\" href=https://colab.research.google.com/notebooks/data_table.ipynb>data table notebook</a>'\n",
              "            + ' to learn more about interactive tables.';\n",
              "          element.innerHTML = '';\n",
              "          dataTable['output_type'] = 'display_data';\n",
              "          await google.colab.output.renderOutput(dataTable, element);\n",
              "          const docLink = document.createElement('div');\n",
              "          docLink.innerHTML = docLinkHtml;\n",
              "          element.appendChild(docLink);\n",
              "        }\n",
              "      </script>\n",
              "    </div>\n",
              "  </div>\n",
              "  "
            ]
          },
          "metadata": {},
          "execution_count": 18
        }
      ]
    },
    {
      "cell_type": "code",
      "source": [
        "from sklearn.decomposition import PCA\n",
        "X = df2_copy.copy()\n",
        "\n",
        "# 객체\n",
        "pca = PCA(n_components = 2)\n",
        "\n",
        "# 적용\n",
        "pca.fit(X)\n",
        "x_pca = pca.transform(X)\n",
        "x_pca"
      ],
      "metadata": {
        "colab": {
          "base_uri": "https://localhost:8080/"
        },
        "id": "RxEKYPpixlAO",
        "outputId": "2438fcb4-7975-4fba-8f01-ca940f065c92"
      },
      "execution_count": null,
      "outputs": [
        {
          "output_type": "execute_result",
          "data": {
            "text/plain": [
              "array([[-1.52839965, -3.36780739],\n",
              "       [-6.85600865,  0.60869813],\n",
              "       [ 1.45179356,  4.51336076],\n",
              "       ...,\n",
              "       [-0.9703597 , -3.77283734],\n",
              "       [-7.28963834,  0.31483015],\n",
              "       [ 1.7904982 ,  4.5471223 ]])"
            ]
          },
          "metadata": {},
          "execution_count": 19
        }
      ]
    },
    {
      "cell_type": "code",
      "source": [
        "pca_df = pd.DataFrame(x_pca)\n",
        "pca_df[\"gmm_label\"] = df2_copy[\"gmm_label\"]\n",
        "pca_df[\"pca_x\"] = x_pca[:,0]\n",
        "pca_df[\"pca_y\"] = x_pca[:,1]\n",
        "\n",
        "pca_df.head()"
      ],
      "metadata": {
        "colab": {
          "base_uri": "https://localhost:8080/",
          "height": 206
        },
        "id": "8O5lNaGgxstQ",
        "outputId": "081a18ea-b5a3-4397-a400-14e983944b6a"
      },
      "execution_count": null,
      "outputs": [
        {
          "output_type": "execute_result",
          "data": {
            "text/plain": [
              "          0         1  gmm_label     pca_x     pca_y\n",
              "0 -1.528400 -3.367807          3 -1.528400 -3.367807\n",
              "1 -6.856009  0.608698          0 -6.856009  0.608698\n",
              "2  1.451794  4.513361          2  1.451794  4.513361\n",
              "3  1.049838  4.683072          2  1.049838  4.683072\n",
              "4 -3.432652  2.051078          2 -3.432652  2.051078"
            ],
            "text/html": [
              "\n",
              "  <div id=\"df-f2f5b6f9-0e2d-490d-8c4a-2eb14d3a068d\">\n",
              "    <div class=\"colab-df-container\">\n",
              "      <div>\n",
              "<style scoped>\n",
              "    .dataframe tbody tr th:only-of-type {\n",
              "        vertical-align: middle;\n",
              "    }\n",
              "\n",
              "    .dataframe tbody tr th {\n",
              "        vertical-align: top;\n",
              "    }\n",
              "\n",
              "    .dataframe thead th {\n",
              "        text-align: right;\n",
              "    }\n",
              "</style>\n",
              "<table border=\"1\" class=\"dataframe\">\n",
              "  <thead>\n",
              "    <tr style=\"text-align: right;\">\n",
              "      <th></th>\n",
              "      <th>0</th>\n",
              "      <th>1</th>\n",
              "      <th>gmm_label</th>\n",
              "      <th>pca_x</th>\n",
              "      <th>pca_y</th>\n",
              "    </tr>\n",
              "  </thead>\n",
              "  <tbody>\n",
              "    <tr>\n",
              "      <th>0</th>\n",
              "      <td>-1.528400</td>\n",
              "      <td>-3.367807</td>\n",
              "      <td>3</td>\n",
              "      <td>-1.528400</td>\n",
              "      <td>-3.367807</td>\n",
              "    </tr>\n",
              "    <tr>\n",
              "      <th>1</th>\n",
              "      <td>-6.856009</td>\n",
              "      <td>0.608698</td>\n",
              "      <td>0</td>\n",
              "      <td>-6.856009</td>\n",
              "      <td>0.608698</td>\n",
              "    </tr>\n",
              "    <tr>\n",
              "      <th>2</th>\n",
              "      <td>1.451794</td>\n",
              "      <td>4.513361</td>\n",
              "      <td>2</td>\n",
              "      <td>1.451794</td>\n",
              "      <td>4.513361</td>\n",
              "    </tr>\n",
              "    <tr>\n",
              "      <th>3</th>\n",
              "      <td>1.049838</td>\n",
              "      <td>4.683072</td>\n",
              "      <td>2</td>\n",
              "      <td>1.049838</td>\n",
              "      <td>4.683072</td>\n",
              "    </tr>\n",
              "    <tr>\n",
              "      <th>4</th>\n",
              "      <td>-3.432652</td>\n",
              "      <td>2.051078</td>\n",
              "      <td>2</td>\n",
              "      <td>-3.432652</td>\n",
              "      <td>2.051078</td>\n",
              "    </tr>\n",
              "  </tbody>\n",
              "</table>\n",
              "</div>\n",
              "      <button class=\"colab-df-convert\" onclick=\"convertToInteractive('df-f2f5b6f9-0e2d-490d-8c4a-2eb14d3a068d')\"\n",
              "              title=\"Convert this dataframe to an interactive table.\"\n",
              "              style=\"display:none;\">\n",
              "        \n",
              "  <svg xmlns=\"http://www.w3.org/2000/svg\" height=\"24px\"viewBox=\"0 0 24 24\"\n",
              "       width=\"24px\">\n",
              "    <path d=\"M0 0h24v24H0V0z\" fill=\"none\"/>\n",
              "    <path d=\"M18.56 5.44l.94 2.06.94-2.06 2.06-.94-2.06-.94-.94-2.06-.94 2.06-2.06.94zm-11 1L8.5 8.5l.94-2.06 2.06-.94-2.06-.94L8.5 2.5l-.94 2.06-2.06.94zm10 10l.94 2.06.94-2.06 2.06-.94-2.06-.94-.94-2.06-.94 2.06-2.06.94z\"/><path d=\"M17.41 7.96l-1.37-1.37c-.4-.4-.92-.59-1.43-.59-.52 0-1.04.2-1.43.59L10.3 9.45l-7.72 7.72c-.78.78-.78 2.05 0 2.83L4 21.41c.39.39.9.59 1.41.59.51 0 1.02-.2 1.41-.59l7.78-7.78 2.81-2.81c.8-.78.8-2.07 0-2.86zM5.41 20L4 18.59l7.72-7.72 1.47 1.35L5.41 20z\"/>\n",
              "  </svg>\n",
              "      </button>\n",
              "      \n",
              "  <style>\n",
              "    .colab-df-container {\n",
              "      display:flex;\n",
              "      flex-wrap:wrap;\n",
              "      gap: 12px;\n",
              "    }\n",
              "\n",
              "    .colab-df-convert {\n",
              "      background-color: #E8F0FE;\n",
              "      border: none;\n",
              "      border-radius: 50%;\n",
              "      cursor: pointer;\n",
              "      display: none;\n",
              "      fill: #1967D2;\n",
              "      height: 32px;\n",
              "      padding: 0 0 0 0;\n",
              "      width: 32px;\n",
              "    }\n",
              "\n",
              "    .colab-df-convert:hover {\n",
              "      background-color: #E2EBFA;\n",
              "      box-shadow: 0px 1px 2px rgba(60, 64, 67, 0.3), 0px 1px 3px 1px rgba(60, 64, 67, 0.15);\n",
              "      fill: #174EA6;\n",
              "    }\n",
              "\n",
              "    [theme=dark] .colab-df-convert {\n",
              "      background-color: #3B4455;\n",
              "      fill: #D2E3FC;\n",
              "    }\n",
              "\n",
              "    [theme=dark] .colab-df-convert:hover {\n",
              "      background-color: #434B5C;\n",
              "      box-shadow: 0px 1px 3px 1px rgba(0, 0, 0, 0.15);\n",
              "      filter: drop-shadow(0px 1px 2px rgba(0, 0, 0, 0.3));\n",
              "      fill: #FFFFFF;\n",
              "    }\n",
              "  </style>\n",
              "\n",
              "      <script>\n",
              "        const buttonEl =\n",
              "          document.querySelector('#df-f2f5b6f9-0e2d-490d-8c4a-2eb14d3a068d button.colab-df-convert');\n",
              "        buttonEl.style.display =\n",
              "          google.colab.kernel.accessAllowed ? 'block' : 'none';\n",
              "\n",
              "        async function convertToInteractive(key) {\n",
              "          const element = document.querySelector('#df-f2f5b6f9-0e2d-490d-8c4a-2eb14d3a068d');\n",
              "          const dataTable =\n",
              "            await google.colab.kernel.invokeFunction('convertToInteractive',\n",
              "                                                     [key], {});\n",
              "          if (!dataTable) return;\n",
              "\n",
              "          const docLinkHtml = 'Like what you see? Visit the ' +\n",
              "            '<a target=\"_blank\" href=https://colab.research.google.com/notebooks/data_table.ipynb>data table notebook</a>'\n",
              "            + ' to learn more about interactive tables.';\n",
              "          element.innerHTML = '';\n",
              "          dataTable['output_type'] = 'display_data';\n",
              "          await google.colab.output.renderOutput(dataTable, element);\n",
              "          const docLink = document.createElement('div');\n",
              "          docLink.innerHTML = docLinkHtml;\n",
              "          element.appendChild(docLink);\n",
              "        }\n",
              "      </script>\n",
              "    </div>\n",
              "  </div>\n",
              "  "
            ]
          },
          "metadata": {},
          "execution_count": 20
        }
      ]
    },
    {
      "cell_type": "code",
      "source": [
        "import matplotlib.pyplot as plt\n",
        "import seaborn as sns\n",
        "axs = plt.subplots()\n",
        "axs = sns.scatterplot(0,1, hue = \"gmm_label\", data = pca_df)"
      ],
      "metadata": {
        "colab": {
          "base_uri": "https://localhost:8080/",
          "height": 279
        },
        "id": "TvHmEwW5xu4B",
        "outputId": "8b9f9109-1e9d-468a-9844-ac73c0577cf3"
      },
      "execution_count": null,
      "outputs": [
        {
          "output_type": "display_data",
          "data": {
            "text/plain": [
              "<Figure size 432x288 with 1 Axes>"
            ],
            "image/png": "[encoded data removed]"
          },
          "metadata": {
            "needs_background": "light"
          }
        }
      ]
    },
    {
      "cell_type": "code",
      "source": [
        "for i in sorted(pca_df[\"gmm_label\"].unique()) :\n",
        "  tmp = pca_df.loc[pca_df[\"gmm_label\"] == i]\n",
        "  plt.scatter(tmp[0], tmp[1])\n",
        "  plt.legend(sorted(pca_df[\"gmm_label\"].unique()))\n",
        "  plt.xlabel(\"PCA 1\")\n",
        "  plt.ylabel(\"PCA 2\")"
      ],
      "metadata": {
        "colab": {
          "base_uri": "https://localhost:8080/",
          "height": 279
        },
        "id": "XscFHSgrx2Pd",
        "outputId": "704a3307-5be5-4351-c501-221f12467e04"
      },
      "execution_count": null,
      "outputs": [
        {
          "output_type": "display_data",
          "data": {
            "text/plain": [
              "<Figure size 432x288 with 1 Axes>"
            ],
            "image/png": "[encoded data removed]"
          },
          "metadata": {
            "needs_background": "light"
          }
        }
      ]
    },
    {
      "cell_type": "markdown",
      "source": [
        "# 인사이트"
      ],
      "metadata": {
        "id": "5gn4k7NPR4CM"
      }
    },
    {
      "cell_type": "code",
      "source": [
        "df[\"clusters\"] = gmm_label\n",
        "df"
      ],
      "metadata": {
        "colab": {
          "base_uri": "https://localhost:8080/",
          "height": 485
        },
        "id": "W5utZ4-zR5RA",
        "outputId": "b5182a16-f838-41a9-8bd6-1e812c2b3875"
      },
      "execution_count": null,
      "outputs": [
        {
          "output_type": "execute_result",
          "data": {
            "text/plain": [
              "        고객번호           잔액  잔액 업데이트 빈도     구매금액  일시불 구매금액  할부 구매금액  \\\n",
              "0     C10001    40.900749    0.818182    95.40      0.00    95.40   \n",
              "1     C10002  3202.467416    0.909091     0.00      0.00     0.00   \n",
              "2     C10003  2495.148862    1.000000   773.17    773.17     0.00   \n",
              "3     C10004  1666.670542    0.636364  1499.00   1499.00     0.00   \n",
              "4     C10005   817.714335    1.000000    16.00     16.00     0.00   \n",
              "...      ...          ...         ...      ...       ...      ...   \n",
              "8945  C19186    28.493517    1.000000   291.12      0.00   291.12   \n",
              "8946  C19187    19.183215    1.000000   300.00      0.00   300.00   \n",
              "8947  C19188    23.398673    0.833333   144.40      0.00   144.40   \n",
              "8948  C19189    13.457564    0.833333     0.00      0.00     0.00   \n",
              "8949  C19190   372.708075    0.666667  1093.25   1093.25     0.00   \n",
              "\n",
              "           현금 선지급      구매빈도  일회성 구매빈도   할부 구매빈도  현금 선지급 빈도  현금 선지급 거래수  구매건수  \\\n",
              "0        0.000000  0.166667  0.000000  0.083333   0.000000           0     2   \n",
              "1     6442.945483  0.000000  0.000000  0.000000   0.250000           4     0   \n",
              "2        0.000000  1.000000  1.000000  0.000000   0.000000           0    12   \n",
              "3      205.788017  0.083333  0.083333  0.000000   0.083333           1     1   \n",
              "4        0.000000  0.083333  0.083333  0.000000   0.000000           0     1   \n",
              "...           ...       ...       ...       ...        ...         ...   ...   \n",
              "8945     0.000000  1.000000  0.000000  0.833333   0.000000           0     6   \n",
              "8946     0.000000  1.000000  0.000000  0.833333   0.000000           0     6   \n",
              "8947     0.000000  0.833333  0.000000  0.666667   0.000000           0     5   \n",
              "8948    36.558778  0.000000  0.000000  0.000000   0.166667           2     0   \n",
              "8949   127.040008  0.666667  0.666667  0.000000   0.333333           2    23   \n",
              "\n",
              "       카드 한도         지불금액     지불한 최소금액  지불한 전액 지불비율  카드 서비스 기간  clusters  \n",
              "0     1000.0   201.802084   139.509787     0.000000         12         3  \n",
              "1     7000.0  4103.032597  1072.340217     0.222222         12         0  \n",
              "2     7500.0   622.066742   627.284787     0.000000         12         2  \n",
              "3     7500.0     0.000000          NaN     0.000000         12         2  \n",
              "4     1200.0   678.334763   244.791237     0.000000         12         2  \n",
              "...      ...          ...          ...          ...        ...       ...  \n",
              "8945  1000.0   325.594462    48.886365     0.500000          6         3  \n",
              "8946  1000.0   275.861322          NaN     0.000000          6         3  \n",
              "8947  1000.0    81.270775    82.418369     0.250000          6         3  \n",
              "8948   500.0    52.549959    55.755628     0.250000          6         0  \n",
              "8949  1200.0    63.165404    88.288956     0.000000          6         2  \n",
              "\n",
              "[8950 rows x 19 columns]"
            ],
            "text/html": [
              "\n",
              "  <div id=\"df-e2c70fe4-c4be-4135-9518-40e871071531\">\n",
              "    <div class=\"colab-df-container\">\n",
              "      <div>\n",
              "<style scoped>\n",
              "    .dataframe tbody tr th:only-of-type {\n",
              "        vertical-align: middle;\n",
              "    }\n",
              "\n",
              "    .dataframe tbody tr th {\n",
              "        vertical-align: top;\n",
              "    }\n",
              "\n",
              "    .dataframe thead th {\n",
              "        text-align: right;\n",
              "    }\n",
              "</style>\n",
              "<table border=\"1\" class=\"dataframe\">\n",
              "  <thead>\n",
              "    <tr style=\"text-align: right;\">\n",
              "      <th></th>\n",
              "      <th>고객번호</th>\n",
              "      <th>잔액</th>\n",
              "      <th>잔액 업데이트 빈도</th>\n",
              "      <th>구매금액</th>\n",
              "      <th>일시불 구매금액</th>\n",
              "      <th>할부 구매금액</th>\n",
              "      <th>현금 선지급</th>\n",
              "      <th>구매빈도</th>\n",
              "      <th>일회성 구매빈도</th>\n",
              "      <th>할부 구매빈도</th>\n",
              "      <th>현금 선지급 빈도</th>\n",
              "      <th>현금 선지급 거래수</th>\n",
              "      <th>구매건수</th>\n",
              "      <th>카드 한도</th>\n",
              "      <th>지불금액</th>\n",
              "      <th>지불한 최소금액</th>\n",
              "      <th>지불한 전액 지불비율</th>\n",
              "      <th>카드 서비스 기간</th>\n",
              "      <th>clusters</th>\n",
              "    </tr>\n",
              "  </thead>\n",
              "  <tbody>\n",
              "    <tr>\n",
              "      <th>0</th>\n",
              "      <td>C10001</td>\n",
              "      <td>40.900749</td>\n",
              "      <td>0.818182</td>\n",
              "      <td>95.40</td>\n",
              "      <td>0.00</td>\n",
              "      <td>95.40</td>\n",
              "      <td>0.000000</td>\n",
              "      <td>0.166667</td>\n",
              "      <td>0.000000</td>\n",
              "      <td>0.083333</td>\n",
              "      <td>0.000000</td>\n",
              "      <td>0</td>\n",
              "      <td>2</td>\n",
              "      <td>1000.0</td>\n",
              "      <td>201.802084</td>\n",
              "      <td>139.509787</td>\n",
              "      <td>0.000000</td>\n",
              "      <td>12</td>\n",
              "      <td>3</td>\n",
              "    </tr>\n",
              "    <tr>\n",
              "      <th>1</th>\n",
              "      <td>C10002</td>\n",
              "      <td>3202.467416</td>\n",
              "      <td>0.909091</td>\n",
              "      <td>0.00</td>\n",
              "      <td>0.00</td>\n",
              "      <td>0.00</td>\n",
              "      <td>6442.945483</td>\n",
              "      <td>0.000000</td>\n",
              "      <td>0.000000</td>\n",
              "      <td>0.000000</td>\n",
              "      <td>0.250000</td>\n",
              "      <td>4</td>\n",
              "      <td>0</td>\n",
              "      <td>7000.0</td>\n",
              "      <td>4103.032597</td>\n",
              "      <td>1072.340217</td>\n",
              "      <td>0.222222</td>\n",
              "      <td>12</td>\n",
              "      <td>0</td>\n",
              "    </tr>\n",
              "    <tr>\n",
              "      <th>2</th>\n",
              "      <td>C10003</td>\n",
              "      <td>2495.148862</td>\n",
              "      <td>1.000000</td>\n",
              "      <td>773.17</td>\n",
              "      <td>773.17</td>\n",
              "      <td>0.00</td>\n",
              "      <td>0.000000</td>\n",
              "      <td>1.000000</td>\n",
              "      <td>1.000000</td>\n",
              "      <td>0.000000</td>\n",
              "      <td>0.000000</td>\n",
              "      <td>0</td>\n",
              "      <td>12</td>\n",
              "      <td>7500.0</td>\n",
              "      <td>622.066742</td>\n",
              "      <td>627.284787</td>\n",
              "      <td>0.000000</td>\n",
              "      <td>12</td>\n",
              "      <td>2</td>\n",
              "    </tr>\n",
              "    <tr>\n",
              "      <th>3</th>\n",
              "      <td>C10004</td>\n",
              "      <td>1666.670542</td>\n",
              "      <td>0.636364</td>\n",
              "      <td>1499.00</td>\n",
              "      <td>1499.00</td>\n",
              "      <td>0.00</td>\n",
              "      <td>205.788017</td>\n",
              "      <td>0.083333</td>\n",
              "      <td>0.083333</td>\n",
              "      <td>0.000000</td>\n",
              "      <td>0.083333</td>\n",
              "      <td>1</td>\n",
              "      <td>1</td>\n",
              "      <td>7500.0</td>\n",
              "      <td>0.000000</td>\n",
              "      <td>NaN</td>\n",
              "      <td>0.000000</td>\n",
              "      <td>12</td>\n",
              "      <td>2</td>\n",
              "    </tr>\n",
              "    <tr>\n",
              "      <th>4</th>\n",
              "      <td>C10005</td>\n",
              "      <td>817.714335</td>\n",
              "      <td>1.000000</td>\n",
              "      <td>16.00</td>\n",
              "      <td>16.00</td>\n",
              "      <td>0.00</td>\n",
              "      <td>0.000000</td>\n",
              "      <td>0.083333</td>\n",
              "      <td>0.083333</td>\n",
              "      <td>0.000000</td>\n",
              "      <td>0.000000</td>\n",
              "      <td>0</td>\n",
              "      <td>1</td>\n",
              "      <td>1200.0</td>\n",
              "      <td>678.334763</td>\n",
              "      <td>244.791237</td>\n",
              "      <td>0.000000</td>\n",
              "      <td>12</td>\n",
              "      <td>2</td>\n",
              "    </tr>\n",
              "    <tr>\n",
              "      <th>...</th>\n",
              "      <td>...</td>\n",
              "      <td>...</td>\n",
              "      <td>...</td>\n",
              "      <td>...</td>\n",
              "      <td>...</td>\n",
              "      <td>...</td>\n",
              "      <td>...</td>\n",
              "      <td>...</td>\n",
              "      <td>...</td>\n",
              "      <td>...</td>\n",
              "      <td>...</td>\n",
              "      <td>...</td>\n",
              "      <td>...</td>\n",
              "      <td>...</td>\n",
              "      <td>...</td>\n",
              "      <td>...</td>\n",
              "      <td>...</td>\n",
              "      <td>...</td>\n",
              "      <td>...</td>\n",
              "    </tr>\n",
              "    <tr>\n",
              "      <th>8945</th>\n",
              "      <td>C19186</td>\n",
              "      <td>28.493517</td>\n",
              "      <td>1.000000</td>\n",
              "      <td>291.12</td>\n",
              "      <td>0.00</td>\n",
              "      <td>291.12</td>\n",
              "      <td>0.000000</td>\n",
              "      <td>1.000000</td>\n",
              "      <td>0.000000</td>\n",
              "      <td>0.833333</td>\n",
              "      <td>0.000000</td>\n",
              "      <td>0</td>\n",
              "      <td>6</td>\n",
              "      <td>1000.0</td>\n",
              "      <td>325.594462</td>\n",
              "      <td>48.886365</td>\n",
              "      <td>0.500000</td>\n",
              "      <td>6</td>\n",
              "      <td>3</td>\n",
              "    </tr>\n",
              "    <tr>\n",
              "      <th>8946</th>\n",
              "      <td>C19187</td>\n",
              "      <td>19.183215</td>\n",
              "      <td>1.000000</td>\n",
              "      <td>300.00</td>\n",
              "      <td>0.00</td>\n",
              "      <td>300.00</td>\n",
              "      <td>0.000000</td>\n",
              "      <td>1.000000</td>\n",
              "      <td>0.000000</td>\n",
              "      <td>0.833333</td>\n",
              "      <td>0.000000</td>\n",
              "      <td>0</td>\n",
              "      <td>6</td>\n",
              "      <td>1000.0</td>\n",
              "      <td>275.861322</td>\n",
              "      <td>NaN</td>\n",
              "      <td>0.000000</td>\n",
              "      <td>6</td>\n",
              "      <td>3</td>\n",
              "    </tr>\n",
              "    <tr>\n",
              "      <th>8947</th>\n",
              "      <td>C19188</td>\n",
              "      <td>23.398673</td>\n",
              "      <td>0.833333</td>\n",
              "      <td>144.40</td>\n",
              "      <td>0.00</td>\n",
              "      <td>144.40</td>\n",
              "      <td>0.000000</td>\n",
              "      <td>0.833333</td>\n",
              "      <td>0.000000</td>\n",
              "      <td>0.666667</td>\n",
              "      <td>0.000000</td>\n",
              "      <td>0</td>\n",
              "      <td>5</td>\n",
              "      <td>1000.0</td>\n",
              "      <td>81.270775</td>\n",
              "      <td>82.418369</td>\n",
              "      <td>0.250000</td>\n",
              "      <td>6</td>\n",
              "      <td>3</td>\n",
              "    </tr>\n",
              "    <tr>\n",
              "      <th>8948</th>\n",
              "      <td>C19189</td>\n",
              "      <td>13.457564</td>\n",
              "      <td>0.833333</td>\n",
              "      <td>0.00</td>\n",
              "      <td>0.00</td>\n",
              "      <td>0.00</td>\n",
              "      <td>36.558778</td>\n",
              "      <td>0.000000</td>\n",
              "      <td>0.000000</td>\n",
              "      <td>0.000000</td>\n",
              "      <td>0.166667</td>\n",
              "      <td>2</td>\n",
              "      <td>0</td>\n",
              "      <td>500.0</td>\n",
              "      <td>52.549959</td>\n",
              "      <td>55.755628</td>\n",
              "      <td>0.250000</td>\n",
              "      <td>6</td>\n",
              "      <td>0</td>\n",
              "    </tr>\n",
              "    <tr>\n",
              "      <th>8949</th>\n",
              "      <td>C19190</td>\n",
              "      <td>372.708075</td>\n",
              "      <td>0.666667</td>\n",
              "      <td>1093.25</td>\n",
              "      <td>1093.25</td>\n",
              "      <td>0.00</td>\n",
              "      <td>127.040008</td>\n",
              "      <td>0.666667</td>\n",
              "      <td>0.666667</td>\n",
              "      <td>0.000000</td>\n",
              "      <td>0.333333</td>\n",
              "      <td>2</td>\n",
              "      <td>23</td>\n",
              "      <td>1200.0</td>\n",
              "      <td>63.165404</td>\n",
              "      <td>88.288956</td>\n",
              "      <td>0.000000</td>\n",
              "      <td>6</td>\n",
              "      <td>2</td>\n",
              "    </tr>\n",
              "  </tbody>\n",
              "</table>\n",
              "<p>8950 rows × 19 columns</p>\n",
              "</div>\n",
              "      <button class=\"colab-df-convert\" onclick=\"convertToInteractive('df-e2c70fe4-c4be-4135-9518-40e871071531')\"\n",
              "              title=\"Convert this dataframe to an interactive table.\"\n",
              "              style=\"display:none;\">\n",
              "        \n",
              "  <svg xmlns=\"http://www.w3.org/2000/svg\" height=\"24px\"viewBox=\"0 0 24 24\"\n",
              "       width=\"24px\">\n",
              "    <path d=\"M0 0h24v24H0V0z\" fill=\"none\"/>\n",
              "    <path d=\"M18.56 5.44l.94 2.06.94-2.06 2.06-.94-2.06-.94-.94-2.06-.94 2.06-2.06.94zm-11 1L8.5 8.5l.94-2.06 2.06-.94-2.06-.94L8.5 2.5l-.94 2.06-2.06.94zm10 10l.94 2.06.94-2.06 2.06-.94-2.06-.94-.94-2.06-.94 2.06-2.06.94z\"/><path d=\"M17.41 7.96l-1.37-1.37c-.4-.4-.92-.59-1.43-.59-.52 0-1.04.2-1.43.59L10.3 9.45l-7.72 7.72c-.78.78-.78 2.05 0 2.83L4 21.41c.39.39.9.59 1.41.59.51 0 1.02-.2 1.41-.59l7.78-7.78 2.81-2.81c.8-.78.8-2.07 0-2.86zM5.41 20L4 18.59l7.72-7.72 1.47 1.35L5.41 20z\"/>\n",
              "  </svg>\n",
              "      </button>\n",
              "      \n",
              "  <style>\n",
              "    .colab-df-container {\n",
              "      display:flex;\n",
              "      flex-wrap:wrap;\n",
              "      gap: 12px;\n",
              "    }\n",
              "\n",
              "    .colab-df-convert {\n",
              "      background-color: #E8F0FE;\n",
              "      border: none;\n",
              "      border-radius: 50%;\n",
              "      cursor: pointer;\n",
              "      display: none;\n",
              "      fill: #1967D2;\n",
              "      height: 32px;\n",
              "      padding: 0 0 0 0;\n",
              "      width: 32px;\n",
              "    }\n",
              "\n",
              "    .colab-df-convert:hover {\n",
              "      background-color: #E2EBFA;\n",
              "      box-shadow: 0px 1px 2px rgba(60, 64, 67, 0.3), 0px 1px 3px 1px rgba(60, 64, 67, 0.15);\n",
              "      fill: #174EA6;\n",
              "    }\n",
              "\n",
              "    [theme=dark] .colab-df-convert {\n",
              "      background-color: #3B4455;\n",
              "      fill: #D2E3FC;\n",
              "    }\n",
              "\n",
              "    [theme=dark] .colab-df-convert:hover {\n",
              "      background-color: #434B5C;\n",
              "      box-shadow: 0px 1px 3px 1px rgba(0, 0, 0, 0.15);\n",
              "      filter: drop-shadow(0px 1px 2px rgba(0, 0, 0, 0.3));\n",
              "      fill: #FFFFFF;\n",
              "    }\n",
              "  </style>\n",
              "\n",
              "      <script>\n",
              "        const buttonEl =\n",
              "          document.querySelector('#df-e2c70fe4-c4be-4135-9518-40e871071531 button.colab-df-convert');\n",
              "        buttonEl.style.display =\n",
              "          google.colab.kernel.accessAllowed ? 'block' : 'none';\n",
              "\n",
              "        async function convertToInteractive(key) {\n",
              "          const element = document.querySelector('#df-e2c70fe4-c4be-4135-9518-40e871071531');\n",
              "          const dataTable =\n",
              "            await google.colab.kernel.invokeFunction('convertToInteractive',\n",
              "                                                     [key], {});\n",
              "          if (!dataTable) return;\n",
              "\n",
              "          const docLinkHtml = 'Like what you see? Visit the ' +\n",
              "            '<a target=\"_blank\" href=https://colab.research.google.com/notebooks/data_table.ipynb>data table notebook</a>'\n",
              "            + ' to learn more about interactive tables.';\n",
              "          element.innerHTML = '';\n",
              "          dataTable['output_type'] = 'display_data';\n",
              "          await google.colab.output.renderOutput(dataTable, element);\n",
              "          const docLink = document.createElement('div');\n",
              "          docLink.innerHTML = docLinkHtml;\n",
              "          element.appendChild(docLink);\n",
              "        }\n",
              "      </script>\n",
              "    </div>\n",
              "  </div>\n",
              "  "
            ]
          },
          "metadata": {},
          "execution_count": 23
        }
      ]
    },
    {
      "cell_type": "code",
      "source": [
        "df.groupby(\"clusters\")[\"고객번호\"].count()"
      ],
      "metadata": {
        "colab": {
          "base_uri": "https://localhost:8080/"
        },
        "id": "Zerll_PKR-Po",
        "outputId": "4ba5eca2-5e4c-4dcf-cb8d-2e19d534900b"
      },
      "execution_count": null,
      "outputs": [
        {
          "output_type": "execute_result",
          "data": {
            "text/plain": [
              "clusters\n",
              "0    2040\n",
              "1    2774\n",
              "2    1876\n",
              "3    2260\n",
              "Name: 고객번호, dtype: int64"
            ]
          },
          "metadata": {},
          "execution_count": 24
        }
      ]
    },
    {
      "cell_type": "code",
      "source": [
        "y = [2040, 2774, 1876, 2260]\n",
        "x = [\"cluster_0\", \"cluster_1\", \"cluster_2\", \"cluster_3\"]\n",
        "sns.barplot(x=x,y=y, palette={\"cluster_0\":\"skyblue\", \"cluster_1\":\"lightgray\", \"cluster_2\":\"lightgreen\", \"cluster_3\":\"#FC7F77\" })\n",
        "plt.xlabel(\"cluster\",fontsize=12)\n",
        "plt.ylabel(\"count\", fontsize=12)\n",
        "plt.title(\"cluster distribution\", fontsize=13)\n",
        "plt.show()"
      ],
      "metadata": {
        "colab": {
          "base_uri": "https://localhost:8080/",
          "height": 336
        },
        "id": "0w2BI7T3SrhZ",
        "outputId": "5470370d-7dc8-47b6-a7e2-427dc2c00f75"
      },
      "execution_count": null,
      "outputs": [
        {
          "output_type": "stream",
          "name": "stderr",
          "text": [
            "WARNING:matplotlib.font_manager:findfont: Font family ['NanumGothic'] not found. Falling back to DejaVu Sans.\n",
            "WARNING:matplotlib.font_manager:findfont: Font family ['NanumGothic'] not found. Falling back to DejaVu Sans.\n"
          ]
        },
        {
          "output_type": "display_data",
          "data": {
            "text/plain": [
              "<Figure size 432x288 with 1 Axes>"
            ],
            "image/png": "[encoded data removed]"
          },
          "metadata": {
            "needs_background": "light"
          }
        }
      ]
    },
    {
      "cell_type": "code",
      "source": [
        "df.groupby(\"clusters\")[\"잔액\"].mean()"
      ],
      "metadata": {
        "colab": {
          "base_uri": "https://localhost:8080/"
        },
        "id": "9LtcQDEsS6Kc",
        "outputId": "e0424775-563d-47f3-a1de-1dd0b0489f2c"
      },
      "execution_count": null,
      "outputs": [
        {
          "output_type": "execute_result",
          "data": {
            "text/plain": [
              "clusters\n",
              "0    2149.325249\n",
              "1    1805.968182\n",
              "2    1437.815346\n",
              "3     845.278262\n",
              "Name: 잔액, dtype: float64"
            ]
          },
          "metadata": {},
          "execution_count": 26
        }
      ]
    },
    {
      "cell_type": "code",
      "source": [
        "names = [\"cluster_0\", \"cluster_1\", \"cluster_2\", \"cluster_3\"]\n",
        "weights = [2149.33, 1805.97, 1437.82, 845.28]\n",
        "\n",
        "sorted_w = sorted(zip(names,weights), key=lambda kv:kv[1])\n",
        "n,w = zip(*sorted_w)\n",
        "n = np.array(n)\n",
        "w = np.array(w)\n",
        "sns.barplot(x=w, y=n, palette={\"cluster_0\":\"skyblue\", \"cluster_1\":\"lightgray\", \"cluster_2\":\"lightgreen\", \"cluster_3\":\"#FC7F77\" })\n",
        "plt.xlabel(\"mean balance\",fontsize=12)\n",
        "plt.ylabel(\"cluster\", fontsize=12)\n",
        "plt.title(\"클러스터 별 평균 잔액\", fontsize=13)\n",
        "plt.show()"
      ],
      "metadata": {
        "colab": {
          "base_uri": "https://localhost:8080/",
          "height": 298
        },
        "id": "r_HBhcNLS9qt",
        "outputId": "d5bdc098-b229-43aa-cc79-a644bbb522d9"
      },
      "execution_count": null,
      "outputs": [
        {
          "output_type": "display_data",
          "data": {
            "text/plain": [
              "<Figure size 432x288 with 1 Axes>"
            ],
            "image/png": "[encoded data removed]"
          },
          "metadata": {
            "needs_background": "light"
          }
        }
      ]
    },
    {
      "cell_type": "code",
      "source": [
        "df.groupby(\"clusters\")[\"잔액 업데이트 빈도\"].mean()"
      ],
      "metadata": {
        "colab": {
          "base_uri": "https://localhost:8080/"
        },
        "id": "aux3zoInTNOo",
        "outputId": "910a0734-3d92-4054-ba20-c77d618c9082"
      },
      "execution_count": null,
      "outputs": [
        {
          "output_type": "execute_result",
          "data": {
            "text/plain": [
              "clusters\n",
              "0    0.882537\n",
              "1    0.945825\n",
              "2    0.836215\n",
              "3    0.822451\n",
              "Name: 잔액 업데이트 빈도, dtype: float64"
            ]
          },
          "metadata": {},
          "execution_count": 28
        }
      ]
    },
    {
      "cell_type": "code",
      "source": [
        "names = [\"cluster_0\", \"cluster_1\", \"cluster_2\", \"cluster_3\"]\n",
        "weights = [0.88, 0.95, 0.84, 0.82]\n",
        "\n",
        "sorted_w = sorted(zip(names,weights), key=lambda kv:kv[1])\n",
        "n,w = zip(*sorted_w)\n",
        "n = np.array(n)\n",
        "w = np.array(w)\n",
        "sns.barplot(x=w, y=n, palette={\"cluster_0\":\"skyblue\", \"cluster_1\":\"lightgray\", \"cluster_2\":\"lightgreen\", \"cluster_3\":\"#FC7F77\" })\n",
        "plt.xlabel(\"mean balance_frequency\",fontsize=12)\n",
        "plt.ylabel(\"cluster\", fontsize=12)\n",
        "plt.title(\"클러스터 별 평균 잔액 업데이트 빈도\", fontsize=13)\n",
        "plt.show()"
      ],
      "metadata": {
        "colab": {
          "base_uri": "https://localhost:8080/",
          "height": 298
        },
        "id": "Ptqf-8tNY06C",
        "outputId": "fa5ed0a5-289a-4195-d218-36e1bec4969f"
      },
      "execution_count": null,
      "outputs": [
        {
          "output_type": "display_data",
          "data": {
            "text/plain": [
              "<Figure size 432x288 with 1 Axes>"
            ],
            "image/png": "[encoded data removed]"
          },
          "metadata": {
            "needs_background": "light"
          }
        }
      ]
    },
    {
      "cell_type": "code",
      "source": [
        "df.groupby(\"clusters\")[\"구매금액\"].mean()"
      ],
      "metadata": {
        "colab": {
          "base_uri": "https://localhost:8080/"
        },
        "id": "TM2lWu7wY7sa",
        "outputId": "79e7721f-be12-415e-d0eb-553e8be80b68"
      },
      "execution_count": null,
      "outputs": [
        {
          "output_type": "execute_result",
          "data": {
            "text/plain": [
              "clusters\n",
              "0       0.000000\n",
              "1    2267.805807\n",
              "2     785.920267\n",
              "3     536.904217\n",
              "Name: 구매금액, dtype: float64"
            ]
          },
          "metadata": {},
          "execution_count": 30
        }
      ]
    },
    {
      "cell_type": "code",
      "source": [
        "names = [\"cluster_0\", \"cluster_1\", \"cluster_2\", \"cluster_3\"]\n",
        "weights = [0, 2267.81, 785.92, 536.9]\n",
        "\n",
        "sorted_w = sorted(zip(names,weights), key=lambda kv:kv[1])\n",
        "n,w = zip(*sorted_w)\n",
        "n = np.array(n)\n",
        "w = np.array(w)\n",
        "sns.barplot(x=w, y=n, palette={\"cluster_0\":\"skyblue\", \"cluster_1\":\"lightgray\", \"cluster_2\":\"lightgreen\", \"cluster_3\":\"#FC7F77\" })\n",
        "plt.xlabel(\"mean purchases\",fontsize=12)\n",
        "plt.ylabel(\"cluster\", fontsize=12)\n",
        "plt.title(\"클러스터 별 평균 구맥 금액\", fontsize=13)\n",
        "plt.show()"
      ],
      "metadata": {
        "colab": {
          "base_uri": "https://localhost:8080/",
          "height": 298
        },
        "id": "S7wZDeDHZAHl",
        "outputId": "c091e2e3-a324-4111-cae8-a9412259ca4c"
      },
      "execution_count": null,
      "outputs": [
        {
          "output_type": "display_data",
          "data": {
            "text/plain": [
              "<Figure size 432x288 with 1 Axes>"
            ],
            "image/png": "[encoded data removed]"
          },
          "metadata": {
            "needs_background": "light"
          }
        }
      ]
    },
    {
      "cell_type": "code",
      "source": [
        "df.groupby(\"clusters\")[\"일시불 구매금액\"].mean()"
      ],
      "metadata": {
        "colab": {
          "base_uri": "https://localhost:8080/"
        },
        "id": "wObGOTOBZJdU",
        "outputId": "25526c1c-3cc3-4448-9a7e-7d8280ce7003"
      },
      "execution_count": null,
      "outputs": [
        {
          "output_type": "execute_result",
          "data": {
            "text/plain": [
              "clusters\n",
              "0       0.000000\n",
              "1    1379.884427\n",
              "2     785.988843\n",
              "3       0.000000\n",
              "Name: 일시불 구매금액, dtype: float64"
            ]
          },
          "metadata": {},
          "execution_count": 32
        }
      ]
    },
    {
      "cell_type": "code",
      "source": [
        "names = [\"cluster_0\", \"cluster_1\", \"cluster_2\", \"cluster_3\"]\n",
        "weights = [0, 1379.88, 786, 0]\n",
        "\n",
        "sorted_w = sorted(zip(names,weights), key=lambda kv:kv[1])\n",
        "n,w = zip(*sorted_w)\n",
        "n = np.array(n)\n",
        "w = np.array(w)\n",
        "sns.barplot(x=w, y=n, palette={\"cluster_0\":\"skyblue\", \"cluster_1\":\"lightgray\", \"cluster_2\":\"lightgreen\", \"cluster_3\":\"#FC7F77\" })\n",
        "plt.xlabel(\"mean oneoff_purchases\",fontsize=12)\n",
        "plt.ylabel(\"cluster\", fontsize=12)\n",
        "plt.title(\"클러스터 별 평균 일시불 최대 구맥 금액\", fontsize=13)\n",
        "plt.show()"
      ],
      "metadata": {
        "colab": {
          "base_uri": "https://localhost:8080/",
          "height": 298
        },
        "id": "wDO3-StXZQhR",
        "outputId": "48785eac-a293-4e20-f36f-54ddeb366bda"
      },
      "execution_count": null,
      "outputs": [
        {
          "output_type": "display_data",
          "data": {
            "text/plain": [
              "<Figure size 432x288 with 1 Axes>"
            ],
            "image/png": "[encoded data removed]"
          },
          "metadata": {
            "needs_background": "light"
          }
        }
      ]
    },
    {
      "cell_type": "code",
      "source": [
        "df.groupby(\"clusters\")[\"할부 구매금액\"].mean()"
      ],
      "metadata": {
        "colab": {
          "base_uri": "https://localhost:8080/"
        },
        "id": "YVUb8xHmZhde",
        "outputId": "43f55fd3-d0b6-4b4d-a9e4-0c57356d9850"
      },
      "execution_count": null,
      "outputs": [
        {
          "output_type": "execute_result",
          "data": {
            "text/plain": [
              "clusters\n",
              "0      0.000000\n",
              "1    888.049776\n",
              "2      0.000000\n",
              "3    537.878469\n",
              "Name: 할부 구매금액, dtype: float64"
            ]
          },
          "metadata": {},
          "execution_count": 34
        }
      ]
    },
    {
      "cell_type": "code",
      "source": [
        "names = [\"cluster_0\", \"cluster_1\", \"cluster_2\", \"cluster_3\"]\n",
        "weights = [0, 888.05, 0, 537.88]\n",
        "\n",
        "sorted_w = sorted(zip(names,weights), key=lambda kv:kv[1])\n",
        "n,w = zip(*sorted_w)\n",
        "n = np.array(n)\n",
        "w = np.array(w)\n",
        "sns.barplot(x=w, y=n, palette={\"cluster_0\":\"skyblue\", \"cluster_1\":\"lightgray\", \"cluster_2\":\"lightgreen\", \"cluster_3\":\"#FC7F77\" })\n",
        "plt.xlabel(\"mean installments_purchases\",fontsize=12)\n",
        "plt.ylabel(\"cluster\", fontsize=12)\n",
        "plt.title(\"클러스터 별 평균 할부 구맥 금액\", fontsize=13)\n",
        "plt.show()"
      ],
      "metadata": {
        "colab": {
          "base_uri": "https://localhost:8080/",
          "height": 298
        },
        "id": "9RTfyXYtZjrf",
        "outputId": "c2ceeab4-6cc2-4f5d-faf0-b781652ef277"
      },
      "execution_count": null,
      "outputs": [
        {
          "output_type": "display_data",
          "data": {
            "text/plain": [
              "<Figure size 432x288 with 1 Axes>"
            ],
            "image/png": "[encoded data removed]"
          },
          "metadata": {
            "needs_background": "light"
          }
        }
      ]
    },
    {
      "cell_type": "code",
      "source": [
        "df.groupby(\"clusters\")[\"현금 선지급\"].mean()"
      ],
      "metadata": {
        "colab": {
          "base_uri": "https://localhost:8080/"
        },
        "id": "YA2iJjbQZrOH",
        "outputId": "a1d9713b-fb33-4b13-d932-a63739b7f6b4"
      },
      "execution_count": null,
      "outputs": [
        {
          "output_type": "execute_result",
          "data": {
            "text/plain": [
              "clusters\n",
              "0    1990.054943\n",
              "1     764.226676\n",
              "2     869.995820\n",
              "3     419.959034\n",
              "Name: 현금 선지급, dtype: float64"
            ]
          },
          "metadata": {},
          "execution_count": 36
        }
      ]
    },
    {
      "cell_type": "code",
      "source": [
        "names = [\"cluster_0\", \"cluster_1\", \"cluster_2\", \"cluster_3\"]\n",
        "weights = [1990.05, 764.23, 870, 419.96]\n",
        "\n",
        "sorted_w = sorted(zip(names,weights), key=lambda kv:kv[1])\n",
        "n,w = zip(*sorted_w)\n",
        "n = np.array(n)\n",
        "w = np.array(w)\n",
        "sns.barplot(x=w, y=n, palette={\"cluster_0\":\"skyblue\", \"cluster_1\":\"lightgray\", \"cluster_2\":\"lightgreen\", \"cluster_3\":\"#FC7F77\" })\n",
        "plt.xlabel(\"mean cash_advance\",fontsize=12)\n",
        "plt.ylabel(\"cluster\", fontsize=12)\n",
        "plt.title(\"클러스터 별 평균 현금 선지급\", fontsize=13)\n",
        "plt.show()"
      ],
      "metadata": {
        "colab": {
          "base_uri": "https://localhost:8080/",
          "height": 298
        },
        "id": "M-RIq12EZtDR",
        "outputId": "c4438270-eea4-4931-982d-4c86f1d69c9e"
      },
      "execution_count": null,
      "outputs": [
        {
          "output_type": "display_data",
          "data": {
            "text/plain": [
              "<Figure size 432x288 with 1 Axes>"
            ],
            "image/png": "[encoded data removed]"
          },
          "metadata": {
            "needs_background": "light"
          }
        }
      ]
    },
    {
      "cell_type": "code",
      "source": [
        "df.groupby(\"clusters\")[\"구매빈도\"].mean()"
      ],
      "metadata": {
        "colab": {
          "base_uri": "https://localhost:8080/"
        },
        "id": "0JQdX0snZ7-0",
        "outputId": "d7d24660-e68d-48ca-d613-b4dad4a805bf"
      },
      "execution_count": null,
      "outputs": [
        {
          "output_type": "execute_result",
          "data": {
            "text/plain": [
              "clusters\n",
              "0    0.000163\n",
              "1    0.799116\n",
              "2    0.320659\n",
              "3    0.694690\n",
              "Name: 구매빈도, dtype: float64"
            ]
          },
          "metadata": {},
          "execution_count": 38
        }
      ]
    },
    {
      "cell_type": "code",
      "source": [
        "names = [\"cluster_0\", \"cluster_1\", \"cluster_2\", \"cluster_3\"]\n",
        "weights = [0, 0.8, 0.32, 0.69]\n",
        "\n",
        "sorted_w = sorted(zip(names,weights), key=lambda kv:kv[1])\n",
        "n,w = zip(*sorted_w)\n",
        "n = np.array(n)\n",
        "w = np.array(w)\n",
        "sns.barplot(x=w, y=n, palette={\"cluster_0\":\"skyblue\", \"cluster_1\":\"lightgray\", \"cluster_2\":\"lightgreen\", \"cluster_3\":\"#FC7F77\" })\n",
        "plt.xlabel(\"mean purchases_frequency\",fontsize=12)\n",
        "plt.ylabel(\"cluster\", fontsize=12)\n",
        "plt.title(\"클러스터 별 평균 구매빈도\", fontsize=13)\n",
        "plt.show()"
      ],
      "metadata": {
        "colab": {
          "base_uri": "https://localhost:8080/",
          "height": 298
        },
        "id": "gxQv8Qc6Z-9G",
        "outputId": "cfae24c9-2fde-4a71-d8e6-6bc9af87c26d"
      },
      "execution_count": null,
      "outputs": [
        {
          "output_type": "display_data",
          "data": {
            "text/plain": [
              "<Figure size 432x288 with 1 Axes>"
            ],
            "image/png": "[encoded data removed]"
          },
          "metadata": {
            "needs_background": "light"
          }
        }
      ]
    },
    {
      "cell_type": "code",
      "source": [
        "df.groupby(\"clusters\")[\"일회성 구매빈도\"].mean()"
      ],
      "metadata": {
        "colab": {
          "base_uri": "https://localhost:8080/"
        },
        "id": "w2Ts0-FhaFNt",
        "outputId": "96627395-2dd2-47e6-d0ba-39f5cad36b29"
      },
      "execution_count": null,
      "outputs": [
        {
          "output_type": "execute_result",
          "data": {
            "text/plain": [
              "clusters\n",
              "0    0.000000\n",
              "1    0.436502\n",
              "2    0.320437\n",
              "3    0.000000\n",
              "Name: 일회성 구매빈도, dtype: float64"
            ]
          },
          "metadata": {},
          "execution_count": 40
        }
      ]
    },
    {
      "cell_type": "code",
      "source": [
        "names = [\"cluster_0\", \"cluster_1\", \"cluster_2\", \"cluster_3\"]\n",
        "weights = [0, 0.44, 0.32, 0]\n",
        "\n",
        "sorted_w = sorted(zip(names,weights), key=lambda kv:kv[1])\n",
        "n,w = zip(*sorted_w)\n",
        "n = np.array(n)\n",
        "w = np.array(w)\n",
        "sns.barplot(x=w, y=n, palette={\"cluster_0\":\"skyblue\", \"cluster_1\":\"lightgray\", \"cluster_2\":\"lightgreen\", \"cluster_3\":\"#FC7F77\" })\n",
        "plt.xlabel(\"mean oneoff_purchases_frequency\",fontsize=12)\n",
        "plt.ylabel(\"cluster\", fontsize=12)\n",
        "plt.title(\"클러스터 별 평균 일회성 구매빈도\", fontsize=13)\n",
        "plt.show()"
      ],
      "metadata": {
        "colab": {
          "base_uri": "https://localhost:8080/",
          "height": 298
        },
        "id": "ZXOtR9lvaHNi",
        "outputId": "9691826e-8751-438b-82b2-f2aaf117b884"
      },
      "execution_count": null,
      "outputs": [
        {
          "output_type": "display_data",
          "data": {
            "text/plain": [
              "<Figure size 432x288 with 1 Axes>"
            ],
            "image/png": "[encoded data removed]"
          },
          "metadata": {
            "needs_background": "light"
          }
        }
      ]
    },
    {
      "cell_type": "code",
      "source": [
        "df.groupby(\"clusters\")[\"할부 구매빈도\"].mean()"
      ],
      "metadata": {
        "colab": {
          "base_uri": "https://localhost:8080/"
        },
        "id": "Cy2lwRgiaMXc",
        "outputId": "5a55d49c-062d-4c3d-b5a5-7627389e22b0"
      },
      "execution_count": null,
      "outputs": [
        {
          "output_type": "execute_result",
          "data": {
            "text/plain": [
              "clusters\n",
              "0    0.000163\n",
              "1    0.639229\n",
              "2    0.000000\n",
              "3    0.658478\n",
              "Name: 할부 구매빈도, dtype: float64"
            ]
          },
          "metadata": {},
          "execution_count": 42
        }
      ]
    },
    {
      "cell_type": "code",
      "source": [
        "names = [\"cluster_0\", \"cluster_1\", \"cluster_2\", \"cluster_3\"]\n",
        "weights = [0, 0.64, 0, 0.66]\n",
        "\n",
        "sorted_w = sorted(zip(names,weights), key=lambda kv:kv[1])\n",
        "n,w = zip(*sorted_w)\n",
        "n = np.array(n)\n",
        "w = np.array(w)\n",
        "sns.barplot(x=w, y=n, palette={\"cluster_0\":\"skyblue\", \"cluster_1\":\"lightgray\", \"cluster_2\":\"lightgreen\", \"cluster_3\":\"#FC7F77\" })\n",
        "plt.xlabel(\"mean purchases_installments_frequency\",fontsize=12)\n",
        "plt.ylabel(\"cluster\", fontsize=12)\n",
        "plt.title(\"클러스터 별 평균 할부 구매빈도\", fontsize=13)\n",
        "plt.show()"
      ],
      "metadata": {
        "colab": {
          "base_uri": "https://localhost:8080/",
          "height": 298
        },
        "id": "kDHZw0qTaS5r",
        "outputId": "364059b9-4526-4ca2-9aeb-2ce335d0a395"
      },
      "execution_count": null,
      "outputs": [
        {
          "output_type": "display_data",
          "data": {
            "text/plain": [
              "<Figure size 432x288 with 1 Axes>"
            ],
            "image/png": "[encoded data removed]"
          },
          "metadata": {
            "needs_background": "light"
          }
        }
      ]
    },
    {
      "cell_type": "code",
      "source": [
        "df.groupby(\"clusters\")[\"현금 선지급 빈도\"].mean()"
      ],
      "metadata": {
        "colab": {
          "base_uri": "https://localhost:8080/"
        },
        "id": "3zzuIUheaX1l",
        "outputId": "05e51813-f987-4577-a721-8d7f684d0556"
      },
      "execution_count": null,
      "outputs": [
        {
          "output_type": "execute_result",
          "data": {
            "text/plain": [
              "clusters\n",
              "0    0.272832\n",
              "1    0.106810\n",
              "2    0.125665\n",
              "3    0.053507\n",
              "Name: 현금 선지급 빈도, dtype: float64"
            ]
          },
          "metadata": {},
          "execution_count": 44
        }
      ]
    },
    {
      "cell_type": "code",
      "source": [
        "names = [\"cluster_0\", \"cluster_1\", \"cluster_2\", \"cluster_3\"]\n",
        "weights = [0.27, 0.11, 0.13, 0.05]\n",
        "\n",
        "sorted_w = sorted(zip(names,weights), key=lambda kv:kv[1])\n",
        "n,w = zip(*sorted_w)\n",
        "n = np.array(n)\n",
        "w = np.array(w)\n",
        "sns.barplot(x=w, y=n, palette={\"cluster_0\":\"skyblue\", \"cluster_1\":\"lightgray\", \"cluster_2\":\"lightgreen\", \"cluster_3\":\"#FC7F77\" })\n",
        "plt.xlabel(\"mean cash_advance_frequency\",fontsize=12)\n",
        "plt.ylabel(\"cluster\", fontsize=12)\n",
        "plt.title(\"클러스터 별 평균 현금 선지급 빈도\", fontsize=13)\n",
        "plt.show()"
      ],
      "metadata": {
        "colab": {
          "base_uri": "https://localhost:8080/",
          "height": 298
        },
        "id": "Kk5fEBoGaabo",
        "outputId": "3a5a7f33-63ed-47dd-b574-83df43b41bf2"
      },
      "execution_count": null,
      "outputs": [
        {
          "output_type": "display_data",
          "data": {
            "text/plain": [
              "<Figure size 432x288 with 1 Axes>"
            ],
            "image/png": "[encoded data removed]"
          },
          "metadata": {
            "needs_background": "light"
          }
        }
      ]
    },
    {
      "cell_type": "code",
      "source": [
        "df.groupby(\"clusters\")[\"현금 선지급 거래수\"].mean()"
      ],
      "metadata": {
        "colab": {
          "base_uri": "https://localhost:8080/"
        },
        "id": "-fZaBU_AafKq",
        "outputId": "bca969be-dfda-40f7-ea0f-27267b69d49d"
      },
      "execution_count": null,
      "outputs": [
        {
          "output_type": "execute_result",
          "data": {
            "text/plain": [
              "clusters\n",
              "0    6.300490\n",
              "1    2.832733\n",
              "2    2.934968\n",
              "3    1.265487\n",
              "Name: 현금 선지급 거래수, dtype: float64"
            ]
          },
          "metadata": {},
          "execution_count": 46
        }
      ]
    },
    {
      "cell_type": "code",
      "source": [
        "names = [\"cluster_0\", \"cluster_1\", \"cluster_2\", \"cluster_3\"]\n",
        "weights = [6.3, 2.83, 2.93, 1.27]\n",
        "\n",
        "sorted_w = sorted(zip(names,weights), key=lambda kv:kv[1])\n",
        "n,w = zip(*sorted_w)\n",
        "n = np.array(n)\n",
        "w = np.array(w)\n",
        "sns.barplot(x=w, y=n, palette={\"cluster_0\":\"skyblue\", \"cluster_1\":\"lightgray\", \"cluster_2\":\"lightgreen\", \"cluster_3\":\"#FC7F77\" })\n",
        "plt.xlabel(\"mean cash_advance_trx\",fontsize=12)\n",
        "plt.ylabel(\"cluster\", fontsize=12)\n",
        "plt.title(\"클러스터 별 평균 현금 선지급 거래수\", fontsize=13)\n",
        "plt.show()"
      ],
      "metadata": {
        "colab": {
          "base_uri": "https://localhost:8080/",
          "height": 298
        },
        "id": "uYz-IdlzajOZ",
        "outputId": "f1712a61-beb3-49f6-a73f-f84583e2337d"
      },
      "execution_count": null,
      "outputs": [
        {
          "output_type": "display_data",
          "data": {
            "text/plain": [
              "<Figure size 432x288 with 1 Axes>"
            ],
            "image/png": "[encoded data removed]"
          },
          "metadata": {
            "needs_background": "light"
          }
        }
      ]
    },
    {
      "cell_type": "code",
      "source": [
        "df.groupby(\"clusters\")[\"구매건수\"].mean()"
      ],
      "metadata": {
        "colab": {
          "base_uri": "https://localhost:8080/"
        },
        "id": "HeueULebaoLk",
        "outputId": "bbbdc45d-4441-46eb-f794-32c71f78038c"
      },
      "execution_count": null,
      "outputs": [
        {
          "output_type": "execute_result",
          "data": {
            "text/plain": [
              "clusters\n",
              "0     0.000000\n",
              "1    32.959625\n",
              "2     7.103945\n",
              "3    11.900885\n",
              "Name: 구매건수, dtype: float64"
            ]
          },
          "metadata": {},
          "execution_count": 48
        }
      ]
    },
    {
      "cell_type": "code",
      "source": [
        "names = [\"cluster_0\", \"cluster_1\", \"cluster_2\", \"cluster_3\"]\n",
        "weights = [0, 32.96, 7.1, 11.9]\n",
        "\n",
        "sorted_w = sorted(zip(names,weights), key=lambda kv:kv[1])\n",
        "n,w = zip(*sorted_w)\n",
        "n = np.array(n)\n",
        "w = np.array(w)\n",
        "sns.barplot(x=w, y=n, palette={\"cluster_0\":\"skyblue\", \"cluster_1\":\"lightgray\", \"cluster_2\":\"lightgreen\", \"cluster_3\":\"#FC7F77\" })\n",
        "plt.xlabel(\"mean purchases_trx\",fontsize=12)\n",
        "plt.ylabel(\"cluster\", fontsize=12)\n",
        "plt.title(\"클러스터 별 평균 구매건수\", fontsize=13)\n",
        "plt.show()"
      ],
      "metadata": {
        "colab": {
          "base_uri": "https://localhost:8080/",
          "height": 298
        },
        "id": "unwSg3HdarPs",
        "outputId": "2d132405-5b7a-4a0a-e490-6e8b871e3796"
      },
      "execution_count": null,
      "outputs": [
        {
          "output_type": "display_data",
          "data": {
            "text/plain": [
              "<Figure size 432x288 with 1 Axes>"
            ],
            "image/png": "[encoded data removed]"
          },
          "metadata": {
            "needs_background": "light"
          }
        }
      ]
    },
    {
      "cell_type": "code",
      "source": [
        "df.groupby(\"clusters\")[\"카드 한도\"].mean()"
      ],
      "metadata": {
        "colab": {
          "base_uri": "https://localhost:8080/"
        },
        "id": "89UViM3VayYP",
        "outputId": "7b2f7646-9d87-47f4-a5f1-8d67439d57c3"
      },
      "execution_count": null,
      "outputs": [
        {
          "output_type": "execute_result",
          "data": {
            "text/plain": [
              "clusters\n",
              "0    4028.723230\n",
              "1    5738.829463\n",
              "2    4512.971829\n",
              "3    3371.864329\n",
              "Name: 카드 한도, dtype: float64"
            ]
          },
          "metadata": {},
          "execution_count": 50
        }
      ]
    },
    {
      "cell_type": "code",
      "source": [
        "names = [\"cluster_0\", \"cluster_1\", \"cluster_2\", \"cluster_3\"]\n",
        "weights = [4028.72, 5738.83, 4512.97, 3371.86]\n",
        "\n",
        "sorted_w = sorted(zip(names,weights), key=lambda kv:kv[1])\n",
        "n,w = zip(*sorted_w)\n",
        "n = np.array(n)\n",
        "w = np.array(w)\n",
        "sns.barplot(x=w, y=n, palette={\"cluster_0\":\"skyblue\", \"cluster_1\":\"lightgray\", \"cluster_2\":\"lightgreen\", \"cluster_3\":\"#FC7F77\" })\n",
        "plt.xlabel(\"mean credit_limit\",fontsize=12)\n",
        "plt.ylabel(\"cluster\", fontsize=12)\n",
        "plt.title(\"클러스터 별 평균 카드한도\", fontsize=13)\n",
        "plt.show()"
      ],
      "metadata": {
        "colab": {
          "base_uri": "https://localhost:8080/",
          "height": 298
        },
        "id": "al7vifffa22x",
        "outputId": "4d17d35a-093d-4701-99ff-9c89e5d8f214"
      },
      "execution_count": null,
      "outputs": [
        {
          "output_type": "display_data",
          "data": {
            "text/plain": [
              "<Figure size 432x288 with 1 Axes>"
            ],
            "image/png": "[encoded data removed]"
          },
          "metadata": {
            "needs_background": "light"
          }
        }
      ]
    },
    {
      "cell_type": "code",
      "source": [
        "df.groupby(\"clusters\")[\"지불금액\"].mean()"
      ],
      "metadata": {
        "colab": {
          "base_uri": "https://localhost:8080/"
        },
        "id": "V9t7MHfOa-7b",
        "outputId": "f8abfd19-6a2a-4bc2-e419-81aa1d53def8"
      },
      "execution_count": null,
      "outputs": [
        {
          "output_type": "execute_result",
          "data": {
            "text/plain": [
              "clusters\n",
              "0    1654.744455\n",
              "1    2545.447418\n",
              "2    1507.462820\n",
              "3     994.197964\n",
              "Name: 지불금액, dtype: float64"
            ]
          },
          "metadata": {},
          "execution_count": 52
        }
      ]
    },
    {
      "cell_type": "code",
      "source": [
        "names = [\"cluster_0\", \"cluster_1\", \"cluster_2\", \"cluster_3\"]\n",
        "weights = [1654.74, 2545.45, 1507.46, 994.2]\n",
        "\n",
        "sorted_w = sorted(zip(names,weights), key=lambda kv:kv[1])\n",
        "n,w = zip(*sorted_w)\n",
        "n = np.array(n)\n",
        "w = np.array(w)\n",
        "sns.barplot(x=w, y=n, palette={\"cluster_0\":\"skyblue\", \"cluster_1\":\"lightgray\", \"cluster_2\":\"lightgreen\", \"cluster_3\":\"#FC7F77\" })\n",
        "plt.xlabel(\"mean payments\",fontsize=12)\n",
        "plt.ylabel(\"cluster\", fontsize=12)\n",
        "plt.title(\"클러스터 별 지불금액\", fontsize=13)\n",
        "plt.show()"
      ],
      "metadata": {
        "colab": {
          "base_uri": "https://localhost:8080/",
          "height": 298
        },
        "id": "EH43hkl9bDb_",
        "outputId": "671c8501-4000-4587-cbdb-7530f04f5f0d"
      },
      "execution_count": null,
      "outputs": [
        {
          "output_type": "display_data",
          "data": {
            "text/plain": [
              "<Figure size 432x288 with 1 Axes>"
            ],
            "image/png": "[encoded data removed]"
          },
          "metadata": {
            "needs_background": "light"
          }
        }
      ]
    },
    {
      "cell_type": "code",
      "source": [
        "df.groupby(\"clusters\")[\"지불한 최소금액\"].mean()"
      ],
      "metadata": {
        "colab": {
          "base_uri": "https://localhost:8080/"
        },
        "id": "KTCMf6qCbLer",
        "outputId": "e1fbcad3-fbdf-4514-ef5a-2d5292172ab9"
      },
      "execution_count": null,
      "outputs": [
        {
          "output_type": "execute_result",
          "data": {
            "text/plain": [
              "clusters\n",
              "0    1004.949913\n",
              "1     844.834188\n",
              "2     728.115373\n",
              "3     873.269061\n",
              "Name: 지불한 최소금액, dtype: float64"
            ]
          },
          "metadata": {},
          "execution_count": 54
        }
      ]
    },
    {
      "cell_type": "code",
      "source": [
        "names = [\"cluster_0\", \"cluster_1\", \"cluster_2\", \"cluster_3\"]\n",
        "weights = [1004.95, 844.83, 728.12, 873.27]\n",
        "\n",
        "sorted_w = sorted(zip(names,weights), key=lambda kv:kv[1])\n",
        "n,w = zip(*sorted_w)\n",
        "n = np.array(n)\n",
        "w = np.array(w)\n",
        "sns.barplot(x=w, y=n, palette={\"cluster_0\":\"skyblue\", \"cluster_1\":\"lightgray\", \"cluster_2\":\"lightgreen\", \"cluster_3\":\"#FC7F77\" })\n",
        "plt.xlabel(\"mean minimum_payments\",fontsize=12)\n",
        "plt.ylabel(\"cluster\", fontsize=12)\n",
        "plt.title(\"클러스터 별 지불한 최소금액\", fontsize=13)\n",
        "plt.show()"
      ],
      "metadata": {
        "colab": {
          "base_uri": "https://localhost:8080/",
          "height": 298
        },
        "id": "j27MBIE5bNUm",
        "outputId": "ef3645fb-5c14-4676-924f-5022eb751370"
      },
      "execution_count": null,
      "outputs": [
        {
          "output_type": "display_data",
          "data": {
            "text/plain": [
              "<Figure size 432x288 with 1 Axes>"
            ],
            "image/png": "[encoded data removed]"
          },
          "metadata": {
            "needs_background": "light"
          }
        }
      ]
    },
    {
      "cell_type": "code",
      "source": [
        "df.groupby(\"clusters\")[\"지불한 전액 지불비율\"].mean()"
      ],
      "metadata": {
        "colab": {
          "base_uri": "https://localhost:8080/"
        },
        "id": "7BHokl4cbU5M",
        "outputId": "72295960-b9a8-4bf9-9654-15ca1225b5ee"
      },
      "execution_count": null,
      "outputs": [
        {
          "output_type": "execute_result",
          "data": {
            "text/plain": [
              "clusters\n",
              "0    0.044247\n",
              "1    0.187945\n",
              "2    0.102490\n",
              "3    0.253031\n",
              "Name: 지불한 전액 지불비율, dtype: float64"
            ]
          },
          "metadata": {},
          "execution_count": 56
        }
      ]
    },
    {
      "cell_type": "code",
      "source": [
        "names = [\"cluster_0\", \"cluster_1\", \"cluster_2\", \"cluster_3\"]\n",
        "weights = [0.04, 0.19, 0.1, 0.25]\n",
        "\n",
        "sorted_w = sorted(zip(names,weights), key=lambda kv:kv[1])\n",
        "n,w = zip(*sorted_w)\n",
        "n = np.array(n)\n",
        "w = np.array(w)\n",
        "sns.barplot(x=w, y=n, palette={\"cluster_0\":\"skyblue\", \"cluster_1\":\"lightgray\", \"cluster_2\":\"lightgreen\", \"cluster_3\":\"#FC7F77\" })\n",
        "plt.xlabel(\"mean prc_full_payment\",fontsize=12)\n",
        "plt.ylabel(\"cluster\", fontsize=12)\n",
        "plt.title(\"클러스터 별 평균 지불한 전액 지불비율\", fontsize=13)\n",
        "plt.show()"
      ],
      "metadata": {
        "colab": {
          "base_uri": "https://localhost:8080/",
          "height": 298
        },
        "id": "HRsYJOqabY3e",
        "outputId": "24b58ffd-f123-4604-c5a0-c8932b4ba059"
      },
      "execution_count": null,
      "outputs": [
        {
          "output_type": "display_data",
          "data": {
            "text/plain": [
              "<Figure size 432x288 with 1 Axes>"
            ],
            "image/png": "[encoded data removed]"
          },
          "metadata": {
            "needs_background": "light"
          }
        }
      ]
    },
    {
      "cell_type": "code",
      "source": [
        "df.groupby(\"clusters\")[\"카드 서비스 기간\"].mean()"
      ],
      "metadata": {
        "colab": {
          "base_uri": "https://localhost:8080/"
        },
        "id": "lNWQXzg3bc3y",
        "outputId": "6835fbc0-2ce2-4607-dd29-f9f6c6fa0ced"
      },
      "execution_count": null,
      "outputs": [
        {
          "output_type": "execute_result",
          "data": {
            "text/plain": [
              "clusters\n",
              "0    11.317647\n",
              "1    11.735040\n",
              "2    11.469616\n",
              "3    11.469912\n",
              "Name: 카드 서비스 기간, dtype: float64"
            ]
          },
          "metadata": {},
          "execution_count": 58
        }
      ]
    },
    {
      "cell_type": "code",
      "source": [
        "names = [\"cluster_0\", \"cluster_1\", \"cluster_2\", \"cluster_3\"]\n",
        "weights = [11.32, 11.74, 11.47, 11.47]\n",
        "\n",
        "sorted_w = sorted(zip(names,weights), key=lambda kv:kv[1])\n",
        "n,w = zip(*sorted_w)\n",
        "n = np.array(n)\n",
        "w = np.array(w)\n",
        "sns.barplot(x=w, y=n, palette={\"cluster_0\":\"skyblue\", \"cluster_1\":\"lightgray\", \"cluster_2\":\"lightgreen\", \"cluster_3\":\"#FC7F77\" })\n",
        "plt.xlabel(\"mean tenure\",fontsize=12)\n",
        "plt.ylabel(\"cluster\", fontsize=12)\n",
        "plt.title(\"클러스터 별 평균 카드서비스 기간\", fontsize=13)\n",
        "plt.show()"
      ],
      "metadata": {
        "colab": {
          "base_uri": "https://localhost:8080/",
          "height": 298
        },
        "id": "2v2I_xjLbfn-",
        "outputId": "63bcefb1-3f24-4591-8126-17c2e5f884a1"
      },
      "execution_count": null,
      "outputs": [
        {
          "output_type": "display_data",
          "data": {
            "text/plain": [
              "<Figure size 432x288 with 1 Axes>"
            ],
            "image/png": "[encoded data removed]"
          },
          "metadata": {
            "needs_background": "light"
          }
        }
      ]
    }
  ]
}
