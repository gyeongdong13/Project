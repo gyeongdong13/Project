{
  "nbformat": 4,
  "nbformat_minor": 0,
  "metadata": {
    "colab": {
      "provenance": [],
      "authorship_tag": "ABX9TyOc1T2fUofyJBgMRzcy9w6P",
      "include_colab_link": true
    },
    "kernelspec": {
      "name": "python3",
      "display_name": "Python 3"
    },
    "language_info": {
      "name": "python"
    }
  },
  "cells": [
    {
      "cell_type": "markdown",
      "metadata": {
        "id": "view-in-github",
        "colab_type": "text"
      },
      "source": [
        "<a href=\"https://colab.research.google.com/github/gyeongdong13/Project/blob/main/%EC%A0%84%EB%A0%A5%EC%82%AC%EC%9A%A9%EB%9F%89(ANN).ipynb\" target=\"_parent\"><img src=\"https://colab.research.google.com/assets/colab-badge.svg\" alt=\"Open In Colab\"/></a>"
      ]
    },
    {
      "cell_type": "code",
      "metadata": {
        "colab": {
          "base_uri": "https://localhost:8080/"
        },
        "id": "g9DRjkMXbVMi",
        "outputId": "a8d699cb-fd35-4a7c-9237-cff0760aab88"
      },
      "source": [
        "from google.colab import drive\n",
        "drive.mount('/content/drive')\n",
        "\n",
        "import pandas as pd\n",
        "import numpy as np\n",
        "import matplotlib.pyplot as plt"
      ],
      "execution_count": null,
      "outputs": [
        {
          "output_type": "stream",
          "name": "stdout",
          "text": [
            "Mounted at /content/drive\n"
          ]
        }
      ]
    },
    {
      "cell_type": "code",
      "metadata": {
        "colab": {
          "base_uri": "https://localhost:8080/",
          "height": 420
        },
        "id": "Jh1m6hh8bZ3L",
        "outputId": "1fc0911e-a49b-49c3-cce7-380f548b489f"
      },
      "source": [
        "df = pd.read_csv('/content/drive/My Drive/train.csv', encoding='cp949')\n",
        "\n",
        "#column 이름 바꾸기\n",
        "col_name = ['건물번호', '날짜', '전력사용량', '기온', '풍속','습도' ,'강우량', '일조', '비전기냉방설비운영', '태양광보유']\n",
        "df.columns = col_name\n",
        "df"
      ],
      "execution_count": null,
      "outputs": [
        {
          "output_type": "execute_result",
          "data": {
            "text/html": [
              "<div>\n",
              "<style scoped>\n",
              "    .dataframe tbody tr th:only-of-type {\n",
              "        vertical-align: middle;\n",
              "    }\n",
              "\n",
              "    .dataframe tbody tr th {\n",
              "        vertical-align: top;\n",
              "    }\n",
              "\n",
              "    .dataframe thead th {\n",
              "        text-align: right;\n",
              "    }\n",
              "</style>\n",
              "<table border=\"1\" class=\"dataframe\">\n",
              "  <thead>\n",
              "    <tr style=\"text-align: right;\">\n",
              "      <th></th>\n",
              "      <th>건물번호</th>\n",
              "      <th>날짜</th>\n",
              "      <th>전력사용량</th>\n",
              "      <th>기온</th>\n",
              "      <th>풍속</th>\n",
              "      <th>습도</th>\n",
              "      <th>강우량</th>\n",
              "      <th>일조</th>\n",
              "      <th>비전기냉방설비운영</th>\n",
              "      <th>태양광보유</th>\n",
              "    </tr>\n",
              "  </thead>\n",
              "  <tbody>\n",
              "    <tr>\n",
              "      <th>0</th>\n",
              "      <td>1</td>\n",
              "      <td>2020-06-01 00</td>\n",
              "      <td>8179.056</td>\n",
              "      <td>17.6</td>\n",
              "      <td>2.5</td>\n",
              "      <td>92.0</td>\n",
              "      <td>0.8</td>\n",
              "      <td>0.0</td>\n",
              "      <td>0</td>\n",
              "      <td>0</td>\n",
              "    </tr>\n",
              "    <tr>\n",
              "      <th>1</th>\n",
              "      <td>1</td>\n",
              "      <td>2020-06-01 01</td>\n",
              "      <td>8135.640</td>\n",
              "      <td>17.7</td>\n",
              "      <td>2.9</td>\n",
              "      <td>91.0</td>\n",
              "      <td>0.3</td>\n",
              "      <td>0.0</td>\n",
              "      <td>0</td>\n",
              "      <td>0</td>\n",
              "    </tr>\n",
              "    <tr>\n",
              "      <th>2</th>\n",
              "      <td>1</td>\n",
              "      <td>2020-06-01 02</td>\n",
              "      <td>8107.128</td>\n",
              "      <td>17.5</td>\n",
              "      <td>3.2</td>\n",
              "      <td>91.0</td>\n",
              "      <td>0.0</td>\n",
              "      <td>0.0</td>\n",
              "      <td>0</td>\n",
              "      <td>0</td>\n",
              "    </tr>\n",
              "    <tr>\n",
              "      <th>3</th>\n",
              "      <td>1</td>\n",
              "      <td>2020-06-01 03</td>\n",
              "      <td>8048.808</td>\n",
              "      <td>17.1</td>\n",
              "      <td>3.2</td>\n",
              "      <td>91.0</td>\n",
              "      <td>0.0</td>\n",
              "      <td>0.0</td>\n",
              "      <td>0</td>\n",
              "      <td>0</td>\n",
              "    </tr>\n",
              "    <tr>\n",
              "      <th>4</th>\n",
              "      <td>1</td>\n",
              "      <td>2020-06-01 04</td>\n",
              "      <td>8043.624</td>\n",
              "      <td>17.0</td>\n",
              "      <td>3.3</td>\n",
              "      <td>92.0</td>\n",
              "      <td>0.0</td>\n",
              "      <td>0.0</td>\n",
              "      <td>0</td>\n",
              "      <td>0</td>\n",
              "    </tr>\n",
              "    <tr>\n",
              "      <th>...</th>\n",
              "      <td>...</td>\n",
              "      <td>...</td>\n",
              "      <td>...</td>\n",
              "      <td>...</td>\n",
              "      <td>...</td>\n",
              "      <td>...</td>\n",
              "      <td>...</td>\n",
              "      <td>...</td>\n",
              "      <td>...</td>\n",
              "      <td>...</td>\n",
              "    </tr>\n",
              "    <tr>\n",
              "      <th>122395</th>\n",
              "      <td>60</td>\n",
              "      <td>2020-08-24 19</td>\n",
              "      <td>4114.368</td>\n",
              "      <td>27.8</td>\n",
              "      <td>2.3</td>\n",
              "      <td>68.0</td>\n",
              "      <td>0.0</td>\n",
              "      <td>0.7</td>\n",
              "      <td>1</td>\n",
              "      <td>1</td>\n",
              "    </tr>\n",
              "    <tr>\n",
              "      <th>122396</th>\n",
              "      <td>60</td>\n",
              "      <td>2020-08-24 20</td>\n",
              "      <td>3975.696</td>\n",
              "      <td>27.3</td>\n",
              "      <td>1.2</td>\n",
              "      <td>71.0</td>\n",
              "      <td>0.0</td>\n",
              "      <td>0.0</td>\n",
              "      <td>1</td>\n",
              "      <td>1</td>\n",
              "    </tr>\n",
              "    <tr>\n",
              "      <th>122397</th>\n",
              "      <td>60</td>\n",
              "      <td>2020-08-24 21</td>\n",
              "      <td>3572.208</td>\n",
              "      <td>27.3</td>\n",
              "      <td>1.8</td>\n",
              "      <td>71.0</td>\n",
              "      <td>0.0</td>\n",
              "      <td>0.0</td>\n",
              "      <td>1</td>\n",
              "      <td>1</td>\n",
              "    </tr>\n",
              "    <tr>\n",
              "      <th>122398</th>\n",
              "      <td>60</td>\n",
              "      <td>2020-08-24 22</td>\n",
              "      <td>3299.184</td>\n",
              "      <td>27.1</td>\n",
              "      <td>1.8</td>\n",
              "      <td>74.0</td>\n",
              "      <td>0.0</td>\n",
              "      <td>0.0</td>\n",
              "      <td>1</td>\n",
              "      <td>1</td>\n",
              "    </tr>\n",
              "    <tr>\n",
              "      <th>122399</th>\n",
              "      <td>60</td>\n",
              "      <td>2020-08-24 23</td>\n",
              "      <td>3204.576</td>\n",
              "      <td>27.1</td>\n",
              "      <td>2.6</td>\n",
              "      <td>75.0</td>\n",
              "      <td>0.0</td>\n",
              "      <td>0.0</td>\n",
              "      <td>1</td>\n",
              "      <td>1</td>\n",
              "    </tr>\n",
              "  </tbody>\n",
              "</table>\n",
              "<p>122400 rows × 10 columns</p>\n",
              "</div>"
            ],
            "text/plain": [
              "        건물번호             날짜     전력사용량    기온  ...  강우량   일조  비전기냉방설비운영  태양광보유\n",
              "0          1  2020-06-01 00  8179.056  17.6  ...  0.8  0.0          0      0\n",
              "1          1  2020-06-01 01  8135.640  17.7  ...  0.3  0.0          0      0\n",
              "2          1  2020-06-01 02  8107.128  17.5  ...  0.0  0.0          0      0\n",
              "3          1  2020-06-01 03  8048.808  17.1  ...  0.0  0.0          0      0\n",
              "4          1  2020-06-01 04  8043.624  17.0  ...  0.0  0.0          0      0\n",
              "...      ...            ...       ...   ...  ...  ...  ...        ...    ...\n",
              "122395    60  2020-08-24 19  4114.368  27.8  ...  0.0  0.7          1      1\n",
              "122396    60  2020-08-24 20  3975.696  27.3  ...  0.0  0.0          1      1\n",
              "122397    60  2020-08-24 21  3572.208  27.3  ...  0.0  0.0          1      1\n",
              "122398    60  2020-08-24 22  3299.184  27.1  ...  0.0  0.0          1      1\n",
              "122399    60  2020-08-24 23  3204.576  27.1  ...  0.0  0.0          1      1\n",
              "\n",
              "[122400 rows x 10 columns]"
            ]
          },
          "metadata": {},
          "execution_count": 123
        }
      ]
    },
    {
      "cell_type": "code",
      "metadata": {
        "id": "isM8Qn8jwtYy"
      },
      "source": [
        "#시간 변수 추가\n",
        "import datetime\n",
        "format = '%Y-%m-%d %H'\n",
        "\n",
        "year_list = []\n",
        "month_list = []\n",
        "day_list = []\n",
        "hour_list = []\n",
        "sec_list = []\n",
        "\n",
        "for i in range(len(df)):\n",
        "  str_datetime = df.날짜[i]\n",
        "  dt_datetime = datetime.datetime.strptime(str_datetime,format)\n",
        "  year_list.append(dt_datetime.year)\n",
        "  month_list.append(dt_datetime.month)\n",
        "  day_list.append(dt_datetime.day)\n",
        "  hour_list.append(dt_datetime.hour)\n",
        "  sec_list.append(dt_datetime.timestamp())\n",
        "\n",
        "df['연도'] = year_list\n",
        "df['월'] = month_list\n",
        "df['일'] = day_list\n",
        "df['시간'] = hour_list\n",
        "df['초'] = sec_list"
      ],
      "execution_count": null,
      "outputs": []
    },
    {
      "cell_type": "code",
      "metadata": {
        "id": "UXhmFFx4wxws"
      },
      "source": [
        "df = df[df.건물번호 == 60]"
      ],
      "execution_count": null,
      "outputs": []
    },
    {
      "cell_type": "code",
      "metadata": {
        "colab": {
          "base_uri": "https://localhost:8080/",
          "height": 420
        },
        "id": "32wdRd2Fzz9g",
        "outputId": "f61fd969-9c67-47ed-aa93-78275c46c138"
      },
      "source": [
        "df"
      ],
      "execution_count": null,
      "outputs": [
        {
          "output_type": "execute_result",
          "data": {
            "text/html": [
              "<div>\n",
              "<style scoped>\n",
              "    .dataframe tbody tr th:only-of-type {\n",
              "        vertical-align: middle;\n",
              "    }\n",
              "\n",
              "    .dataframe tbody tr th {\n",
              "        vertical-align: top;\n",
              "    }\n",
              "\n",
              "    .dataframe thead th {\n",
              "        text-align: right;\n",
              "    }\n",
              "</style>\n",
              "<table border=\"1\" class=\"dataframe\">\n",
              "  <thead>\n",
              "    <tr style=\"text-align: right;\">\n",
              "      <th></th>\n",
              "      <th>건물번호</th>\n",
              "      <th>날짜</th>\n",
              "      <th>전력사용량</th>\n",
              "      <th>기온</th>\n",
              "      <th>풍속</th>\n",
              "      <th>습도</th>\n",
              "      <th>강우량</th>\n",
              "      <th>일조</th>\n",
              "      <th>비전기냉방설비운영</th>\n",
              "      <th>태양광보유</th>\n",
              "      <th>연도</th>\n",
              "      <th>월</th>\n",
              "      <th>일</th>\n",
              "      <th>시간</th>\n",
              "      <th>초</th>\n",
              "    </tr>\n",
              "  </thead>\n",
              "  <tbody>\n",
              "    <tr>\n",
              "      <th>120360</th>\n",
              "      <td>60</td>\n",
              "      <td>2020-06-01 00</td>\n",
              "      <td>2528.496</td>\n",
              "      <td>17.1</td>\n",
              "      <td>2.6</td>\n",
              "      <td>94.0</td>\n",
              "      <td>0.1</td>\n",
              "      <td>0.0</td>\n",
              "      <td>1</td>\n",
              "      <td>1</td>\n",
              "      <td>2020</td>\n",
              "      <td>6</td>\n",
              "      <td>1</td>\n",
              "      <td>0</td>\n",
              "      <td>1.590970e+09</td>\n",
              "    </tr>\n",
              "    <tr>\n",
              "      <th>120361</th>\n",
              "      <td>60</td>\n",
              "      <td>2020-06-01 01</td>\n",
              "      <td>2243.808</td>\n",
              "      <td>17.0</td>\n",
              "      <td>5.7</td>\n",
              "      <td>94.0</td>\n",
              "      <td>0.0</td>\n",
              "      <td>0.0</td>\n",
              "      <td>1</td>\n",
              "      <td>1</td>\n",
              "      <td>2020</td>\n",
              "      <td>6</td>\n",
              "      <td>1</td>\n",
              "      <td>1</td>\n",
              "      <td>1.590973e+09</td>\n",
              "    </tr>\n",
              "    <tr>\n",
              "      <th>120362</th>\n",
              "      <td>60</td>\n",
              "      <td>2020-06-01 02</td>\n",
              "      <td>2284.848</td>\n",
              "      <td>16.4</td>\n",
              "      <td>5.4</td>\n",
              "      <td>95.0</td>\n",
              "      <td>0.0</td>\n",
              "      <td>0.0</td>\n",
              "      <td>1</td>\n",
              "      <td>1</td>\n",
              "      <td>2020</td>\n",
              "      <td>6</td>\n",
              "      <td>1</td>\n",
              "      <td>2</td>\n",
              "      <td>1.590977e+09</td>\n",
              "    </tr>\n",
              "    <tr>\n",
              "      <th>120363</th>\n",
              "      <td>60</td>\n",
              "      <td>2020-06-01 03</td>\n",
              "      <td>2248.992</td>\n",
              "      <td>16.4</td>\n",
              "      <td>3.9</td>\n",
              "      <td>96.0</td>\n",
              "      <td>0.0</td>\n",
              "      <td>0.0</td>\n",
              "      <td>1</td>\n",
              "      <td>1</td>\n",
              "      <td>2020</td>\n",
              "      <td>6</td>\n",
              "      <td>1</td>\n",
              "      <td>3</td>\n",
              "      <td>1.590980e+09</td>\n",
              "    </tr>\n",
              "    <tr>\n",
              "      <th>120364</th>\n",
              "      <td>60</td>\n",
              "      <td>2020-06-01 04</td>\n",
              "      <td>2377.728</td>\n",
              "      <td>16.3</td>\n",
              "      <td>5.3</td>\n",
              "      <td>96.0</td>\n",
              "      <td>0.0</td>\n",
              "      <td>0.0</td>\n",
              "      <td>1</td>\n",
              "      <td>1</td>\n",
              "      <td>2020</td>\n",
              "      <td>6</td>\n",
              "      <td>1</td>\n",
              "      <td>4</td>\n",
              "      <td>1.590984e+09</td>\n",
              "    </tr>\n",
              "    <tr>\n",
              "      <th>...</th>\n",
              "      <td>...</td>\n",
              "      <td>...</td>\n",
              "      <td>...</td>\n",
              "      <td>...</td>\n",
              "      <td>...</td>\n",
              "      <td>...</td>\n",
              "      <td>...</td>\n",
              "      <td>...</td>\n",
              "      <td>...</td>\n",
              "      <td>...</td>\n",
              "      <td>...</td>\n",
              "      <td>...</td>\n",
              "      <td>...</td>\n",
              "      <td>...</td>\n",
              "      <td>...</td>\n",
              "    </tr>\n",
              "    <tr>\n",
              "      <th>122395</th>\n",
              "      <td>60</td>\n",
              "      <td>2020-08-24 19</td>\n",
              "      <td>4114.368</td>\n",
              "      <td>27.8</td>\n",
              "      <td>2.3</td>\n",
              "      <td>68.0</td>\n",
              "      <td>0.0</td>\n",
              "      <td>0.7</td>\n",
              "      <td>1</td>\n",
              "      <td>1</td>\n",
              "      <td>2020</td>\n",
              "      <td>8</td>\n",
              "      <td>24</td>\n",
              "      <td>19</td>\n",
              "      <td>1.598296e+09</td>\n",
              "    </tr>\n",
              "    <tr>\n",
              "      <th>122396</th>\n",
              "      <td>60</td>\n",
              "      <td>2020-08-24 20</td>\n",
              "      <td>3975.696</td>\n",
              "      <td>27.3</td>\n",
              "      <td>1.2</td>\n",
              "      <td>71.0</td>\n",
              "      <td>0.0</td>\n",
              "      <td>0.0</td>\n",
              "      <td>1</td>\n",
              "      <td>1</td>\n",
              "      <td>2020</td>\n",
              "      <td>8</td>\n",
              "      <td>24</td>\n",
              "      <td>20</td>\n",
              "      <td>1.598299e+09</td>\n",
              "    </tr>\n",
              "    <tr>\n",
              "      <th>122397</th>\n",
              "      <td>60</td>\n",
              "      <td>2020-08-24 21</td>\n",
              "      <td>3572.208</td>\n",
              "      <td>27.3</td>\n",
              "      <td>1.8</td>\n",
              "      <td>71.0</td>\n",
              "      <td>0.0</td>\n",
              "      <td>0.0</td>\n",
              "      <td>1</td>\n",
              "      <td>1</td>\n",
              "      <td>2020</td>\n",
              "      <td>8</td>\n",
              "      <td>24</td>\n",
              "      <td>21</td>\n",
              "      <td>1.598303e+09</td>\n",
              "    </tr>\n",
              "    <tr>\n",
              "      <th>122398</th>\n",
              "      <td>60</td>\n",
              "      <td>2020-08-24 22</td>\n",
              "      <td>3299.184</td>\n",
              "      <td>27.1</td>\n",
              "      <td>1.8</td>\n",
              "      <td>74.0</td>\n",
              "      <td>0.0</td>\n",
              "      <td>0.0</td>\n",
              "      <td>1</td>\n",
              "      <td>1</td>\n",
              "      <td>2020</td>\n",
              "      <td>8</td>\n",
              "      <td>24</td>\n",
              "      <td>22</td>\n",
              "      <td>1.598306e+09</td>\n",
              "    </tr>\n",
              "    <tr>\n",
              "      <th>122399</th>\n",
              "      <td>60</td>\n",
              "      <td>2020-08-24 23</td>\n",
              "      <td>3204.576</td>\n",
              "      <td>27.1</td>\n",
              "      <td>2.6</td>\n",
              "      <td>75.0</td>\n",
              "      <td>0.0</td>\n",
              "      <td>0.0</td>\n",
              "      <td>1</td>\n",
              "      <td>1</td>\n",
              "      <td>2020</td>\n",
              "      <td>8</td>\n",
              "      <td>24</td>\n",
              "      <td>23</td>\n",
              "      <td>1.598310e+09</td>\n",
              "    </tr>\n",
              "  </tbody>\n",
              "</table>\n",
              "<p>2040 rows × 15 columns</p>\n",
              "</div>"
            ],
            "text/plain": [
              "        건물번호             날짜     전력사용량    기온   풍속  ...    연도  월   일  시간             초\n",
              "120360    60  2020-06-01 00  2528.496  17.1  2.6  ...  2020  6   1   0  1.590970e+09\n",
              "120361    60  2020-06-01 01  2243.808  17.0  5.7  ...  2020  6   1   1  1.590973e+09\n",
              "120362    60  2020-06-01 02  2284.848  16.4  5.4  ...  2020  6   1   2  1.590977e+09\n",
              "120363    60  2020-06-01 03  2248.992  16.4  3.9  ...  2020  6   1   3  1.590980e+09\n",
              "120364    60  2020-06-01 04  2377.728  16.3  5.3  ...  2020  6   1   4  1.590984e+09\n",
              "...      ...            ...       ...   ...  ...  ...   ... ..  ..  ..           ...\n",
              "122395    60  2020-08-24 19  4114.368  27.8  2.3  ...  2020  8  24  19  1.598296e+09\n",
              "122396    60  2020-08-24 20  3975.696  27.3  1.2  ...  2020  8  24  20  1.598299e+09\n",
              "122397    60  2020-08-24 21  3572.208  27.3  1.8  ...  2020  8  24  21  1.598303e+09\n",
              "122398    60  2020-08-24 22  3299.184  27.1  1.8  ...  2020  8  24  22  1.598306e+09\n",
              "122399    60  2020-08-24 23  3204.576  27.1  2.6  ...  2020  8  24  23  1.598310e+09\n",
              "\n",
              "[2040 rows x 15 columns]"
            ]
          },
          "metadata": {},
          "execution_count": 126
        }
      ]
    },
    {
      "cell_type": "code",
      "metadata": {
        "id": "oYNVj8J2w2yG"
      },
      "source": [
        "df_x = df.loc[:,['기온', '풍속', '습도', '강우량', '일조','시간']]\n",
        "df_y = df.loc[:,['전력사용량']]"
      ],
      "execution_count": null,
      "outputs": []
    },
    {
      "cell_type": "code",
      "metadata": {
        "colab": {
          "base_uri": "https://localhost:8080/",
          "height": 420
        },
        "id": "Bp--6oXFzfKG",
        "outputId": "497e5100-1d5b-47df-8dbd-f8e00867e970"
      },
      "source": [
        "df_x"
      ],
      "execution_count": null,
      "outputs": [
        {
          "output_type": "execute_result",
          "data": {
            "text/html": [
              "<div>\n",
              "<style scoped>\n",
              "    .dataframe tbody tr th:only-of-type {\n",
              "        vertical-align: middle;\n",
              "    }\n",
              "\n",
              "    .dataframe tbody tr th {\n",
              "        vertical-align: top;\n",
              "    }\n",
              "\n",
              "    .dataframe thead th {\n",
              "        text-align: right;\n",
              "    }\n",
              "</style>\n",
              "<table border=\"1\" class=\"dataframe\">\n",
              "  <thead>\n",
              "    <tr style=\"text-align: right;\">\n",
              "      <th></th>\n",
              "      <th>기온</th>\n",
              "      <th>풍속</th>\n",
              "      <th>습도</th>\n",
              "      <th>강우량</th>\n",
              "      <th>일조</th>\n",
              "      <th>시간</th>\n",
              "    </tr>\n",
              "  </thead>\n",
              "  <tbody>\n",
              "    <tr>\n",
              "      <th>120360</th>\n",
              "      <td>17.1</td>\n",
              "      <td>2.6</td>\n",
              "      <td>94.0</td>\n",
              "      <td>0.1</td>\n",
              "      <td>0.0</td>\n",
              "      <td>0</td>\n",
              "    </tr>\n",
              "    <tr>\n",
              "      <th>120361</th>\n",
              "      <td>17.0</td>\n",
              "      <td>5.7</td>\n",
              "      <td>94.0</td>\n",
              "      <td>0.0</td>\n",
              "      <td>0.0</td>\n",
              "      <td>1</td>\n",
              "    </tr>\n",
              "    <tr>\n",
              "      <th>120362</th>\n",
              "      <td>16.4</td>\n",
              "      <td>5.4</td>\n",
              "      <td>95.0</td>\n",
              "      <td>0.0</td>\n",
              "      <td>0.0</td>\n",
              "      <td>2</td>\n",
              "    </tr>\n",
              "    <tr>\n",
              "      <th>120363</th>\n",
              "      <td>16.4</td>\n",
              "      <td>3.9</td>\n",
              "      <td>96.0</td>\n",
              "      <td>0.0</td>\n",
              "      <td>0.0</td>\n",
              "      <td>3</td>\n",
              "    </tr>\n",
              "    <tr>\n",
              "      <th>120364</th>\n",
              "      <td>16.3</td>\n",
              "      <td>5.3</td>\n",
              "      <td>96.0</td>\n",
              "      <td>0.0</td>\n",
              "      <td>0.0</td>\n",
              "      <td>4</td>\n",
              "    </tr>\n",
              "    <tr>\n",
              "      <th>...</th>\n",
              "      <td>...</td>\n",
              "      <td>...</td>\n",
              "      <td>...</td>\n",
              "      <td>...</td>\n",
              "      <td>...</td>\n",
              "      <td>...</td>\n",
              "    </tr>\n",
              "    <tr>\n",
              "      <th>122395</th>\n",
              "      <td>27.8</td>\n",
              "      <td>2.3</td>\n",
              "      <td>68.0</td>\n",
              "      <td>0.0</td>\n",
              "      <td>0.7</td>\n",
              "      <td>19</td>\n",
              "    </tr>\n",
              "    <tr>\n",
              "      <th>122396</th>\n",
              "      <td>27.3</td>\n",
              "      <td>1.2</td>\n",
              "      <td>71.0</td>\n",
              "      <td>0.0</td>\n",
              "      <td>0.0</td>\n",
              "      <td>20</td>\n",
              "    </tr>\n",
              "    <tr>\n",
              "      <th>122397</th>\n",
              "      <td>27.3</td>\n",
              "      <td>1.8</td>\n",
              "      <td>71.0</td>\n",
              "      <td>0.0</td>\n",
              "      <td>0.0</td>\n",
              "      <td>21</td>\n",
              "    </tr>\n",
              "    <tr>\n",
              "      <th>122398</th>\n",
              "      <td>27.1</td>\n",
              "      <td>1.8</td>\n",
              "      <td>74.0</td>\n",
              "      <td>0.0</td>\n",
              "      <td>0.0</td>\n",
              "      <td>22</td>\n",
              "    </tr>\n",
              "    <tr>\n",
              "      <th>122399</th>\n",
              "      <td>27.1</td>\n",
              "      <td>2.6</td>\n",
              "      <td>75.0</td>\n",
              "      <td>0.0</td>\n",
              "      <td>0.0</td>\n",
              "      <td>23</td>\n",
              "    </tr>\n",
              "  </tbody>\n",
              "</table>\n",
              "<p>2040 rows × 6 columns</p>\n",
              "</div>"
            ],
            "text/plain": [
              "          기온   풍속    습도  강우량   일조  시간\n",
              "120360  17.1  2.6  94.0  0.1  0.0   0\n",
              "120361  17.0  5.7  94.0  0.0  0.0   1\n",
              "120362  16.4  5.4  95.0  0.0  0.0   2\n",
              "120363  16.4  3.9  96.0  0.0  0.0   3\n",
              "120364  16.3  5.3  96.0  0.0  0.0   4\n",
              "...      ...  ...   ...  ...  ...  ..\n",
              "122395  27.8  2.3  68.0  0.0  0.7  19\n",
              "122396  27.3  1.2  71.0  0.0  0.0  20\n",
              "122397  27.3  1.8  71.0  0.0  0.0  21\n",
              "122398  27.1  1.8  74.0  0.0  0.0  22\n",
              "122399  27.1  2.6  75.0  0.0  0.0  23\n",
              "\n",
              "[2040 rows x 6 columns]"
            ]
          },
          "metadata": {},
          "execution_count": 128
        }
      ]
    },
    {
      "cell_type": "code",
      "metadata": {
        "id": "TrCEPRWPzh-a"
      },
      "source": [],
      "execution_count": null,
      "outputs": []
    },
    {
      "cell_type": "code",
      "metadata": {
        "id": "Dn5_6nodxK7O"
      },
      "source": [
        "import keras\n",
        "from keras.models import Sequential\n",
        "from keras.layers import Dense\n",
        "from sklearn.preprocessing import MinMaxScaler\n",
        "from sklearn.model_selection import train_test_split"
      ],
      "execution_count": null,
      "outputs": []
    },
    {
      "cell_type": "code",
      "metadata": {
        "id": "WVdcW2NsxSAX"
      },
      "source": [
        "#정규화\n",
        "data_scaler = MinMaxScaler()\n",
        "df_x = data_scaler.fit_transform(df_x)\n",
        "\n",
        "target_scaler = MinMaxScaler()\n",
        "df_y = target_scaler.fit_transform(df_y)"
      ],
      "execution_count": null,
      "outputs": []
    },
    {
      "cell_type": "code",
      "metadata": {
        "colab": {
          "base_uri": "https://localhost:8080/"
        },
        "id": "MqxsAo-XxTrj",
        "outputId": "dae4f6d6-a6c6-49a9-d915-29bcd500afc2"
      },
      "source": [
        "df_x"
      ],
      "execution_count": null,
      "outputs": [
        {
          "output_type": "execute_result",
          "data": {
            "text/plain": [
              "array([[0.17613636, 0.26041667, 0.90909091, 0.003125  , 0.        ,\n",
              "        0.        ],\n",
              "       [0.17045455, 0.58333333, 0.90909091, 0.        , 0.        ,\n",
              "        0.04347826],\n",
              "       [0.13636364, 0.55208333, 0.92424242, 0.        , 0.        ,\n",
              "        0.08695652],\n",
              "       ...,\n",
              "       [0.75568182, 0.17708333, 0.56060606, 0.        , 0.        ,\n",
              "        0.91304348],\n",
              "       [0.74431818, 0.17708333, 0.60606061, 0.        , 0.        ,\n",
              "        0.95652174],\n",
              "       [0.74431818, 0.26041667, 0.62121212, 0.        , 0.        ,\n",
              "        1.        ]])"
            ]
          },
          "metadata": {},
          "execution_count": 130
        }
      ]
    },
    {
      "cell_type": "code",
      "metadata": {
        "id": "W0pMydV7xU_3"
      },
      "source": [
        "#데이터 분할\n",
        "x_train, x_test, y_train, y_test = train_test_split(df_x, df_y, test_size = 0.2, shuffle=False)"
      ],
      "execution_count": null,
      "outputs": []
    },
    {
      "cell_type": "code",
      "metadata": {
        "colab": {
          "base_uri": "https://localhost:8080/"
        },
        "id": "JvQBkdL-xX48",
        "outputId": "32ecff31-1d84-440b-f4cc-7ee80584de81"
      },
      "source": [
        "# train set, test set 분할 후 shape\n",
        "x_train_shape = np.shape(x_train)\n",
        "y_train_shape = np.shape(y_train)\n",
        "x_test_shape = np.shape(x_test)\n",
        "y_test_shape = np.shape(y_test)\n",
        "\n",
        "print('x_train:',x_train_shape, 'y_train:',y_train_shape)\n",
        "print('x_test:',x_test_shape, 'y_test:',y_test_shape)"
      ],
      "execution_count": null,
      "outputs": [
        {
          "output_type": "stream",
          "name": "stdout",
          "text": [
            "x_train: (1632, 6) y_train: (1632, 1)\n",
            "x_test: (408, 6) y_test: (408, 1)\n"
          ]
        }
      ]
    },
    {
      "cell_type": "code",
      "metadata": {
        "colab": {
          "base_uri": "https://localhost:8080/"
        },
        "id": "H1BSpSYUxgRH",
        "outputId": "b35687cf-5dec-4d62-9faf-244e55e15275"
      },
      "source": [
        "#ANN\n",
        "model = Sequential()\n",
        "model.add(Dense(units = 6,kernel_initializer = 'uniform', activation = 'ReLU'))\n",
        "model.add(Dense(units = 12,kernel_initializer = 'uniform', activation = 'ReLU'))\n",
        "model.add(Dense(units = 6,kernel_initializer = 'uniform', activation = 'ReLU'))\n",
        "model.add(Dense(units = 1,kernel_initializer = 'uniform', activation = 'ReLU'))\n",
        "model.compile(optimizer = 'adam', loss = 'mean_squared_error')\n",
        "\n",
        "history = model.fit(x_train, y_train, batch_size = 32, epochs = 20, validation_data=(x_test, y_test))"
      ],
      "execution_count": null,
      "outputs": [
        {
          "output_type": "stream",
          "name": "stdout",
          "text": [
            "Epoch 1/20\n",
            "51/51 [==============================] - 1s 5ms/step - loss: 0.2889 - val_loss: 0.3827\n",
            "Epoch 2/20\n",
            "51/51 [==============================] - 0s 2ms/step - loss: 0.1435 - val_loss: 0.0767\n",
            "Epoch 3/20\n",
            "51/51 [==============================] - 0s 3ms/step - loss: 0.0130 - val_loss: 0.0320\n",
            "Epoch 4/20\n",
            "51/51 [==============================] - 0s 2ms/step - loss: 0.0109 - val_loss: 0.0276\n",
            "Epoch 5/20\n",
            "51/51 [==============================] - 0s 2ms/step - loss: 0.0105 - val_loss: 0.0275\n",
            "Epoch 6/20\n",
            "51/51 [==============================] - 0s 2ms/step - loss: 0.0103 - val_loss: 0.0266\n",
            "Epoch 7/20\n",
            "51/51 [==============================] - 0s 2ms/step - loss: 0.0100 - val_loss: 0.0273\n",
            "Epoch 8/20\n",
            "51/51 [==============================] - 0s 2ms/step - loss: 0.0098 - val_loss: 0.0230\n",
            "Epoch 9/20\n",
            "51/51 [==============================] - 0s 2ms/step - loss: 0.0096 - val_loss: 0.0251\n",
            "Epoch 10/20\n",
            "51/51 [==============================] - 0s 2ms/step - loss: 0.0094 - val_loss: 0.0238\n",
            "Epoch 11/20\n",
            "51/51 [==============================] - 0s 2ms/step - loss: 0.0092 - val_loss: 0.0239\n",
            "Epoch 12/20\n",
            "51/51 [==============================] - 0s 3ms/step - loss: 0.0091 - val_loss: 0.0220\n",
            "Epoch 13/20\n",
            "51/51 [==============================] - 0s 2ms/step - loss: 0.0089 - val_loss: 0.0226\n",
            "Epoch 14/20\n",
            "51/51 [==============================] - 0s 2ms/step - loss: 0.0088 - val_loss: 0.0242\n",
            "Epoch 15/20\n",
            "51/51 [==============================] - 0s 3ms/step - loss: 0.0087 - val_loss: 0.0211\n",
            "Epoch 16/20\n",
            "51/51 [==============================] - 0s 3ms/step - loss: 0.0085 - val_loss: 0.0221\n",
            "Epoch 17/20\n",
            "51/51 [==============================] - 0s 2ms/step - loss: 0.0084 - val_loss: 0.0222\n",
            "Epoch 18/20\n",
            "51/51 [==============================] - 0s 2ms/step - loss: 0.0083 - val_loss: 0.0203\n",
            "Epoch 19/20\n",
            "51/51 [==============================] - 0s 3ms/step - loss: 0.0082 - val_loss: 0.0202\n",
            "Epoch 20/20\n",
            "51/51 [==============================] - 0s 2ms/step - loss: 0.0081 - val_loss: 0.0197\n"
          ]
        }
      ]
    },
    {
      "cell_type": "code",
      "metadata": {
        "colab": {
          "base_uri": "https://localhost:8080/",
          "height": 295
        },
        "id": "S9D8g3Diximp",
        "outputId": "23dcdc37-297c-4cf4-a7ad-4efc01a627f2"
      },
      "source": [
        "#학습 진행률\n",
        "plt.plot(history.history['loss'])\n",
        "plt.plot(history.history['val_loss'])\n",
        "plt.title('model loss')\n",
        "plt.ylabel('loss')\n",
        "plt.xlabel('epoch')\n",
        "plt.legend(['train', 'test'], loc='upper left')\n",
        "plt.show()"
      ],
      "execution_count": null,
      "outputs": [
        {
          "output_type": "display_data",
          "data": {
            "image/png": "[encoded data removed]",
            "text/plain": [
              "<Figure size 432x288 with 1 Axes>"
            ]
          },
          "metadata": {
            "needs_background": "light"
          }
        }
      ]
    },
    {
      "cell_type": "code",
      "metadata": {
        "id": "CPJupbL1xlcv"
      },
      "source": [
        "#예측 값 inverse\n",
        "predictions = model.predict(x_test)\n",
        "predictions = target_scaler.inverse_transform(predictions)\n",
        "\n",
        "valid = target_scaler.inverse_transform(y_test)"
      ],
      "execution_count": null,
      "outputs": []
    },
    {
      "cell_type": "code",
      "metadata": {
        "colab": {
          "base_uri": "https://localhost:8080/",
          "height": 805
        },
        "id": "m70XSusAxn1z",
        "outputId": "068bfdbf-14e3-4a7d-f731-9e47e423dd6b"
      },
      "source": [
        "#시각화\n",
        "plt.figure(figsize=(18,9))\n",
        "plt.plot(predictions)\n",
        "plt.plot(valid)\n",
        "\n",
        "plt.legend(['predictions', 'valid'], loc = 'low')"
      ],
      "execution_count": null,
      "outputs": [
        {
          "output_type": "stream",
          "name": "stderr",
          "text": [
            "/usr/local/lib/python3.7/dist-packages/ipykernel_launcher.py:6: MatplotlibDeprecationWarning: Unrecognized location 'low'. Falling back on 'best'; valid locations are\n",
            "\tbest\n",
            "\tupper right\n",
            "\tupper left\n",
            "\tlower left\n",
            "\tlower right\n",
            "\tright\n",
            "\tcenter left\n",
            "\tcenter right\n",
            "\tlower center\n",
            "\tupper center\n",
            "\tcenter\n",
            "This will raise an exception in 3.3.\n",
            "  \n"
          ]
        },
        {
          "output_type": "execute_result",
          "data": {
            "text/plain": [
              "<matplotlib.legend.Legend at 0x7f1a01e9b150>"
            ]
          },
          "metadata": {},
          "execution_count": 136
        },
        {
          "output_type": "display_data",
          "data": {
            "image/png": "[encoded data removed]",
            "text/plain": [
              "<Figure size 1296x648 with 1 Axes>"
            ]
          },
          "metadata": {
            "needs_background": "light"
          }
        }
      ]
    },
    {
      "cell_type": "code",
      "metadata": {
        "id": "Zu_2TrGrxpST"
      },
      "source": [],
      "execution_count": null,
      "outputs": []
    }
  ]
}
